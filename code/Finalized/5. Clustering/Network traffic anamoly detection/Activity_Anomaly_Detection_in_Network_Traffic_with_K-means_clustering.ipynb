{
 "cells": [
  {
   "cell_type": "markdown",
   "metadata": {},
   "source": [
    "### 0. Data set availability"
   ]
  },
  {
   "cell_type": "markdown",
   "metadata": {},
   "source": [
    "Dataset availability: https://kdd.ics.uci.edu/databases/kddcup99/kddcup99.html\n",
    "\n",
    "Full dataset: http://kdd.ics.uci.edu/databases/kddcup99/kddcup.data.gz\n",
    "\n",
    "10% dataset:http://kdd.ics.uci.edu/databases/kddcup99/kddcup.data_10_percent.gz"
   ]
  },
  {
   "cell_type": "markdown",
   "metadata": {},
   "source": [
    "### 1. Import libraries"
   ]
  },
  {
   "cell_type": "code",
   "execution_count": 1,
   "metadata": {
    "collapsed": true
   },
   "outputs": [],
   "source": [
    "import os\n",
    "import sys\n",
    "import re\n",
    "\n",
    "from pyspark import SparkContext\n",
    "from pyspark.sql import SQLContext\n",
    "from pyspark.sql.types import *\n",
    "from pyspark.sql import Row\n",
    "from pyspark.sql.functions import *\n",
    "import pyspark.sql.functions as func\n",
    "from pyspark.mllib.clustering import KMeans, KMeansModel\n",
    "\n",
    "# Uncomment these if you would like to make any graphs using Matplotlib\n",
    "# from mpl_toolkits.mplot3d import Axes3D\n",
    "# import matplotlib.pyplot as plt\n",
    "# import matplotlib.patches as mpatches\n",
    "\n",
    "# plt.style.use('ggplot')\n",
    "# plt.rcParams['figure.figsize'] = (20.0, 8.0)\n",
    "\n",
    "# %matplotlib inline\n"
   ]
  },
  {
   "cell_type": "markdown",
   "metadata": {},
   "source": [
    "### 2. Initiate Spark session & load dataset"
   ]
  },
  {
   "cell_type": "code",
   "execution_count": 2,
   "metadata": {},
   "outputs": [],
   "source": [
    "from pyspark.sql import SparkSession\n",
    "spark = SparkSession.builder.appName('app').getOrCreate()"
   ]
  },
  {
   "cell_type": "code",
   "execution_count": 3,
   "metadata": {},
   "outputs": [],
   "source": [
    "input_file = \"kddcup.data.gz\""
   ]
  },
  {
   "cell_type": "code",
   "execution_count": 6,
   "metadata": {},
   "outputs": [],
   "source": [
    "dataSchema = StructType([ \\\n",
    "    StructField('duration', IntegerType(), True), \\\n",
    "    StructField('protocol_type', StringType(), True), \\\n",
    "    StructField('service', StringType(), True), \\\n",
    "    StructField('flag', StringType(), True), \\\n",
    "    StructField('src_bytes', IntegerType(), True), \\\n",
    "    StructField('dst_bytes', IntegerType(), True), \\\n",
    "    StructField('land', StringType(), True), \\\n",
    "    StructField('wrong_fragment', IntegerType(), True), \\\n",
    "    StructField('urgent', IntegerType(), True), \\\n",
    "    StructField('hot', IntegerType(), True), \\\n",
    "    StructField('num_failed_logins', IntegerType(), True), \\\n",
    "    StructField('logged_in', StringType(), True), \\\n",
    "    StructField('num_compromised', IntegerType(), True), \\\n",
    "    StructField('root_shell', IntegerType(), True), \\\n",
    "    StructField('su_attempted', IntegerType(), True), \\\n",
    "    StructField('num_root', IntegerType(), True), \\\n",
    "    StructField('num_file_creations', IntegerType(), True), \\\n",
    "    StructField('num_shells', IntegerType(), True), \\\n",
    "    StructField('num_access_files', IntegerType(), True), \\\n",
    "    StructField('num_outbound_cmds', IntegerType(), True), \\\n",
    "    StructField('is_host_login', StringType(), True), \\\n",
    "    StructField('is_guest_login', StringType(), True), \\\n",
    "    StructField('count', IntegerType(), True), \\\n",
    "    StructField('srv_count', IntegerType(), True), \\\n",
    "    StructField('serror_rate', FloatType(), True), \\\n",
    "    StructField('srv_serror_rate', FloatType(), True), \\\n",
    "    StructField('rerror_rate', FloatType(), True), \\\n",
    "    StructField('srv_rerror_rate', FloatType(), True), \\\n",
    "    StructField('same_srv_rate', FloatType(), True), \\\n",
    "    StructField('diff_srv_rate', FloatType(), True), \\\n",
    "    StructField('srv_diff_host_rate', FloatType(), True), \\\n",
    "    StructField('dst_host_count', IntegerType(), True), \\\n",
    "    StructField('dst_host_srv_count', IntegerType(), True), \\\n",
    "    StructField('dst_host_same_srv_rate', FloatType(), True), \\\n",
    "    StructField('dst_host_diff_srv_rate', FloatType(), True), \\\n",
    "    StructField('dst_host_same_src_port_rate', FloatType(), True), \\\n",
    "    StructField('dst_host_srv_diff_host_rate', FloatType(), True), \\\n",
    "    StructField('dst_host_serror_rate', FloatType(), True), \\\n",
    "    StructField('dst_host_srv_serror_rate', FloatType(), True), \\\n",
    "    StructField('dst_host_rerror_rate', FloatType(), True), \\\n",
    "    StructField('dst_host_srv_rerror_rate', FloatType(), True), \\\n",
    "    StructField('type', StringType(), True) \\\n",
    "])"
   ]
  },
  {
   "cell_type": "code",
   "execution_count": 7,
   "metadata": {},
   "outputs": [],
   "source": [
    "df = spark.read \\\n",
    "    .format('csv') \\\n",
    "    .options(header='True') \\\n",
    "    .options(delimiter=',') \\\n",
    "    .load(input_file, schema=dataSchema) "
   ]
  },
  {
   "cell_type": "code",
   "execution_count": 8,
   "metadata": {},
   "outputs": [
    {
     "name": "stdout",
     "output_type": "stream",
     "text": [
      "+--------+-------------+-------+----+---------+---------+----+--------------+------+---+-----------------+---------+---------------+----------+------------+--------+------------------+----------+----------------+-----------------+-------------+--------------+-----+---------+-----------+---------------+-----------+---------------+-------------+-------------+------------------+--------------+------------------+----------------------+----------------------+---------------------------+---------------------------+--------------------+------------------------+--------------------+------------------------+-------+\n",
      "|duration|protocol_type|service|flag|src_bytes|dst_bytes|land|wrong_fragment|urgent|hot|num_failed_logins|logged_in|num_compromised|root_shell|su_attempted|num_root|num_file_creations|num_shells|num_access_files|num_outbound_cmds|is_host_login|is_guest_login|count|srv_count|serror_rate|srv_serror_rate|rerror_rate|srv_rerror_rate|same_srv_rate|diff_srv_rate|srv_diff_host_rate|dst_host_count|dst_host_srv_count|dst_host_same_srv_rate|dst_host_diff_srv_rate|dst_host_same_src_port_rate|dst_host_srv_diff_host_rate|dst_host_serror_rate|dst_host_srv_serror_rate|dst_host_rerror_rate|dst_host_srv_rerror_rate|   type|\n",
      "+--------+-------------+-------+----+---------+---------+----+--------------+------+---+-----------------+---------+---------------+----------+------------+--------+------------------+----------+----------------+-----------------+-------------+--------------+-----+---------+-----------+---------------+-----------+---------------+-------------+-------------+------------------+--------------+------------------+----------------------+----------------------+---------------------------+---------------------------+--------------------+------------------------+--------------------+------------------------+-------+\n",
      "|       0|          tcp|   http|  SF|      239|      486|   0|             0|     0|  0|                0|        1|              0|         0|           0|       0|                 0|         0|               0|                0|            0|             0|    8|        8|        0.0|            0.0|        0.0|            0.0|          1.0|          0.0|               0.0|            19|                19|                   1.0|                   0.0|                       0.05|                        0.0|                 0.0|                     0.0|                 0.0|                     0.0|normal.|\n",
      "|       0|          tcp|   http|  SF|      235|     1337|   0|             0|     0|  0|                0|        1|              0|         0|           0|       0|                 0|         0|               0|                0|            0|             0|    8|        8|        0.0|            0.0|        0.0|            0.0|          1.0|          0.0|               0.0|            29|                29|                   1.0|                   0.0|                       0.03|                        0.0|                 0.0|                     0.0|                 0.0|                     0.0|normal.|\n",
      "|       0|          tcp|   http|  SF|      219|     1337|   0|             0|     0|  0|                0|        1|              0|         0|           0|       0|                 0|         0|               0|                0|            0|             0|    6|        6|        0.0|            0.0|        0.0|            0.0|          1.0|          0.0|               0.0|            39|                39|                   1.0|                   0.0|                       0.03|                        0.0|                 0.0|                     0.0|                 0.0|                     0.0|normal.|\n",
      "|       0|          tcp|   http|  SF|      217|     2032|   0|             0|     0|  0|                0|        1|              0|         0|           0|       0|                 0|         0|               0|                0|            0|             0|    6|        6|        0.0|            0.0|        0.0|            0.0|          1.0|          0.0|               0.0|            49|                49|                   1.0|                   0.0|                       0.02|                        0.0|                 0.0|                     0.0|                 0.0|                     0.0|normal.|\n",
      "|       0|          tcp|   http|  SF|      217|     2032|   0|             0|     0|  0|                0|        1|              0|         0|           0|       0|                 0|         0|               0|                0|            0|             0|    6|        6|        0.0|            0.0|        0.0|            0.0|          1.0|          0.0|               0.0|            59|                59|                   1.0|                   0.0|                       0.02|                        0.0|                 0.0|                     0.0|                 0.0|                     0.0|normal.|\n",
      "+--------+-------------+-------+----+---------+---------+----+--------------+------+---+-----------------+---------+---------------+----------+------------+--------+------------------+----------+----------------+-----------------+-------------+--------------+-----+---------+-----------+---------------+-----------+---------------+-------------+-------------+------------------+--------------+------------------+----------------------+----------------------+---------------------------+---------------------------+--------------------+------------------------+--------------------+------------------------+-------+\n",
      "only showing top 5 rows\n",
      "\n"
     ]
    }
   ],
   "source": [
    "df.show(5)"
   ]
  },
  {
   "cell_type": "markdown",
   "metadata": {},
   "source": [
    "### 3. Tasks"
   ]
  },
  {
   "cell_type": "markdown",
   "metadata": {},
   "source": [
    "1. Using only numerical features, identify any anomalies in network connections. Remember, an anomaly is a data point, which does not fit in a 'reasonable' set of clusters for any given dataset "
   ]
  },
  {
   "cell_type": "markdown",
   "metadata": {},
   "source": [
    "2. In the above model, also include categorical features and determine any anomalies in network connections"
   ]
  },
  {
   "cell_type": "markdown",
   "metadata": {},
   "source": [
    "3. Finally, make a 3D graph of data points using three dimensions to visualize anomalies"
   ]
  }
 ],
 "metadata": {
  "kernelspec": {
   "display_name": "Python 3",
   "language": "python",
   "name": "python3"
  },
  "language_info": {
   "codemirror_mode": {
    "name": "ipython",
    "version": 3
   },
   "file_extension": ".py",
   "mimetype": "text/x-python",
   "name": "python",
   "nbconvert_exporter": "python",
   "pygments_lexer": "ipython3",
   "version": "3.7.9"
  }
 },
 "nbformat": 4,
 "nbformat_minor": 0
}
