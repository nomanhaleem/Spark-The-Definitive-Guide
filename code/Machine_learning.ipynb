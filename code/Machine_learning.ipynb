{
 "cells": [
  {
   "cell_type": "markdown",
   "metadata": {},
   "source": [
    "Chapter 24"
   ]
  },
  {
   "cell_type": "code",
   "execution_count": 1,
   "metadata": {},
   "outputs": [],
   "source": [
    "from pyspark.sql import SparkSession\n",
    "spark = SparkSession.builder.getOrCreate()"
   ]
  },
  {
   "cell_type": "markdown",
   "metadata": {},
   "source": [
    "Now that we have described some of the core pieces you can expect to come across, let’s create a\n",
    "simple pipeline to demonstrate each of the components. We’ll use a small synthetic dataset that\n",
    "will help illustrate our point. Let’s read the data in and see a sample before talking about it\n",
    "further:"
   ]
  },
  {
   "cell_type": "code",
   "execution_count": 2,
   "metadata": {},
   "outputs": [
    {
     "name": "stdout",
     "output_type": "stream",
     "text": [
      "+-----+----+------+------------------+\n",
      "|color| lab|value1|            value2|\n",
      "+-----+----+------+------------------+\n",
      "|green|good|     1|14.386294994851129|\n",
      "|green| bad|    16|14.386294994851129|\n",
      "| blue| bad|     8|14.386294994851129|\n",
      "| blue| bad|     8|14.386294994851129|\n",
      "| blue| bad|    12|14.386294994851129|\n",
      "|green| bad|    16|14.386294994851129|\n",
      "|green|good|    12|14.386294994851129|\n",
      "|  red|good|    35|14.386294994851129|\n",
      "|  red|good|    35|14.386294994851129|\n",
      "|  red| bad|     2|14.386294994851129|\n",
      "|  red| bad|    16|14.386294994851129|\n",
      "|  red| bad|    16|14.386294994851129|\n",
      "| blue| bad|     8|14.386294994851129|\n",
      "|green|good|     1|14.386294994851129|\n",
      "|green|good|    12|14.386294994851129|\n",
      "| blue| bad|     8|14.386294994851129|\n",
      "|  red|good|    35|14.386294994851129|\n",
      "| blue| bad|    12|14.386294994851129|\n",
      "|  red| bad|    16|14.386294994851129|\n",
      "|green|good|    12|14.386294994851129|\n",
      "+-----+----+------+------------------+\n",
      "only showing top 20 rows\n",
      "\n"
     ]
    }
   ],
   "source": [
    "df = spark.read.json(\"./../data/simple-ml\")\n",
    "df.orderBy(\"value2\").show()"
   ]
  },
  {
   "cell_type": "markdown",
   "metadata": {},
   "source": [
    "This dataset consists of a categorical label with two values (good or bad), a categorical variable\n",
    "(color), and two numerical variables. While the data is synthetic, let’s imagine that this dataset\n",
    "represents a company’s customer health. The “color” column represents some categorical health\n",
    "rating made by a customer service representative. The “lab” column represents the true customer\n",
    "health. The other two values are some numerical measures of activity within an application (e.g.,\n",
    "minutes spent on site and purchases). Suppose that we want to train a classification model where\n",
    "we hope to predict a binary variable—the label—from the other values"
   ]
  },
  {
   "cell_type": "markdown",
   "metadata": {},
   "source": [
    "Feature engineering with transformers"
   ]
  },
  {
   "cell_type": "markdown",
   "metadata": {},
   "source": [
    "As already mentioned, transformers help us manipulate our current columns in one way or\n",
    "another. Manipulating these columns is often in pursuit of building features (that we will input\n",
    "into our model). Transformers exist to either cut down the number of features, add more features,\n",
    "manipulate current ones, or simply to help us format our data correctly. Transformers add new\n",
    "columns to DataFrames.\n",
    "When we use MLlib, all inputs to machine learning algorithms (with several exceptions\n",
    "discussed in later chapters) in Spark must consist of type Double (for labels) and\n",
    "Vector[Double] (for features). The current dataset does not meet that requirement and therefore\n",
    "we need to transform it to the proper format.\n",
    "To achieve this in our example, we are going to specify an RFormula. This is a declarative\n",
    "language for specifying machine learning transformations and is simple to use once you\n",
    "understand the syntax. RFormula supports a limited subset of the R operators that in practice\n",
    "work quite well for simple models and manipulations (we demonstrate the manual approach to\n",
    "this problem in Chapter 25). The basic RFormula operators are:"
   ]
  },
  {
   "cell_type": "markdown",
   "metadata": {},
   "source": [
    "In order to specify transformations with this syntax, we need to import the relevant class. Then\n",
    "we go through the process of defining our formula. In this case we want to use all available\n",
    "variables (the .) and also add in the interactions between value1 and color and value2 and\n",
    "color, treating those as new features:"
   ]
  },
  {
   "cell_type": "markdown",
   "metadata": {},
   "source": [
    "~\n",
    "Separate target and terms\n",
    "+\n",
    "Concat terms; “+ 0” means removing the intercept (this means that the y-intercept of the line\n",
    "that we will fit will be 0)\n",
    "-\n",
    "Remove a term; “- 1” means removing the intercept (this means that the y-intercept of the\n",
    "line that we will fit will be 0—yes, this does the same thing as “+ 0”\n",
    ":\n",
    "Interaction (multiplication for numeric values, or binarized categorical values)\n",
    ".\n",
    "All columns except the target/dependent variable"
   ]
  },
  {
   "cell_type": "code",
   "execution_count": 3,
   "metadata": {},
   "outputs": [],
   "source": [
    "from pyspark.ml.feature import RFormula\n",
    "supervised = RFormula(formula=\"lab ~ . + color:value1 + color:value2\")"
   ]
  },
  {
   "cell_type": "markdown",
   "metadata": {},
   "source": [
    "At this point, we have declaratively specified how we would like to change our data into what we\n",
    "will train our model on. The next step is to fit the RFormula transformer to the data to let it\n",
    "discover the possible values of each column. Not all transformers have this requirement but\n",
    "because RFormula will automatically handle categorical variables for us, it needs to determine\n",
    "which columns are categorical and which are not, as well as what the distinct values of the\n",
    "categorical columns are. For this reason, we have to call the fit method. Once we call fit, it\n",
    "returns a “trained” version of our transformer we can then use to actually transform our data."
   ]
  },
  {
   "cell_type": "code",
   "execution_count": 4,
   "metadata": {},
   "outputs": [
    {
     "name": "stdout",
     "output_type": "stream",
     "text": [
      "+-----+----+------+------------------+--------------------+-----+\n",
      "|color| lab|value1|            value2|            features|label|\n",
      "+-----+----+------+------------------+--------------------+-----+\n",
      "|green|good|     1|14.386294994851129|(10,[1,2,3,5,8],[...|  1.0|\n",
      "| blue| bad|     8|14.386294994851129|(10,[2,3,6,9],[8....|  0.0|\n",
      "| blue| bad|    12|14.386294994851129|(10,[2,3,6,9],[12...|  0.0|\n",
      "|green|good|    15| 38.97187133755819|(10,[1,2,3,5,8],[...|  1.0|\n",
      "|green|good|    12|14.386294994851129|(10,[1,2,3,5,8],[...|  1.0|\n",
      "|green| bad|    16|14.386294994851129|(10,[1,2,3,5,8],[...|  0.0|\n",
      "|  red|good|    35|14.386294994851129|(10,[0,2,3,4,7],[...|  1.0|\n",
      "|  red| bad|     1| 38.97187133755819|(10,[0,2,3,4,7],[...|  0.0|\n",
      "|  red| bad|     2|14.386294994851129|(10,[0,2,3,4,7],[...|  0.0|\n",
      "|  red| bad|    16|14.386294994851129|(10,[0,2,3,4,7],[...|  0.0|\n",
      "|  red|good|    45| 38.97187133755819|(10,[0,2,3,4,7],[...|  1.0|\n",
      "|green|good|     1|14.386294994851129|(10,[1,2,3,5,8],[...|  1.0|\n",
      "| blue| bad|     8|14.386294994851129|(10,[2,3,6,9],[8....|  0.0|\n",
      "| blue| bad|    12|14.386294994851129|(10,[2,3,6,9],[12...|  0.0|\n",
      "|green|good|    15| 38.97187133755819|(10,[1,2,3,5,8],[...|  1.0|\n",
      "|green|good|    12|14.386294994851129|(10,[1,2,3,5,8],[...|  1.0|\n",
      "|green| bad|    16|14.386294994851129|(10,[1,2,3,5,8],[...|  0.0|\n",
      "|  red|good|    35|14.386294994851129|(10,[0,2,3,4,7],[...|  1.0|\n",
      "|  red| bad|     1| 38.97187133755819|(10,[0,2,3,4,7],[...|  0.0|\n",
      "|  red| bad|     2|14.386294994851129|(10,[0,2,3,4,7],[...|  0.0|\n",
      "+-----+----+------+------------------+--------------------+-----+\n",
      "only showing top 20 rows\n",
      "\n"
     ]
    }
   ],
   "source": [
    "fittedRF = supervised.fit(df)\n",
    "preparedDF = fittedRF.transform(df)\n",
    "preparedDF.show()"
   ]
  },
  {
   "cell_type": "markdown",
   "metadata": {},
   "source": [
    "In the output we can see the result of our transformation—a column called features that has our\n",
    "previously raw data. What’s happening behind the scenes is actually pretty simple. RFormula\n",
    "inspects our data during the fit call and outputs an object that will transform our data according\n",
    "to the specified formula, which is called an RFormulaModel. This “trained” transformer always\n",
    "has the word Model in the type signature. When we use this transformer, Spark automatically\n",
    "converts our categorical variable to Doubles so that we can input it into a (yet to be specified)\n",
    "machine learning model. In particular, it assigns a numerical value to each possible color\n",
    "category, creates additional features for the interaction variables between colors and\n",
    "value1/value2, and puts them all into a single vector. We then call transform on that object in\n",
    "order to transform our input data into the expected output data.\n",
    "Thus far you (pre)processed the data and added some features along the way. Now it is time to\n",
    "actually train a model (or a set of models) on this dataset. In order to do this, you first need to\n",
    "prepare a test set for evaluation. Let’s create a simple test set based off a random split of the data now (we’ll be using this test set\n",
    "throughout the remainder of the chapter):\n",
    "\n"
   ]
  },
  {
   "cell_type": "code",
   "execution_count": 5,
   "metadata": {},
   "outputs": [],
   "source": [
    "train, test = preparedDF.randomSplit([0.7, 0.3])"
   ]
  },
  {
   "cell_type": "markdown",
   "metadata": {},
   "source": [
    "Estimators"
   ]
  },
  {
   "cell_type": "markdown",
   "metadata": {},
   "source": [
    "Now that we have transformed our data into the correct format and created some valuable\n",
    "features, it’s time to actually fit our model. In this case we will use a classification algorithm\n",
    "called logistic regression. To create our classifier we instantiate an instance of\n",
    "LogisticRegression, using the default configuration or hyperparameters. We then set the label\n",
    "columns and the feature columns; the column names we are setting—label and features—are\n",
    "actually the default labels for all estimators in Spark MLlib, and in later chapters we omit them:"
   ]
  },
  {
   "cell_type": "code",
   "execution_count": 6,
   "metadata": {},
   "outputs": [],
   "source": [
    "from pyspark.ml.classification import LogisticRegression\n",
    "lr = LogisticRegression(labelCol=\"label\",featuresCol=\"features\")"
   ]
  },
  {
   "cell_type": "markdown",
   "metadata": {},
   "source": [
    "Before we actually go about training this model, let’s inspect the parameters. This is also a great\n",
    "way to remind yourself of the options available for each particular model:"
   ]
  },
  {
   "cell_type": "code",
   "execution_count": 8,
   "metadata": {},
   "outputs": [
    {
     "name": "stdout",
     "output_type": "stream",
     "text": [
      "aggregationDepth: suggested depth for treeAggregate (>= 2). (default: 2)\n",
      "elasticNetParam: the ElasticNet mixing parameter, in range [0, 1]. For alpha = 0, the penalty is an L2 penalty. For alpha = 1, it is an L1 penalty. (default: 0.0)\n",
      "family: The name of family which is a description of the label distribution to be used in the model. Supported options: auto, binomial, multinomial (default: auto)\n",
      "featuresCol: features column name. (default: features, current: features)\n",
      "fitIntercept: whether to fit an intercept term. (default: True)\n",
      "labelCol: label column name. (default: label, current: label)\n",
      "lowerBoundsOnCoefficients: The lower bounds on coefficients if fitting under bound constrained optimization. The bound matrix must be compatible with the shape (1, number of features) for binomial regression, or (number of classes, number of features) for multinomial regression. (undefined)\n",
      "lowerBoundsOnIntercepts: The lower bounds on intercepts if fitting under bound constrained optimization. The bounds vector size must beequal with 1 for binomial regression, or the number oflasses for multinomial regression. (undefined)\n",
      "maxIter: max number of iterations (>= 0). (default: 100)\n",
      "predictionCol: prediction column name. (default: prediction)\n",
      "probabilityCol: Column name for predicted class conditional probabilities. Note: Not all models output well-calibrated probability estimates! These probabilities should be treated as confidences, not precise probabilities. (default: probability)\n",
      "rawPredictionCol: raw prediction (a.k.a. confidence) column name. (default: rawPrediction)\n",
      "regParam: regularization parameter (>= 0). (default: 0.0)\n",
      "standardization: whether to standardize the training features before fitting the model. (default: True)\n",
      "threshold: Threshold in binary classification prediction, in range [0, 1]. If threshold and thresholds are both set, they must match.e.g. if threshold is p, then thresholds must be equal to [1-p, p]. (default: 0.5)\n",
      "thresholds: Thresholds in multi-class classification to adjust the probability of predicting each class. Array must have length equal to the number of classes, with values > 0, excepting that at most one value may be 0. The class with largest value p/t is predicted, where p is the original probability of that class and t is the class's threshold. (undefined)\n",
      "tol: the convergence tolerance for iterative algorithms (>= 0). (default: 1e-06)\n",
      "upperBoundsOnCoefficients: The upper bounds on coefficients if fitting under bound constrained optimization. The bound matrix must be compatible with the shape (1, number of features) for binomial regression, or (number of classes, number of features) for multinomial regression. (undefined)\n",
      "upperBoundsOnIntercepts: The upper bounds on intercepts if fitting under bound constrained optimization. The bound vector size must be equal with 1 for binomial regression, or the number of classes for multinomial regression. (undefined)\n",
      "weightCol: weight column name. If this is not set or empty, we treat all instance weights as 1.0. (undefined)\n"
     ]
    }
   ],
   "source": [
    "print(lr.explainParams())"
   ]
  },
  {
   "cell_type": "markdown",
   "metadata": {},
   "source": [
    "While the output is too large to reproduce here, it shows an explanation of all of the parameters\n",
    "for Spark’s implementation of logistic regression. The explainParams method exists on all\n",
    "algorithms available in MLlib.\n",
    "Upon instantiating an untrained algorithm, it becomes time to fit it to data. In this case, this\n",
    "returns a LogisticRegressionModel:"
   ]
  },
  {
   "cell_type": "code",
   "execution_count": 9,
   "metadata": {},
   "outputs": [],
   "source": [
    "fittedLR = lr.fit(train)"
   ]
  },
  {
   "cell_type": "markdown",
   "metadata": {},
   "source": [
    "This code will kick off a Spark job to train the model. As opposed to the transformations that you\n",
    "saw throughout the book, the fitting of a machine learning model is eager and performed\n",
    "immediately.\n",
    "Once complete, you can use the model to make predictions. Logically this means tranforming\n",
    "features into labels. We make predictions with the transform method. For example, we can\n",
    "transform our training dataset to see what labels our model assigned to the training data and how\n",
    "those compare to the true outputs. This, again, is just another DataFrame we can manipulate.\n",
    "Let’s perform that prediction with the following code snippet:\n"
   ]
  },
  {
   "cell_type": "code",
   "execution_count": 10,
   "metadata": {},
   "outputs": [
    {
     "name": "stdout",
     "output_type": "stream",
     "text": [
      "+-----+----------+\n",
      "|label|prediction|\n",
      "+-----+----------+\n",
      "|  0.0|       0.0|\n",
      "|  0.0|       0.0|\n",
      "|  0.0|       0.0|\n",
      "|  0.0|       0.0|\n",
      "|  0.0|       0.0|\n",
      "|  0.0|       0.0|\n",
      "|  0.0|       0.0|\n",
      "|  0.0|       0.0|\n",
      "|  0.0|       0.0|\n",
      "|  0.0|       0.0|\n",
      "|  0.0|       0.0|\n",
      "|  0.0|       0.0|\n",
      "|  0.0|       0.0|\n",
      "|  0.0|       0.0|\n",
      "|  0.0|       0.0|\n",
      "|  0.0|       0.0|\n",
      "|  0.0|       0.0|\n",
      "|  0.0|       0.0|\n",
      "|  0.0|       0.0|\n",
      "|  0.0|       0.0|\n",
      "+-----+----------+\n",
      "only showing top 20 rows\n",
      "\n"
     ]
    }
   ],
   "source": [
    "fittedLR.transform(train).select(\"label\", \"prediction\").show()"
   ]
  },
  {
   "cell_type": "markdown",
   "metadata": {},
   "source": [
    "Our next step would be to manually evaluate this model and calculate performance metrics like\n",
    "the true positive rate, false negative rate, and so on. We might then turn around and try a\n",
    "different set of parameters to see if those perform better. However, while this is a useful process,\n",
    "it can also be quite tedious. Spark helps you avoid manually trying different models and\n",
    "evaluation criteria by allowing you to specify your workload as a declarative pipeline of work\n",
    "that includes all your transformations as well as tuning your hyperparameters."
   ]
  },
  {
   "cell_type": "markdown",
   "metadata": {},
   "source": [
    "Pipelines"
   ]
  },
  {
   "cell_type": "markdown",
   "metadata": {},
   "source": [
    "As you probably noticed, if you are performing a lot of transformations, writing all the steps and\n",
    "keeping track of DataFrames ends up being quite tedious. That’s why Spark includes the\n",
    "Pipeline concept. A pipeline allows you to set up a dataflow of the relevant transformations\n",
    "that ends with an estimator that is automatically tuned according to your specifications, resulting\n",
    "in a tuned model ready for use. Figure 24-4 illustrates this process."
   ]
  },
  {
   "cell_type": "markdown",
   "metadata": {},
   "source": [
    "As already mentioned, transformers help us manipulate our current columns in one way or\n",
    "another. Manipulating these columns is often in pursuit of building features (that we will input\n",
    "into our model). Transformers exist to either cut down the number of features, add more features,\n",
    "manipulate current ones, or simply to help us format our data correctly. Transformers add new\n",
    "columns to DataFrames.\n",
    "When we use MLlib, all inputs to machine learning algorithms (with several exceptions\n",
    "discussed in later chapters) in Spark must consist of type Double (for labels) and\n",
    "Vector[Double] (for features). The current dataset does not meet that requirement and therefore\n",
    "we need to transform it to the proper format.\n",
    "To achieve this in our example, we are going to specify an RFormula. This is a declarative\n",
    "language for specifying machine learning transformations and is simple to use once you\n",
    "understand the syntax. RFormula supports a limited subset of the R operators that in practice\n",
    "work quite well for simple models and manipulations (we demonstrate the manual approach to\n",
    "this problem in Chapter 25). The basic RFormula operators are:\n"
   ]
  },
  {
   "cell_type": "code",
   "execution_count": 11,
   "metadata": {},
   "outputs": [],
   "source": [
    "train, test = df.randomSplit([0.7, 0.3])"
   ]
  },
  {
   "cell_type": "markdown",
   "metadata": {},
   "source": [
    "Now that you have a holdout set, let’s create the base stages in our pipeline. A stage simply\n",
    "represents a transformer or an estimator. In our case, we will have two estimators. The RFomula\n",
    "will first analyze our data to understand the types of input features and then transform them to\n",
    "create new features. Subsequently, the LogisticRegression object is the algorithm that we will\n",
    "train to produce a model:"
   ]
  },
  {
   "cell_type": "code",
   "execution_count": 12,
   "metadata": {},
   "outputs": [],
   "source": [
    "rForm = RFormula()\n",
    "lr = LogisticRegression().setLabelCol(\"label\").setFeaturesCol(\"features\")"
   ]
  },
  {
   "cell_type": "markdown",
   "metadata": {},
   "source": [
    "We will set the potential values for the RFormula in the next section. Now instead of manually\n",
    "using our transformations and then tuning our model we just make them stages in the overall\n",
    "pipeline, as in the following code snippet:\n"
   ]
  },
  {
   "cell_type": "markdown",
   "metadata": {},
   "source": [
    "We will set the potential values for the RFormula in the next section. Now instead of manually\n",
    "using our transformations and then tuning our model we just make them stages in the overall\n",
    "pipeline, as in the following code snippet:\n"
   ]
  },
  {
   "cell_type": "code",
   "execution_count": 13,
   "metadata": {},
   "outputs": [],
   "source": [
    "from pyspark.ml import Pipeline\n",
    "stages = [rForm, lr]\n",
    "pipeline = Pipeline().setStages(stages)"
   ]
  },
  {
   "cell_type": "markdown",
   "metadata": {},
   "source": [
    "Training and evaluation"
   ]
  },
  {
   "cell_type": "markdown",
   "metadata": {},
   "source": [
    "Now that you arranged the logical pipeline, the next step is training. In our case, we won’t train\n",
    "just one model (like we did previously); we will train several variations of the model by\n",
    "specifying different combinations of hyperparameters that we would like Spark to test. We will\n",
    "then select the best model using an Evaluator that compares their predictions on our validation\n",
    "data. We can test different hyperparameters in the entire pipeline, even in the RFormula that we\n",
    "use to manipulate the raw data. This code shows how we go about doing that:\n"
   ]
  },
  {
   "cell_type": "code",
   "execution_count": 14,
   "metadata": {},
   "outputs": [],
   "source": [
    "from pyspark.ml.tuning import ParamGridBuilder\n",
    "params = ParamGridBuilder()\\\n",
    "  .addGrid(rForm.formula, [\n",
    "    \"lab ~ . + color:value1\",\n",
    "    \"lab ~ . + color:value1 + color:value2\"])\\\n",
    "  .addGrid(lr.elasticNetParam, [0.0, 0.5, 1.0])\\\n",
    "  .addGrid(lr.regParam, [0.1, 2.0])\\\n",
    "  .build()"
   ]
  },
  {
   "cell_type": "markdown",
   "metadata": {},
   "source": [
    "In our current paramter grid, there are three hyperparameters that will diverge from the defaults:\n",
    "Two different versions of the RFormula\n",
    "Three different options for the ElasticNet parameter\n",
    "Two different options for the regularization parameter\n",
    "This gives us a total of 12 different combinations of these parameters, which means we will be\n",
    "training 12 different versions of logistic regression. We explain the ElasticNet parameter as\n",
    "well as the regularization options in Chapter 26.\n",
    "Now that the grid is built, it’s time to specify our evaluation process. The evaluator allows us to\n",
    "automatically and objectively compare multiple models to the same evaluation metric. There are\n",
    "evaluators for classification and regression, covered in later chapters, but in this case we will use\n",
    "the BinaryClassificationEvaluator, which has a number of potential evaluation metrics, as\n",
    "we’ll discuss in Chapter 26. In this case we will use areaUnderROC, which is the total area under\n",
    "the receiver operating characteristic, a common measure of classification performance:"
   ]
  },
  {
   "cell_type": "code",
   "execution_count": 15,
   "metadata": {},
   "outputs": [],
   "source": [
    "from pyspark.ml.evaluation import BinaryClassificationEvaluator\n",
    "evaluator = BinaryClassificationEvaluator()\\\n",
    "  .setMetricName(\"areaUnderROC\")\\\n",
    "  .setRawPredictionCol(\"prediction\")\\\n",
    "  .setLabelCol(\"label\")"
   ]
  },
  {
   "cell_type": "markdown",
   "metadata": {},
   "source": [
    "Now that we have a pipeline that specifies how our data should be transformed, we will perform\n",
    "model selection to try out different hyperparameters in our logistic regression model and\n",
    "measure success by comparing their performance using the areaUnderROC metric.\n",
    "As we discussed, it is a best practice in machine learning to fit hyperparameters on a validation\n",
    "set (instead of your test set) to prevent overfitting. For this reason, we cannot use our holdout test\n",
    "set (that we created before) to tune these parameters. Luckily, Spark provides two options for\n",
    "performing hyperparameter tuning automatically. We can use TrainValidationSplit, which\n",
    "will simply perform an arbitrary random split of our data into two different groups, or\n",
    "CrossValidator, which performs K-fold cross-validation by splitting the dataset into k nonoverlapping, randomly partitioned folds:"
   ]
  },
  {
   "cell_type": "code",
   "execution_count": 17,
   "metadata": {},
   "outputs": [],
   "source": [
    "from pyspark.ml.tuning import TrainValidationSplit\n",
    "tvs = TrainValidationSplit()\\\n",
    "  .setTrainRatio(0.75)\\\n",
    "  .setEstimatorParamMaps(params)\\\n",
    "  .setEstimator(pipeline)\\\n",
    "  .setEvaluator(evaluator)"
   ]
  },
  {
   "cell_type": "markdown",
   "metadata": {},
   "source": [
    "Let’s run the entire pipeline we constructed. To review, running this pipeline will test out every\n",
    "version of the model against the validation set. Note the type of tvsFitted is\n",
    "TrainValidationSplitModel. Any time we fit a given model, it outputs a “model” type:"
   ]
  },
  {
   "cell_type": "code",
   "execution_count": 18,
   "metadata": {},
   "outputs": [],
   "source": [
    "tvsFitted = tvs.fit(train)"
   ]
  },
  {
   "cell_type": "markdown",
   "metadata": {},
   "source": [
    "And of course evaluate how it performs on the test set!"
   ]
  },
  {
   "cell_type": "markdown",
   "metadata": {},
   "source": [
    "We can also see a training summary for some models. To do this we extract it from the pipeline,\n",
    "cast it to the proper type, and print our results. The metrics available on each model are discussed\n",
    "throughout the next several chapters. Here’s how we can see the results:\n"
   ]
  },
  {
   "cell_type": "markdown",
   "metadata": {},
   "source": [
    "/ in Scala\n",
    "import org.apache.spark.ml.PipelineModel\n",
    "import org.apache.spark.ml.classification.LogisticRegressionModel\n",
    "val trainedPipeline = tvsFitted.bestModel.asInstanceOf[PipelineModel]\n",
    "val TrainedLR = trainedPipeline.stages(1).asInstanceOf[LogisticRegressionModel]\n",
    "val summaryLR = TrainedLR.summary\n",
    "summaryLR.objectiveHistory // 0.6751425885789243, 0.5543659647777687, 0.473776...\n"
   ]
  },
  {
   "cell_type": "code",
   "execution_count": null,
   "metadata": {},
   "outputs": [],
   "source": []
  }
 ],
 "metadata": {
  "kernelspec": {
   "display_name": "Spark_2_4_5",
   "language": "python",
   "name": "python3"
  },
  "language_info": {
   "codemirror_mode": {
    "name": "ipython",
    "version": 3
   },
   "file_extension": ".py",
   "mimetype": "text/x-python",
   "name": "python",
   "nbconvert_exporter": "python",
   "pygments_lexer": "ipython3",
   "version": "3.7.16"
  }
 },
 "nbformat": 4,
 "nbformat_minor": 2
}
