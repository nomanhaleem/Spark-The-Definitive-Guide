{
 "cells": [
  {
   "cell_type": "code",
   "execution_count": 1,
   "metadata": {
    "collapsed": false
   },
   "outputs": [],
   "source": [
    "# Parse an Apache access log. Assumes Python 3\n",
    "import re\n",
    "from pyspark.sql import Row\n",
    "from datetime import datetime\n",
    "\n",
    "APACHE_ACCESS_LOG_PATTERN = '^(\\S+) (\\S+) (\\S+) \\[([\\w:/]+\\s[+\\-]\\d{4})\\] \"(\\S+) (\\S+) (\\S+)\" (\\d{3}) (\\d+) \"((?:[^”]|”)+)\" \"((?:[^”]|”)+)\"$'\n",
    "DATETIME_PARSE_PATTERN = '%d/%b/%Y:%H:%M:%S %z'\n",
    "\n",
    "# Returns a Row containing the Apache Access Log info\n",
    "def parse_apache_log_line(logline):\n",
    "    match = re.search(APACHE_ACCESS_LOG_PATTERN, logline)\n",
    "    if match is None:\n",
    "        return None\n",
    "    date_obj = datetime.strptime(match.group(4),DATETIME_PARSE_PATTERN)\n",
    "    return Row(\n",
    "        ipAddress    = match.group(1),\n",
    "        clientIdentd = match.group(2),\n",
    "        userId       = match.group(3),\n",
    "        dateTime     = match.group(4),\n",
    "        timestamp    = date_obj.timestamp(),\n",
    "        month        = date_obj.strftime('%Y-%m'),\n",
    "        method       = match.group(5),\n",
    "        endpoint     = match.group(6),\n",
    "        protocol     = match.group(7),\n",
    "        referrer     = match.group(10),\n",
    "        userAgent    = match.group(11),\n",
    "        responseCode = int(match.group(8)),\n",
    "        contentSize  = int(match.group(9)))"
   ]
  },
  {
   "cell_type": "code",
   "execution_count": 2,
   "metadata": {
    "collapsed": true
   },
   "outputs": [],
   "source": [
    "access_logs_raw = sc.textFile(\"hdfs://master:9000/user/michael/data/diybigdata.20160808.log\")"
   ]
  },
  {
   "cell_type": "code",
   "execution_count": 3,
   "metadata": {
    "collapsed": true
   },
   "outputs": [],
   "source": [
    "access_logs = access_logs_raw.map(parse_apache_log_line).filter(lambda x: x is not None)"
   ]
  },
  {
   "cell_type": "code",
   "execution_count": 4,
   "metadata": {
    "collapsed": false
   },
   "outputs": [],
   "source": [
    "accoss_logs_df = access_logs.toDF()"
   ]
  },
  {
   "cell_type": "code",
   "execution_count": 5,
   "metadata": {
    "collapsed": false
   },
   "outputs": [
    {
     "name": "stdout",
     "output_type": "stream",
     "text": [
      "root\n",
      " |-- clientIdentd: string (nullable = true)\n",
      " |-- contentSize: long (nullable = true)\n",
      " |-- dateTime: string (nullable = true)\n",
      " |-- endpoint: string (nullable = true)\n",
      " |-- ipAddress: string (nullable = true)\n",
      " |-- method: string (nullable = true)\n",
      " |-- month: string (nullable = true)\n",
      " |-- protocol: string (nullable = true)\n",
      " |-- referrer: string (nullable = true)\n",
      " |-- responseCode: long (nullable = true)\n",
      " |-- timestamp: double (nullable = true)\n",
      " |-- userAgent: string (nullable = true)\n",
      " |-- userId: string (nullable = true)\n",
      "\n"
     ]
    }
   ],
   "source": [
    "accoss_logs_df.printSchema()"
   ]
  },
  {
   "cell_type": "code",
   "execution_count": 6,
   "metadata": {
    "collapsed": false
   },
   "outputs": [],
   "source": [
    "accoss_logs_df.write.partitionBy(\n",
    "        \"month\"\n",
    "    ).parquet(\n",
    "        \"hdfs://master:9000/user/michael/data/diybigdata.20160808.parquet\",\n",
    "        mode='overwrite'\n",
    "    )"
   ]
  },
  {
   "cell_type": "code",
   "execution_count": null,
   "metadata": {
    "collapsed": true
   },
   "outputs": [],
   "source": []
  }
 ],
 "metadata": {
  "kernelspec": {
   "display_name": "Python 3",
   "language": "python",
   "name": "python3"
  },
  "language_info": {
   "codemirror_mode": {
    "name": "ipython",
    "version": 3
   },
   "file_extension": ".py",
   "mimetype": "text/x-python",
   "name": "python",
   "nbconvert_exporter": "python",
   "pygments_lexer": "ipython3",
   "version": "3.4.3"
  }
 },
 "nbformat": 4,
 "nbformat_minor": 0
}
