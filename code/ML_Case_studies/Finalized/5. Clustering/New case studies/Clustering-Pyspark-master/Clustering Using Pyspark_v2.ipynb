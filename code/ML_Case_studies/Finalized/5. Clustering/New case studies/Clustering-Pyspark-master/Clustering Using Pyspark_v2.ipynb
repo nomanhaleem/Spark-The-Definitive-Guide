{
 "cells": [
  {
   "cell_type": "markdown",
   "metadata": {},
   "source": [
    "## Clustering Using Pyspark\n",
    "\n",
    "For this project we will attempt to use KMeans Clustering to cluster Mall customer dataset.\n",
    "We will make segmentation of those customers.\n",
    "\n",
    "We will try 2 scenario to make cluster:\n",
    "1. Include OneHotEncoder process \n",
    "2. Exclude OneHotEncoder process"
   ]
  },
  {
   "cell_type": "markdown",
   "metadata": {},
   "source": [
    "### Pyspark Initializasing"
   ]
  },
  {
   "cell_type": "code",
   "execution_count": 1,
   "metadata": {
    "collapsed": true
   },
   "outputs": [],
   "source": [
    "# to make pyspark importable as a regular library\n",
    "import findspark\n",
    "findspark.init()\n",
    "\n",
    "import pyspark\n",
    "\n",
    "from pyspark import SparkContext\n",
    "sc = SparkContext.getOrCreate()\n",
    "\n",
    "#initializasing SparkSession for creating Spark DataFrame\n",
    "from pyspark.sql import SparkSession\n",
    "spark = SparkSession.builder.getOrCreate()"
   ]
  },
  {
   "cell_type": "markdown",
   "metadata": {},
   "source": [
    "### Load Libraries"
   ]
  },
  {
   "cell_type": "code",
   "execution_count": 2,
   "metadata": {
    "collapsed": true
   },
   "outputs": [],
   "source": [
    "# Data Frame spark profiling \n",
    "from pyspark.sql.types import IntegerType, StringType, DoubleType, ShortType, DecimalType\n",
    "import pyspark.sql.functions as func\n",
    "from pyspark.sql.functions import isnull\n",
    "from pyspark.sql.functions import isnan, when, count, col, round\n",
    "from pyspark.sql.functions import mean\n",
    "from pyspark.sql.types import Row\n",
    "import matplotlib.pyplot as plt\n",
    "from pyspark.sql.functions import udf\n",
    "\n",
    "\n",
    "# Pandas DF operation\n",
    "import pandas as pd\n",
    "import numpy as np\n",
    "import matplotlib.pyplot as plt\n",
    "import seaborn as sns\n",
    "from numpy import array\n",
    "\n",
    "# Modeling + Evaluation\n",
    "from pyspark.ml.feature import VectorAssembler, VectorIndexer, OneHotEncoder, StringIndexer\n",
    "from pyspark.sql.functions import when\n",
    "from pyspark.sql import functions as F\n",
    "from pyspark.sql.functions import avg\n",
    "from pyspark.ml import Pipeline\n",
    "from pyspark.ml.clustering import KMeans\n",
    "from pyspark.ml.feature import StandardScaler\n",
    "from mpl_toolkits.mplot3d import Axes3D\n"
   ]
  },
  {
   "cell_type": "markdown",
   "metadata": {},
   "source": [
    "### Load Data to Spark DataFrame"
   ]
  },
  {
   "cell_type": "code",
   "execution_count": 4,
   "metadata": {
    "collapsed": true
   },
   "outputs": [],
   "source": [
    "#Initializing File Type\n",
    "file_type = 'text'\n",
    "path=r'Mall_Customers.csv'\n",
    "delimeter=','"
   ]
  },
  {
   "cell_type": "code",
   "execution_count": 5,
   "metadata": {
    "collapsed": true
   },
   "outputs": [],
   "source": [
    "def load_data(file_type):\n",
    "    \"\"\"input type of file \"text\" or \"parquet\" and Return pyspark dataframe\"\"\"\n",
    "    if file_type ==\"text\": # use text as file type input\n",
    "        df = spark.read.option(\"header\", \"true\") \\\n",
    "        .option(\"delimeter\",delimeter)\\\n",
    "        .option(\"inferSchema\", \"true\") \\\n",
    "        .csv(path) \n",
    "    else:  \n",
    "        df= spark.read.parquet(\"example.parquet\") #path file that you want import\n",
    "    return df"
   ]
  },
  {
   "cell_type": "code",
   "execution_count": 6,
   "metadata": {
    "collapsed": true
   },
   "outputs": [],
   "source": [
    "df = load_data(file_type)"
   ]
  },
  {
   "cell_type": "code",
   "execution_count": 7,
   "metadata": {},
   "outputs": [
    {
     "name": "stdout",
     "output_type": "stream",
     "text": [
      "Help on function load_data in module __main__:\n",
      "\n",
      "load_data(file_type)\n",
      "    input type of file \"text\" or \"parquet\" and Return pyspark dataframe\n",
      "\n"
     ]
    }
   ],
   "source": [
    "help(load_data)"
   ]
  },
  {
   "cell_type": "markdown",
   "metadata": {},
   "source": [
    "### Check Data"
   ]
  },
  {
   "cell_type": "code",
   "execution_count": 8,
   "metadata": {},
   "outputs": [
    {
     "data": {
      "text/plain": [
       "pyspark.sql.dataframe.DataFrame"
      ]
     },
     "execution_count": 8,
     "metadata": {},
     "output_type": "execute_result"
    }
   ],
   "source": [
    "type(df)"
   ]
  },
  {
   "cell_type": "code",
   "execution_count": 9,
   "metadata": {},
   "outputs": [
    {
     "name": "stdout",
     "output_type": "stream",
     "text": [
      "+----------+------+---+------------------+----------------------+\n",
      "|CustomerID| Genre|Age|Annual Income (k$)|Spending Score (1-100)|\n",
      "+----------+------+---+------------------+----------------------+\n",
      "|         1|  Male| 19|                15|                    39|\n",
      "|         2|  Male| 21|                15|                    81|\n",
      "|         3|Female| 20|                16|                     6|\n",
      "|         4|Female| 23|                16|                    77|\n",
      "|         5|Female| 31|                17|                    40|\n",
      "|         6|  null| 22|                17|                    76|\n",
      "|         7|Female| 35|                18|                     6|\n",
      "|         8|  null| 23|              null|                    94|\n",
      "|         9|  Male| 64|                19|                  null|\n",
      "|        10|  null| 30|                19|                    72|\n",
      "|        11|  Male| 67|                19|                    14|\n",
      "|        12|Female| 35|                19|                    99|\n",
      "|        13|Female| 58|                20|                  null|\n",
      "|        14|  null| 24|                20|                    77|\n",
      "|        15|  Male| 37|                20|                    13|\n",
      "+----------+------+---+------------------+----------------------+\n",
      "only showing top 15 rows\n",
      "\n"
     ]
    }
   ],
   "source": [
    "#show 5 observation in DataFrame\n",
    "df.show(15)"
   ]
  },
  {
   "cell_type": "code",
   "execution_count": 10,
   "metadata": {},
   "outputs": [
    {
     "name": "stdout",
     "output_type": "stream",
     "text": [
      "root\n",
      " |-- CustomerID: integer (nullable = true)\n",
      " |-- Genre: string (nullable = true)\n",
      " |-- Age: integer (nullable = true)\n",
      " |-- Annual Income (k$): integer (nullable = true)\n",
      " |-- Spending Score (1-100): integer (nullable = true)\n",
      "\n"
     ]
    }
   ],
   "source": [
    "#Print Schema\n",
    "df.printSchema()"
   ]
  },
  {
   "cell_type": "code",
   "execution_count": 11,
   "metadata": {
    "collapsed": true
   },
   "outputs": [],
   "source": [
    "#rename column name\n",
    "df=df.withColumnRenamed('CustomerID','Id')\n",
    "df=df.withColumnRenamed('Annual Income (k$)','AnnIncome')\n",
    "df=df.withColumnRenamed('Spending Score (1-100)','SpendScore')"
   ]
  },
  {
   "cell_type": "code",
   "execution_count": 12,
   "metadata": {},
   "outputs": [
    {
     "data": {
      "text/plain": [
       "(5, ['Id', 'Genre', 'Age', 'AnnIncome', 'SpendScore'])"
      ]
     },
     "execution_count": 12,
     "metadata": {},
     "output_type": "execute_result"
    }
   ],
   "source": [
    "len(df.columns), df.columns"
   ]
  },
  {
   "cell_type": "code",
   "execution_count": 13,
   "metadata": {},
   "outputs": [
    {
     "name": "stdout",
     "output_type": "stream",
     "text": [
      "cat_cols: ['Genre']\n",
      "num_cols: ['Id', 'Age', 'AnnIncome', 'SpendScore']\n"
     ]
    }
   ],
   "source": [
    "#Categorical and numerical variable\n",
    "\n",
    "cat_cols = [item[0] for item in df.dtypes if item[1].startswith('string')] #just will select string data type\n",
    "print(\"cat_cols:\", cat_cols)\n",
    "num_cols = [item[0] for item in df.dtypes if item[1].startswith('int') | item[1].startswith('double')] #just will select integer or double data type\n",
    "print(\"num_cols:\", num_cols)"
   ]
  },
  {
   "cell_type": "code",
   "execution_count": 14,
   "metadata": {},
   "outputs": [
    {
     "name": "stdout",
     "output_type": "stream",
     "text": [
      "num_id: Id\n",
      "['Id']\n",
      "['Age', 'AnnIncome', 'SpendScore']\n"
     ]
    }
   ],
   "source": [
    "#Select column 'Id' from num_cols\n",
    "num_id=num_cols.pop(0)\n",
    "print(\"num_id:\", num_id)\n",
    "\n",
    "#save column 'Id' in num_id variable\n",
    "num_id=[num_id]\n",
    "\n",
    "#print num_id\n",
    "print(num_id)\n",
    "\n",
    "#print num_cols\n",
    "print(num_cols)"
   ]
  },
  {
   "cell_type": "code",
   "execution_count": 15,
   "metadata": {},
   "outputs": [
    {
     "data": {
      "text/plain": [
       "200"
      ]
     },
     "execution_count": 15,
     "metadata": {},
     "output_type": "execute_result"
    }
   ],
   "source": [
    "#count number of observation\n",
    "df.count()"
   ]
  },
  {
   "cell_type": "code",
   "execution_count": 14,
   "metadata": {},
   "outputs": [
    {
     "name": "stdout",
     "output_type": "stream",
     "text": [
      "+-------+-----------------+-----------------+------------------+\n",
      "|summary|              Age|        AnnIncome|        SpendScore|\n",
      "+-------+-----------------+-----------------+------------------+\n",
      "|  count|              200|              196|               195|\n",
      "|   mean|            38.85|60.73979591836735| 50.43589743589744|\n",
      "| stddev|13.96900733155888|26.33197623168131|25.565758018924654|\n",
      "|    min|               18|               15|                 1|\n",
      "|    max|               70|              137|                99|\n",
      "+-------+-----------------+-----------------+------------------+\n",
      "\n"
     ]
    }
   ],
   "source": [
    "# Check summary statistic of numerical columns\n",
    "df.select(num_cols).describe().show()"
   ]
  },
  {
   "cell_type": "markdown",
   "metadata": {},
   "source": [
    "### Check Missing Value"
   ]
  },
  {
   "cell_type": "markdown",
   "metadata": {},
   "source": [
    "We are using two metode to check missing values:\n",
    "1. Using pandas dataframe\n",
    "2. Using pyspark dataframe"
   ]
  },
  {
   "cell_type": "code",
   "execution_count": 16,
   "metadata": {
    "collapsed": true
   },
   "outputs": [],
   "source": [
    "#convert to pandas DataFrame\n",
    "df_pd=df.toPandas()"
   ]
  },
  {
   "cell_type": "code",
   "execution_count": 17,
   "metadata": {
    "collapsed": true
   },
   "outputs": [],
   "source": [
    "#Check Missing value with proportion in Pandas DataFrame\n",
    "\n",
    "def missing_values_table(df_pd):\n",
    "    \"\"\"Input pandas dataframe and Return columns with missing value&percentage and stored as pandas dataframe\"\"\"\n",
    "    mis_val = df_pd.isnull().sum() #count total of null in each columns in dataframe\n",
    "    mis_val_percent = 100 * df_pd.isnull().sum() / len(df_pd) #count percentage of null in each columns\n",
    "    mis_val_table = pd.concat([mis_val, mis_val_percent], axis=1)  #join to left (as column) between mis_val and mis_val_percent and create it as dataframe\n",
    "    mis_val_table_ren_columns = mis_val_table.rename(\n",
    "    columns = {0 : 'Missing Values', 1 : '% of Total Values'}) #rename columns in table, mis_val to Missing Values and mis_val_percent to % of Total Values\n",
    "    mis_val_table_ren_columns = mis_val_table_ren_columns[\n",
    "    mis_val_table_ren_columns.iloc[:,1] != 0].sort_values(\n",
    "    '% of Total Values', ascending=False).round(1)         #sort column % of Total Values descending and round 1 after point(coma)\n",
    "    print (\"Your selected dataframe has \" + str(df_pd.shape[1]) + \" columns.\\n\"    #.shape[1] : just view total columns in dataframe  \n",
    "    \"There are \" + str(mis_val_table_ren_columns.shape[0]) +              \n",
    "    \" columns that have missing values.\") #.shape[0] : just view total rows in dataframe\n",
    "    return mis_val_table_ren_columns"
   ]
  },
  {
   "cell_type": "code",
   "execution_count": 18,
   "metadata": {},
   "outputs": [
    {
     "name": "stdout",
     "output_type": "stream",
     "text": [
      "Help on function missing_values_table in module __main__:\n",
      "\n",
      "missing_values_table(df_pd)\n",
      "    Input pandas dataframe and Return columns with missing value&percentage and stored as pandas dataframe\n",
      "\n"
     ]
    }
   ],
   "source": [
    "help(missing_values_table)"
   ]
  },
  {
   "cell_type": "code",
   "execution_count": 19,
   "metadata": {},
   "outputs": [
    {
     "name": "stdout",
     "output_type": "stream",
     "text": [
      "Your selected dataframe has 5 columns.\n",
      "There are 3 columns that have missing values.\n"
     ]
    },
    {
     "data": {
      "text/html": [
       "<div>\n",
       "<style>\n",
       "    .dataframe thead tr:only-child th {\n",
       "        text-align: right;\n",
       "    }\n",
       "\n",
       "    .dataframe thead th {\n",
       "        text-align: left;\n",
       "    }\n",
       "\n",
       "    .dataframe tbody tr th {\n",
       "        vertical-align: top;\n",
       "    }\n",
       "</style>\n",
       "<table border=\"1\" class=\"dataframe\">\n",
       "  <thead>\n",
       "    <tr style=\"text-align: right;\">\n",
       "      <th></th>\n",
       "      <th>Missing Values</th>\n",
       "      <th>% of Total Values</th>\n",
       "    </tr>\n",
       "  </thead>\n",
       "  <tbody>\n",
       "    <tr>\n",
       "      <th>Genre</th>\n",
       "      <td>5</td>\n",
       "      <td>2.5</td>\n",
       "    </tr>\n",
       "    <tr>\n",
       "      <th>SpendScore</th>\n",
       "      <td>5</td>\n",
       "      <td>2.5</td>\n",
       "    </tr>\n",
       "    <tr>\n",
       "      <th>AnnIncome</th>\n",
       "      <td>4</td>\n",
       "      <td>2.0</td>\n",
       "    </tr>\n",
       "  </tbody>\n",
       "</table>\n",
       "</div>"
      ],
      "text/plain": [
       "            Missing Values  % of Total Values\n",
       "Genre                    5                2.5\n",
       "SpendScore               5                2.5\n",
       "AnnIncome                4                2.0"
      ]
     },
     "execution_count": 19,
     "metadata": {},
     "output_type": "execute_result"
    }
   ],
   "source": [
    "missing_values_table(df_pd)"
   ]
  },
  {
   "cell_type": "code",
   "execution_count": 20,
   "metadata": {
    "collapsed": true
   },
   "outputs": [],
   "source": [
    "#Check Missing Value in Pyspark Dataframe\n",
    "def count_nulls(df_final):\n",
    "    \"\"\"Input pyspark dataframe and return list of columns with missing value and it's total value\"\"\"\n",
    "    null_counts = []          #make an empty list to hold our results\n",
    "    for col in df.dtypes:     #iterate through the column data types we saw above, e.g. ('C0', 'bigint')\n",
    "        cname = col[0]        #splits out the column name, e.g. 'C0'    \n",
    "        ctype = col[1]        #splits out the column type, e.g. 'bigint'\n",
    "        nulls = df.where( df[cname].isNull() ).count() #check count of null in column name\n",
    "        result = tuple([cname, nulls])  #new tuple, (column name, null count)\n",
    "        null_counts.append(result)      #put the new tuple in our result list\n",
    "    null_counts=[(x,y) for (x,y) in null_counts if y!=0]  #view just columns that have missing values\n",
    "    return null_counts"
   ]
  },
  {
   "cell_type": "code",
   "execution_count": 21,
   "metadata": {},
   "outputs": [
    {
     "name": "stdout",
     "output_type": "stream",
     "text": [
      "Help on function count_nulls in module __main__:\n",
      "\n",
      "count_nulls(df_final)\n",
      "    Input pyspark dataframe and return list of columns with missing value and it's total value\n",
      "\n"
     ]
    }
   ],
   "source": [
    "help(count_nulls)"
   ]
  },
  {
   "cell_type": "code",
   "execution_count": 22,
   "metadata": {},
   "outputs": [
    {
     "data": {
      "text/plain": [
       "[('Genre', 5), ('AnnIncome', 4), ('SpendScore', 5)]"
      ]
     },
     "execution_count": 22,
     "metadata": {},
     "output_type": "execute_result"
    }
   ],
   "source": [
    "null_counts = count_nulls(df)\n",
    "null_counts"
   ]
  },
  {
   "cell_type": "markdown",
   "metadata": {},
   "source": [
    "From function count_nulls above we get information all columns that has missing values with it's numbers and save in list \"null_counts\".\n",
    "\n",
    "null_counts = [('Genre', 5), ('Annual Income (k$)', 4), ('Spending Score (1-100)', 5)]\n",
    "\n",
    "From null_counts, we just take information of columns name and save in list \"list_cols_miss\", like in the script below:"
   ]
  },
  {
   "cell_type": "code",
   "execution_count": 23,
   "metadata": {},
   "outputs": [
    {
     "data": {
      "text/plain": [
       "['Genre', 'AnnIncome', 'SpendScore']"
      ]
     },
     "execution_count": 23,
     "metadata": {},
     "output_type": "execute_result"
    }
   ],
   "source": [
    "list_cols_miss=[x[0] for x in null_counts]\n",
    "list_cols_miss"
   ]
  },
  {
   "cell_type": "markdown",
   "metadata": {},
   "source": [
    "From list_cols_miss create dataframe called \"df_miss\". The aim is to define categorical and numerical columns which have missing values. \n",
    "As the process of handling missing values will be diffrent between  numerical dan categorical variables."
   ]
  },
  {
   "cell_type": "code",
   "execution_count": 24,
   "metadata": {
    "collapsed": true
   },
   "outputs": [],
   "source": [
    "#Create dataframe which just has list_cols_miss\n",
    "df_miss= df.select(*list_cols_miss)"
   ]
  },
  {
   "cell_type": "code",
   "execution_count": 25,
   "metadata": {},
   "outputs": [
    {
     "data": {
      "text/plain": [
       "[('Genre', 'string'), ('AnnIncome', 'int'), ('SpendScore', 'int')]"
      ]
     },
     "execution_count": 25,
     "metadata": {},
     "output_type": "execute_result"
    }
   ],
   "source": [
    "df_miss.dtypes"
   ]
  },
  {
   "cell_type": "markdown",
   "metadata": {},
   "source": [
    "After we create \"df_miss\", we split to categorical and numerical columns which have missing value.\n",
    "for categorical columns we  called \"catcolums_miss\" and for numerical columns we called \"numcolumns_miss\". \n",
    "Like in script below:"
   ]
  },
  {
   "cell_type": "code",
   "execution_count": 26,
   "metadata": {},
   "outputs": [
    {
     "name": "stdout",
     "output_type": "stream",
     "text": [
      "catcolums_miss: ['Genre']\n",
      "numcolumns_miss: ['AnnIncome', 'SpendScore']\n"
     ]
    }
   ],
   "source": [
    "#Define categorical columns and numerical columns which have missing value.\n",
    "### for categorical columns\n",
    "catcolums_miss=[item[0] for item in df_miss.dtypes if item[1].startswith('string')]  #will select name of column with string data type\n",
    "print(\"catcolums_miss:\", catcolums_miss)\n",
    "\n",
    "### for numerical columns\n",
    "numcolumns_miss = [item[0] for item in df_miss.dtypes if item[1].startswith('int') | item[1].startswith('double')] #will select name of column with integer or double data type\n",
    "print(\"numcolumns_miss:\", numcolumns_miss)"
   ]
  },
  {
   "cell_type": "markdown",
   "metadata": {},
   "source": [
    "#### Handle Missing Values\n",
    "So, in this module we will use pyspark dataframe to check missing values.\n",
    "\n",
    "For categorical columns we use most frequent to fill missing values. Therefore we have to count categories which has max values in each columns by counting and sorting descenting each columns in dataframe with no has missing values. Therefore we drop missing values and save in new dataframe called \"df_Nomiss\".\n",
    "For numerical columns we fill missing values with average in it's columns."
   ]
  },
  {
   "cell_type": "code",
   "execution_count": 27,
   "metadata": {
    "collapsed": true
   },
   "outputs": [],
   "source": [
    "#Drop missing value\n",
    "df_Nomiss=df.na.drop()"
   ]
  },
  {
   "cell_type": "code",
   "execution_count": 28,
   "metadata": {},
   "outputs": [
    {
     "name": "stdout",
     "output_type": "stream",
     "text": [
      "+---+------+---+---------+----------+\n",
      "| Id| Genre|Age|AnnIncome|SpendScore|\n",
      "+---+------+---+---------+----------+\n",
      "|  1|  Male| 19|       15|        39|\n",
      "|  2|  Male| 21|       15|        81|\n",
      "|  3|Female| 20|       16|         6|\n",
      "|  4|Female| 23|       16|        77|\n",
      "+---+------+---+---------+----------+\n",
      "only showing top 4 rows\n",
      "\n"
     ]
    }
   ],
   "source": [
    "df_Nomiss.show(4)"
   ]
  },
  {
   "cell_type": "code",
   "execution_count": 29,
   "metadata": {},
   "outputs": [
    {
     "name": "stdout",
     "output_type": "stream",
     "text": [
      "Genre Female\n"
     ]
    }
   ],
   "source": [
    "#fill missing value in categorical variable with most frequent\n",
    "for x in catcolums_miss:\n",
    "    mode=df_Nomiss.groupBy(x).count().sort(col(\"count\").desc()).collect()[0][0] #group by based on categories and count each categories and sort descending then take the first value in column\n",
    "    print(x, mode) #print name of columns and it's most categories \n",
    "    df = df.na.fill({x:mode}) #fill missing value in each columns with most frequent"
   ]
  },
  {
   "cell_type": "code",
   "execution_count": 30,
   "metadata": {},
   "outputs": [
    {
     "name": "stdout",
     "output_type": "stream",
     "text": [
      "AnnIncome 61.0\n",
      "SpendScore 50.0\n"
     ]
    }
   ],
   "source": [
    "#fill missing value in numerical variable with average\n",
    "for i in numcolumns_miss:\n",
    "    meanvalue = df.select(round(mean(i))).collect()[0][0] #calculate average in each numerical column\n",
    "    print(i, meanvalue) #print name of columns and it's average value\n",
    "    df=df.na.fill({i:meanvalue}) #fill missing value in each columns with it's average value"
   ]
  },
  {
   "cell_type": "code",
   "execution_count": 31,
   "metadata": {},
   "outputs": [
    {
     "data": {
      "text/plain": [
       "[]"
      ]
     },
     "execution_count": 31,
     "metadata": {},
     "output_type": "execute_result"
    }
   ],
   "source": [
    "#Check Missing value after filling\n",
    "null_counts = count_nulls(df)\n",
    "null_counts"
   ]
  },
  {
   "cell_type": "markdown",
   "metadata": {},
   "source": [
    "Now, output null_counts is null, it's mean no more columns that have missing values."
   ]
  },
  {
   "cell_type": "markdown",
   "metadata": {},
   "source": [
    "### EDA\n",
    "Pyspark dataframe has limitation in visualization. Then to create visualization we have to convert pyspark dataframe to pandas dataframe."
   ]
  },
  {
   "cell_type": "code",
   "execution_count": 32,
   "metadata": {
    "collapsed": true
   },
   "outputs": [],
   "source": [
    "# convert spark dataframe to pandas for visualization\n",
    "df_pd2=df.toPandas()"
   ]
  },
  {
   "cell_type": "markdown",
   "metadata": {},
   "source": [
    "#### Categorical Variables"
   ]
  },
  {
   "cell_type": "code",
   "execution_count": 33,
   "metadata": {},
   "outputs": [
    {
     "data": {
      "image/png": "[encoded data removed]",
      "text/plain": [
       "<matplotlib.figure.Figure at 0x213df54cc18>"
      ]
     },
     "metadata": {},
     "output_type": "display_data"
    }
   ],
   "source": [
    "#Barchart for categorical variable\n",
    "plt.figure(figsize=(20,10))\n",
    "plt.subplot(221)\n",
    "sns.countplot(x='Genre', data=df_pd2, order=df_pd['Genre'].value_counts().index)\n",
    "plt.show()"
   ]
  },
  {
   "cell_type": "markdown",
   "metadata": {},
   "source": [
    "#### Numerical Variables"
   ]
  },
  {
   "cell_type": "code",
   "execution_count": 33,
   "metadata": {},
   "outputs": [
    {
     "data": {
      "image/png": "[encoded data removed]",
      "text/plain": [
       "<matplotlib.figure.Figure at 0x19bd9674320>"
      ]
     },
     "metadata": {},
     "output_type": "display_data"
    }
   ],
   "source": [
    "#density plot Age\n",
    "#plt.figure(figsize=(24,5))\n",
    "sns.distplot(df_pd2['Age'])\n",
    "plt.show()"
   ]
  },
  {
   "cell_type": "code",
   "execution_count": 34,
   "metadata": {},
   "outputs": [
    {
     "data": {
      "image/png": "[encoded data removed]",
      "text/plain": [
       "<matplotlib.figure.Figure at 0x19bd96f5908>"
      ]
     },
     "metadata": {},
     "output_type": "display_data"
    }
   ],
   "source": [
    "#density plot Annual Income\n",
    "sns.distplot(df_pd2['AnnIncome'])\n",
    "plt.show()"
   ]
  },
  {
   "cell_type": "code",
   "execution_count": 35,
   "metadata": {},
   "outputs": [
    {
     "data": {
      "image/png": "[encoded data removed]",
      "text/plain": [
       "<matplotlib.figure.Figure at 0x19bd983af98>"
      ]
     },
     "metadata": {},
     "output_type": "display_data"
    }
   ],
   "source": [
    "#density plot Spending Score (1-100)\n",
    "sns.distplot(df_pd2['SpendScore'])\n",
    "plt.show()"
   ]
  },
  {
   "cell_type": "markdown",
   "metadata": {},
   "source": [
    "### Check outlier\n",
    "We will check outlier in all numerical variables, they are: 'Age', 'AnnIncome', 'SpendScore'."
   ]
  },
  {
   "cell_type": "code",
   "execution_count": 36,
   "metadata": {},
   "outputs": [
    {
     "data": {
      "image/png": "[encoded data removed]",
      "text/plain": [
       "<matplotlib.figure.Figure at 0x19bd98d6e48>"
      ]
     },
     "metadata": {},
     "output_type": "display_data"
    }
   ],
   "source": [
    "#Check outlier in numerical variable: 'Age'\n",
    "sns.boxplot(y=\"Age\",data=df_pd2)\n",
    "plt.show()"
   ]
  },
  {
   "cell_type": "code",
   "execution_count": 37,
   "metadata": {},
   "outputs": [
    {
     "data": {
      "image/png": "[encoded data removed]",
      "text/plain": [
       "<matplotlib.figure.Figure at 0x19bd9b01eb8>"
      ]
     },
     "metadata": {},
     "output_type": "display_data"
    }
   ],
   "source": [
    "#Check outlier in numerical variable: 'AnnIncome'\n",
    "sns.boxplot(y=\"AnnIncome\",data=df_pd2)\n",
    "plt.show()"
   ]
  },
  {
   "cell_type": "code",
   "execution_count": 38,
   "metadata": {},
   "outputs": [
    {
     "data": {
      "image/png": "[encoded data removed]",
      "text/plain": [
       "<matplotlib.figure.Figure at 0x19bd865c2b0>"
      ]
     },
     "metadata": {},
     "output_type": "display_data"
    }
   ],
   "source": [
    "#Check outlier in numerical variable: 'SpendScore'\n",
    "sns.boxplot(y=\"SpendScore\",data=df_pd2)\n",
    "plt.show()"
   ]
  },
  {
   "cell_type": "markdown",
   "metadata": {},
   "source": [
    "From those bloxplot above, we can see outlier just in AnnIncome variable."
   ]
  },
  {
   "cell_type": "markdown",
   "metadata": {},
   "source": [
    "### Handle of outlier\n",
    "Outlier is observations that fall below lower side or above upper side.\n",
    "\n",
    "To handle outlier we approach by replacing the value greater than upper side with upper side value and also replacing the value lower than lower side with lower side value.\n",
    "So, we need calculate upper and lower side from quantile value, quantile is probability distribution of variable. In General, there are three quantile:\n",
    "1. Q1 = the value that cut off 25% of the first data when it is sorted in ascending order. \n",
    "2. Q2 = cut off data, or median, it's 50 % of the data \n",
    "3. Q3 = the value that cut off 75% of the first data when it is sorted in ascending order.\n",
    "\n",
    "IQR or interquartile range is range between Q1 and Q3. IQR = Q3 - Q1.\n",
    "\n",
    "Upper side = Q3 + 1.5 * IQR\n",
    "\n",
    "Lower side = Q1 - 1.5 * IQR"
   ]
  },
  {
   "cell_type": "code",
   "execution_count": 34,
   "metadata": {
    "collapsed": true
   },
   "outputs": [],
   "source": [
    "#create quantile dataframe\n",
    "def quantile(e):\n",
    "    \"\"\"Input is dataframe and return new dataframe with value of quantile from numerical columns\"\"\"\n",
    "    percentiles = [0.25, 0.5, 0.75]\n",
    "    quant=spark.createDataFrame(zip(percentiles, *e.approxQuantile(num_cols, percentiles, 0.0)),\n",
    "                               ['percentile']+num_cols) #calculate quantile from pyspark dataframe, 0.0 is relativeError,\n",
    "                                                        #The relative target precision to achieve (>= 0). If set to zero, \n",
    "                                                        #the exact quantiles are computed, which could be very expensive\n",
    "                                                        #and aggregate the result with percentiles variable, \n",
    "                                                        #then create pyspark dataframe\n",
    "    return quant"
   ]
  },
  {
   "cell_type": "code",
   "execution_count": 35,
   "metadata": {
    "collapsed": true
   },
   "outputs": [],
   "source": [
    "quantile=quantile(df)"
   ]
  },
  {
   "cell_type": "code",
   "execution_count": 36,
   "metadata": {
    "collapsed": true
   },
   "outputs": [],
   "source": [
    "def upper_value(b,c):\n",
    "    \"\"\"Input is quantile dataframe and name of numerical column and Retrun upper value from the column\"\"\"\n",
    "    q1 = b.select(c).collect()[0][0] #select value of q1 from the column\n",
    "    q2 = b.select(c).collect()[1][0] #select value of q2 from the column\n",
    "    q3 = b.select(c).collect()[2][0] #select value of q3 from the column\n",
    "    IQR=q3-q1  #calculate the value of IQR\n",
    "    upper= q3 + (IQR*1.5)   #calculate the value of upper side\n",
    "    return upper"
   ]
  },
  {
   "cell_type": "code",
   "execution_count": 37,
   "metadata": {},
   "outputs": [
    {
     "name": "stdout",
     "output_type": "stream",
     "text": [
      "Help on function upper_value in module __main__:\n",
      "\n",
      "upper_value(b, c)\n",
      "    Input is quantile dataframe and name of numerical column and Retrun upper value from the column\n",
      "\n"
     ]
    }
   ],
   "source": [
    "help(upper_value)"
   ]
  },
  {
   "cell_type": "code",
   "execution_count": 38,
   "metadata": {
    "collapsed": true
   },
   "outputs": [],
   "source": [
    "def lower_value(b,c):\n",
    "    \"\"\"Input is quantile dataframe and name of numerical column and Retrun lower value from the column\"\"\"\n",
    "    q1 = b.select(c).collect()[0][0] #select value of q1 from the column\n",
    "    q2 = b.select(c).collect()[1][0] #select value of q2 from the column\n",
    "    q3 = b.select(c).collect()[2][0] #select value of q3 from the column\n",
    "    IQR=q3-q1                   #calculate the value of IQR\n",
    "    lower= q1 - (IQR*1.5)       #calculate the value of lower side\n",
    "    return lower"
   ]
  },
  {
   "cell_type": "code",
   "execution_count": 39,
   "metadata": {},
   "outputs": [
    {
     "name": "stdout",
     "output_type": "stream",
     "text": [
      "Help on function lower_value in module __main__:\n",
      "\n",
      "lower_value(b, c)\n",
      "    Input is quantile dataframe and name of numerical column and Retrun lower value from the column\n",
      "\n"
     ]
    }
   ],
   "source": [
    "help(lower_value)"
   ]
  },
  {
   "cell_type": "markdown",
   "metadata": {},
   "source": [
    "#### Replacing outlier"
   ]
  },
  {
   "cell_type": "code",
   "execution_count": 40,
   "metadata": {
    "collapsed": true
   },
   "outputs": [],
   "source": [
    "def replce_outlier_up2(d,col, value):\n",
    "    \"\"\"Input is name of numerical column and it's upper side value\"\"\"\n",
    "    d=d.withColumn(col, F.when(d[col] > value , value).otherwise(d[col]))\n",
    "    return d"
   ]
  },
  {
   "cell_type": "code",
   "execution_count": 41,
   "metadata": {
    "collapsed": true
   },
   "outputs": [],
   "source": [
    "def replce_outlier_low2(d,col, value):\n",
    "    \"\"\"Input is name of numerical column and it's lower side value\"\"\"\n",
    "    d=d.withColumn(col, F.when(d[col] < value , value).otherwise(d[col]))\n",
    "    return d"
   ]
  },
  {
   "cell_type": "code",
   "execution_count": 42,
   "metadata": {
    "collapsed": true
   },
   "outputs": [],
   "source": [
    "#call function to calculate lower side and replace value under lower side with value lower side\n",
    "for i in num_cols:\n",
    "    lower=lower_value(quantile,i)\n",
    "    df=replce_outlier_low2(df, i, lower)"
   ]
  },
  {
   "cell_type": "code",
   "execution_count": 43,
   "metadata": {
    "collapsed": true
   },
   "outputs": [],
   "source": [
    "#call function to calculate upper side and replace value above upper side with value upper side\n",
    "for x in num_cols:\n",
    "    upper=upper_value(quantile,x)\n",
    "    df=replce_outlier_up2(df, x, upper)"
   ]
  },
  {
   "cell_type": "code",
   "execution_count": 44,
   "metadata": {},
   "outputs": [
    {
     "data": {
      "text/plain": [
       "pyspark.sql.dataframe.DataFrame"
      ]
     },
     "execution_count": 44,
     "metadata": {},
     "output_type": "execute_result"
    }
   ],
   "source": [
    "type(df)"
   ]
  },
  {
   "cell_type": "markdown",
   "metadata": {},
   "source": [
    "#### Check distribution after replacing outlier"
   ]
  },
  {
   "cell_type": "code",
   "execution_count": 45,
   "metadata": {},
   "outputs": [
    {
     "name": "stdout",
     "output_type": "stream",
     "text": [
      "+-------+-----------------+-----------------+------------------+\n",
      "|summary|              Age|        AnnIncome|        SpendScore|\n",
      "+-------+-----------------+-----------------+------------------+\n",
      "|  count|              200|              200|               200|\n",
      "|   mean|            38.85|           60.695|            50.425|\n",
      "| stddev|13.96900733155888|25.92338877205554|25.242629154530746|\n",
      "|    min|             18.0|             15.0|               1.0|\n",
      "|    max|             70.0|            132.0|              99.0|\n",
      "+-------+-----------------+-----------------+------------------+\n",
      "\n"
     ]
    }
   ],
   "source": [
    "df.select(num_cols).describe().show()"
   ]
  },
  {
   "cell_type": "code",
   "execution_count": 46,
   "metadata": {
    "collapsed": true
   },
   "outputs": [],
   "source": [
    "df_pd3=df.toPandas()"
   ]
  },
  {
   "cell_type": "code",
   "execution_count": 47,
   "metadata": {},
   "outputs": [
    {
     "data": {
      "image/png": "[encoded data removed]",
      "text/plain": [
       "<matplotlib.figure.Figure at 0x213e2a19470>"
      ]
     },
     "metadata": {},
     "output_type": "display_data"
    }
   ],
   "source": [
    "#Check outlier in numerical variable: 'AnnIncome'\n",
    "sns.boxplot(y=\"AnnIncome\",data=df_pd3)\n",
    "plt.show()"
   ]
  },
  {
   "cell_type": "markdown",
   "metadata": {},
   "source": [
    "### Feature Engineering\n",
    "Before splitting the data train, all categorical variables must be made numerical. There are several approaches to categorical variables in SparkML, including:\n",
    "1. StringIndexer, which is to encode the string label into the index label by sequencing the string frequency descending and giving the smallest index (0)\n",
    "at most string frequency.\n",
    "2. One-hot Encoding, which is mapping the label column (string label) on the binary column.\n",
    "3. Vector assembler, which is mapping all columns in vector."
   ]
  },
  {
   "cell_type": "markdown",
   "metadata": {},
   "source": [
    "### Scenario I\n",
    "In this scenario, we will include OneHotEncoder process."
   ]
  },
  {
   "cell_type": "code",
   "execution_count": 48,
   "metadata": {},
   "outputs": [
    {
     "name": "stdout",
     "output_type": "stream",
     "text": [
      "root\n",
      " |-- Id: integer (nullable = true)\n",
      " |-- Genre: string (nullable = false)\n",
      " |-- Age: double (nullable = true)\n",
      " |-- AnnIncome: double (nullable = true)\n",
      " |-- SpendScore: double (nullable = true)\n",
      "\n"
     ]
    }
   ],
   "source": [
    "df.printSchema()"
   ]
  },
  {
   "cell_type": "code",
   "execution_count": 49,
   "metadata": {},
   "outputs": [
    {
     "data": {
      "text/plain": [
       "['Genre_vec']"
      ]
     },
     "execution_count": 49,
     "metadata": {},
     "output_type": "execute_result"
    }
   ],
   "source": [
    "# define columns name for string indexer and one hot encoder processing\n",
    "cat_columns_string_vec = []\n",
    "for c in cat_cols:\n",
    "    cat_columns_string= c+\"_vec\"\n",
    "    cat_columns_string_vec.append(cat_columns_string)\n",
    "\n",
    "cat_columns_string_vec"
   ]
  },
  {
   "cell_type": "code",
   "execution_count": 50,
   "metadata": {
    "collapsed": true
   },
   "outputs": [],
   "source": [
    "#create index for categorical variables with stringIndexer   \n",
    "stringIndexer = [StringIndexer(inputCol=x, outputCol=x+\"_Index\")\n",
    "                  for x in cat_cols]\n",
    "#use oneHotEncoder to convert categorical variable to binary\n",
    "encoder = [OneHotEncoder(inputCol=x+\"_Index\", outputCol=y)\n",
    "           for x,y in zip(cat_cols, cat_columns_string_vec)]\n",
    "tmp = [[i,j] for i,j in zip(stringIndexer, encoder)]\n",
    "tmp = [i for sublist in tmp for i in sublist]"
   ]
  },
  {
   "cell_type": "code",
   "execution_count": 51,
   "metadata": {},
   "outputs": [
    {
     "data": {
      "text/plain": [
       "['Age', 'AnnIncome', 'SpendScore', 'Genre_vec']"
      ]
     },
     "execution_count": 51,
     "metadata": {},
     "output_type": "execute_result"
    }
   ],
   "source": [
    "#define columns for vector assembler processing\n",
    "cols_assember=num_cols + cat_columns_string_vec\n",
    "cols_assember"
   ]
  },
  {
   "cell_type": "code",
   "execution_count": 52,
   "metadata": {
    "collapsed": true
   },
   "outputs": [],
   "source": [
    "#create vector assembler from cols_assember\n",
    "assembler=VectorAssembler(inputCols=cols_assember, outputCol='features')\n",
    "tmp += [assembler]\n",
    "\n",
    "#create pipeline for stringIndexer, oneHotEncoder and vectorassembler\n",
    "pipeline=Pipeline(stages=tmp)"
   ]
  },
  {
   "cell_type": "code",
   "execution_count": 53,
   "metadata": {
    "collapsed": true
   },
   "outputs": [],
   "source": [
    "#fit and transform pipeline to dataframe\n",
    "df_final = pipeline.fit(df).transform(df)"
   ]
  },
  {
   "cell_type": "code",
   "execution_count": 54,
   "metadata": {},
   "outputs": [
    {
     "name": "stdout",
     "output_type": "stream",
     "text": [
      "+---+------+----+---------+----------+-----------+-------------+--------------------+\n",
      "| Id| Genre| Age|AnnIncome|SpendScore|Genre_Index|    Genre_vec|            features|\n",
      "+---+------+----+---------+----------+-----------+-------------+--------------------+\n",
      "|  1|  Male|19.0|     15.0|      39.0|        1.0|    (1,[],[])|[19.0,15.0,39.0,0.0]|\n",
      "|  2|  Male|21.0|     15.0|      81.0|        1.0|    (1,[],[])|[21.0,15.0,81.0,0.0]|\n",
      "|  3|Female|20.0|     16.0|       6.0|        0.0|(1,[0],[1.0])| [20.0,16.0,6.0,1.0]|\n",
      "|  4|Female|23.0|     16.0|      77.0|        0.0|(1,[0],[1.0])|[23.0,16.0,77.0,1.0]|\n",
      "+---+------+----+---------+----------+-----------+-------------+--------------------+\n",
      "only showing top 4 rows\n",
      "\n"
     ]
    }
   ],
   "source": [
    "df_final.show(4)"
   ]
  },
  {
   "cell_type": "code",
   "execution_count": 55,
   "metadata": {
    "collapsed": true
   },
   "outputs": [],
   "source": [
    "#create model scaler for normalization\n",
    "scaler = StandardScaler(inputCol=\"features\", outputCol=\"scaledFeatures\", withStd=True, withMean=False)"
   ]
  },
  {
   "cell_type": "code",
   "execution_count": 56,
   "metadata": {
    "collapsed": true
   },
   "outputs": [],
   "source": [
    "#Compute ScalerModel by fitting the StandardScaler\n",
    "scalerModel = scaler.fit(df_final)"
   ]
  },
  {
   "cell_type": "code",
   "execution_count": 57,
   "metadata": {},
   "outputs": [
    {
     "name": "stdout",
     "output_type": "stream",
     "text": [
      "+---+--------------------+\n",
      "| Id|      scaledFeatures|\n",
      "+---+--------------------+\n",
      "|  1|[1.36015391423519...|\n",
      "|  2|[1.50332801047048...|\n",
      "|  3|[1.43174096235284...|\n",
      "|  4|[1.64650210670576...|\n",
      "|  5|[2.21919849164690...|\n",
      "|  6|[1.57491505858812...|\n",
      "|  7|[2.50554668411747...|\n",
      "|  8|[1.64650210670576...|\n",
      "|  9|[4.58157107952909...|\n",
      "| 10|[2.14761144352926...|\n",
      "| 11|[4.79633222388201...|\n",
      "| 12|[2.50554668411747...|\n",
      "| 13|[4.15204879082323...|\n",
      "| 14|[1.71808915482340...|\n",
      "| 15|[2.64872078035275...|\n",
      "| 16|[1.57491505858812...|\n",
      "| 17|[2.50554668411747...|\n",
      "| 18|[1.43174096235284...|\n",
      "| 19|[3.72252650211738...|\n",
      "| 20|[2.50554668411747...|\n",
      "+---+--------------------+\n",
      "only showing top 20 rows\n",
      "\n"
     ]
    }
   ],
   "source": [
    "# Normalize each features to have unit standard deviation.\n",
    "cluster_final_data = scalerModel.transform(df_final).select('Id', 'scaledFeatures')\n",
    "cluster_final_data.show()"
   ]
  },
  {
   "cell_type": "markdown",
   "metadata": {
    "collapsed": true
   },
   "source": [
    "### Modelling"
   ]
  },
  {
   "cell_type": "markdown",
   "metadata": {},
   "source": [
    "#### Optimize choice of k\n",
    "\n",
    "One disadvantage of KMeans is that the algortihm must told how many cluster - k- that should try to find. To optimize of k, we group fraction of the data for different k and look for an \"elbow\" in the cost function. Then, we plot the \"elbow\"."
   ]
  },
  {
   "cell_type": "code",
   "execution_count": 58,
   "metadata": {
    "collapsed": true
   },
   "outputs": [],
   "source": [
    "#Compute cost function\n",
    "cost= np.zeros(20)\n",
    "for k in range(2,20):\n",
    "    kmeans = KMeans().setK(k).setSeed(1).setFeaturesCol(\"features\")\n",
    "    model = kmeans.fit(df_final)\n",
    "    cost[k] = model.computeCost(df_final)"
   ]
  },
  {
   "cell_type": "code",
   "execution_count": 59,
   "metadata": {},
   "outputs": [
    {
     "data": {
      "text/plain": [
       "array([     0.        ,      0.        , 212997.35306683, 135230.01850733,\n",
       "       107896.00688001,  82608.92254902,  61323.32824106,  54706.52792821,\n",
       "        51858.03199308,  45965.74972184,  44119.10468688,  40986.58542569,\n",
       "        35005.7673436 ,  35306.50335871,  32992.1849239 ,  29041.46954261,\n",
       "        29459.26143977,  26208.59857657,  25995.18187229,  25176.12701394])"
      ]
     },
     "execution_count": 59,
     "metadata": {},
     "output_type": "execute_result"
    }
   ],
   "source": [
    "cost"
   ]
  },
  {
   "cell_type": "code",
   "execution_count": 60,
   "metadata": {},
   "outputs": [
    {
     "data": {
      "image/png": "[encoded data removed]",
      "text/plain": [
       "<matplotlib.figure.Figure at 0x213e26a3390>"
      ]
     },
     "metadata": {},
     "output_type": "display_data"
    }
   ],
   "source": [
    "#Plot the cost\n",
    "fig, ax = plt.subplots(1,1, figsize=(10,7))\n",
    "ax.plot(range(2,20), cost[2:20])\n",
    "ax.set_xlabel('k')\n",
    "ax.set_ylabel('cost')\n",
    "plt.show()"
   ]
  },
  {
   "cell_type": "markdown",
   "metadata": {},
   "source": [
    "From pictures above, we can see that there is litte gain after k=5, so we stick at are values."
   ]
  },
  {
   "cell_type": "code",
   "execution_count": 61,
   "metadata": {},
   "outputs": [
    {
     "name": "stdout",
     "output_type": "stream",
     "text": [
      "Cluster Centers: \n",
      "[54.16666667 42.44444444 39.66666667  0.55555556]\n",
      "[25.58333333 25.79166667 72.125       0.58333333]\n",
      "[32.45  85.775 82.425  0.55 ]\n",
      "[31.60416667 58.3125     48.85416667  0.64583333]\n",
      "[41.64705882 88.17647059 16.76470588  0.44117647]\n"
     ]
    }
   ],
   "source": [
    "#Create model KMeans with K=5\n",
    "#kmeans2 = KMeans(featuresCol='scaledFeatures',k=2).setSeed(1)\n",
    "\n",
    "k = 5\n",
    "kmeans = KMeans().setK(k).setSeed(1).setFeaturesCol(\"features\")\n",
    "model = kmeans.fit(df_final)\n",
    "centers = model.clusterCenters()\n",
    "\n",
    "print(\"Cluster Centers: \")\n",
    "for center in centers:\n",
    "    print(center)"
   ]
  },
  {
   "cell_type": "code",
   "execution_count": 62,
   "metadata": {
    "collapsed": true
   },
   "outputs": [],
   "source": [
    "#transfrom model to dataset\n",
    "test=model.transform(df_final)"
   ]
  },
  {
   "cell_type": "code",
   "execution_count": 63,
   "metadata": {},
   "outputs": [
    {
     "data": {
      "text/plain": [
       "pyspark.sql.dataframe.DataFrame"
      ]
     },
     "execution_count": 63,
     "metadata": {},
     "output_type": "execute_result"
    }
   ],
   "source": [
    "type(test)"
   ]
  },
  {
   "cell_type": "code",
   "execution_count": 64,
   "metadata": {},
   "outputs": [
    {
     "name": "stdout",
     "output_type": "stream",
     "text": [
      "+---+------+----+---------+----------+-----------+-------------+--------------------+----------+\n",
      "| Id| Genre| Age|AnnIncome|SpendScore|Genre_Index|    Genre_vec|            features|prediction|\n",
      "+---+------+----+---------+----------+-----------+-------------+--------------------+----------+\n",
      "|  1|  Male|19.0|     15.0|      39.0|        1.0|    (1,[],[])|[19.0,15.0,39.0,0.0]|         1|\n",
      "|  2|  Male|21.0|     15.0|      81.0|        1.0|    (1,[],[])|[21.0,15.0,81.0,0.0]|         1|\n",
      "|  3|Female|20.0|     16.0|       6.0|        0.0|(1,[0],[1.0])| [20.0,16.0,6.0,1.0]|         0|\n",
      "|  4|Female|23.0|     16.0|      77.0|        0.0|(1,[0],[1.0])|[23.0,16.0,77.0,1.0]|         1|\n",
      "+---+------+----+---------+----------+-----------+-------------+--------------------+----------+\n",
      "only showing top 4 rows\n",
      "\n"
     ]
    }
   ],
   "source": [
    "test.show(4)"
   ]
  },
  {
   "cell_type": "code",
   "execution_count": 66,
   "metadata": {},
   "outputs": [
    {
     "data": {
      "text/plain": [
       "['Age', 'AnnIncome', 'SpendScore']"
      ]
     },
     "execution_count": 66,
     "metadata": {},
     "output_type": "execute_result"
    }
   ],
   "source": [
    "num_cols"
   ]
  },
  {
   "cell_type": "code",
   "execution_count": 80,
   "metadata": {},
   "outputs": [],
   "source": [
    "#Assign cluster to the event in data\n",
    "prediction= model.transform(df_final).select(*num_cols,*cat_cols, 'prediction').collect()\n",
    "\n",
    "#create dataframe \n",
    "prediction=spark.createDataFrame(prediction)"
   ]
  },
  {
   "cell_type": "code",
   "execution_count": 81,
   "metadata": {},
   "outputs": [
    {
     "name": "stdout",
     "output_type": "stream",
     "text": [
      "+----+---------+----------+------+----------+\n",
      "| Age|AnnIncome|SpendScore| Genre|prediction|\n",
      "+----+---------+----------+------+----------+\n",
      "|19.0|     15.0|      39.0|  Male|         1|\n",
      "|21.0|     15.0|      81.0|  Male|         1|\n",
      "|20.0|     16.0|       6.0|Female|         0|\n",
      "|23.0|     16.0|      77.0|Female|         1|\n",
      "|31.0|     17.0|      40.0|Female|         1|\n",
      "|22.0|     17.0|      76.0|Female|         1|\n",
      "|35.0|     18.0|       6.0|Female|         0|\n",
      "|23.0|     61.0|      94.0|Female|         2|\n",
      "|64.0|     19.0|      50.0|  Male|         0|\n",
      "|30.0|     19.0|      72.0|Female|         1|\n",
      "|67.0|     19.0|      14.0|  Male|         0|\n",
      "|35.0|     19.0|      99.0|Female|         1|\n",
      "|58.0|     20.0|      50.0|Female|         0|\n",
      "|24.0|     20.0|      77.0|Female|         1|\n",
      "|37.0|     20.0|      13.0|  Male|         0|\n",
      "|22.0|     20.0|      50.0|  Male|         1|\n",
      "|35.0|     21.0|      35.0|Female|         0|\n",
      "|20.0|     21.0|      66.0|  Male|         1|\n",
      "|52.0|     23.0|      29.0|  Male|         0|\n",
      "|35.0|     23.0|      98.0|Female|         1|\n",
      "+----+---------+----------+------+----------+\n",
      "only showing top 20 rows\n",
      "\n"
     ]
    }
   ],
   "source": [
    "prediction.show()"
   ]
  },
  {
   "cell_type": "code",
   "execution_count": 82,
   "metadata": {},
   "outputs": [
    {
     "name": "stdout",
     "output_type": "stream",
     "text": [
      "+----------+-----+\n",
      "|prediction|count|\n",
      "+----------+-----+\n",
      "|         0|   54|\n",
      "|         1|   24|\n",
      "|         2|   40|\n",
      "|         3|   48|\n",
      "|         4|   34|\n",
      "+----------+-----+\n",
      "\n"
     ]
    }
   ],
   "source": [
    "#grouping by our prediction of cluster\n",
    "prediction.groupBy('prediction').count().sort(col('prediction')).show()"
   ]
  },
  {
   "cell_type": "markdown",
   "metadata": {},
   "source": [
    "### Scenario 2\n",
    "\n",
    "We will exclude OneHotEncoder processing for categorical variable. We just select numerical variables as predictor"
   ]
  },
  {
   "cell_type": "code",
   "execution_count": 84,
   "metadata": {},
   "outputs": [
    {
     "name": "stdout",
     "output_type": "stream",
     "text": [
      "+---+----+---------+----------+\n",
      "| Id| Age|AnnIncome|SpendScore|\n",
      "+---+----+---------+----------+\n",
      "|  1|19.0|     15.0|      39.0|\n",
      "|  2|21.0|     15.0|      81.0|\n",
      "|  3|20.0|     16.0|       6.0|\n",
      "|  4|23.0|     16.0|      77.0|\n",
      "+---+----+---------+----------+\n",
      "only showing top 4 rows\n",
      "\n"
     ]
    }
   ],
   "source": [
    "df_final2=df.drop(*cat_cols)\n",
    "df_final2.show(4)"
   ]
  },
  {
   "cell_type": "code",
   "execution_count": 85,
   "metadata": {
    "collapsed": true
   },
   "outputs": [],
   "source": [
    "#define columns for vector assembler processing\n",
    "cols_assember=num_cols"
   ]
  },
  {
   "cell_type": "code",
   "execution_count": 86,
   "metadata": {
    "collapsed": true
   },
   "outputs": [],
   "source": [
    "#create vector assembler from cols_assember\n",
    "assembler=VectorAssembler(inputCols=cols_assember, outputCol='features')"
   ]
  },
  {
   "cell_type": "code",
   "execution_count": 87,
   "metadata": {
    "collapsed": true
   },
   "outputs": [],
   "source": [
    "#transform vector assembler to dataset\n",
    "final_data2 = assembler.transform(df_final2)"
   ]
  },
  {
   "cell_type": "code",
   "execution_count": 88,
   "metadata": {},
   "outputs": [
    {
     "name": "stdout",
     "output_type": "stream",
     "text": [
      "+---+----+---------+----------+----------------+\n",
      "| Id| Age|AnnIncome|SpendScore|        features|\n",
      "+---+----+---------+----------+----------------+\n",
      "|  1|19.0|     15.0|      39.0|[19.0,15.0,39.0]|\n",
      "|  2|21.0|     15.0|      81.0|[21.0,15.0,81.0]|\n",
      "|  3|20.0|     16.0|       6.0| [20.0,16.0,6.0]|\n",
      "|  4|23.0|     16.0|      77.0|[23.0,16.0,77.0]|\n",
      "+---+----+---------+----------+----------------+\n",
      "only showing top 4 rows\n",
      "\n"
     ]
    }
   ],
   "source": [
    "final_data2.show(4)"
   ]
  },
  {
   "cell_type": "code",
   "execution_count": 89,
   "metadata": {
    "collapsed": true
   },
   "outputs": [],
   "source": [
    "#create model scaler for normalization\n",
    "scaler = StandardScaler(inputCol=\"features\", outputCol=\"scaledFeatures\", withStd=True, withMean=False)"
   ]
  },
  {
   "cell_type": "code",
   "execution_count": 90,
   "metadata": {
    "collapsed": true
   },
   "outputs": [],
   "source": [
    "# Compute ScalerModel by fitting the StandardScaler\n",
    "scalerModel = scaler.fit(final_data2)"
   ]
  },
  {
   "cell_type": "code",
   "execution_count": 91,
   "metadata": {},
   "outputs": [
    {
     "name": "stdout",
     "output_type": "stream",
     "text": [
      "+---+--------------------+\n",
      "| Id|      scaledFeatures|\n",
      "+---+--------------------+\n",
      "|  1|[1.36015391423519...|\n",
      "|  2|[1.50332801047048...|\n",
      "|  3|[1.43174096235284...|\n",
      "|  4|[1.64650210670576...|\n",
      "|  5|[2.21919849164690...|\n",
      "|  6|[1.57491505858812...|\n",
      "+---+--------------------+\n",
      "only showing top 6 rows\n",
      "\n"
     ]
    }
   ],
   "source": [
    "# Normalize each feature to have unit standard deviation.\n",
    "cluster_final_data2 = scalerModel.transform(final_data2).select('Id', 'scaledFeatures')\n",
    "cluster_final_data2.show(6)"
   ]
  },
  {
   "cell_type": "markdown",
   "metadata": {},
   "source": [
    "#### Optimize choice of k"
   ]
  },
  {
   "cell_type": "code",
   "execution_count": 92,
   "metadata": {
    "collapsed": true
   },
   "outputs": [],
   "source": [
    "#Compute cost function\n",
    "cost2= np.zeros(20)\n",
    "for k in range(2,20):\n",
    "    kmeans = KMeans().setK(k).setSeed(1).setFeaturesCol(\"features\")\n",
    "    model2 = kmeans.fit(final_data2)\n",
    "    cost2[k] = model2.computeCost(final_data2)"
   ]
  },
  {
   "cell_type": "code",
   "execution_count": 93,
   "metadata": {},
   "outputs": [
    {
     "data": {
      "image/png": "[encoded data removed]",
      "text/plain": [
       "<matplotlib.figure.Figure at 0x213e28119e8>"
      ]
     },
     "metadata": {},
     "output_type": "display_data"
    }
   ],
   "source": [
    "fig, ax = plt.subplots(1,1, figsize=(10,7))\n",
    "ax.plot(range(2,20), cost2[2:20])\n",
    "ax.set_xlabel('k')\n",
    "ax.set_ylabel('cost')\n",
    "plt.show()"
   ]
  },
  {
   "cell_type": "markdown",
   "metadata": {},
   "source": [
    "From picture above, we can see that there is litte gain after k=5, so we can stick at that value."
   ]
  },
  {
   "cell_type": "code",
   "execution_count": 94,
   "metadata": {},
   "outputs": [
    {
     "name": "stdout",
     "output_type": "stream",
     "text": [
      "Cluster Centers: \n",
      "[54.16666667 42.44444444 39.66666667]\n",
      "[25.58333333 25.79166667 72.125     ]\n",
      "[32.45  85.775 82.425]\n",
      "[31.60416667 58.3125     48.85416667]\n",
      "[41.64705882 88.17647059 16.76470588]\n"
     ]
    }
   ],
   "source": [
    "#Create model KMeans\n",
    "k = 5\n",
    "kmeans2 = KMeans().setK(k).setSeed(1).setFeaturesCol(\"features\")\n",
    "model_k5 = kmeans2.fit(final_data2)\n",
    "centers2 = model_k5.clusterCenters()\n",
    "\n",
    "print(\"Cluster Centers: \")\n",
    "for center in centers2:\n",
    "    print(center)"
   ]
  },
  {
   "cell_type": "code",
   "execution_count": 105,
   "metadata": {
    "collapsed": true
   },
   "outputs": [],
   "source": [
    "#Assign cluster to the event in data\n",
    "prediction2= model_k5.transform(final_data2).select(*num_id,*num_cols, 'prediction').collect()\n",
    "\n",
    "#create dataframe \n",
    "prediction2=spark.createDataFrame(prediction2)"
   ]
  },
  {
   "cell_type": "code",
   "execution_count": 106,
   "metadata": {},
   "outputs": [
    {
     "name": "stdout",
     "output_type": "stream",
     "text": [
      "+---+----+---------+----------+----------+\n",
      "| Id| Age|AnnIncome|SpendScore|prediction|\n",
      "+---+----+---------+----------+----------+\n",
      "|  1|19.0|     15.0|      39.0|         1|\n",
      "|  2|21.0|     15.0|      81.0|         1|\n",
      "|  3|20.0|     16.0|       6.0|         0|\n",
      "|  4|23.0|     16.0|      77.0|         1|\n",
      "|  5|31.0|     17.0|      40.0|         1|\n",
      "|  6|22.0|     17.0|      76.0|         1|\n",
      "|  7|35.0|     18.0|       6.0|         0|\n",
      "|  8|23.0|     61.0|      94.0|         2|\n",
      "|  9|64.0|     19.0|      50.0|         0|\n",
      "| 10|30.0|     19.0|      72.0|         1|\n",
      "| 11|67.0|     19.0|      14.0|         0|\n",
      "| 12|35.0|     19.0|      99.0|         1|\n",
      "| 13|58.0|     20.0|      50.0|         0|\n",
      "| 14|24.0|     20.0|      77.0|         1|\n",
      "| 15|37.0|     20.0|      13.0|         0|\n",
      "| 16|22.0|     20.0|      50.0|         1|\n",
      "| 17|35.0|     21.0|      35.0|         0|\n",
      "| 18|20.0|     21.0|      66.0|         1|\n",
      "| 19|52.0|     23.0|      29.0|         0|\n",
      "| 20|35.0|     23.0|      98.0|         1|\n",
      "+---+----+---------+----------+----------+\n",
      "only showing top 20 rows\n",
      "\n"
     ]
    }
   ],
   "source": [
    "#show dataframe\n",
    "prediction2.show()"
   ]
  },
  {
   "cell_type": "code",
   "execution_count": 107,
   "metadata": {},
   "outputs": [
    {
     "name": "stdout",
     "output_type": "stream",
     "text": [
      "+----------+-----+\n",
      "|prediction|count|\n",
      "+----------+-----+\n",
      "|         0|   54|\n",
      "|         1|   24|\n",
      "|         3|   48|\n",
      "|         2|   40|\n",
      "|         4|   34|\n",
      "+----------+-----+\n",
      "\n"
     ]
    }
   ],
   "source": [
    "#grouping by cluster prediction\n",
    "prediction2.groupBy('prediction').count().show()"
   ]
  },
  {
   "cell_type": "markdown",
   "metadata": {},
   "source": [
    "Join prediction with original data"
   ]
  },
  {
   "cell_type": "code",
   "execution_count": 108,
   "metadata": {},
   "outputs": [
    {
     "name": "stdout",
     "output_type": "stream",
     "text": [
      "+---+----+---------+----------+----------+------+----+---------+----------+\n",
      "| Id| Age|AnnIncome|SpendScore|prediction| Genre| Age|AnnIncome|SpendScore|\n",
      "+---+----+---------+----------+----------+------+----+---------+----------+\n",
      "|  1|19.0|     15.0|      39.0|         1|  Male|19.0|     15.0|      39.0|\n",
      "|  2|21.0|     15.0|      81.0|         1|  Male|21.0|     15.0|      81.0|\n",
      "|  3|20.0|     16.0|       6.0|         0|Female|20.0|     16.0|       6.0|\n",
      "|  4|23.0|     16.0|      77.0|         1|Female|23.0|     16.0|      77.0|\n",
      "|  5|31.0|     17.0|      40.0|         1|Female|31.0|     17.0|      40.0|\n",
      "|  6|22.0|     17.0|      76.0|         1|Female|22.0|     17.0|      76.0|\n",
      "+---+----+---------+----------+----------+------+----+---------+----------+\n",
      "only showing top 6 rows\n",
      "\n"
     ]
    }
   ],
   "source": [
    "#Join \n",
    "prediction3=prediction2.join(df, 'Id')\n",
    "prediction3.show(6)"
   ]
  },
  {
   "cell_type": "code",
   "execution_count": 109,
   "metadata": {},
   "outputs": [
    {
     "name": "stdout",
     "output_type": "stream",
     "text": [
      "+----------+------------------+\n",
      "|prediction|          avg(Age)|\n",
      "+----------+------------------+\n",
      "|         0|54.166666666666664|\n",
      "|         1|25.583333333333332|\n",
      "|         3|31.604166666666668|\n",
      "|         2|             32.45|\n",
      "|         4| 41.64705882352941|\n",
      "+----------+------------------+\n",
      "\n"
     ]
    }
   ],
   "source": [
    "#grouping by cluster prediction and check average of age\n",
    "prediction2.groupBy('prediction').agg({'Age':'mean'}).show()"
   ]
  },
  {
   "cell_type": "code",
   "execution_count": 110,
   "metadata": {},
   "outputs": [
    {
     "name": "stdout",
     "output_type": "stream",
     "text": [
      "+----------+------------------+------------------+------------------+------------------+---------------+\n",
      "|prediction|           avg(Id)|          avg(Age)|    avg(AnnIncome)|   avg(SpendScore)|avg(prediction)|\n",
      "+----------+------------------+------------------+------------------+------------------+---------------+\n",
      "|         0|  57.2962962962963|54.166666666666664| 42.44444444444444|39.666666666666664|            0.0|\n",
      "|         1|22.916666666666668|25.583333333333332|25.791666666666668|            72.125|            1.0|\n",
      "|         3| 93.79166666666667|31.604166666666668|           58.3125|48.854166666666664|            3.0|\n",
      "|         2|            158.15|             32.45|            85.775|            82.425|            2.0|\n",
      "|         4|165.52941176470588| 41.64705882352941| 88.17647058823529|16.764705882352942|            4.0|\n",
      "+----------+------------------+------------------+------------------+------------------+---------------+\n",
      "\n"
     ]
    }
   ],
   "source": [
    "#grouping by cluster prediction and check average of all numerical variable\n",
    "prediction2.groupBy('prediction').avg().show()"
   ]
  },
  {
   "cell_type": "markdown",
   "metadata": {},
   "source": [
    "#### Visualize the result\n",
    "\n",
    "To create the visualization, convert the result dataframe spark to pandas dataframe. We will create 3D visualization from Age, AnnIncome and SpendScore as predictor."
   ]
  },
  {
   "cell_type": "code",
   "execution_count": 111,
   "metadata": {
    "collapsed": true
   },
   "outputs": [],
   "source": [
    "#convert prediction to Pandas\n",
    "pred_pd=prediction2.toPandas().set_index('Id')"
   ]
  },
  {
   "cell_type": "code",
   "execution_count": 112,
   "metadata": {},
   "outputs": [
    {
     "data": {
      "text/html": [
       "<div>\n",
       "<style>\n",
       "    .dataframe thead tr:only-child th {\n",
       "        text-align: right;\n",
       "    }\n",
       "\n",
       "    .dataframe thead th {\n",
       "        text-align: left;\n",
       "    }\n",
       "\n",
       "    .dataframe tbody tr th {\n",
       "        vertical-align: top;\n",
       "    }\n",
       "</style>\n",
       "<table border=\"1\" class=\"dataframe\">\n",
       "  <thead>\n",
       "    <tr style=\"text-align: right;\">\n",
       "      <th></th>\n",
       "      <th>Age</th>\n",
       "      <th>AnnIncome</th>\n",
       "      <th>SpendScore</th>\n",
       "      <th>prediction</th>\n",
       "    </tr>\n",
       "    <tr>\n",
       "      <th>Id</th>\n",
       "      <th></th>\n",
       "      <th></th>\n",
       "      <th></th>\n",
       "      <th></th>\n",
       "    </tr>\n",
       "  </thead>\n",
       "  <tbody>\n",
       "    <tr>\n",
       "      <th>1</th>\n",
       "      <td>19.0</td>\n",
       "      <td>15.0</td>\n",
       "      <td>39.0</td>\n",
       "      <td>1</td>\n",
       "    </tr>\n",
       "    <tr>\n",
       "      <th>2</th>\n",
       "      <td>21.0</td>\n",
       "      <td>15.0</td>\n",
       "      <td>81.0</td>\n",
       "      <td>1</td>\n",
       "    </tr>\n",
       "    <tr>\n",
       "      <th>3</th>\n",
       "      <td>20.0</td>\n",
       "      <td>16.0</td>\n",
       "      <td>6.0</td>\n",
       "      <td>0</td>\n",
       "    </tr>\n",
       "    <tr>\n",
       "      <th>4</th>\n",
       "      <td>23.0</td>\n",
       "      <td>16.0</td>\n",
       "      <td>77.0</td>\n",
       "      <td>1</td>\n",
       "    </tr>\n",
       "    <tr>\n",
       "      <th>5</th>\n",
       "      <td>31.0</td>\n",
       "      <td>17.0</td>\n",
       "      <td>40.0</td>\n",
       "      <td>1</td>\n",
       "    </tr>\n",
       "  </tbody>\n",
       "</table>\n",
       "</div>"
      ],
      "text/plain": [
       "     Age  AnnIncome  SpendScore  prediction\n",
       "Id                                         \n",
       "1   19.0       15.0        39.0           1\n",
       "2   21.0       15.0        81.0           1\n",
       "3   20.0       16.0         6.0           0\n",
       "4   23.0       16.0        77.0           1\n",
       "5   31.0       17.0        40.0           1"
      ]
     },
     "execution_count": 112,
     "metadata": {},
     "output_type": "execute_result"
    }
   ],
   "source": [
    "#show pandas dataframe\n",
    "pred_pd.head(5)"
   ]
  },
  {
   "cell_type": "code",
   "execution_count": 113,
   "metadata": {
    "collapsed": true
   },
   "outputs": [],
   "source": [
    "from mpl_toolkits.mplot3d import Axes3D"
   ]
  },
  {
   "cell_type": "code",
   "execution_count": 115,
   "metadata": {},
   "outputs": [
    {
     "data": {
      "image/png": "[encoded data removed]",
      "text/plain": [
       "<matplotlib.figure.Figure at 0x213e2a07240>"
      ]
     },
     "metadata": {},
     "output_type": "display_data"
    }
   ],
   "source": [
    "#Create 3d visualization\n",
    "threedee = plt.figure(figsize=(12,10)).gca(projection='3d')\n",
    "threedee.scatter(pred_pd.Age, pred_pd.AnnIncome, pred_pd.SpendScore, c=pred_pd.prediction, cmap=\"seismic\")\n",
    "threedee.set_title('Customer Mall CLustering')\n",
    "threedee.set_xlabel('Age')\n",
    "threedee.set_ylabel('AnnIncome')\n",
    "threedee.set_zlabel('SpendScore')\n",
    "plt.show()"
   ]
  },
  {
   "cell_type": "code",
   "execution_count": null,
   "metadata": {
    "collapsed": true
   },
   "outputs": [],
   "source": []
  }
 ],
 "metadata": {
  "kernelspec": {
   "display_name": "Python 3",
   "language": "python",
   "name": "python3"
  },
  "language_info": {
   "codemirror_mode": {
    "name": "ipython",
    "version": 3
   },
   "file_extension": ".py",
   "mimetype": "text/x-python",
   "name": "python",
   "nbconvert_exporter": "python",
   "pygments_lexer": "ipython3",
   "version": "3.6.1"
  }
 },
 "nbformat": 4,
 "nbformat_minor": 2
}
