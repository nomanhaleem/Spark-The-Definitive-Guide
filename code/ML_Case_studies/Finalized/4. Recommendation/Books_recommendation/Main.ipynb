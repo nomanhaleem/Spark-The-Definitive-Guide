{
 "cells": [
  {
   "cell_type": "markdown",
   "metadata": {},
   "source": [
    "Source: https://github.com/Reinalynn/Building-a-Book-Recommendation-System-using-Python/blob/master/Code/Collab%20filtering%20using%20PySpark%20(user-based%20recommendations).ipynb"
   ]
  },
  {
   "cell_type": "markdown",
   "metadata": {},
   "source": [
    "### 1. Import libraries"
   ]
  },
  {
   "cell_type": "code",
   "execution_count": 1,
   "metadata": {},
   "outputs": [],
   "source": [
    "import os\n",
    "\n",
    "import numpy as np\n",
    "import pandas as pd\n",
    "\n",
    "from pyspark.sql.functions import *\n",
    "from pyspark.sql.types import *\n",
    "\n",
    "from pyspark.ml.recommendation import ALS, ALSModel\n",
    "from pyspark.context import SparkContext\n",
    "from pyspark.sql.session import SparkSession\n",
    "\n",
    "from pyspark.mllib.evaluation import RegressionMetrics, RankingMetrics\n",
    "from pyspark.ml.evaluation import RegressionEvaluator\n",
    "from pyspark.ml.tuning import ParamGridBuilder, CrossValidator\n",
    "\n",
    "from pyspark import SparkFiles"
   ]
  },
  {
   "cell_type": "code",
   "execution_count": 2,
   "metadata": {},
   "outputs": [],
   "source": [
    "spark = SparkSession.builder.master(\"local\").getOrCreate()  "
   ]
  },
  {
   "cell_type": "markdown",
   "metadata": {},
   "source": [
    "### 2. Read datasets"
   ]
  },
  {
   "cell_type": "code",
   "execution_count": 4,
   "metadata": {},
   "outputs": [
    {
     "name": "stdout",
     "output_type": "stream",
     "text": [
      "+-------+-----------------+------------+-------+-----------+---------+----------------+--------------------+-------------------------+--------------------+--------------------+-------------+--------------+-------------+------------------+-----------------------+---------+---------+---------+---------+---------+--------------------+--------------------+\n",
      "|book_id|goodreads_book_id|best_book_id|work_id|books_count|     isbn|          isbn13|             authors|original_publication_year|      original_title|               title|language_code|average_rating|ratings_count|work_ratings_count|work_text_reviews_count|ratings_1|ratings_2|ratings_3|ratings_4|ratings_5|           image_url|     small_image_url|\n",
      "+-------+-----------------+------------+-------+-----------+---------+----------------+--------------------+-------------------------+--------------------+--------------------+-------------+--------------+-------------+------------------+-----------------------+---------+---------+---------+---------+---------+--------------------+--------------------+\n",
      "|      1|          2767052|     2767052|2792775|        272|439023483|9.78043902348E12|     Suzanne Collins|                   2008.0|    The Hunger Games|The Hunger Games ...|          eng|          4.34|      4780653|           4942365|                 155254|  66715.0|   127936|   560092|  1481305|  2706317|https://images.gr...|https://images.gr...|\n",
      "|      2|                3|           3|4640799|        491|439554934|9.78043955493E12|J.K. Rowling, Mar...|                   1997.0|Harry Potter and ...|Harry Potter and ...|          eng|          4.44|      4602479|           4800065|                  75867|  75504.0|   101676|   455024|  1156318|  3011543|https://images.gr...|https://images.gr...|\n",
      "|      3|            41865|       41865|3212258|        226|316015849|9.78031601584E12|     Stephenie Meyer|                   2005.0|            Twilight|Twilight (Twiligh...|        en-US|          3.57|      3866839|           3916824|                  95009| 456191.0|   436802|   793319|   875073|  1355439|https://images.gr...|https://images.gr...|\n",
      "|      4|             2657|        2657|3275794|        487| 61120081|9.78006112008E12|          Harper Lee|                   1960.0|To Kill a Mocking...|To Kill a Mocking...|          eng|          4.25|      3198671|           3340896|                  72586|  60427.0|   117415|   446835|  1001952|  1714267|https://images.gr...|https://images.gr...|\n",
      "|      5|             4671|        4671| 245494|       1356|743273567|9.78074327356E12| F. Scott Fitzgerald|                   1925.0|    The Great Gatsby|    The Great Gatsby|          eng|          3.89|      2683664|           2773745|                  51992|  86236.0|   197621|   606158|   936012|   947718|https://images.gr...|https://images.gr...|\n",
      "+-------+-----------------+------------+-------+-----------+---------+----------------+--------------------+-------------------------+--------------------+--------------------+-------------+--------------+-------------+------------------+-----------------------+---------+---------+---------+---------+---------+--------------------+--------------------+\n",
      "only showing top 5 rows\n",
      "\n"
     ]
    }
   ],
   "source": [
    "# Read books dataset which contains various variables related to books only\n",
    "\n",
    "books_df = spark.read.csv('books.csv', header = True, inferSchema=True)\n",
    "books_df.show(5)"
   ]
  },
  {
   "cell_type": "code",
   "execution_count": 6,
   "metadata": {
    "scrolled": true
   },
   "outputs": [
    {
     "name": "stdout",
     "output_type": "stream",
     "text": [
      "+-------+-------+------+\n",
      "|user_id|book_id|rating|\n",
      "+-------+-------+------+\n",
      "|      1|    258|     5|\n",
      "|      2|   4081|     4|\n",
      "|      2|    260|     5|\n",
      "|      2|   9296|     5|\n",
      "|      2|   2318|     3|\n",
      "+-------+-------+------+\n",
      "only showing top 5 rows\n",
      "\n"
     ]
    }
   ],
   "source": [
    "# Read ratings dataset which contains ids of user and books and what ratings were assigned to various boos by users\n",
    "\n",
    "ratings_df = spark.read.csv('ratings.csv', header = True, inferSchema=True)\n",
    "ratings_df.show(5)"
   ]
  },
  {
   "cell_type": "markdown",
   "metadata": {},
   "source": [
    "### 3. A quick look into the dataset"
   ]
  },
  {
   "cell_type": "code",
   "execution_count": 11,
   "metadata": {},
   "outputs": [
    {
     "name": "stdout",
     "output_type": "stream",
     "text": [
      "Total records: 230594 \n",
      "Total distint users: 3788 \n",
      "Total distinct books: 5743 \n",
      "\n"
     ]
    }
   ],
   "source": [
    "total_records = ratings_df.select(\"rating\").count()\n",
    "total_distinct_users = ratings_df.select(\"user_id\").distinct().count()\n",
    "total_distinct_books = ratings_df.select(\"book_id\").distinct().count()\n",
    "\n",
    "print(\"Total records: {} \\nTotal distint users: {} \\nTotal distinct books: {} \\n\".format(total_records,total_distinct_users,total_distinct_books))"
   ]
  },
  {
   "cell_type": "code",
   "execution_count": 39,
   "metadata": {},
   "outputs": [
    {
     "name": "stdout",
     "output_type": "stream",
     "text": [
      "+-------+-------+------+\n",
      "|user_id|book_id|rating|\n",
      "+-------+-------+------+\n",
      "|      1|    258|   5.0|\n",
      "|      2|   4081|   4.0|\n",
      "|      2|    260|   5.0|\n",
      "|      2|   9296|   5.0|\n",
      "|      2|   2318|   3.0|\n",
      "+-------+-------+------+\n",
      "only showing top 5 rows\n",
      "\n"
     ]
    }
   ],
   "source": [
    "ratings_df.show(5)"
   ]
  },
  {
   "cell_type": "code",
   "execution_count": 17,
   "metadata": {},
   "outputs": [
    {
     "data": {
      "text/plain": [
       "5743"
      ]
     },
     "execution_count": 17,
     "metadata": {},
     "output_type": "execute_result"
    }
   ],
   "source": [
    "ratings_df.select(\"book_id\").distinct().count()"
   ]
  },
  {
   "cell_type": "code",
   "execution_count": 34,
   "metadata": {},
   "outputs": [
    {
     "name": "stdout",
     "output_type": "stream",
     "text": [
      "On average each book is reviewed by __ users: \n",
      "+-----------------+\n",
      "|       avg(count)|\n",
      "+-----------------+\n",
      "|40.15218526902316|\n",
      "+-----------------+\n",
      "\n"
     ]
    }
   ],
   "source": [
    "print(\"On average each book is reviewed by __ users: \")\n",
    "ratings_df.groupBy(\"book_id\").count().select(avg(\"count\")).show()\n"
   ]
  },
  {
   "cell_type": "code",
   "execution_count": 37,
   "metadata": {},
   "outputs": [
    {
     "name": "stdout",
     "output_type": "stream",
     "text": [
      "On average each user reviewed by __ books: \n",
      "+-----------------+\n",
      "|       avg(count)|\n",
      "+-----------------+\n",
      "|60.87486800422386|\n",
      "+-----------------+\n",
      "\n"
     ]
    }
   ],
   "source": [
    "print(\"On average each user reviewed by __ books: \")\n",
    "ratings_df.groupBy(\"user_id\").count().select(avg(\"count\")).show()"
   ]
  },
  {
   "cell_type": "code",
   "execution_count": 38,
   "metadata": {
    "scrolled": true
   },
   "outputs": [
    {
     "name": "stdout",
     "output_type": "stream",
     "text": [
      "root\n",
      " |-- user_id: integer (nullable = true)\n",
      " |-- book_id: integer (nullable = true)\n",
      " |-- rating: float (nullable = true)\n",
      "\n"
     ]
    }
   ],
   "source": [
    "ratings_df = ratings_df.select(ratings_df.user_id.cast(\"integer\"),\n",
    "                                        ratings_df.book_id.cast(\"integer\"),\n",
    "                                        ratings_df.rating.cast(\"float\"))\n",
    "ratings_df.printSchema()"
   ]
  },
  {
   "cell_type": "markdown",
   "metadata": {},
   "source": [
    "### 4. Data pre-processing"
   ]
  },
  {
   "cell_type": "markdown",
   "metadata": {},
   "source": [
    "Using cross join to assign ratings for each book by each user. If a user did not rated a book, it will be marked as 0"
   ]
  },
  {
   "cell_type": "code",
   "execution_count": 56,
   "metadata": {},
   "outputs": [],
   "source": [
    "users = ratings_df.select(\"user_id\").distinct()\n",
    "books = ratings_df.select(\"book_id\").distinct()"
   ]
  },
  {
   "cell_type": "code",
   "execution_count": 58,
   "metadata": {},
   "outputs": [
    {
     "name": "stdout",
     "output_type": "stream",
     "text": [
      "+-------+-------+------+\n",
      "|user_id|book_id|rating|\n",
      "+-------+-------+------+\n",
      "|    463|    471|   4.0|\n",
      "|    463|    148|   0.0|\n",
      "|    463|   2142|   0.0|\n",
      "|    463|   3997|   0.0|\n",
      "|    463|    496|   0.0|\n",
      "+-------+-------+------+\n",
      "only showing top 5 rows\n",
      "\n"
     ]
    }
   ],
   "source": [
    "# Cross join users and products\n",
    "\n",
    "cj = users.crossJoin(books) # Cross joins return the cartesian product of two dataframes\n",
    "\n",
    "ratings_df = cj.join(ratings_df, [\"user_id\", \"book_id\"], \"left\").fillna(0) # Fill na will mark any records count with 0, for which no review score exists\n",
    "   \n",
    "ratings_df.show(5)"
   ]
  },
  {
   "cell_type": "code",
   "execution_count": 59,
   "metadata": {},
   "outputs": [
    {
     "data": {
      "text/plain": [
       "21754484"
      ]
     },
     "execution_count": 59,
     "metadata": {},
     "output_type": "execute_result"
    }
   ],
   "source": [
    "ratings_df.count()"
   ]
  },
  {
   "cell_type": "code",
   "execution_count": 60,
   "metadata": {},
   "outputs": [],
   "source": [
    "(train, test) = ratings_df.randomSplit([0.80, 0.20], seed=731)"
   ]
  },
  {
   "cell_type": "code",
   "execution_count": 63,
   "metadata": {},
   "outputs": [
    {
     "data": {
      "text/plain": [
       "17404073"
      ]
     },
     "execution_count": 63,
     "metadata": {},
     "output_type": "execute_result"
    }
   ],
   "source": [
    "train.count()       # About 17.4 Million records"
   ]
  },
  {
   "cell_type": "code",
   "execution_count": 64,
   "metadata": {},
   "outputs": [
    {
     "data": {
      "text/plain": [
       "4350411"
      ]
     },
     "execution_count": 64,
     "metadata": {},
     "output_type": "execute_result"
    }
   ],
   "source": [
    "test.count()        # About 4.3 Million records"
   ]
  },
  {
   "cell_type": "markdown",
   "metadata": {},
   "source": [
    "### 5. Data Modelling"
   ]
  },
  {
   "cell_type": "code",
   "execution_count": 65,
   "metadata": {},
   "outputs": [],
   "source": [
    "als_model = ALS(userCol = \"user_id\", itemCol = \"book_id\", ratingCol = \"rating\",     # This row simply defines all three columns for ALS algorithm\n",
    "               nonnegative = True,                                                  # Enables non-negative constraints\n",
    "               coldStartStrategy = \"drop\",                                          # Drop any values in dataframe which contain a NaN\n",
    "               implicitPrefs = False)                                               # To use explicit feedback data"
   ]
  },
  {
   "cell_type": "code",
   "execution_count": null,
   "metadata": {},
   "outputs": [],
   "source": [
    "# Fit the model\n",
    "\n",
    "model = als_model.fit(train)\n",
    "predictions = model.transform(test)"
   ]
  },
  {
   "cell_type": "code",
   "execution_count": null,
   "metadata": {},
   "outputs": [],
   "source": [
    "evaluator = RegressionEvaluator(metricName = 'rmse', labelCol = 'rating',\n",
    "                               predictionCol = 'prediction')\n",
    "rmse = evaluator.evaluate(predictions)\n",
    "print(\"RMSE: {}\".format(rmse))"
   ]
  },
  {
   "cell_type": "code",
   "execution_count": 11,
   "metadata": {
    "scrolled": false
   },
   "outputs": [
    {
     "name": "stdout",
     "output_type": "stream",
     "text": [
      "+-------+-------+------+------------+\n",
      "|user_id|book_id|rating|  prediction|\n",
      "+-------+-------+------+------------+\n",
      "|   1645|    148|   4.0|  0.05408534|\n",
      "|   3997|    148|   0.0|0.0010495055|\n",
      "|   4818|    148|   0.0| 0.028773755|\n",
      "|   5518|    148|   0.0|  0.04367373|\n",
      "|   1460|    148|   0.0| 0.084378034|\n",
      "+-------+-------+------+------------+\n",
      "only showing top 5 rows\n",
      "\n"
     ]
    }
   ],
   "source": [
    "predictions.show(5)"
   ]
  },
  {
   "cell_type": "code",
   "execution_count": null,
   "metadata": {},
   "outputs": [],
   "source": []
  },
  {
   "cell_type": "code",
   "execution_count": null,
   "metadata": {},
   "outputs": [],
   "source": []
  },
  {
   "cell_type": "code",
   "execution_count": null,
   "metadata": {},
   "outputs": [],
   "source": []
  },
  {
   "cell_type": "code",
   "execution_count": 12,
   "metadata": {},
   "outputs": [],
   "source": [
    "# tweak model by playing with rank, MaxIter, RegParam, goal = lowest RMSE"
   ]
  },
  {
   "cell_type": "code",
   "execution_count": 13,
   "metadata": {},
   "outputs": [
    {
     "name": "stdout",
     "output_type": "stream",
     "text": [
      "RMSE: \n"
     ]
    },
    {
     "data": {
      "text/plain": [
       "(None, 0.40577705412252574)"
      ]
     },
     "execution_count": 13,
     "metadata": {},
     "output_type": "execute_result"
    }
   ],
   "source": [
    "# change rank only (chose 16 b/c it was recommended by Goodreads paper)\n",
    "\n",
    "als_model2 = ALS(userCol = \"user_id\", itemCol = \"book_id\", ratingCol = \"rating\",\n",
    "                 rank = 16, maxIter = 10, regParam = 1,\n",
    "               nonnegative = True,\n",
    "               coldStartStrategy = \"drop\",\n",
    "               implicitPrefs = False)\n",
    "\n",
    "model2 = als_model2.fit(train)\n",
    "predictions2 = model2.transform(test)\n",
    "evaluator = RegressionEvaluator(metricName = 'rmse', labelCol = 'rating',\n",
    "                               predictionCol = 'prediction')\n",
    "\n",
    "rmse2 = evaluator.evaluate(predictions2)\n",
    "print(\"RMSE: \"), rmse2"
   ]
  },
  {
   "cell_type": "code",
   "execution_count": 15,
   "metadata": {},
   "outputs": [
    {
     "name": "stdout",
     "output_type": "stream",
     "text": [
      "+-------+-------+------+----------+\n",
      "|user_id|book_id|rating|prediction|\n",
      "+-------+-------+------+----------+\n",
      "|   1645|    148|   4.0|       0.0|\n",
      "|   3175|    148|   0.0|       0.0|\n",
      "|   3918|    148|   0.0|       0.0|\n",
      "|   5300|    148|   0.0|       0.0|\n",
      "|   1025|    148|   0.0|       0.0|\n",
      "|   1127|    148|   0.0|       0.0|\n",
      "|   1507|    148|   0.0|       0.0|\n",
      "|   2387|    148|   0.0|       0.0|\n",
      "|   2563|    148|   0.0|       0.0|\n",
      "|   3475|    148|   0.0|       0.0|\n",
      "|   4190|    148|   0.0|       0.0|\n",
      "|   4929|    148|   0.0|       0.0|\n",
      "|   1143|    148|   0.0|       0.0|\n",
      "|   3000|    148|   0.0|       0.0|\n",
      "|    808|    148|   0.0|       0.0|\n",
      "|   1265|    148|   0.0|       0.0|\n",
      "|   3098|    148|   0.0|       0.0|\n",
      "|   4078|    148|   0.0|       0.0|\n",
      "|   4684|    148|   0.0|       0.0|\n",
      "|   5223|    148|   0.0|       0.0|\n",
      "+-------+-------+------+----------+\n",
      "only showing top 20 rows\n",
      "\n"
     ]
    }
   ],
   "source": [
    "predictions2.show()"
   ]
  },
  {
   "cell_type": "code",
   "execution_count": 16,
   "metadata": {},
   "outputs": [
    {
     "name": "stdout",
     "output_type": "stream",
     "text": [
      "Num models to be tested:  32\n"
     ]
    }
   ],
   "source": [
    "param_grid = ParamGridBuilder().addGrid(als_model.rank, [5, 10, 15, 20]).addGrid(\n",
    "    als_model.maxIter, [5, 10]).addGrid(als_model.regParam, [0.01, 0.05, 0.1, 0.15]).build()\n",
    "evaluator = RegressionEvaluator(metricName = \"rmse\", labelCol = \"rating\",\n",
    "                               predictionCol = \"prediction\")\n",
    "cv = CrossValidator(estimator = als_model,\n",
    "                   estimatorParamMaps = param_grid,\n",
    "                   evaluator = evaluator,\n",
    "                   numFolds = 5)\n",
    "print (\"Num models to be tested: \", len(param_grid))"
   ]
  },
  {
   "cell_type": "code",
   "execution_count": 17,
   "metadata": {},
   "outputs": [],
   "source": [
    "modelcv = cv.fit(train)"
   ]
  },
  {
   "cell_type": "code",
   "execution_count": 18,
   "metadata": {},
   "outputs": [
    {
     "name": "stdout",
     "output_type": "stream",
     "text": [
      "<class 'pyspark.ml.recommendation.ALSModel'>\n"
     ]
    }
   ],
   "source": [
    "best_model = modelcv.bestModel\n",
    "print(type(best_model))"
   ]
  },
  {
   "cell_type": "code",
   "execution_count": 20,
   "metadata": {},
   "outputs": [
    {
     "name": "stdout",
     "output_type": "stream",
     "text": [
      "0.3622062135603919\n"
     ]
    }
   ],
   "source": [
    "test_predictions = best_model.transform(test)\n",
    "rmse = evaluator.evaluate(test_predictions)\n",
    "print(rmse)"
   ]
  },
  {
   "cell_type": "code",
   "execution_count": 21,
   "metadata": {
    "scrolled": true
   },
   "outputs": [
    {
     "name": "stdout",
     "output_type": "stream",
     "text": [
      "25\n"
     ]
    }
   ],
   "source": [
    "print(best_model.rank) # k value (# of latent features)"
   ]
  },
  {
   "cell_type": "code",
   "execution_count": 22,
   "metadata": {},
   "outputs": [
    {
     "name": "stdout",
     "output_type": "stream",
     "text": [
      "10\n",
      "0.01\n"
     ]
    }
   ],
   "source": [
    "print(best_model._java_obj.parent().getMaxIter())\n",
    "print(best_model._java_obj.parent().getRegParam())"
   ]
  },
  {
   "cell_type": "code",
   "execution_count": null,
   "metadata": {},
   "outputs": [],
   "source": [
    "# best model: k = 25, maxIter = 10, regParam = 0.01, RMSE = 0.3622"
   ]
  },
  {
   "cell_type": "code",
   "execution_count": 23,
   "metadata": {
    "scrolled": true
   },
   "outputs": [
    {
     "name": "stdout",
     "output_type": "stream",
     "text": [
      "+-------+-------+------+-----------+\n",
      "|user_id|book_id|rating| prediction|\n",
      "+-------+-------+------+-----------+\n",
      "|   1645|    148|   4.0| 0.70989245|\n",
      "|   3175|    148|   0.0| 0.15258428|\n",
      "|   3918|    148|   0.0| 0.71268547|\n",
      "|   5300|    148|   0.0|   0.302438|\n",
      "|   1025|    148|   0.0|   0.245731|\n",
      "|   1127|    148|   0.0| 0.13814119|\n",
      "|   1507|    148|   0.0| 0.27556774|\n",
      "|   2387|    148|   0.0| 0.13265418|\n",
      "|   2563|    148|   0.0|   0.218646|\n",
      "|   3475|    148|   0.0| 0.22585842|\n",
      "|   4190|    148|   0.0| 0.69588304|\n",
      "|   4929|    148|   0.0| 0.15377276|\n",
      "|   1143|    148|   0.0| 0.58321583|\n",
      "|   3000|    148|   0.0|0.012677923|\n",
      "|    808|    148|   0.0| 0.49552304|\n",
      "|   1265|    148|   0.0|  0.0973807|\n",
      "|   3098|    148|   0.0| 0.16174576|\n",
      "|   4078|    148|   0.0| 0.02927421|\n",
      "|   4684|    148|   0.0|0.107607946|\n",
      "|   5223|    148|   0.0|  0.9644963|\n",
      "+-------+-------+------+-----------+\n",
      "only showing top 20 rows\n",
      "\n"
     ]
    }
   ],
   "source": [
    "test_predictions.show()"
   ]
  },
  {
   "cell_type": "code",
   "execution_count": 26,
   "metadata": {},
   "outputs": [
    {
     "name": "stdout",
     "output_type": "stream",
     "text": [
      "+-------+--------------------+\n",
      "|user_id|     recommendations|\n",
      "+-------+--------------------+\n",
      "|   1580|[[11, 1.0400147],...|\n",
      "|   5300|[[37, 2.0233123],...|\n",
      "|   1591|[[167, 0.19397956...|\n",
      "|   4101|[[11, 1.3917072],...|\n",
      "|   1342|[[476, 0.63664454...|\n",
      "|   2122|[[4, 1.1893904], ...|\n",
      "|    463|[[7, 4.087946], [...|\n",
      "|    833|[[94, 1.4590017],...|\n",
      "|   3794|[[168, 1.8770207]...|\n",
      "|   1645|[[11, 2.7405286],...|\n",
      "|   3175|[[19, 4.241493], ...|\n",
      "|   2366|[[205, 4.1261687]...|\n",
      "|   5156|[[65, 3.4123454],...|\n",
      "|   3997|[[10, 0.30373782]...|\n",
      "|   1238|[[11, 3.7416406],...|\n",
      "|   3918|[[50, 4.152341], ...|\n",
      "|   4818|[[26, 1.1737348],...|\n",
      "|   5518|[[125, 1.6194955]...|\n",
      "|   1829|[[50, 1.9392428],...|\n",
      "|   3749|[[168, 0.92164904...|\n",
      "+-------+--------------------+\n",
      "only showing top 20 rows\n",
      "\n"
     ]
    }
   ],
   "source": [
    "# view recommendations\n",
    "userRecs = best_model.recommendForAllUsers(10)\n",
    "userRecs.show()"
   ]
  },
  {
   "cell_type": "code",
   "execution_count": 36,
   "metadata": {},
   "outputs": [
    {
     "name": "stdout",
     "output_type": "stream",
     "text": [
      "User 60's Ratings:\n",
      "+-------+-------+------+\n",
      "|user_id|book_id|rating|\n",
      "+-------+-------+------+\n",
      "|      2|    260|   5.0|\n",
      "|      2|   3753|   5.0|\n",
      "|      2|   9296|   5.0|\n",
      "|      2|   8519|   5.0|\n",
      "|      2|   2686|   5.0|\n",
      "|      2|    301|   5.0|\n",
      "|      2|   4081|   4.0|\n",
      "|      2|     33|   4.0|\n",
      "|      2|     26|   4.0|\n",
      "|      2|   2318|   3.0|\n",
      "|      2|    315|   3.0|\n",
      "|      2|    471|   0.0|\n",
      "|      2|    496|   0.0|\n",
      "|      2|    148|   0.0|\n",
      "|      2|   1580|   0.0|\n",
      "|      2|   1238|   0.0|\n",
      "|      2|   2142|   0.0|\n",
      "|      2|   2366|   0.0|\n",
      "|      2|    833|   0.0|\n",
      "|      2|   3997|   0.0|\n",
      "+-------+-------+------+\n",
      "only showing top 20 rows\n",
      "\n",
      "User 60s Recommendations:\n",
      "+-------+--------------------+\n",
      "|user_id|     recommendations|\n",
      "+-------+--------------------+\n",
      "|      2|[[11, 0.77537215]...|\n",
      "+-------+--------------------+\n",
      "\n",
      "User 63's Ratings:\n",
      "+-------+-------+------+\n",
      "|user_id|book_id|rating|\n",
      "+-------+-------+------+\n",
      "|     63|    323|   5.0|\n",
      "|     63|   6772|   5.0|\n",
      "|     63|    592|   5.0|\n",
      "|     63|   7151|   5.0|\n",
      "|     63|   4475|   5.0|\n",
      "|     63|   8455|   5.0|\n",
      "|     63|     80|   5.0|\n",
      "|     63|   3913|   4.0|\n",
      "|     63|     85|   4.0|\n",
      "|     63|   1113|   4.0|\n",
      "|     63|    498|   4.0|\n",
      "|     63|   4531|   4.0|\n",
      "|     63|   6160|   4.0|\n",
      "|     63|    709|   4.0|\n",
      "|     63|    614|   4.0|\n",
      "|     63|    485|   4.0|\n",
      "|     63|    162|   4.0|\n",
      "|     63|   5374|   4.0|\n",
      "|     63|   9858|   4.0|\n",
      "|     63|    669|   4.0|\n",
      "+-------+-------+------+\n",
      "only showing top 20 rows\n",
      "\n",
      "User 63's Recommendations:\n",
      "+-------+--------------------+\n",
      "|user_id|     recommendations|\n",
      "+-------+--------------------+\n",
      "|     63|[[58, 2.5218172],...|\n",
      "+-------+--------------------+\n",
      "\n"
     ]
    }
   ],
   "source": [
    "# Look at user 60's ratings\n",
    "print(\"User 2's Ratings:\")\n",
    "ratings.filter(col(\"user_id\") == 2).sort(\"rating\", ascending = False).show()\n",
    "\n",
    "# Look at the movies recommended to user 60\n",
    "print(\"User 2's Recommendations:\")\n",
    "userRecs.filter(col(\"user_id\") == 2).show()\n",
    "\n",
    "# Look at user 63's ratings\n",
    "print(\"User 63's Ratings:\")\n",
    "ratings.filter(col(\"user_id\") == 63).sort(\"rating\", ascending = False).show()\n",
    "\n",
    "# Look at the movies recommended to user 63\n",
    "print(\"User 63's Recommendations:\")\n",
    "userRecs.filter(col(\"user_id\") == 63).show()"
   ]
  },
  {
   "cell_type": "code",
   "execution_count": 50,
   "metadata": {},
   "outputs": [
    {
     "name": "stdout",
     "output_type": "stream",
     "text": [
      "+-------+----------------+\n",
      "|user_id|         BookRec|\n",
      "+-------+----------------+\n",
      "|   1580| [11, 1.0400147]|\n",
      "|   1580|[33, 0.65387654]|\n",
      "|   1580|[100, 0.5300547]|\n",
      "|   1580|[38, 0.52326894]|\n",
      "|   1580| [67, 0.4987593]|\n",
      "|   1580|[57, 0.47979054]|\n",
      "|   1580|[45, 0.47413552]|\n",
      "|   1580| [4, 0.46988013]|\n",
      "|   1580| [22, 0.4662242]|\n",
      "|   1580|[26, 0.45919847]|\n",
      "|   5300| [37, 2.0233123]|\n",
      "|   5300| [58, 1.9057353]|\n",
      "|   5300| [59, 1.7356001]|\n",
      "|   5300|  [29, 1.725448]|\n",
      "|   5300|[138, 1.6259873]|\n",
      "|   5300| [50, 1.6185813]|\n",
      "|   5300|[102, 1.6020172]|\n",
      "|   5300| [15, 1.5831457]|\n",
      "|   5300|[117, 1.5628898]|\n",
      "|   5300| [85, 1.5290784]|\n",
      "+-------+----------------+\n",
      "only showing top 20 rows\n",
      "\n"
     ]
    }
   ],
   "source": [
    "exploded_recs = spark.sql(\"SELECT user_id, explode(recommendations) AS BookRec FROM ALS_recs_temp\")\n",
    "exploded_recs.show()"
   ]
  }
 ],
 "metadata": {
  "kernelspec": {
   "display_name": "Python 3",
   "language": "python",
   "name": "python3"
  },
  "language_info": {
   "codemirror_mode": {
    "name": "ipython",
    "version": 3
   },
   "file_extension": ".py",
   "mimetype": "text/x-python",
   "name": "python",
   "nbconvert_exporter": "python",
   "pygments_lexer": "ipython3",
   "version": "3.7.16"
  }
 },
 "nbformat": 4,
 "nbformat_minor": 4
}
