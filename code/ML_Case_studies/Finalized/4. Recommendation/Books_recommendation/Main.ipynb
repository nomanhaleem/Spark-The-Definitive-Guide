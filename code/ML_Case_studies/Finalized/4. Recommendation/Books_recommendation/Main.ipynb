{
 "cells": [
  {
   "cell_type": "markdown",
   "metadata": {},
   "source": [
    "Source: https://github.com/Reinalynn/Building-a-Book-Recommendation-System-using-Python/blob/master/Code/Collab%20filtering%20using%20PySpark%20(user-based%20recommendations).ipynb"
   ]
  },
  {
   "cell_type": "markdown",
   "metadata": {},
   "source": [
    "### 1. Import libraries"
   ]
  },
  {
   "cell_type": "code",
   "execution_count": 1,
   "metadata": {},
   "outputs": [],
   "source": [
    "import os\n",
    "\n",
    "import numpy as np\n",
    "import pandas as pd\n",
    "\n",
    "from pyspark.sql.functions import *\n",
    "from pyspark.sql.types import *\n",
    "\n",
    "from pyspark.ml.recommendation import ALS, ALSModel\n",
    "from pyspark.context import SparkContext\n",
    "from pyspark.sql.session import SparkSession\n",
    "\n",
    "from pyspark.mllib.evaluation import RegressionMetrics, RankingMetrics\n",
    "from pyspark.ml.evaluation import RegressionEvaluator\n",
    "from pyspark.ml.tuning import ParamGridBuilder, CrossValidator\n",
    "\n",
    "from pyspark import SparkFiles"
   ]
  },
  {
   "cell_type": "code",
   "execution_count": 2,
   "metadata": {},
   "outputs": [],
   "source": [
    "spark = SparkSession.builder.master(\"local\").getOrCreate()  "
   ]
  },
  {
   "cell_type": "markdown",
   "metadata": {},
   "source": [
    "### 2. Read datasets"
   ]
  },
  {
   "cell_type": "code",
   "execution_count": 3,
   "metadata": {},
   "outputs": [
    {
     "name": "stdout",
     "output_type": "stream",
     "text": [
      "+-------+-----------------+------------+-------+-----------+---------+----------------+--------------------+-------------------------+--------------------+--------------------+-------------+--------------+-------------+------------------+-----------------------+---------+---------+---------+---------+---------+--------------------+--------------------+\n",
      "|book_id|goodreads_book_id|best_book_id|work_id|books_count|     isbn|          isbn13|             authors|original_publication_year|      original_title|               title|language_code|average_rating|ratings_count|work_ratings_count|work_text_reviews_count|ratings_1|ratings_2|ratings_3|ratings_4|ratings_5|           image_url|     small_image_url|\n",
      "+-------+-----------------+------------+-------+-----------+---------+----------------+--------------------+-------------------------+--------------------+--------------------+-------------+--------------+-------------+------------------+-----------------------+---------+---------+---------+---------+---------+--------------------+--------------------+\n",
      "|      1|          2767052|     2767052|2792775|        272|439023483|9.78043902348E12|     Suzanne Collins|                   2008.0|    The Hunger Games|The Hunger Games ...|          eng|          4.34|      4780653|           4942365|                 155254|  66715.0|   127936|   560092|  1481305|  2706317|https://images.gr...|https://images.gr...|\n",
      "|      2|                3|           3|4640799|        491|439554934|9.78043955493E12|J.K. Rowling, Mar...|                   1997.0|Harry Potter and ...|Harry Potter and ...|          eng|          4.44|      4602479|           4800065|                  75867|  75504.0|   101676|   455024|  1156318|  3011543|https://images.gr...|https://images.gr...|\n",
      "|      3|            41865|       41865|3212258|        226|316015849|9.78031601584E12|     Stephenie Meyer|                   2005.0|            Twilight|Twilight (Twiligh...|        en-US|          3.57|      3866839|           3916824|                  95009| 456191.0|   436802|   793319|   875073|  1355439|https://images.gr...|https://images.gr...|\n",
      "|      4|             2657|        2657|3275794|        487| 61120081|9.78006112008E12|          Harper Lee|                   1960.0|To Kill a Mocking...|To Kill a Mocking...|          eng|          4.25|      3198671|           3340896|                  72586|  60427.0|   117415|   446835|  1001952|  1714267|https://images.gr...|https://images.gr...|\n",
      "|      5|             4671|        4671| 245494|       1356|743273567|9.78074327356E12| F. Scott Fitzgerald|                   1925.0|    The Great Gatsby|    The Great Gatsby|          eng|          3.89|      2683664|           2773745|                  51992|  86236.0|   197621|   606158|   936012|   947718|https://images.gr...|https://images.gr...|\n",
      "+-------+-----------------+------------+-------+-----------+---------+----------------+--------------------+-------------------------+--------------------+--------------------+-------------+--------------+-------------+------------------+-----------------------+---------+---------+---------+---------+---------+--------------------+--------------------+\n",
      "only showing top 5 rows\n",
      "\n"
     ]
    }
   ],
   "source": [
    "# Read books dataset which contains various variables related to books only\n",
    "\n",
    "books_df = spark.read.csv('books.csv', header = True, inferSchema=True)\n",
    "books_df.show(5)"
   ]
  },
  {
   "cell_type": "code",
   "execution_count": 4,
   "metadata": {
    "scrolled": true
   },
   "outputs": [
    {
     "name": "stdout",
     "output_type": "stream",
     "text": [
      "+-------+-------+------+\n",
      "|user_id|book_id|rating|\n",
      "+-------+-------+------+\n",
      "|      1|    258|     5|\n",
      "|      2|   4081|     4|\n",
      "|      2|    260|     5|\n",
      "|      2|   9296|     5|\n",
      "|      2|   2318|     3|\n",
      "+-------+-------+------+\n",
      "only showing top 5 rows\n",
      "\n"
     ]
    }
   ],
   "source": [
    "# Read ratings dataset which contains ids of user and books and what ratings were assigned to various boos by users\n",
    "\n",
    "ratings_df = spark.read.csv('ratings.csv', header = True, inferSchema=True)\n",
    "ratings_df.show(5)"
   ]
  },
  {
   "cell_type": "markdown",
   "metadata": {},
   "source": [
    "### 3. A quick look into the dataset"
   ]
  },
  {
   "cell_type": "code",
   "execution_count": 5,
   "metadata": {},
   "outputs": [
    {
     "name": "stdout",
     "output_type": "stream",
     "text": [
      "Total records: 230594 \n",
      "Total distint users: 3788 \n",
      "Total distinct books: 5743 \n",
      "\n"
     ]
    }
   ],
   "source": [
    "total_records = ratings_df.select(\"rating\").count()\n",
    "total_distinct_users = ratings_df.select(\"user_id\").distinct().count()\n",
    "total_distinct_books = ratings_df.select(\"book_id\").distinct().count()\n",
    "\n",
    "print(\"Total records: {} \\nTotal distint users: {} \\nTotal distinct books: {} \\n\".format(total_records,total_distinct_users,total_distinct_books))"
   ]
  },
  {
   "cell_type": "code",
   "execution_count": 6,
   "metadata": {},
   "outputs": [
    {
     "name": "stdout",
     "output_type": "stream",
     "text": [
      "+-------+-------+------+\n",
      "|user_id|book_id|rating|\n",
      "+-------+-------+------+\n",
      "|      1|    258|     5|\n",
      "|      2|   4081|     4|\n",
      "|      2|    260|     5|\n",
      "|      2|   9296|     5|\n",
      "|      2|   2318|     3|\n",
      "+-------+-------+------+\n",
      "only showing top 5 rows\n",
      "\n"
     ]
    }
   ],
   "source": [
    "ratings_df.show(5)"
   ]
  },
  {
   "cell_type": "code",
   "execution_count": 7,
   "metadata": {},
   "outputs": [
    {
     "data": {
      "text/plain": [
       "5743"
      ]
     },
     "execution_count": 7,
     "metadata": {},
     "output_type": "execute_result"
    }
   ],
   "source": [
    "ratings_df.select(\"book_id\").distinct().count()"
   ]
  },
  {
   "cell_type": "code",
   "execution_count": 8,
   "metadata": {},
   "outputs": [
    {
     "name": "stdout",
     "output_type": "stream",
     "text": [
      "On average each book is reviewed by __ users: \n",
      "+-----------------+\n",
      "|       avg(count)|\n",
      "+-----------------+\n",
      "|40.15218526902316|\n",
      "+-----------------+\n",
      "\n"
     ]
    }
   ],
   "source": [
    "print(\"On average each book is reviewed by __ users: \")\n",
    "ratings_df.groupBy(\"book_id\").count().select(avg(\"count\")).show()\n"
   ]
  },
  {
   "cell_type": "code",
   "execution_count": 9,
   "metadata": {},
   "outputs": [
    {
     "name": "stdout",
     "output_type": "stream",
     "text": [
      "On average each user reviewed by __ books: \n",
      "+-----------------+\n",
      "|       avg(count)|\n",
      "+-----------------+\n",
      "|60.87486800422386|\n",
      "+-----------------+\n",
      "\n"
     ]
    }
   ],
   "source": [
    "print(\"On average each user reviewed by __ books: \")\n",
    "ratings_df.groupBy(\"user_id\").count().select(avg(\"count\")).show()"
   ]
  },
  {
   "cell_type": "code",
   "execution_count": 10,
   "metadata": {
    "scrolled": true
   },
   "outputs": [
    {
     "name": "stdout",
     "output_type": "stream",
     "text": [
      "root\n",
      " |-- user_id: integer (nullable = true)\n",
      " |-- book_id: integer (nullable = true)\n",
      " |-- rating: float (nullable = true)\n",
      "\n"
     ]
    }
   ],
   "source": [
    "ratings_df = ratings_df.select(ratings_df.user_id.cast(\"integer\"),\n",
    "                                        ratings_df.book_id.cast(\"integer\"),\n",
    "                                        ratings_df.rating.cast(\"float\"))\n",
    "ratings_df.printSchema()"
   ]
  },
  {
   "cell_type": "markdown",
   "metadata": {},
   "source": [
    "### 4. Data pre-processing"
   ]
  },
  {
   "cell_type": "markdown",
   "metadata": {},
   "source": [
    "Using cross join to assign ratings for each book by each user. If a user did not rated a book, it will be marked as 0"
   ]
  },
  {
   "cell_type": "code",
   "execution_count": 11,
   "metadata": {},
   "outputs": [],
   "source": [
    "users = ratings_df.select(\"user_id\").distinct()\n",
    "books = ratings_df.select(\"book_id\").distinct()"
   ]
  },
  {
   "cell_type": "code",
   "execution_count": 12,
   "metadata": {},
   "outputs": [
    {
     "name": "stdout",
     "output_type": "stream",
     "text": [
      "+-------+-------+------+\n",
      "|user_id|book_id|rating|\n",
      "+-------+-------+------+\n",
      "|    463|    471|   4.0|\n",
      "|    463|    148|   0.0|\n",
      "|    463|   2142|   0.0|\n",
      "|    463|   3997|   0.0|\n",
      "|    463|    496|   0.0|\n",
      "+-------+-------+------+\n",
      "only showing top 5 rows\n",
      "\n"
     ]
    }
   ],
   "source": [
    "# Cross join users and products\n",
    "\n",
    "cj = users.crossJoin(books) # Cross joins return the cartesian product of two dataframes\n",
    "\n",
    "ratings_df = cj.join(ratings_df, [\"user_id\", \"book_id\"], \"left\").fillna(0) # Fill na will mark any records count with 0, for which no review score exists\n",
    "   \n",
    "ratings_df.show(5)"
   ]
  },
  {
   "cell_type": "code",
   "execution_count": 13,
   "metadata": {},
   "outputs": [
    {
     "data": {
      "text/plain": [
       "21754484"
      ]
     },
     "execution_count": 13,
     "metadata": {},
     "output_type": "execute_result"
    }
   ],
   "source": [
    "ratings_df.count()"
   ]
  },
  {
   "cell_type": "code",
   "execution_count": 14,
   "metadata": {},
   "outputs": [],
   "source": [
    "(train, test) = ratings_df.randomSplit([0.80, 0.20], seed=731)"
   ]
  },
  {
   "cell_type": "code",
   "execution_count": 15,
   "metadata": {},
   "outputs": [
    {
     "data": {
      "text/plain": [
       "17404073"
      ]
     },
     "execution_count": 15,
     "metadata": {},
     "output_type": "execute_result"
    }
   ],
   "source": [
    "train.count()       # About 17.4 Million records"
   ]
  },
  {
   "cell_type": "code",
   "execution_count": 16,
   "metadata": {},
   "outputs": [
    {
     "data": {
      "text/plain": [
       "4350411"
      ]
     },
     "execution_count": 16,
     "metadata": {},
     "output_type": "execute_result"
    }
   ],
   "source": [
    "test.count()        # About 4.3 Million records"
   ]
  },
  {
   "cell_type": "markdown",
   "metadata": {},
   "source": [
    "### 5. Data Modelling"
   ]
  },
  {
   "cell_type": "code",
   "execution_count": 17,
   "metadata": {},
   "outputs": [],
   "source": [
    "als_model = ALS(userCol = \"user_id\", itemCol = \"book_id\", ratingCol = \"rating\",     # This row simply defines all three columns for ALS algorithm\n",
    "               nonnegative = True,                                                  # Enables non-negative constraints\n",
    "               coldStartStrategy = \"drop\",                                          # Drop any values in dataframe which contain a NaN\n",
    "               implicitPrefs = False)                                               # To use explicit feedback data"
   ]
  },
  {
   "cell_type": "code",
   "execution_count": 18,
   "metadata": {},
   "outputs": [],
   "source": [
    "# Fit the model\n",
    "\n",
    "model = als_model.fit(train)\n",
    "predictions = model.transform(test)"
   ]
  },
  {
   "cell_type": "markdown",
   "metadata": {},
   "source": [
    "### 6. Evaluating the model & predictions"
   ]
  },
  {
   "cell_type": "code",
   "execution_count": 19,
   "metadata": {},
   "outputs": [
    {
     "name": "stdout",
     "output_type": "stream",
     "text": [
      "RMSE: 0.39654673548670255\n"
     ]
    }
   ],
   "source": [
    "evaluator = RegressionEvaluator(metricName = 'rmse', labelCol = 'rating',\n",
    "                               predictionCol = 'prediction')\n",
    "\n",
    "rmse = evaluator.evaluate(predictions)\n",
    "print(\"RMSE: {}\".format(rmse))"
   ]
  },
  {
   "cell_type": "code",
   "execution_count": 20,
   "metadata": {
    "scrolled": false
   },
   "outputs": [
    {
     "name": "stdout",
     "output_type": "stream",
     "text": [
      "+-------+-------+------+------------+\n",
      "|user_id|book_id|rating|  prediction|\n",
      "+-------+-------+------+------------+\n",
      "|   1645|    148|   4.0| 0.054082014|\n",
      "|   3997|    148|   0.0|0.0010494421|\n",
      "|   4818|    148|   0.0| 0.028772015|\n",
      "|   5518|    148|   0.0|  0.04367108|\n",
      "|   1460|    148|   0.0|  0.08437288|\n",
      "|   1721|    148|   4.0|  0.05713195|\n",
      "|   2387|    148|   0.0| 0.027933208|\n",
      "|   2811|    148|   0.0|  0.08924139|\n",
      "|   3000|    148|   0.0| 9.084487E-4|\n",
      "|   3704|    148|   0.0|0.0066190674|\n",
      "|     85|    148|   3.0|    0.169537|\n",
      "|    451|    148|   0.0|  0.09461966|\n",
      "|   2721|    148|   0.0| 0.007459473|\n",
      "|   3490|    148|   0.0| 0.091317736|\n",
      "|   3986|    148|   0.0|  0.05922719|\n",
      "|   4937|    148|   0.0|  0.10920672|\n",
      "|   5155|    148|   0.0|0.0025522858|\n",
      "|     65|    148|   0.0|   0.1381292|\n",
      "|   2655|    148|   0.0|0.0018342221|\n",
      "|   3561|    148|   0.0|0.0027849963|\n",
      "|   4000|    148|   0.0| 0.060039133|\n",
      "|   5217|    148|   0.0| 0.051268395|\n",
      "|   5433|    148|   0.0|    0.119196|\n",
      "|    255|    148|   3.0|  0.06141448|\n",
      "|   3631|    148|   0.0|  0.08775559|\n",
      "|   5527|    148|   0.0| 0.012554084|\n",
      "|    296|    148|   0.0|  0.09799713|\n",
      "|   2542|    148|   0.0|  0.09701345|\n",
      "|   3306|    148|   0.0| 0.080026284|\n",
      "|   4097|    148|   0.0| 0.074935704|\n",
      "|   4612|    148|   0.0|  0.08080826|\n",
      "|   4838|    148|   0.0| 0.116693676|\n",
      "|   5061|    148|   0.0|  0.11174594|\n",
      "|   1005|    148|   0.0|  0.08746867|\n",
      "|   4167|    148|   0.0| 0.035316907|\n",
      "|   5030|    148|   0.0| 0.014075047|\n",
      "|   5211|    148|   0.0| 0.016456017|\n",
      "|   2971|    148|   0.0| 0.059839107|\n",
      "|   3149|    148|   0.0|0.0011682056|\n",
      "|   5543|    148|   0.0| 0.013543516|\n",
      "|   1653|    148|   0.0|  0.07019586|\n",
      "|   4796|    148|   0.0| 0.007517823|\n",
      "|   5571|    148|   0.0| 0.093041524|\n",
      "|    744|    148|   0.0|  0.04192432|\n",
      "|   3431|    148|   0.0|  0.02992808|\n",
      "|   3844|    148|   0.0|  0.07171684|\n",
      "|   1344|    148|   0.0|  0.07905855|\n",
      "|   2225|    148|   0.0| 0.046542816|\n",
      "|   4132|    148|   0.0|  0.07718356|\n",
      "|   1745|    148|   0.0| 0.029553518|\n",
      "|   4917|    148|   0.0|  0.10433423|\n",
      "|    830|    148|   0.0| 0.082627736|\n",
      "|   1259|    148|   0.0|  0.11667591|\n",
      "|   3026|    148|   0.0| 0.035584025|\n",
      "|   4637|    148|   0.0|   0.0304957|\n",
      "|   5447|    148|   0.0| 0.003047723|\n",
      "|   5452|    148|   0.0| 1.114803E-9|\n",
      "|   5490|    148|   0.0| 0.008877028|\n",
      "|   2522|    148|   0.0| 0.018292245|\n",
      "|   2355|    148|   0.0|0.0013097964|\n",
      "|   4424|    148|   0.0|  0.10870475|\n",
      "|   1752|    148|   0.0|   0.0328477|\n",
      "|   1974|    148|   0.0| 0.009586607|\n",
      "|   3151|    148|   0.0| 0.044810317|\n",
      "|   5895|    148|   0.0|5.6244736E-4|\n",
      "|    587|    148|   0.0|   0.0247093|\n",
      "|   2015|    148|   0.0|  0.07679019|\n",
      "|   3725|    148|   0.0| 0.010457447|\n",
      "|   4256|    148|   0.0| 9.326221E-4|\n",
      "|   4700|    148|   0.0|  0.06591908|\n",
      "|    626|    148|   0.0| 0.022757724|\n",
      "|   1493|    148|   0.0|  0.07648245|\n",
      "|   3411|    148|   0.0| 0.109955944|\n",
      "|   5396|    148|   0.0|  0.10395374|\n",
      "|   1927|    148|   0.0| 0.069764435|\n",
      "|   3387|    148|   0.0| 0.057041775|\n",
      "|   4919|    148|   0.0| 0.042770874|\n",
      "|    606|    148|   4.0|  0.05626604|\n",
      "|    908|    148|   0.0|  0.05779741|\n",
      "|    916|    148|   0.0|  0.04623084|\n",
      "|   1350|    148|   0.0|  0.14676698|\n",
      "|   2322|    148|   0.0|  0.06602937|\n",
      "|   3017|    148|   0.0| 0.002454202|\n",
      "|   4538|    148|   0.0|  9.82383E-4|\n",
      "|    806|    148|   0.0|  0.14963363|\n",
      "|   2804|    148|   0.0| 0.064420104|\n",
      "|    103|    148|   0.0| 0.012688177|\n",
      "|   1873|    148|   0.0|  0.11022684|\n",
      "|   2198|    148|   0.0|  0.06866976|\n",
      "|    973|    148|   0.0|  0.07868394|\n",
      "|   1046|    148|   0.0|  0.12712878|\n",
      "|   1260|    148|   0.0| 0.022262048|\n",
      "|   2531|    148|   0.0|  0.01955993|\n",
      "|   2939|    148|   0.0| 0.022355724|\n",
      "|   3207|    148|   0.0| 0.016469667|\n",
      "|   3328|    148|   0.0|  0.10392639|\n",
      "|    738|    148|   0.0|  0.07557809|\n",
      "|   1838|    148|   0.0|   0.0596863|\n",
      "|   2692|    148|   0.0|  0.08504329|\n",
      "|   2701|    148|   0.0|  0.14414035|\n",
      "+-------+-------+------+------------+\n",
      "only showing top 100 rows\n",
      "\n"
     ]
    }
   ],
   "source": [
    "predictions.show(100)"
   ]
  },
  {
   "cell_type": "code",
   "execution_count": 31,
   "metadata": {},
   "outputs": [
    {
     "name": "stdout",
     "output_type": "stream",
     "text": [
      "+-------+-------+------+----------+\n",
      "|user_id|book_id|rating|prediction|\n",
      "+-------+-------+------+----------+\n",
      "|     85|     24|   4.0|  1.005907|\n",
      "|     85|      2|   4.0| 1.0197682|\n",
      "|     85|     18|   4.0|  1.002015|\n",
      "+-------+-------+------+----------+\n",
      "\n"
     ]
    }
   ],
   "source": [
    "predictions.where(\"user_id = 85\").where(\"prediction > 1\").show()"
   ]
  },
  {
   "cell_type": "code",
   "execution_count": null,
   "metadata": {},
   "outputs": [],
   "source": []
  },
  {
   "cell_type": "code",
   "execution_count": null,
   "metadata": {},
   "outputs": [],
   "source": []
  },
  {
   "cell_type": "code",
   "execution_count": 13,
   "metadata": {},
   "outputs": [
    {
     "name": "stdout",
     "output_type": "stream",
     "text": [
      "RMSE: \n"
     ]
    },
    {
     "data": {
      "text/plain": [
       "(None, 0.40577705412252574)"
      ]
     },
     "execution_count": 13,
     "metadata": {},
     "output_type": "execute_result"
    }
   ],
   "source": [
    "# change rank only (chose 16 b/c it was recommended by Goodreads paper)\n",
    "\n",
    "als_model2 = ALS(userCol = \"user_id\", itemCol = \"book_id\", ratingCol = \"rating\",\n",
    "               rank = 16, maxIter = 10, regParam = 1,\n",
    "               nonnegative = True,\n",
    "               coldStartStrategy = \"drop\",\n",
    "               implicitPrefs = False)\n",
    "\n",
    "model2 = als_model2.fit(train)\n",
    "predictions2 = model2.transform(test)\n",
    "evaluator = RegressionEvaluator(metricName = 'rmse', labelCol = 'rating',\n",
    "                               predictionCol = 'prediction')\n",
    "\n",
    "rmse2 = evaluator.evaluate(predictions2)\n",
    "print(\"RMSE: \"), rmse2"
   ]
  },
  {
   "cell_type": "code",
   "execution_count": 15,
   "metadata": {},
   "outputs": [
    {
     "name": "stdout",
     "output_type": "stream",
     "text": [
      "+-------+-------+------+----------+\n",
      "|user_id|book_id|rating|prediction|\n",
      "+-------+-------+------+----------+\n",
      "|   1645|    148|   4.0|       0.0|\n",
      "|   3175|    148|   0.0|       0.0|\n",
      "|   3918|    148|   0.0|       0.0|\n",
      "|   5300|    148|   0.0|       0.0|\n",
      "|   1025|    148|   0.0|       0.0|\n",
      "|   1127|    148|   0.0|       0.0|\n",
      "|   1507|    148|   0.0|       0.0|\n",
      "|   2387|    148|   0.0|       0.0|\n",
      "|   2563|    148|   0.0|       0.0|\n",
      "|   3475|    148|   0.0|       0.0|\n",
      "|   4190|    148|   0.0|       0.0|\n",
      "|   4929|    148|   0.0|       0.0|\n",
      "|   1143|    148|   0.0|       0.0|\n",
      "|   3000|    148|   0.0|       0.0|\n",
      "|    808|    148|   0.0|       0.0|\n",
      "|   1265|    148|   0.0|       0.0|\n",
      "|   3098|    148|   0.0|       0.0|\n",
      "|   4078|    148|   0.0|       0.0|\n",
      "|   4684|    148|   0.0|       0.0|\n",
      "|   5223|    148|   0.0|       0.0|\n",
      "+-------+-------+------+----------+\n",
      "only showing top 20 rows\n",
      "\n"
     ]
    }
   ],
   "source": [
    "predictions2.show()"
   ]
  },
  {
   "cell_type": "code",
   "execution_count": 16,
   "metadata": {},
   "outputs": [
    {
     "name": "stdout",
     "output_type": "stream",
     "text": [
      "Num models to be tested:  32\n"
     ]
    }
   ],
   "source": [
    "param_grid = ParamGridBuilder().addGrid(als_model.rank, [5, 10, 15, 20]).addGrid(\n",
    "    als_model.maxIter, [5, 10]).addGrid(als_model.regParam, [0.01, 0.05, 0.1, 0.15]).build()\n",
    "evaluator = RegressionEvaluator(metricName = \"rmse\", labelCol = \"rating\",\n",
    "                               predictionCol = \"prediction\")\n",
    "cv = CrossValidator(estimator = als_model,\n",
    "                   estimatorParamMaps = param_grid,\n",
    "                   evaluator = evaluator,\n",
    "                   numFolds = 5)\n",
    "print (\"Num models to be tested: \", len(param_grid))"
   ]
  },
  {
   "cell_type": "code",
   "execution_count": 17,
   "metadata": {},
   "outputs": [],
   "source": [
    "modelcv = cv.fit(train)"
   ]
  },
  {
   "cell_type": "code",
   "execution_count": 18,
   "metadata": {},
   "outputs": [
    {
     "name": "stdout",
     "output_type": "stream",
     "text": [
      "<class 'pyspark.ml.recommendation.ALSModel'>\n"
     ]
    }
   ],
   "source": [
    "best_model = modelcv.bestModel\n",
    "print(type(best_model))"
   ]
  },
  {
   "cell_type": "code",
   "execution_count": 20,
   "metadata": {},
   "outputs": [
    {
     "name": "stdout",
     "output_type": "stream",
     "text": [
      "0.3622062135603919\n"
     ]
    }
   ],
   "source": [
    "test_predictions = best_model.transform(test)\n",
    "rmse = evaluator.evaluate(test_predictions)\n",
    "print(rmse)"
   ]
  },
  {
   "cell_type": "code",
   "execution_count": 21,
   "metadata": {
    "scrolled": true
   },
   "outputs": [
    {
     "name": "stdout",
     "output_type": "stream",
     "text": [
      "25\n"
     ]
    }
   ],
   "source": [
    "print(best_model.rank) # k value (# of latent features)"
   ]
  },
  {
   "cell_type": "code",
   "execution_count": 22,
   "metadata": {},
   "outputs": [
    {
     "name": "stdout",
     "output_type": "stream",
     "text": [
      "10\n",
      "0.01\n"
     ]
    }
   ],
   "source": [
    "print(best_model._java_obj.parent().getMaxIter())\n",
    "print(best_model._java_obj.parent().getRegParam())"
   ]
  },
  {
   "cell_type": "code",
   "execution_count": null,
   "metadata": {},
   "outputs": [],
   "source": [
    "# best model: k = 25, maxIter = 10, regParam = 0.01, RMSE = 0.3622"
   ]
  },
  {
   "cell_type": "code",
   "execution_count": 23,
   "metadata": {
    "scrolled": true
   },
   "outputs": [
    {
     "name": "stdout",
     "output_type": "stream",
     "text": [
      "+-------+-------+------+-----------+\n",
      "|user_id|book_id|rating| prediction|\n",
      "+-------+-------+------+-----------+\n",
      "|   1645|    148|   4.0| 0.70989245|\n",
      "|   3175|    148|   0.0| 0.15258428|\n",
      "|   3918|    148|   0.0| 0.71268547|\n",
      "|   5300|    148|   0.0|   0.302438|\n",
      "|   1025|    148|   0.0|   0.245731|\n",
      "|   1127|    148|   0.0| 0.13814119|\n",
      "|   1507|    148|   0.0| 0.27556774|\n",
      "|   2387|    148|   0.0| 0.13265418|\n",
      "|   2563|    148|   0.0|   0.218646|\n",
      "|   3475|    148|   0.0| 0.22585842|\n",
      "|   4190|    148|   0.0| 0.69588304|\n",
      "|   4929|    148|   0.0| 0.15377276|\n",
      "|   1143|    148|   0.0| 0.58321583|\n",
      "|   3000|    148|   0.0|0.012677923|\n",
      "|    808|    148|   0.0| 0.49552304|\n",
      "|   1265|    148|   0.0|  0.0973807|\n",
      "|   3098|    148|   0.0| 0.16174576|\n",
      "|   4078|    148|   0.0| 0.02927421|\n",
      "|   4684|    148|   0.0|0.107607946|\n",
      "|   5223|    148|   0.0|  0.9644963|\n",
      "+-------+-------+------+-----------+\n",
      "only showing top 20 rows\n",
      "\n"
     ]
    }
   ],
   "source": [
    "test_predictions.show()"
   ]
  },
  {
   "cell_type": "code",
   "execution_count": 26,
   "metadata": {},
   "outputs": [
    {
     "name": "stdout",
     "output_type": "stream",
     "text": [
      "+-------+--------------------+\n",
      "|user_id|     recommendations|\n",
      "+-------+--------------------+\n",
      "|   1580|[[11, 1.0400147],...|\n",
      "|   5300|[[37, 2.0233123],...|\n",
      "|   1591|[[167, 0.19397956...|\n",
      "|   4101|[[11, 1.3917072],...|\n",
      "|   1342|[[476, 0.63664454...|\n",
      "|   2122|[[4, 1.1893904], ...|\n",
      "|    463|[[7, 4.087946], [...|\n",
      "|    833|[[94, 1.4590017],...|\n",
      "|   3794|[[168, 1.8770207]...|\n",
      "|   1645|[[11, 2.7405286],...|\n",
      "|   3175|[[19, 4.241493], ...|\n",
      "|   2366|[[205, 4.1261687]...|\n",
      "|   5156|[[65, 3.4123454],...|\n",
      "|   3997|[[10, 0.30373782]...|\n",
      "|   1238|[[11, 3.7416406],...|\n",
      "|   3918|[[50, 4.152341], ...|\n",
      "|   4818|[[26, 1.1737348],...|\n",
      "|   5518|[[125, 1.6194955]...|\n",
      "|   1829|[[50, 1.9392428],...|\n",
      "|   3749|[[168, 0.92164904...|\n",
      "+-------+--------------------+\n",
      "only showing top 20 rows\n",
      "\n"
     ]
    }
   ],
   "source": [
    "# view recommendations\n",
    "userRecs = best_model.recommendForAllUsers(10)\n",
    "userRecs.show()"
   ]
  },
  {
   "cell_type": "code",
   "execution_count": 36,
   "metadata": {},
   "outputs": [
    {
     "name": "stdout",
     "output_type": "stream",
     "text": [
      "User 60's Ratings:\n",
      "+-------+-------+------+\n",
      "|user_id|book_id|rating|\n",
      "+-------+-------+------+\n",
      "|      2|    260|   5.0|\n",
      "|      2|   3753|   5.0|\n",
      "|      2|   9296|   5.0|\n",
      "|      2|   8519|   5.0|\n",
      "|      2|   2686|   5.0|\n",
      "|      2|    301|   5.0|\n",
      "|      2|   4081|   4.0|\n",
      "|      2|     33|   4.0|\n",
      "|      2|     26|   4.0|\n",
      "|      2|   2318|   3.0|\n",
      "|      2|    315|   3.0|\n",
      "|      2|    471|   0.0|\n",
      "|      2|    496|   0.0|\n",
      "|      2|    148|   0.0|\n",
      "|      2|   1580|   0.0|\n",
      "|      2|   1238|   0.0|\n",
      "|      2|   2142|   0.0|\n",
      "|      2|   2366|   0.0|\n",
      "|      2|    833|   0.0|\n",
      "|      2|   3997|   0.0|\n",
      "+-------+-------+------+\n",
      "only showing top 20 rows\n",
      "\n",
      "User 60s Recommendations:\n",
      "+-------+--------------------+\n",
      "|user_id|     recommendations|\n",
      "+-------+--------------------+\n",
      "|      2|[[11, 0.77537215]...|\n",
      "+-------+--------------------+\n",
      "\n",
      "User 63's Ratings:\n",
      "+-------+-------+------+\n",
      "|user_id|book_id|rating|\n",
      "+-------+-------+------+\n",
      "|     63|    323|   5.0|\n",
      "|     63|   6772|   5.0|\n",
      "|     63|    592|   5.0|\n",
      "|     63|   7151|   5.0|\n",
      "|     63|   4475|   5.0|\n",
      "|     63|   8455|   5.0|\n",
      "|     63|     80|   5.0|\n",
      "|     63|   3913|   4.0|\n",
      "|     63|     85|   4.0|\n",
      "|     63|   1113|   4.0|\n",
      "|     63|    498|   4.0|\n",
      "|     63|   4531|   4.0|\n",
      "|     63|   6160|   4.0|\n",
      "|     63|    709|   4.0|\n",
      "|     63|    614|   4.0|\n",
      "|     63|    485|   4.0|\n",
      "|     63|    162|   4.0|\n",
      "|     63|   5374|   4.0|\n",
      "|     63|   9858|   4.0|\n",
      "|     63|    669|   4.0|\n",
      "+-------+-------+------+\n",
      "only showing top 20 rows\n",
      "\n",
      "User 63's Recommendations:\n",
      "+-------+--------------------+\n",
      "|user_id|     recommendations|\n",
      "+-------+--------------------+\n",
      "|     63|[[58, 2.5218172],...|\n",
      "+-------+--------------------+\n",
      "\n"
     ]
    }
   ],
   "source": [
    "# Look at user 60's ratings\n",
    "print(\"User 2's Ratings:\")\n",
    "ratings.filter(col(\"user_id\") == 2).sort(\"rating\", ascending = False).show()\n",
    "\n",
    "# Look at the movies recommended to user 60\n",
    "print(\"User 2's Recommendations:\")\n",
    "userRecs.filter(col(\"user_id\") == 2).show()\n",
    "\n",
    "# Look at user 63's ratings\n",
    "print(\"User 63's Ratings:\")\n",
    "ratings.filter(col(\"user_id\") == 63).sort(\"rating\", ascending = False).show()\n",
    "\n",
    "# Look at the movies recommended to user 63\n",
    "print(\"User 63's Recommendations:\")\n",
    "userRecs.filter(col(\"user_id\") == 63).show()"
   ]
  },
  {
   "cell_type": "code",
   "execution_count": 50,
   "metadata": {},
   "outputs": [
    {
     "name": "stdout",
     "output_type": "stream",
     "text": [
      "+-------+----------------+\n",
      "|user_id|         BookRec|\n",
      "+-------+----------------+\n",
      "|   1580| [11, 1.0400147]|\n",
      "|   1580|[33, 0.65387654]|\n",
      "|   1580|[100, 0.5300547]|\n",
      "|   1580|[38, 0.52326894]|\n",
      "|   1580| [67, 0.4987593]|\n",
      "|   1580|[57, 0.47979054]|\n",
      "|   1580|[45, 0.47413552]|\n",
      "|   1580| [4, 0.46988013]|\n",
      "|   1580| [22, 0.4662242]|\n",
      "|   1580|[26, 0.45919847]|\n",
      "|   5300| [37, 2.0233123]|\n",
      "|   5300| [58, 1.9057353]|\n",
      "|   5300| [59, 1.7356001]|\n",
      "|   5300|  [29, 1.725448]|\n",
      "|   5300|[138, 1.6259873]|\n",
      "|   5300| [50, 1.6185813]|\n",
      "|   5300|[102, 1.6020172]|\n",
      "|   5300| [15, 1.5831457]|\n",
      "|   5300|[117, 1.5628898]|\n",
      "|   5300| [85, 1.5290784]|\n",
      "+-------+----------------+\n",
      "only showing top 20 rows\n",
      "\n"
     ]
    }
   ],
   "source": [
    "exploded_recs = spark.sql(\"SELECT user_id, explode(recommendations) AS BookRec FROM ALS_recs_temp\")\n",
    "exploded_recs.show()"
   ]
  }
 ],
 "metadata": {
  "kernelspec": {
   "display_name": "Python 3",
   "language": "python",
   "name": "python3"
  },
  "language_info": {
   "codemirror_mode": {
    "name": "ipython",
    "version": 3
   },
   "file_extension": ".py",
   "mimetype": "text/x-python",
   "name": "python",
   "nbconvert_exporter": "python",
   "pygments_lexer": "ipython3",
   "version": "3.7.16"
  }
 },
 "nbformat": 4,
 "nbformat_minor": 4
}
