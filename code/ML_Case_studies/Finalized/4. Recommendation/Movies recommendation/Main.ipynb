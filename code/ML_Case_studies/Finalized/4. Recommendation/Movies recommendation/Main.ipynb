{
 "cells": [
  {
   "cell_type": "markdown",
   "metadata": {},
   "source": [
    "Dataset availability: https://www.kaggle.com/datasets/shubhammehta21/movie-lens-small-latest-dataset"
   ]
  },
  {
   "cell_type": "markdown",
   "metadata": {},
   "source": [
    "### 1. Import libraries"
   ]
  },
  {
   "cell_type": "code",
   "execution_count": 1,
   "metadata": {},
   "outputs": [],
   "source": [
    "from pyspark.sql import SparkSession\n",
    "from pyspark.ml.recommendation import ALS\n",
    "from pyspark.ml.evaluation import RegressionEvaluator"
   ]
  },
  {
   "cell_type": "markdown",
   "metadata": {},
   "source": [
    "### 2. Spark session"
   ]
  },
  {
   "cell_type": "code",
   "execution_count": 2,
   "metadata": {},
   "outputs": [
    {
     "name": "stdout",
     "output_type": "stream",
     "text": [
      "root\n",
      " |-- userId: integer (nullable = true)\n",
      " |-- movieId: integer (nullable = true)\n",
      " |-- rating: double (nullable = true)\n",
      " |-- timestamp: integer (nullable = true)\n",
      "\n"
     ]
    }
   ],
   "source": [
    "spark = SparkSession.builder.appName('recommender').getOrCreate()"
   ]
  },
  {
   "cell_type": "markdown",
   "metadata": {},
   "source": [
    "### 3. Read dataset"
   ]
  },
  {
   "cell_type": "code",
   "execution_count": null,
   "metadata": {},
   "outputs": [],
   "source": [
    "df = spark.read.csv('ratings.csv', inferSchema= True, header = True)\n",
    "df.printSchema()"
   ]
  },
  {
   "cell_type": "code",
   "execution_count": 3,
   "metadata": {},
   "outputs": [
    {
     "name": "stdout",
     "output_type": "stream",
     "text": [
      "+------+-------+------+---------+\n",
      "|userId|movieId|rating|timestamp|\n",
      "+------+-------+------+---------+\n",
      "|     1|      1|   4.0|964982703|\n",
      "|     1|      3|   4.0|964981247|\n",
      "|     1|      6|   4.0|964982224|\n",
      "+------+-------+------+---------+\n",
      "only showing top 3 rows\n",
      "\n"
     ]
    }
   ],
   "source": [
    "df.show(3)"
   ]
  },
  {
   "cell_type": "code",
   "execution_count": 4,
   "metadata": {},
   "outputs": [
    {
     "name": "stdout",
     "output_type": "stream",
     "text": [
      "+-------+------------------+----------------+------------------+--------------------+\n",
      "|summary|            userId|         movieId|            rating|           timestamp|\n",
      "+-------+------------------+----------------+------------------+--------------------+\n",
      "|  count|            100836|          100836|            100836|              100836|\n",
      "|   mean|326.12756356856676|19435.2957177992| 3.501556983616962|1.2059460873684695E9|\n",
      "| stddev| 182.6184914635004|35530.9871987003|1.0425292390606342|2.1626103599513078E8|\n",
      "|    min|                 1|               1|               0.5|           828124615|\n",
      "|    max|               610|          193609|               5.0|          1537799250|\n",
      "+-------+------------------+----------------+------------------+--------------------+\n",
      "\n"
     ]
    }
   ],
   "source": [
    "df.describe().show()"
   ]
  },
  {
   "cell_type": "markdown",
   "metadata": {},
   "source": [
    "### 4. Alternating least square modelling"
   ]
  },
  {
   "cell_type": "code",
   "execution_count": 12,
   "metadata": {},
   "outputs": [],
   "source": [
    "train, test = df.randomSplit([0.8, 0.2])"
   ]
  },
  {
   "cell_type": "code",
   "execution_count": 34,
   "metadata": {},
   "outputs": [],
   "source": [
    "als = ALS(maxIter=5, \\\n",
    "          regParam=0.01, \\\n",
    "          userCol='userId', \\\n",
    "          itemCol='movieId', \n",
    "          ratingCol='rating', \\\n",
    "          )"
   ]
  },
  {
   "cell_type": "code",
   "execution_count": 35,
   "metadata": {},
   "outputs": [],
   "source": [
    "model = als.fit(train)"
   ]
  },
  {
   "cell_type": "code",
   "execution_count": 36,
   "metadata": {},
   "outputs": [
    {
     "name": "stdout",
     "output_type": "stream",
     "text": [
      "+------+-------+------+----------+----------+\n",
      "|userId|movieId|rating| timestamp|prediction|\n",
      "+------+-------+------+----------+----------+\n",
      "|    91|    471|   1.0|1112713817| 2.1595163|\n",
      "|   372|    471|   3.0| 874415126| 3.2865875|\n",
      "|   599|    471|   2.5|1498518822| 3.0892537|\n",
      "|   182|    471|   4.5|1054779644| 4.2635202|\n",
      "|   474|    471|   3.0| 974668858| 3.9824388|\n",
      "+------+-------+------+----------+----------+\n",
      "only showing top 5 rows\n",
      "\n"
     ]
    }
   ],
   "source": [
    "predictions = model.transform(test)\n",
    "predictions.show(5)"
   ]
  },
  {
   "cell_type": "code",
   "execution_count": 37,
   "metadata": {},
   "outputs": [],
   "source": [
    "evaluator = RegressionEvaluator(metricName = 'rmse',\\\n",
    "                                labelCol = 'rating', \\\n",
    "                                predictionCol = 'prediction'\\\n",
    "                                )"
   ]
  },
  {
   "cell_type": "code",
   "execution_count": 38,
   "metadata": {},
   "outputs": [
    {
     "name": "stdout",
     "output_type": "stream",
     "text": [
      "RMSE: nan\n"
     ]
    }
   ],
   "source": [
    "rmse = evaluator.evaluate(predictions)\n",
    "print('RMSE:', rmse)"
   ]
  },
  {
   "cell_type": "markdown",
   "metadata": {},
   "source": [
    "Note here that root mean square error is not calculated because predictions contain NaNs for unseen users or items"
   ]
  },
  {
   "cell_type": "markdown",
   "metadata": {},
   "source": [
    "We can view NaN predictions using a temporary SQL view"
   ]
  },
  {
   "cell_type": "code",
   "execution_count": null,
   "metadata": {},
   "outputs": [],
   "source": [
    "predictions.createTempView(\"predictions_table\")"
   ]
  },
  {
   "cell_type": "code",
   "execution_count": 28,
   "metadata": {},
   "outputs": [
    {
     "name": "stdout",
     "output_type": "stream",
     "text": [
      "+------+-------+------+----------+----------+\n",
      "|userId|movieId|rating| timestamp|prediction|\n",
      "+------+-------+------+----------+----------+\n",
      "|    89|  99130|   3.5|1520409565|       NaN|\n",
      "|   610|  27480|   4.5|1479545320|       NaN|\n",
      "|   599|   4957|   2.0|1519144322|       NaN|\n",
      "|   225|   3042|   3.0| 949111600|       NaN|\n",
      "|   294|   3042|   2.0| 966597039|       NaN|\n",
      "+------+-------+------+----------+----------+\n",
      "only showing top 5 rows\n",
      "\n"
     ]
    }
   ],
   "source": [
    "spark.sql(\"select * from predictions_table where prediction = 'NaN'\").show(5)"
   ]
  },
  {
   "cell_type": "markdown",
   "metadata": {},
   "source": [
    "To avoid NaNs in predictions, we can set cold start strategy to drop and it will not include any unseen users or items"
   ]
  },
  {
   "cell_type": "code",
   "execution_count": 40,
   "metadata": {},
   "outputs": [],
   "source": [
    "als = ALS(maxIter=5, \\\n",
    "          regParam=0.01, \\\n",
    "          userCol='userId', \\\n",
    "          itemCol='movieId', \n",
    "          ratingCol='rating', \\\n",
    "          coldStartStrategy=\"drop\"\\\n",
    "          )"
   ]
  },
  {
   "cell_type": "code",
   "execution_count": 41,
   "metadata": {},
   "outputs": [],
   "source": [
    "model = als.fit(train)"
   ]
  },
  {
   "cell_type": "code",
   "execution_count": 42,
   "metadata": {},
   "outputs": [
    {
     "name": "stdout",
     "output_type": "stream",
     "text": [
      "+------+-------+------+----------+----------+\n",
      "|userId|movieId|rating| timestamp|prediction|\n",
      "+------+-------+------+----------+----------+\n",
      "|    91|    471|   1.0|1112713817| 2.1595163|\n",
      "|   372|    471|   3.0| 874415126| 3.2865875|\n",
      "|   599|    471|   2.5|1498518822| 3.0892537|\n",
      "|   182|    471|   4.5|1054779644| 4.2635202|\n",
      "|   474|    471|   3.0| 974668858| 3.9824388|\n",
      "+------+-------+------+----------+----------+\n",
      "only showing top 5 rows\n",
      "\n"
     ]
    }
   ],
   "source": [
    "predictions = model.transform(test)\n",
    "predictions.show(5)"
   ]
  },
  {
   "cell_type": "code",
   "execution_count": 43,
   "metadata": {},
   "outputs": [],
   "source": [
    "predictions.createTempView(\"predictions_table_new\")"
   ]
  },
  {
   "cell_type": "code",
   "execution_count": 44,
   "metadata": {},
   "outputs": [
    {
     "name": "stdout",
     "output_type": "stream",
     "text": [
      "+------+-------+------+---------+----------+\n",
      "|userId|movieId|rating|timestamp|prediction|\n",
      "+------+-------+------+---------+----------+\n",
      "+------+-------+------+---------+----------+\n",
      "\n"
     ]
    }
   ],
   "source": [
    "spark.sql(\"select * from predictions_table_new where prediction = 'NaN'\").show(5)"
   ]
  },
  {
   "cell_type": "markdown",
   "metadata": {},
   "source": [
    "### 5. Evaluating the model"
   ]
  },
  {
   "cell_type": "code",
   "execution_count": 45,
   "metadata": {},
   "outputs": [],
   "source": [
    "evaluator = RegressionEvaluator(metricName = 'rmse',\\\n",
    "                                labelCol = 'rating', \\\n",
    "                                predictionCol = 'prediction'\\\n",
    "                                )"
   ]
  },
  {
   "cell_type": "code",
   "execution_count": 46,
   "metadata": {},
   "outputs": [
    {
     "name": "stdout",
     "output_type": "stream",
     "text": [
      "RMSE: 1.0845095846134665\n"
     ]
    }
   ],
   "source": [
    "rmse = evaluator.evaluate(predictions)\n",
    "print('RMSE:', rmse)"
   ]
  },
  {
   "cell_type": "markdown",
   "metadata": {},
   "source": [
    "### 6. Implementing the model on sample users"
   ]
  },
  {
   "cell_type": "code",
   "execution_count": 47,
   "metadata": {},
   "outputs": [
    {
     "name": "stdout",
     "output_type": "stream",
     "text": [
      "+------+-------+\n",
      "|userId|movieId|\n",
      "+------+-------+\n",
      "|    12|     39|\n",
      "|    12|    256|\n",
      "|    12|    543|\n",
      "|    12|   1357|\n",
      "|    12|   1405|\n",
      "|    12|   2485|\n",
      "+------+-------+\n",
      "\n"
     ]
    }
   ],
   "source": [
    "# Let's select a certain user ID e.g. 12\n",
    "\n",
    "this_user = test.filter(test['userId'] == 12).select('userId', 'movieId')\n",
    "this_user.show()"
   ]
  },
  {
   "cell_type": "code",
   "execution_count": 48,
   "metadata": {},
   "outputs": [
    {
     "name": "stdout",
     "output_type": "stream",
     "text": [
      "+------+-------+----------+\n",
      "|userId|movieId|prediction|\n",
      "+------+-------+----------+\n",
      "|    12|   2485| 3.1074028|\n",
      "|    12|   1357| 4.4349504|\n",
      "|    12|     39|  4.948274|\n",
      "|    12|    543| 2.1941657|\n",
      "|    12|   1405| 1.6225376|\n",
      "|    12|    256| 3.1183014|\n",
      "+------+-------+----------+\n",
      "\n"
     ]
    }
   ],
   "source": [
    "recommendation_this_user = model.transform(this_user)\n",
    "recommendation_this_user.show()"
   ]
  },
  {
   "cell_type": "code",
   "execution_count": 49,
   "metadata": {},
   "outputs": [
    {
     "name": "stdout",
     "output_type": "stream",
     "text": [
      "+------+-------+----------+\n",
      "|userId|movieId|prediction|\n",
      "+------+-------+----------+\n",
      "|    12|     39|  4.948274|\n",
      "|    12|   1357| 4.4349504|\n",
      "|    12|    256| 3.1183014|\n",
      "|    12|   2485| 3.1074028|\n",
      "|    12|    543| 2.1941657|\n",
      "|    12|   1405| 1.6225376|\n",
      "+------+-------+----------+\n",
      "\n"
     ]
    }
   ],
   "source": [
    "recommendation_this_user.orderBy('prediction', ascending=False).show()"
   ]
  },
  {
   "cell_type": "code",
   "execution_count": 65,
   "metadata": {},
   "outputs": [
    {
     "name": "stdout",
     "output_type": "stream",
     "text": [
      "+------+-------+------+\n",
      "|userId|movieId|rating|\n",
      "+------+-------+------+\n",
      "|   200|     39|   5.0|\n",
      "|   506|     39|   5.0|\n",
      "|   583|     39|   5.0|\n",
      "|    33|     39|   5.0|\n",
      "|   224|     39|   5.0|\n",
      "|   602|     39|   5.0|\n",
      "|   603|     39|   5.0|\n",
      "|    58|     39|   5.0|\n",
      "|   240|     39|   5.0|\n",
      "|   468|     39|   5.0|\n",
      "|   484|     39|   4.5|\n",
      "|   594|     39|   4.5|\n",
      "|   357|     39|   4.5|\n",
      "|   525|     39|   4.5|\n",
      "|   313|     39|   4.0|\n",
      "|   414|     39|   4.0|\n",
      "|    68|     39|   4.0|\n",
      "|    12|     39|   4.0|\n",
      "|   177|     39|   4.0|\n",
      "|   275|     39|   4.0|\n",
      "|   280|     39|   4.0|\n",
      "|   347|     39|   4.0|\n",
      "|   367|     39|   4.0|\n",
      "|   409|     39|   4.0|\n",
      "|   458|     39|   4.0|\n",
      "|    64|     39|   4.0|\n",
      "|   509|     39|   4.0|\n",
      "|   512|     39|   4.0|\n",
      "|   555|     39|   4.0|\n",
      "|   566|     39|   4.0|\n",
      "|   592|     39|   4.0|\n",
      "|    95|     39|   4.0|\n",
      "|   596|     39|   4.0|\n",
      "|   111|     39|   4.0|\n",
      "|   597|     39|   4.0|\n",
      "|    56|     39|   4.0|\n",
      "|   104|     39|   4.0|\n",
      "|   121|     39|   4.0|\n",
      "|   174|     39|   4.0|\n",
      "|   263|     39|   4.0|\n",
      "|   169|     39|   3.5|\n",
      "|   370|     39|   3.5|\n",
      "|   286|     39|   3.5|\n",
      "|   474|     39|   3.5|\n",
      "|   489|     39|   3.5|\n",
      "|   564|     39|   3.5|\n",
      "|   144|     39|   3.5|\n",
      "|   226|     39|   3.0|\n",
      "|    57|     39|   3.0|\n",
      "|   230|     39|   3.0|\n",
      "|   314|     39|   3.0|\n",
      "|   561|     39|   3.0|\n",
      "|    35|     39|   3.0|\n",
      "|   102|     39|   3.0|\n",
      "|   117|     39|   3.0|\n",
      "|   232|     39|   3.0|\n",
      "|   235|     39|   3.0|\n",
      "|   372|     39|   3.0|\n",
      "|   446|     39|   3.0|\n",
      "|   570|     39|   3.0|\n",
      "|   599|     39|   3.0|\n",
      "|     5|     39|   3.0|\n",
      "|    38|     39|   3.0|\n",
      "|    45|     39|   3.0|\n",
      "|   109|     39|   3.0|\n",
      "|   132|     39|   3.0|\n",
      "|   176|     39|   3.0|\n",
      "|   242|     39|   3.0|\n",
      "|   284|     39|   3.0|\n",
      "|   386|     39|   3.0|\n",
      "|   470|     39|   3.0|\n",
      "|   486|     39|   3.0|\n",
      "|   577|     39|   3.0|\n",
      "|   600|     39|   3.0|\n",
      "|   604|     39|   3.0|\n",
      "|   216|     39|   3.0|\n",
      "|    32|     39|   3.0|\n",
      "|     8|     39|   3.0|\n",
      "|    46|     39|   3.0|\n",
      "|   113|     39|   3.0|\n",
      "|   181|     39|   3.0|\n",
      "|   308|     39|   3.0|\n",
      "|   434|     39|   3.0|\n",
      "|   507|     39|   3.0|\n",
      "|   608|     39|   3.0|\n",
      "|   559|     39|   3.0|\n",
      "|    14|     39|   3.0|\n",
      "|   480|     39|   2.5|\n",
      "|   387|     39|   2.5|\n",
      "|   266|     39|   2.0|\n",
      "|   294|     39|   2.0|\n",
      "|   307|     39|   2.0|\n",
      "|   328|     39|   2.0|\n",
      "|   167|     39|   2.0|\n",
      "|   469|     39|   2.0|\n",
      "|    91|     39|   1.5|\n",
      "|    94|     39|   1.0|\n",
      "|   156|     39|   1.0|\n",
      "|   191|     39|   1.0|\n",
      "|   283|     39|   1.0|\n",
      "+------+-------+------+\n",
      "only showing top 100 rows\n",
      "\n"
     ]
    }
   ],
   "source": [
    "df.filter(df['movieID'] == 39).select('userId', 'movieId', 'rating').orderBy(\"rating\", ascending=False).show(100)"
   ]
  },
  {
   "cell_type": "code",
   "execution_count": 63,
   "metadata": {},
   "outputs": [
    {
     "name": "stdout",
     "output_type": "stream",
     "text": [
      "+------+-------+------+\n",
      "|userId|movieId|rating|\n",
      "+------+-------+------+\n",
      "|   414|      1|   4.0|\n",
      "|   414|      2|   3.0|\n",
      "|   414|      3|   4.0|\n",
      "|   414|      5|   2.0|\n",
      "|   414|      6|   3.0|\n",
      "|   414|      7|   3.0|\n",
      "|   414|      8|   3.0|\n",
      "|   414|     10|   3.0|\n",
      "|   414|     11|   5.0|\n",
      "|   414|     15|   2.0|\n",
      "|   414|     16|   3.0|\n",
      "|   414|     17|   4.0|\n",
      "|   414|     18|   3.0|\n",
      "|   414|     21|   4.0|\n",
      "|   414|     22|   3.0|\n",
      "|   414|     23|   2.0|\n",
      "|   414|     24|   3.0|\n",
      "|   414|     25|   3.0|\n",
      "|   414|     27|   2.0|\n",
      "|   414|     31|   3.0|\n",
      "|   414|     32|   5.0|\n",
      "|   414|     34|   5.0|\n",
      "|   414|     36|   3.0|\n",
      "|   414|     39|   4.0|\n",
      "|   414|     42|   2.0|\n",
      "|   414|     44|   2.0|\n",
      "|   414|     45|   3.0|\n",
      "|   414|     46|   2.0|\n",
      "|   414|     47|   4.0|\n",
      "|   414|     48|   3.0|\n",
      "|   414|     50|   5.0|\n",
      "|   414|     52|   3.0|\n",
      "|   414|     54|   1.0|\n",
      "|   414|     57|   3.0|\n",
      "|   414|     62|   4.0|\n",
      "|   414|     65|   2.0|\n",
      "|   414|     71|   2.0|\n",
      "|   414|     72|   4.0|\n",
      "|   414|     75|   1.0|\n",
      "|   414|     78|   3.0|\n",
      "|   414|     81|   2.0|\n",
      "|   414|     86|   3.0|\n",
      "|   414|     88|   2.0|\n",
      "|   414|     89|   3.0|\n",
      "|   414|     92|   2.0|\n",
      "|   414|     94|   5.0|\n",
      "|   414|     95|   2.0|\n",
      "|   414|    101|   4.0|\n",
      "|   414|    104|   4.0|\n",
      "|   414|    107|   3.0|\n",
      "|   414|    110|   5.0|\n",
      "|   414|    111|   5.0|\n",
      "|   414|    112|   3.0|\n",
      "|   414|    118|   2.0|\n",
      "|   414|    119|   3.0|\n",
      "|   414|    122|   2.0|\n",
      "|   414|    125|   4.0|\n",
      "|   414|    135|   2.0|\n",
      "|   414|    141|   4.0|\n",
      "|   414|    144|   4.0|\n",
      "|   414|    145|   2.0|\n",
      "|   414|    147|   4.0|\n",
      "|   414|    150|   4.0|\n",
      "|   414|    151|   5.0|\n",
      "|   414|    153|   2.0|\n",
      "|   414|    155|   2.0|\n",
      "|   414|    157|   4.0|\n",
      "|   414|    158|   2.0|\n",
      "|   414|    159|   2.0|\n",
      "|   414|    160|   1.0|\n",
      "|   414|    161|   3.0|\n",
      "|   414|    162|   4.0|\n",
      "|   414|    163|   4.0|\n",
      "|   414|    165|   3.0|\n",
      "|   414|    166|   3.0|\n",
      "|   414|    168|   2.0|\n",
      "|   414|    170|   3.0|\n",
      "|   414|    172|   3.0|\n",
      "|   414|    173|   3.0|\n",
      "|   414|    174|   1.0|\n",
      "|   414|    175|   4.0|\n",
      "|   414|    176|   4.0|\n",
      "|   414|    179|   2.0|\n",
      "|   414|    180|   4.0|\n",
      "|   414|    185|   2.0|\n",
      "|   414|    188|   4.0|\n",
      "|   414|    191|   2.0|\n",
      "|   414|    193|   2.0|\n",
      "|   414|    196|   3.0|\n",
      "|   414|    198|   3.0|\n",
      "|   414|    205|   3.0|\n",
      "|   414|    207|   3.0|\n",
      "|   414|    208|   2.0|\n",
      "|   414|    209|   4.0|\n",
      "|   414|    210|   3.0|\n",
      "|   414|    215|   4.0|\n",
      "|   414|    216|   3.0|\n",
      "|   414|    218|   2.0|\n",
      "|   414|    222|   4.0|\n",
      "|   414|    223|   5.0|\n",
      "+------+-------+------+\n",
      "only showing top 100 rows\n",
      "\n"
     ]
    }
   ],
   "source": [
    "df.filter(df['userID'] == 414).select('userId', 'movieId', 'rating').orderBy(\"movieID\").show(100)"
   ]
  },
  {
   "cell_type": "markdown",
   "metadata": {},
   "source": [
    "### 7. Fine tuning the model to reduce RMSE"
   ]
  },
  {
   "cell_type": "code",
   "execution_count": 67,
   "metadata": {},
   "outputs": [],
   "source": [
    "from pyspark.ml.tuning import ParamGridBuilder, CrossValidator"
   ]
  },
  {
   "cell_type": "code",
   "execution_count": 68,
   "metadata": {},
   "outputs": [
    {
     "name": "stdout",
     "output_type": "stream",
     "text": [
      "Num models to be tested:  32\n"
     ]
    }
   ],
   "source": [
    "param_grid = ParamGridBuilder().addGrid(als.rank, [5, 10, 15, 20]).addGrid(\n",
    "    als.maxIter, [5, 10]).addGrid(als.regParam, [0.01, 0.05, 0.1, 0.15]).build()\n",
    "\n",
    "evaluator = RegressionEvaluator(metricName = \"rmse\", labelCol = \"rating\",\n",
    "                               predictionCol = \"prediction\")\n",
    "cv = CrossValidator(estimator = als,\n",
    "                   estimatorParamMaps = param_grid,\n",
    "                   evaluator = evaluator,\n",
    "                   numFolds = 5)\n",
    "\n",
    "print (\"Num models to be tested: \", len(param_grid))"
   ]
  },
  {
   "cell_type": "code",
   "execution_count": 69,
   "metadata": {},
   "outputs": [],
   "source": [
    "modelcv = cv.fit(train)"
   ]
  },
  {
   "cell_type": "code",
   "execution_count": 70,
   "metadata": {},
   "outputs": [],
   "source": [
    "best_model = modelcv.bestModel"
   ]
  },
  {
   "cell_type": "code",
   "execution_count": 71,
   "metadata": {},
   "outputs": [
    {
     "name": "stdout",
     "output_type": "stream",
     "text": [
      "0.8652763490211332\n"
     ]
    }
   ],
   "source": [
    "test_predictions = best_model.transform(test)\n",
    "rmse = evaluator.evaluate(test_predictions)\n",
    "print(rmse)"
   ]
  }
 ],
 "metadata": {
  "kernelspec": {
   "display_name": "Workdesk",
   "language": "python",
   "name": "python3"
  },
  "language_info": {
   "codemirror_mode": {
    "name": "ipython",
    "version": 3
   },
   "file_extension": ".py",
   "mimetype": "text/x-python",
   "name": "python",
   "nbconvert_exporter": "python",
   "pygments_lexer": "ipython3",
   "version": "3.7.9"
  }
 },
 "nbformat": 4,
 "nbformat_minor": 2
}
