{
 "cells": [
  {
   "cell_type": "markdown",
   "metadata": {},
   "source": [
    "Dataset availability: https://www.kaggle.com/datasets/shubhammehta21/movie-lens-small-latest-dataset"
   ]
  },
  {
   "cell_type": "markdown",
   "metadata": {},
   "source": [
    "### 1. Import libraries"
   ]
  },
  {
   "cell_type": "code",
   "execution_count": 3,
   "metadata": {},
   "outputs": [],
   "source": [
    "from pyspark.sql import SparkSession\n",
    "from pyspark.ml.recommendation import ALS\n",
    "from pyspark.ml.evaluation import RegressionEvaluator"
   ]
  },
  {
   "cell_type": "markdown",
   "metadata": {},
   "source": [
    "### 2. Spark session"
   ]
  },
  {
   "cell_type": "code",
   "execution_count": 14,
   "metadata": {},
   "outputs": [
    {
     "name": "stdout",
     "output_type": "stream",
     "text": [
      "root\n",
      " |-- userId: integer (nullable = true)\n",
      " |-- movieId: integer (nullable = true)\n",
      " |-- rating: double (nullable = true)\n",
      " |-- timestamp: integer (nullable = true)\n",
      "\n"
     ]
    }
   ],
   "source": [
    "spark = SparkSession.builder.appName('recommender').getOrCreate()\n",
    "df = spark.read.csv('ratings.csv', inferSchema= True, header = True)\n",
    "df.printSchema()"
   ]
  },
  {
   "cell_type": "code",
   "execution_count": 15,
   "metadata": {},
   "outputs": [
    {
     "name": "stdout",
     "output_type": "stream",
     "text": [
      "+------+-------+------+---------+\n",
      "|userId|movieId|rating|timestamp|\n",
      "+------+-------+------+---------+\n",
      "|     1|      1|   4.0|964982703|\n",
      "|     1|      3|   4.0|964981247|\n",
      "|     1|      6|   4.0|964982224|\n",
      "+------+-------+------+---------+\n",
      "only showing top 3 rows\n",
      "\n"
     ]
    }
   ],
   "source": [
    "df.show(3)"
   ]
  },
  {
   "cell_type": "code",
   "execution_count": 16,
   "metadata": {},
   "outputs": [
    {
     "name": "stdout",
     "output_type": "stream",
     "text": [
      "+-------+------------------+----------------+------------------+--------------------+\n",
      "|summary|            userId|         movieId|            rating|           timestamp|\n",
      "+-------+------------------+----------------+------------------+--------------------+\n",
      "|  count|            100836|          100836|            100836|              100836|\n",
      "|   mean|326.12756356856676|19435.2957177992| 3.501556983616962|1.2059460873684695E9|\n",
      "| stddev| 182.6184914635004|35530.9871987003|1.0425292390606342|2.1626103599513078E8|\n",
      "|    min|                 1|               1|               0.5|           828124615|\n",
      "|    max|               610|          193609|               5.0|          1537799250|\n",
      "+-------+------------------+----------------+------------------+--------------------+\n",
      "\n"
     ]
    }
   ],
   "source": [
    "df.describe().show()"
   ]
  },
  {
   "cell_type": "markdown",
   "metadata": {},
   "source": [
    "### 3. Machine learning"
   ]
  },
  {
   "cell_type": "code",
   "execution_count": 17,
   "metadata": {},
   "outputs": [],
   "source": [
    "train, test = df.randomSplit([0.8, 0.2])"
   ]
  },
  {
   "cell_type": "code",
   "execution_count": 18,
   "metadata": {},
   "outputs": [],
   "source": [
    "als = ALS(maxIter=5, regParam=0.01, userCol='userId', itemCol='movieId', ratingCol='rating')"
   ]
  },
  {
   "cell_type": "code",
   "execution_count": 19,
   "metadata": {},
   "outputs": [
    {
     "name": "stdout",
     "output_type": "stream",
     "text": [
      "+------+-------+------+----------+----------+\n",
      "|userId|movieId|rating| timestamp|prediction|\n",
      "+------+-------+------+----------+----------+\n",
      "|   191|    148|   5.0| 829760897|       NaN|\n",
      "|   597|    471|   2.0| 941558175|     4.256|\n",
      "|   602|    471|   4.0| 840876085| 4.9549994|\n",
      "|   372|    471|   3.0| 874415126|  1.998034|\n",
      "|   182|    471|   4.5|1054779644| 3.5710642|\n",
      "|   500|    471|   1.0|1005528017| 2.3568454|\n",
      "|    32|    471|   3.0| 856737165| 3.7859452|\n",
      "|   469|    471|   5.0| 965425364| 3.4218524|\n",
      "|   104|    471|   4.5|1238111129|  3.223849|\n",
      "|   307|    833|   1.0|1186172725| 2.1758733|\n",
      "|   307|   1088|   3.0|1186162146| 2.3771904|\n",
      "|   391|   1088|   1.0|1030824424| 2.9887533|\n",
      "|   509|   1088|   3.0|1435992808|  3.408918|\n",
      "|   414|   1088|   3.0| 961514273| 3.3374028|\n",
      "|   200|   1088|   4.0|1229887977| 3.2450008|\n",
      "|   525|   1088|   4.5|1476478367| 4.0509048|\n",
      "|   325|   1342|   4.0|1039396702|  3.736366|\n",
      "|    19|   1342|   2.0| 965704952| 1.0655906|\n",
      "|   387|   1342|   3.0|1131269228| 3.5689552|\n",
      "|   593|   1580|   1.5|1181007882| 2.5512583|\n",
      "+------+-------+------+----------+----------+\n",
      "only showing top 20 rows\n",
      "\n"
     ]
    }
   ],
   "source": [
    "model = als.fit(train)\n",
    "predictions = model.transform(test)\n",
    "predictions.show()"
   ]
  },
  {
   "cell_type": "code",
   "execution_count": 13,
   "metadata": {},
   "outputs": [
    {
     "name": "stdout",
     "output_type": "stream",
     "text": [
      "RMSE: nan\n"
     ]
    }
   ],
   "source": [
    "evaluator = RegressionEvaluator(metricName = 'rmse', labelCol = 'rating', predictionCol = 'prediction')\n",
    "rmse = evaluator.evaluate(predictions)\n",
    "print('RMSE:', rmse)"
   ]
  },
  {
   "cell_type": "code",
   "execution_count": 20,
   "metadata": {},
   "outputs": [
    {
     "name": "stdout",
     "output_type": "stream",
     "text": [
      "+------+-------+\n",
      "|userId|movieId|\n",
      "+------+-------+\n",
      "|    12|    543|\n",
      "|    12|   1265|\n",
      "|    12|   1357|\n",
      "|    12|   1405|\n",
      "|    12|   2100|\n",
      "|    12|   2694|\n",
      "|    12|   2717|\n",
      "|    12|   3967|\n",
      "|    12|   5620|\n",
      "|    12|   8533|\n",
      "+------+-------+\n",
      "\n"
     ]
    }
   ],
   "source": [
    "this_user = test.filter(test['userId'] == 12).select('userId', 'movieId')\n",
    "this_user.show()"
   ]
  },
  {
   "cell_type": "code",
   "execution_count": 21,
   "metadata": {},
   "outputs": [
    {
     "name": "stdout",
     "output_type": "stream",
     "text": [
      "+------+-------+----------+\n",
      "|userId|movieId|prediction|\n",
      "+------+-------+----------+\n",
      "|    12|   1265|  4.798801|\n",
      "|    12|   5620| 3.6503742|\n",
      "|    12|   2694| 3.5698948|\n",
      "|    12|   3967|  4.673934|\n",
      "|    12|   1357| 4.3636947|\n",
      "|    12|   8533|  5.194949|\n",
      "|    12|   2717|  3.195086|\n",
      "|    12|    543|  3.890683|\n",
      "|    12|   1405| 2.5773635|\n",
      "|    12|   2100| 3.6491144|\n",
      "+------+-------+----------+\n",
      "\n"
     ]
    }
   ],
   "source": [
    "recommendation_this_user = model.transform(this_user)\n",
    "recommendation_this_user.show()"
   ]
  },
  {
   "cell_type": "code",
   "execution_count": 22,
   "metadata": {},
   "outputs": [
    {
     "name": "stdout",
     "output_type": "stream",
     "text": [
      "+------+-------+----------+\n",
      "|userId|movieId|prediction|\n",
      "+------+-------+----------+\n",
      "|    12|   8533|  5.194949|\n",
      "|    12|   1265|  4.798801|\n",
      "|    12|   3967|  4.673934|\n",
      "|    12|   1357| 4.3636947|\n",
      "|    12|    543|  3.890683|\n",
      "|    12|   5620| 3.6503742|\n",
      "|    12|   2100| 3.6491144|\n",
      "|    12|   2694| 3.5698948|\n",
      "|    12|   2717|  3.195086|\n",
      "|    12|   1405| 2.5773635|\n",
      "+------+-------+----------+\n",
      "\n"
     ]
    }
   ],
   "source": [
    "recommendation_this_user.orderBy('prediction', ascending=False).show()"
   ]
  }
 ],
 "metadata": {
  "kernelspec": {
   "display_name": "Workdesk",
   "language": "python",
   "name": "python3"
  },
  "language_info": {
   "codemirror_mode": {
    "name": "ipython",
    "version": 3
   },
   "file_extension": ".py",
   "mimetype": "text/x-python",
   "name": "python",
   "nbconvert_exporter": "python",
   "pygments_lexer": "ipython3",
   "version": "3.7.9"
  }
 },
 "nbformat": 4,
 "nbformat_minor": 2
}
