{
 "cells": [
  {
   "cell_type": "code",
   "execution_count": 1,
   "metadata": {},
   "outputs": [
    {
     "name": "stderr",
     "output_type": "stream",
     "text": [
      "24/06/01 12:24:26 WARN Utils: Your hostname, MacBook-Pro-van-D.local resolves to a loopback address: 127.0.0.1; using 192.168.178.171 instead (on interface en0)\n",
      "24/06/01 12:24:26 WARN Utils: Set SPARK_LOCAL_IP if you need to bind to another address\n",
      "Setting default log level to \"WARN\".\n",
      "To adjust logging level use sc.setLogLevel(newLevel). For SparkR, use setLogLevel(newLevel).\n",
      "24/06/01 12:24:27 WARN NativeCodeLoader: Unable to load native-hadoop library for your platform... using builtin-java classes where applicable\n"
     ]
    }
   ],
   "source": [
    "from pyspark.sql import SparkSession\n",
    "from pyspark.sql.functions import when\n",
    "from pyspark.sql.functions import col\n",
    "\n",
    "# I had to define the executor and driver memory because otherwise my kernel would get terminated\n",
    "\n",
    "spark = SparkSession.builder \\\n",
    "    .appName(\"ALSExample\") \\\n",
    "    .config(\"spark.executor.memory\", \"4g\") \\\n",
    "    .config(\"spark.driver.memory\", \"4g\") \\\n",
    "    .getOrCreate()\n"
   ]
  },
  {
   "cell_type": "code",
   "execution_count": 2,
   "metadata": {},
   "outputs": [],
   "source": [
    "# Reading the file\n",
    "df = spark.read.format(\"csv\")\\\n",
    "    .option(\"header\", True)\\\n",
    "    .option(\"inferSchema\", True)\\\n",
    "    .load(\"/Users/d.c.deh./Documents/Visual Studio/Data science 2/Csv files/ratings_Beauty.csv\")"
   ]
  },
  {
   "cell_type": "code",
   "execution_count": 3,
   "metadata": {},
   "outputs": [
    {
     "name": "stdout",
     "output_type": "stream",
     "text": [
      "+--------------+----------+------+----------+\n",
      "|        UserId| ProductId|Rating| Timestamp|\n",
      "+--------------+----------+------+----------+\n",
      "|A39HTATAQ9V7YF|0205616461|   5.0|1369699200|\n",
      "|A3JM6GV9MNOF9X|0558925278|   3.0|1355443200|\n",
      "|A1Z513UWSAAO0F|0558925278|   5.0|1404691200|\n",
      "|A1WMRR494NWEWV|0733001998|   4.0|1382572800|\n",
      "|A3IAAVS479H7M7|0737104473|   1.0|1274227200|\n",
      "+--------------+----------+------+----------+\n",
      "only showing top 5 rows\n",
      "\n"
     ]
    }
   ],
   "source": [
    "df.show(5)"
   ]
  },
  {
   "cell_type": "code",
   "execution_count": 4,
   "metadata": {},
   "outputs": [
    {
     "name": "stdout",
     "output_type": "stream",
     "text": [
      "root\n",
      " |-- UserId: string (nullable = true)\n",
      " |-- ProductId: string (nullable = true)\n",
      " |-- Rating: double (nullable = true)\n",
      " |-- Timestamp: integer (nullable = true)\n",
      "\n"
     ]
    }
   ],
   "source": [
    "df.printSchema()"
   ]
  },
  {
   "cell_type": "code",
   "execution_count": 5,
   "metadata": {},
   "outputs": [
    {
     "name": "stderr",
     "output_type": "stream",
     "text": [
      "                                                                                \r"
     ]
    }
   ],
   "source": [
    "from pyspark.ml.feature import StringIndexer\n",
    "\n",
    "# Starting with converting the strins to numbers\n",
    "indexer = StringIndexer(inputCol = \"UserId\", outputCol = \"UserId_numeric\")\n",
    "\n",
    "# Fitting and transforming the DataFrame\n",
    "df = indexer.fit(df).transform(df)"
   ]
  },
  {
   "cell_type": "code",
   "execution_count": 6,
   "metadata": {},
   "outputs": [],
   "source": [
    "indexer_2 = StringIndexer(inputCol = \"ProductId\", outputCol = \"ProductId_numeric\")\n",
    "\n",
    "# Fitting and transforming the DataFrame\n",
    "df = indexer_2.fit(df).transform(df)"
   ]
  },
  {
   "cell_type": "code",
   "execution_count": 7,
   "metadata": {},
   "outputs": [
    {
     "name": "stderr",
     "output_type": "stream",
     "text": [
      "24/06/01 12:24:35 WARN DAGScheduler: Broadcasting large task binary with size 50.8 MiB\n",
      "[Stage 9:>                                                          (0 + 1) / 1]\r"
     ]
    },
    {
     "name": "stdout",
     "output_type": "stream",
     "text": [
      "+--------------+----------+------+----------+--------------+-----------------+\n",
      "|        UserId| ProductId|Rating| Timestamp|UserId_numeric|ProductId_numeric|\n",
      "+--------------+----------+------+----------+--------------+-----------------+\n",
      "|A39HTATAQ9V7YF|0205616461|   5.0|1369699200|       70392.0|         145790.0|\n",
      "|A3JM6GV9MNOF9X|0558925278|   3.0|1355443200|      265306.0|         103581.0|\n",
      "|A1Z513UWSAAO0F|0558925278|   5.0|1404691200|      552933.0|         103581.0|\n",
      "|A1WMRR494NWEWV|0733001998|   4.0|1382572800|      536779.0|         145791.0|\n",
      "|A3IAAVS479H7M7|0737104473|   1.0|1274227200|       14679.0|         145792.0|\n",
      "+--------------+----------+------+----------+--------------+-----------------+\n",
      "only showing top 5 rows\n",
      "\n"
     ]
    },
    {
     "name": "stderr",
     "output_type": "stream",
     "text": [
      "                                                                                \r"
     ]
    }
   ],
   "source": [
    "df.show(5)"
   ]
  },
  {
   "cell_type": "code",
   "execution_count": 8,
   "metadata": {},
   "outputs": [
    {
     "data": {
      "text/plain": [
       "2023070"
      ]
     },
     "execution_count": 8,
     "metadata": {},
     "output_type": "execute_result"
    }
   ],
   "source": [
    "df.select(\"ProductId_numeric\").count()"
   ]
  },
  {
   "cell_type": "markdown",
   "metadata": {},
   "source": [
    "# Creating the model"
   ]
  },
  {
   "cell_type": "code",
   "execution_count": 9,
   "metadata": {},
   "outputs": [],
   "source": [
    "from pyspark.ml.recommendation import ALS\n",
    "\n",
    "# Defining the model using the coldStartStrategy because otherwise I would get a lot of null values\n",
    "als = ALS(maxIter = 5, \\\n",
    "          regParam = 0.01, \\\n",
    "          userCol = \"UserId_numeric\", \\\n",
    "          itemCol = \"ProductId_numeric\", \n",
    "          ratingCol = \"Rating\", \\\n",
    "          coldStartStrategy=\"drop\"\\\n",
    "          )"
   ]
  },
  {
   "cell_type": "code",
   "execution_count": 10,
   "metadata": {},
   "outputs": [],
   "source": [
    "train, test = df.randomSplit([0.7, 0.3], seed = 42)"
   ]
  },
  {
   "cell_type": "code",
   "execution_count": 11,
   "metadata": {},
   "outputs": [
    {
     "name": "stderr",
     "output_type": "stream",
     "text": [
      "24/06/01 12:24:38 WARN DAGScheduler: Broadcasting large task binary with size 50.9 MiB\n",
      "24/06/01 12:24:39 WARN GarbageCollectionMetrics: To enable non-built-in garbage collector(s) List(G1 Concurrent GC), users should configure it(them) to spark.eventLog.gcMetrics.youngGenerationGarbageCollectors or spark.eventLog.gcMetrics.oldGenerationGarbageCollectors\n",
      "24/06/01 12:24:40 WARN DAGScheduler: Broadcasting large task binary with size 50.9 MiB\n",
      "24/06/01 12:24:42 WARN DAGScheduler: Broadcasting large task binary with size 50.9 MiB\n",
      "24/06/01 12:24:45 WARN DAGScheduler: Broadcasting large task binary with size 50.9 MiB\n",
      "24/06/01 12:24:48 WARN DAGScheduler: Broadcasting large task binary with size 50.9 MiB\n",
      "24/06/01 12:24:50 WARN DAGScheduler: Broadcasting large task binary with size 50.9 MiB\n",
      "24/06/01 12:24:52 WARN DAGScheduler: Broadcasting large task binary with size 50.9 MiB\n",
      "24/06/01 12:24:54 WARN InstanceBuilder: Failed to load implementation from:dev.ludovic.netlib.blas.JNIBLAS\n",
      "24/06/01 12:24:54 WARN InstanceBuilder: Failed to load implementation from:dev.ludovic.netlib.blas.VectorBLAS\n",
      "24/06/01 12:24:54 WARN DAGScheduler: Broadcasting large task binary with size 50.9 MiB\n",
      "24/06/01 12:24:55 WARN InstanceBuilder: Failed to load implementation from:dev.ludovic.netlib.lapack.JNILAPACK\n",
      "24/06/01 12:24:56 WARN DAGScheduler: Broadcasting large task binary with size 50.9 MiB\n",
      "24/06/01 12:24:58 WARN DAGScheduler: Broadcasting large task binary with size 50.9 MiB\n",
      "24/06/01 12:25:00 WARN DAGScheduler: Broadcasting large task binary with size 50.9 MiB\n",
      "24/06/01 12:25:03 WARN DAGScheduler: Broadcasting large task binary with size 50.9 MiB\n",
      "24/06/01 12:25:04 WARN DAGScheduler: Broadcasting large task binary with size 50.9 MiB\n",
      "24/06/01 12:25:06 WARN DAGScheduler: Broadcasting large task binary with size 50.9 MiB\n",
      "24/06/01 12:25:08 WARN DAGScheduler: Broadcasting large task binary with size 50.9 MiB\n",
      "24/06/01 12:25:10 WARN DAGScheduler: Broadcasting large task binary with size 50.9 MiB\n",
      "24/06/01 12:25:12 WARN DAGScheduler: Broadcasting large task binary with size 50.9 MiB\n",
      "24/06/01 12:25:14 WARN DAGScheduler: Broadcasting large task binary with size 50.9 MiB\n",
      "                                                                                \r"
     ]
    }
   ],
   "source": [
    "# Here it shows quite a few warnings, this is also the point where my kernel got terminated multiple times\n",
    "model = als.fit(train)"
   ]
  },
  {
   "cell_type": "code",
   "execution_count": 12,
   "metadata": {},
   "outputs": [
    {
     "name": "stderr",
     "output_type": "stream",
     "text": [
      "24/06/01 12:25:17 WARN DAGScheduler: Broadcasting large task binary with size 50.8 MiB\n",
      "24/06/01 12:25:18 WARN DAGScheduler: Broadcasting large task binary with size 50.9 MiB\n",
      "24/06/01 12:25:20 WARN DAGScheduler: Broadcasting large task binary with size 50.9 MiB\n",
      "24/06/01 12:25:24 WARN DAGScheduler: Broadcasting large task binary with size 50.9 MiB\n",
      "24/06/01 12:25:28 WARN DAGScheduler: Broadcasting large task binary with size 50.9 MiB\n"
     ]
    },
    {
     "name": "stdout",
     "output_type": "stream",
     "text": [
      "+--------------+----------+------+----------+--------------+-----------------+----------+\n",
      "|        UserId| ProductId|Rating| Timestamp|UserId_numeric|ProductId_numeric|prediction|\n",
      "+--------------+----------+------+----------+--------------+-----------------+----------+\n",
      "|A15FXTZ9PODUGO|B000UVZU1S|   5.0|1346544000|        1561.0|             28.0|  4.837264|\n",
      "|A2DVCR7ITSBDUR|B000UVZU1S|   2.0|1375315200|        1752.0|             28.0| 1.5882462|\n",
      "|A2WUEH29HQWJUP|B000UVZU1S|   5.0|1381190400|        1772.0|             28.0|  2.237219|\n",
      "| A481GH230UZTR|B000UVZU1S|   4.0|1368316800|        2235.0|             28.0|0.47542918|\n",
      "|A2SIWGIOBLG6YV|B000UVZU1S|   5.0|1374019200|        3346.0|             28.0| 3.7504473|\n",
      "+--------------+----------+------+----------+--------------+-----------------+----------+\n",
      "only showing top 5 rows\n",
      "\n"
     ]
    },
    {
     "name": "stderr",
     "output_type": "stream",
     "text": [
      "                                                                                \r"
     ]
    }
   ],
   "source": [
    "predictions = model.transform(test)\n",
    "predictions.show(5)"
   ]
  },
  {
   "cell_type": "code",
   "execution_count": 13,
   "metadata": {},
   "outputs": [],
   "source": [
    "# Some predictions go beyond the range of 1.0 and 5.0, so here I defined a function that gets every value within this range\n",
    "within_range_predictions = predictions.withColumn(\"prediction\",\\\n",
    "    when(col(\"prediction\") < 0, 0.0)\\\n",
    "    .when(col(\"prediction\") > 5, 5.0)\\\n",
    "    .otherwise(col(\"prediction\")))"
   ]
  },
  {
   "cell_type": "code",
   "execution_count": 14,
   "metadata": {},
   "outputs": [],
   "source": [
    "from pyspark.ml.evaluation import RegressionEvaluator\n",
    "evaluator = RegressionEvaluator(metricName = \"rmse\",\\\n",
    "                                labelCol = \"Rating\", \\\n",
    "                                predictionCol = \"prediction\"\\\n",
    "                                )"
   ]
  },
  {
   "cell_type": "code",
   "execution_count": 15,
   "metadata": {},
   "outputs": [
    {
     "name": "stderr",
     "output_type": "stream",
     "text": [
      "24/06/01 12:25:29 WARN DAGScheduler: Broadcasting large task binary with size 50.8 MiB\n",
      "24/06/01 12:25:31 WARN DAGScheduler: Broadcasting large task binary with size 50.9 MiB\n",
      "24/06/01 12:25:33 WARN DAGScheduler: Broadcasting large task binary with size 50.9 MiB\n",
      "24/06/01 12:25:37 WARN DAGScheduler: Broadcasting large task binary with size 50.9 MiB\n",
      "24/06/01 12:25:41 WARN DAGScheduler: Broadcasting large task binary with size 50.9 MiB\n",
      "24/06/01 12:25:43 WARN DAGScheduler: Broadcasting large task binary with size 51.0 MiB\n",
      "[Stage 147:>                                                        (0 + 2) / 2]\r"
     ]
    },
    {
     "name": "stdout",
     "output_type": "stream",
     "text": [
      "RMSE: 3.684660644167319\n"
     ]
    },
    {
     "name": "stderr",
     "output_type": "stream",
     "text": [
      "                                                                                \r"
     ]
    }
   ],
   "source": [
    "rmse = evaluator.evaluate(within_range_predictions)\n",
    "print(\"RMSE:\", rmse)"
   ]
  },
  {
   "cell_type": "markdown",
   "metadata": {},
   "source": [
    "This is quite bad tbh for a model within the 0.0 and 5.0 range, but I cannot get it better than this. I also think that this dataset is not amazing to work with, simply because of the amount of preprocessing steps you have to take."
   ]
  },
  {
   "cell_type": "markdown",
   "metadata": {},
   "source": [
    "# Cross validation"
   ]
  },
  {
   "cell_type": "code",
   "execution_count": 16,
   "metadata": {},
   "outputs": [],
   "source": [
    "from pyspark.ml.tuning import ParamGridBuilder\n",
    "\n",
    "# Making a parameter grid for the cross validation, more variables and values are impossible to run for my computer\n",
    "param_grid = ParamGridBuilder()\\\n",
    "    .addGrid(als.rank, [10])\\\n",
    "    .addGrid(als.maxIter, [5])\\\n",
    "    .addGrid(als.regParam, [0.01, 0.05])\\\n",
    "    .build()"
   ]
  },
  {
   "cell_type": "code",
   "execution_count": 17,
   "metadata": {},
   "outputs": [
    {
     "name": "stdout",
     "output_type": "stream",
     "text": [
      "Num models to be tested:  2\n"
     ]
    }
   ],
   "source": [
    "from pyspark.ml.tuning import CrossValidator\n",
    "\n",
    "# Defining the evaluator again, together with the cross validation\n",
    "evaluator = RegressionEvaluator(metricName = \"rmse\",\\\n",
    "                               labelCol = \"Rating\",\\\n",
    "                               predictionCol = \"prediction\")\n",
    "\n",
    "cv = CrossValidator(estimator = als,\n",
    "                   estimatorParamMaps = param_grid,\n",
    "                   evaluator = evaluator,\n",
    "                   numFolds = 5)\n",
    "\n",
    "print (\"Num models to be tested: \", len(param_grid))"
   ]
  },
  {
   "cell_type": "code",
   "execution_count": 18,
   "metadata": {},
   "outputs": [
    {
     "name": "stderr",
     "output_type": "stream",
     "text": [
      "24/06/01 12:25:44 WARN DAGScheduler: Broadcasting large task binary with size 50.8 MiB\n",
      "24/06/01 12:25:48 WARN DAGScheduler: Broadcasting large task binary with size 50.9 MiB\n",
      "24/06/01 12:25:50 WARN DAGScheduler: Broadcasting large task binary with size 50.9 MiB\n",
      "24/06/01 12:25:52 WARN DAGScheduler: Broadcasting large task binary with size 50.9 MiB\n",
      "24/06/01 12:25:55 WARN DAGScheduler: Broadcasting large task binary with size 50.9 MiB\n",
      "24/06/01 12:25:57 WARN DAGScheduler: Broadcasting large task binary with size 50.9 MiB\n",
      "24/06/01 12:25:59 WARN DAGScheduler: Broadcasting large task binary with size 50.9 MiB\n",
      "24/06/01 12:26:01 WARN DAGScheduler: Broadcasting large task binary with size 50.9 MiB\n",
      "24/06/01 12:26:03 WARN DAGScheduler: Broadcasting large task binary with size 50.9 MiB\n",
      "24/06/01 12:26:05 WARN DAGScheduler: Broadcasting large task binary with size 50.9 MiB\n",
      "24/06/01 12:26:06 WARN DAGScheduler: Broadcasting large task binary with size 50.9 MiB\n",
      "24/06/01 12:26:09 WARN DAGScheduler: Broadcasting large task binary with size 50.9 MiB\n",
      "24/06/01 12:26:11 WARN DAGScheduler: Broadcasting large task binary with size 50.9 MiB\n",
      "24/06/01 12:26:13 WARN DAGScheduler: Broadcasting large task binary with size 50.9 MiB\n",
      "24/06/01 12:26:15 WARN DAGScheduler: Broadcasting large task binary with size 50.9 MiB\n",
      "24/06/01 12:26:16 WARN DAGScheduler: Broadcasting large task binary with size 50.9 MiB\n",
      "24/06/01 12:26:18 WARN DAGScheduler: Broadcasting large task binary with size 50.9 MiB\n",
      "24/06/01 12:26:21 WARN DAGScheduler: Broadcasting large task binary with size 50.9 MiB\n",
      "24/06/01 12:26:23 WARN DAGScheduler: Broadcasting large task binary with size 50.9 MiB\n",
      "24/06/01 12:26:25 WARN DAGScheduler: Broadcasting large task binary with size 50.8 MiB\n",
      "24/06/01 12:26:27 WARN DAGScheduler: Broadcasting large task binary with size 50.9 MiB\n",
      "24/06/01 12:26:29 WARN DAGScheduler: Broadcasting large task binary with size 50.9 MiB\n",
      "24/06/01 12:26:31 WARN DAGScheduler: Broadcasting large task binary with size 50.9 MiB\n",
      "24/06/01 12:26:34 WARN DAGScheduler: Broadcasting large task binary with size 50.9 MiB\n",
      "24/06/01 12:26:38 WARN DAGScheduler: Broadcasting large task binary with size 51.0 MiB\n",
      "24/06/01 12:26:39 WARN DAGScheduler: Broadcasting large task binary with size 51.0 MiB\n",
      "24/06/01 12:26:40 WARN DAGScheduler: Broadcasting large task binary with size 50.9 MiB\n",
      "24/06/01 12:26:42 WARN DAGScheduler: Broadcasting large task binary with size 50.9 MiB\n",
      "24/06/01 12:26:44 WARN DAGScheduler: Broadcasting large task binary with size 50.9 MiB\n",
      "24/06/01 12:26:45 WARN DAGScheduler: Broadcasting large task binary with size 50.9 MiB\n",
      "24/06/01 12:26:48 WARN DAGScheduler: Broadcasting large task binary with size 50.9 MiB\n",
      "24/06/01 12:26:50 WARN DAGScheduler: Broadcasting large task binary with size 50.9 MiB\n",
      "24/06/01 12:26:52 WARN DAGScheduler: Broadcasting large task binary with size 50.9 MiB\n",
      "24/06/01 12:26:54 WARN DAGScheduler: Broadcasting large task binary with size 50.9 MiB\n",
      "24/06/01 12:26:56 WARN DAGScheduler: Broadcasting large task binary with size 50.9 MiB\n",
      "24/06/01 12:26:58 WARN DAGScheduler: Broadcasting large task binary with size 50.9 MiB\n",
      "24/06/01 12:27:00 WARN DAGScheduler: Broadcasting large task binary with size 50.9 MiB\n",
      "24/06/01 12:27:02 WARN DAGScheduler: Broadcasting large task binary with size 50.9 MiB\n",
      "24/06/01 12:27:04 WARN DAGScheduler: Broadcasting large task binary with size 50.9 MiB\n",
      "24/06/01 12:27:06 WARN DAGScheduler: Broadcasting large task binary with size 50.9 MiB\n",
      "24/06/01 12:27:08 WARN DAGScheduler: Broadcasting large task binary with size 50.9 MiB\n",
      "24/06/01 12:27:10 WARN DAGScheduler: Broadcasting large task binary with size 50.9 MiB\n",
      "24/06/01 12:27:12 WARN DAGScheduler: Broadcasting large task binary with size 50.9 MiB\n",
      "24/06/01 12:27:15 WARN DAGScheduler: Broadcasting large task binary with size 50.9 MiB\n",
      "24/06/01 12:27:17 WARN DAGScheduler: Broadcasting large task binary with size 50.9 MiB\n",
      "24/06/01 12:27:18 WARN DAGScheduler: Broadcasting large task binary with size 50.9 MiB\n",
      "24/06/01 12:27:20 WARN DAGScheduler: Broadcasting large task binary with size 50.9 MiB\n",
      "24/06/01 12:27:23 WARN DAGScheduler: Broadcasting large task binary with size 50.9 MiB\n",
      "24/06/01 12:27:26 WARN DAGScheduler: Broadcasting large task binary with size 51.0 MiB\n",
      "24/06/01 12:27:28 WARN DAGScheduler: Broadcasting large task binary with size 51.0 MiB\n",
      "24/06/01 12:27:29 WARN DAGScheduler: Broadcasting large task binary with size 50.8 MiB\n",
      "24/06/01 12:27:33 WARN DAGScheduler: Broadcasting large task binary with size 50.9 MiB\n",
      "24/06/01 12:27:34 WARN DAGScheduler: Broadcasting large task binary with size 50.9 MiB\n",
      "24/06/01 12:27:36 WARN DAGScheduler: Broadcasting large task binary with size 50.9 MiB\n",
      "24/06/01 12:27:38 WARN DAGScheduler: Broadcasting large task binary with size 50.9 MiB\n",
      "24/06/01 12:27:40 WARN DAGScheduler: Broadcasting large task binary with size 50.9 MiB\n",
      "24/06/01 12:27:41 WARN DAGScheduler: Broadcasting large task binary with size 50.9 MiB\n",
      "24/06/01 12:27:43 WARN DAGScheduler: Broadcasting large task binary with size 50.9 MiB\n",
      "24/06/01 12:27:45 WARN DAGScheduler: Broadcasting large task binary with size 50.9 MiB\n",
      "24/06/01 12:27:47 WARN DAGScheduler: Broadcasting large task binary with size 50.9 MiB\n",
      "24/06/01 12:27:49 WARN DAGScheduler: Broadcasting large task binary with size 50.9 MiB\n",
      "24/06/01 12:27:51 WARN DAGScheduler: Broadcasting large task binary with size 50.9 MiB\n",
      "24/06/01 12:27:53 WARN DAGScheduler: Broadcasting large task binary with size 50.9 MiB\n",
      "24/06/01 12:27:55 WARN DAGScheduler: Broadcasting large task binary with size 50.9 MiB\n",
      "24/06/01 12:27:57 WARN DAGScheduler: Broadcasting large task binary with size 50.9 MiB\n",
      "24/06/01 12:27:59 WARN DAGScheduler: Broadcasting large task binary with size 50.9 MiB\n",
      "24/06/01 12:28:02 WARN DAGScheduler: Broadcasting large task binary with size 50.9 MiB\n",
      "24/06/01 12:28:04 WARN DAGScheduler: Broadcasting large task binary with size 50.9 MiB\n",
      "24/06/01 12:28:06 WARN DAGScheduler: Broadcasting large task binary with size 50.9 MiB\n",
      "24/06/01 12:28:08 WARN DAGScheduler: Broadcasting large task binary with size 50.8 MiB\n",
      "24/06/01 12:28:10 WARN DAGScheduler: Broadcasting large task binary with size 50.9 MiB\n",
      "24/06/01 12:28:11 WARN DAGScheduler: Broadcasting large task binary with size 50.9 MiB\n",
      "24/06/01 12:28:13 WARN DAGScheduler: Broadcasting large task binary with size 50.9 MiB\n",
      "24/06/01 12:28:17 WARN DAGScheduler: Broadcasting large task binary with size 50.9 MiB\n",
      "24/06/01 12:28:20 WARN DAGScheduler: Broadcasting large task binary with size 51.0 MiB\n",
      "24/06/01 12:28:22 WARN DAGScheduler: Broadcasting large task binary with size 51.0 MiB\n",
      "24/06/01 12:28:24 WARN DAGScheduler: Broadcasting large task binary with size 50.9 MiB\n",
      "24/06/01 12:28:25 WARN DAGScheduler: Broadcasting large task binary with size 50.9 MiB\n",
      "24/06/01 12:28:27 WARN DAGScheduler: Broadcasting large task binary with size 50.9 MiB\n",
      "24/06/01 12:28:29 WARN DAGScheduler: Broadcasting large task binary with size 50.9 MiB\n",
      "24/06/01 12:28:31 WARN DAGScheduler: Broadcasting large task binary with size 50.9 MiB\n",
      "24/06/01 12:28:33 WARN DAGScheduler: Broadcasting large task binary with size 50.9 MiB\n",
      "24/06/01 12:28:35 WARN DAGScheduler: Broadcasting large task binary with size 50.9 MiB\n",
      "24/06/01 12:28:37 WARN DAGScheduler: Broadcasting large task binary with size 50.9 MiB\n",
      "24/06/01 12:28:39 WARN DAGScheduler: Broadcasting large task binary with size 50.9 MiB\n",
      "24/06/01 12:28:42 WARN DAGScheduler: Broadcasting large task binary with size 50.9 MiB\n",
      "24/06/01 12:28:43 WARN DAGScheduler: Broadcasting large task binary with size 50.9 MiB\n",
      "24/06/01 12:28:46 WARN DAGScheduler: Broadcasting large task binary with size 50.9 MiB\n",
      "24/06/01 12:28:48 WARN DAGScheduler: Broadcasting large task binary with size 50.9 MiB\n",
      "24/06/01 12:28:50 WARN DAGScheduler: Broadcasting large task binary with size 50.9 MiB\n",
      "24/06/01 12:28:52 WARN DAGScheduler: Broadcasting large task binary with size 50.9 MiB\n",
      "24/06/01 12:28:54 WARN DAGScheduler: Broadcasting large task binary with size 50.9 MiB\n",
      "24/06/01 12:28:56 WARN DAGScheduler: Broadcasting large task binary with size 50.9 MiB\n",
      "24/06/01 12:28:58 WARN DAGScheduler: Broadcasting large task binary with size 50.9 MiB\n",
      "24/06/01 12:29:00 WARN DAGScheduler: Broadcasting large task binary with size 50.9 MiB\n",
      "24/06/01 12:29:01 WARN DAGScheduler: Broadcasting large task binary with size 50.9 MiB\n",
      "24/06/01 12:29:03 WARN DAGScheduler: Broadcasting large task binary with size 50.9 MiB\n",
      "24/06/01 12:29:07 WARN DAGScheduler: Broadcasting large task binary with size 50.9 MiB\n",
      "24/06/01 12:29:10 WARN DAGScheduler: Broadcasting large task binary with size 51.0 MiB\n",
      "24/06/01 12:29:11 WARN DAGScheduler: Broadcasting large task binary with size 51.0 MiB\n",
      "24/06/01 12:29:13 WARN DAGScheduler: Broadcasting large task binary with size 50.8 MiB\n",
      "24/06/01 12:29:16 WARN DAGScheduler: Broadcasting large task binary with size 50.9 MiB\n",
      "24/06/01 12:29:18 WARN DAGScheduler: Broadcasting large task binary with size 50.9 MiB\n",
      "24/06/01 12:29:20 WARN DAGScheduler: Broadcasting large task binary with size 50.9 MiB\n",
      "24/06/01 12:29:22 WARN DAGScheduler: Broadcasting large task binary with size 50.9 MiB\n",
      "24/06/01 12:29:24 WARN DAGScheduler: Broadcasting large task binary with size 50.9 MiB\n",
      "24/06/01 12:29:26 WARN DAGScheduler: Broadcasting large task binary with size 50.9 MiB\n",
      "24/06/01 12:29:28 WARN DAGScheduler: Broadcasting large task binary with size 50.9 MiB\n",
      "24/06/01 12:29:30 WARN DAGScheduler: Broadcasting large task binary with size 50.9 MiB\n",
      "24/06/01 12:29:32 WARN DAGScheduler: Broadcasting large task binary with size 50.9 MiB\n",
      "24/06/01 12:29:34 WARN DAGScheduler: Broadcasting large task binary with size 50.9 MiB\n",
      "24/06/01 12:29:36 WARN DAGScheduler: Broadcasting large task binary with size 50.9 MiB\n",
      "24/06/01 12:29:38 WARN DAGScheduler: Broadcasting large task binary with size 50.9 MiB\n",
      "24/06/01 12:29:40 WARN DAGScheduler: Broadcasting large task binary with size 50.9 MiB\n",
      "24/06/01 12:29:42 WARN DAGScheduler: Broadcasting large task binary with size 50.9 MiB\n",
      "24/06/01 12:29:44 WARN DAGScheduler: Broadcasting large task binary with size 50.9 MiB\n",
      "24/06/01 12:29:46 WARN DAGScheduler: Broadcasting large task binary with size 50.9 MiB\n",
      "24/06/01 12:29:48 WARN DAGScheduler: Broadcasting large task binary with size 50.9 MiB\n",
      "24/06/01 12:29:50 WARN DAGScheduler: Broadcasting large task binary with size 50.9 MiB\n",
      "24/06/01 12:29:53 WARN DAGScheduler: Broadcasting large task binary with size 50.8 MiB\n",
      "24/06/01 12:29:54 WARN DAGScheduler: Broadcasting large task binary with size 50.9 MiB\n",
      "24/06/01 12:29:55 WARN DAGScheduler: Broadcasting large task binary with size 50.9 MiB\n",
      "24/06/01 12:29:57 WARN DAGScheduler: Broadcasting large task binary with size 50.9 MiB\n",
      "24/06/01 12:30:02 WARN DAGScheduler: Broadcasting large task binary with size 50.9 MiB\n",
      "24/06/01 12:30:05 WARN DAGScheduler: Broadcasting large task binary with size 51.0 MiB\n",
      "24/06/01 12:30:06 WARN DAGScheduler: Broadcasting large task binary with size 51.0 MiB\n",
      "24/06/01 12:30:08 WARN DAGScheduler: Broadcasting large task binary with size 50.9 MiB\n",
      "24/06/01 12:30:09 WARN DAGScheduler: Broadcasting large task binary with size 50.9 MiB\n",
      "24/06/01 12:30:11 WARN DAGScheduler: Broadcasting large task binary with size 50.9 MiB\n",
      "24/06/01 12:30:14 WARN DAGScheduler: Broadcasting large task binary with size 50.9 MiB\n",
      "24/06/01 12:30:16 WARN DAGScheduler: Broadcasting large task binary with size 50.9 MiB\n",
      "24/06/01 12:30:18 WARN DAGScheduler: Broadcasting large task binary with size 50.9 MiB\n",
      "24/06/01 12:30:20 WARN DAGScheduler: Broadcasting large task binary with size 50.9 MiB\n",
      "24/06/01 12:30:22 WARN DAGScheduler: Broadcasting large task binary with size 50.9 MiB\n",
      "24/06/01 12:30:24 WARN DAGScheduler: Broadcasting large task binary with size 50.9 MiB\n",
      "24/06/01 12:30:26 WARN DAGScheduler: Broadcasting large task binary with size 50.9 MiB\n",
      "24/06/01 12:30:28 WARN DAGScheduler: Broadcasting large task binary with size 50.9 MiB\n",
      "24/06/01 12:30:30 WARN DAGScheduler: Broadcasting large task binary with size 50.9 MiB\n",
      "24/06/01 12:30:32 WARN DAGScheduler: Broadcasting large task binary with size 50.9 MiB\n",
      "24/06/01 12:30:34 WARN DAGScheduler: Broadcasting large task binary with size 50.9 MiB\n",
      "24/06/01 12:30:36 WARN DAGScheduler: Broadcasting large task binary with size 50.9 MiB\n",
      "24/06/01 12:30:38 WARN DAGScheduler: Broadcasting large task binary with size 50.9 MiB\n",
      "24/06/01 12:30:40 WARN DAGScheduler: Broadcasting large task binary with size 50.9 MiB\n",
      "24/06/01 12:30:42 WARN DAGScheduler: Broadcasting large task binary with size 50.9 MiB\n",
      "24/06/01 12:30:45 WARN DAGScheduler: Broadcasting large task binary with size 50.9 MiB\n",
      "24/06/01 12:30:46 WARN DAGScheduler: Broadcasting large task binary with size 50.9 MiB\n",
      "24/06/01 12:30:47 WARN DAGScheduler: Broadcasting large task binary with size 50.9 MiB\n",
      "24/06/01 12:30:51 WARN DAGScheduler: Broadcasting large task binary with size 50.9 MiB\n",
      "24/06/01 12:30:54 WARN DAGScheduler: Broadcasting large task binary with size 51.0 MiB\n",
      "24/06/01 12:30:55 WARN DAGScheduler: Broadcasting large task binary with size 51.0 MiB\n",
      "24/06/01 12:30:56 WARN DAGScheduler: Broadcasting large task binary with size 50.8 MiB\n",
      "24/06/01 12:30:59 WARN DAGScheduler: Broadcasting large task binary with size 50.9 MiB\n",
      "24/06/01 12:31:01 WARN DAGScheduler: Broadcasting large task binary with size 50.9 MiB\n",
      "24/06/01 12:31:03 WARN DAGScheduler: Broadcasting large task binary with size 50.9 MiB\n",
      "24/06/01 12:31:05 WARN DAGScheduler: Broadcasting large task binary with size 50.9 MiB\n",
      "24/06/01 12:31:07 WARN DAGScheduler: Broadcasting large task binary with size 50.9 MiB\n",
      "24/06/01 12:31:09 WARN DAGScheduler: Broadcasting large task binary with size 50.9 MiB\n",
      "24/06/01 12:31:11 WARN DAGScheduler: Broadcasting large task binary with size 50.9 MiB\n",
      "24/06/01 12:31:13 WARN DAGScheduler: Broadcasting large task binary with size 50.9 MiB\n",
      "24/06/01 12:31:15 WARN DAGScheduler: Broadcasting large task binary with size 50.9 MiB\n",
      "24/06/01 12:31:17 WARN DAGScheduler: Broadcasting large task binary with size 50.9 MiB\n",
      "24/06/01 12:31:19 WARN DAGScheduler: Broadcasting large task binary with size 50.9 MiB\n",
      "24/06/01 12:31:21 WARN DAGScheduler: Broadcasting large task binary with size 50.9 MiB\n",
      "24/06/01 12:31:23 WARN DAGScheduler: Broadcasting large task binary with size 50.9 MiB\n",
      "24/06/01 12:31:25 WARN DAGScheduler: Broadcasting large task binary with size 50.9 MiB\n",
      "24/06/01 12:31:27 WARN DAGScheduler: Broadcasting large task binary with size 50.9 MiB\n",
      "24/06/01 12:31:29 WARN DAGScheduler: Broadcasting large task binary with size 50.9 MiB\n",
      "24/06/01 12:31:31 WARN DAGScheduler: Broadcasting large task binary with size 50.9 MiB\n",
      "24/06/01 12:31:33 WARN DAGScheduler: Broadcasting large task binary with size 50.9 MiB\n",
      "24/06/01 12:31:36 WARN DAGScheduler: Broadcasting large task binary with size 50.8 MiB\n",
      "24/06/01 12:31:37 WARN DAGScheduler: Broadcasting large task binary with size 50.9 MiB\n",
      "24/06/01 12:31:38 WARN DAGScheduler: Broadcasting large task binary with size 50.9 MiB\n",
      "24/06/01 12:31:40 WARN DAGScheduler: Broadcasting large task binary with size 50.9 MiB\n",
      "24/06/01 12:31:45 WARN DAGScheduler: Broadcasting large task binary with size 50.9 MiB\n",
      "24/06/01 12:31:48 WARN DAGScheduler: Broadcasting large task binary with size 51.0 MiB\n",
      "24/06/01 12:31:49 WARN DAGScheduler: Broadcasting large task binary with size 51.0 MiB\n",
      "24/06/01 12:31:51 WARN DAGScheduler: Broadcasting large task binary with size 50.9 MiB\n",
      "24/06/01 12:31:52 WARN DAGScheduler: Broadcasting large task binary with size 50.9 MiB\n",
      "24/06/01 12:31:54 WARN DAGScheduler: Broadcasting large task binary with size 50.9 MiB\n",
      "24/06/01 12:31:56 WARN DAGScheduler: Broadcasting large task binary with size 50.9 MiB\n",
      "24/06/01 12:31:58 WARN DAGScheduler: Broadcasting large task binary with size 50.9 MiB\n",
      "24/06/01 12:32:00 WARN DAGScheduler: Broadcasting large task binary with size 50.9 MiB\n",
      "24/06/01 12:32:03 WARN DAGScheduler: Broadcasting large task binary with size 50.9 MiB\n",
      "24/06/01 12:32:04 WARN DAGScheduler: Broadcasting large task binary with size 50.9 MiB\n",
      "24/06/01 12:32:06 WARN DAGScheduler: Broadcasting large task binary with size 50.9 MiB\n",
      "24/06/01 12:32:08 WARN DAGScheduler: Broadcasting large task binary with size 50.9 MiB\n",
      "24/06/01 12:32:10 WARN DAGScheduler: Broadcasting large task binary with size 50.9 MiB\n",
      "24/06/01 12:32:12 WARN DAGScheduler: Broadcasting large task binary with size 50.9 MiB\n",
      "24/06/01 12:32:14 WARN DAGScheduler: Broadcasting large task binary with size 50.9 MiB\n",
      "24/06/01 12:32:16 WARN DAGScheduler: Broadcasting large task binary with size 50.9 MiB\n",
      "24/06/01 12:32:18 WARN DAGScheduler: Broadcasting large task binary with size 50.9 MiB\n",
      "24/06/01 12:32:20 WARN DAGScheduler: Broadcasting large task binary with size 50.9 MiB\n",
      "24/06/01 12:32:22 WARN DAGScheduler: Broadcasting large task binary with size 50.9 MiB\n",
      "24/06/01 12:32:24 WARN DAGScheduler: Broadcasting large task binary with size 50.9 MiB\n",
      "24/06/01 12:32:26 WARN DAGScheduler: Broadcasting large task binary with size 50.9 MiB\n",
      "24/06/01 12:32:28 WARN DAGScheduler: Broadcasting large task binary with size 50.9 MiB\n",
      "24/06/01 12:32:29 WARN DAGScheduler: Broadcasting large task binary with size 50.9 MiB\n",
      "24/06/01 12:32:33 WARN DAGScheduler: Broadcasting large task binary with size 50.9 MiB\n",
      "24/06/01 12:32:36 WARN DAGScheduler: Broadcasting large task binary with size 51.0 MiB\n",
      "24/06/01 12:32:37 WARN DAGScheduler: Broadcasting large task binary with size 51.0 MiB\n",
      "24/06/01 12:32:39 WARN DAGScheduler: Broadcasting large task binary with size 50.8 MiB\n",
      "24/06/01 12:32:42 WARN DAGScheduler: Broadcasting large task binary with size 50.9 MiB\n",
      "24/06/01 12:32:43 WARN DAGScheduler: Broadcasting large task binary with size 50.9 MiB\n",
      "24/06/01 12:32:45 WARN DAGScheduler: Broadcasting large task binary with size 50.9 MiB\n",
      "24/06/01 12:32:48 WARN DAGScheduler: Broadcasting large task binary with size 50.9 MiB\n",
      "24/06/01 12:32:50 WARN DAGScheduler: Broadcasting large task binary with size 50.9 MiB\n",
      "24/06/01 12:32:52 WARN DAGScheduler: Broadcasting large task binary with size 50.9 MiB\n",
      "24/06/01 12:32:54 WARN DAGScheduler: Broadcasting large task binary with size 50.9 MiB\n",
      "24/06/01 12:32:56 WARN DAGScheduler: Broadcasting large task binary with size 50.9 MiB\n",
      "24/06/01 12:32:58 WARN DAGScheduler: Broadcasting large task binary with size 50.9 MiB\n",
      "24/06/01 12:33:00 WARN DAGScheduler: Broadcasting large task binary with size 50.9 MiB\n",
      "24/06/01 12:33:02 WARN DAGScheduler: Broadcasting large task binary with size 50.9 MiB\n",
      "24/06/01 12:33:04 WARN DAGScheduler: Broadcasting large task binary with size 50.9 MiB\n",
      "24/06/01 12:33:06 WARN DAGScheduler: Broadcasting large task binary with size 50.9 MiB\n",
      "24/06/01 12:33:08 WARN DAGScheduler: Broadcasting large task binary with size 50.9 MiB\n",
      "24/06/01 12:33:10 WARN DAGScheduler: Broadcasting large task binary with size 50.9 MiB\n",
      "24/06/01 12:33:12 WARN DAGScheduler: Broadcasting large task binary with size 50.9 MiB\n",
      "24/06/01 12:33:14 WARN DAGScheduler: Broadcasting large task binary with size 50.9 MiB\n",
      "24/06/01 12:33:16 WARN DAGScheduler: Broadcasting large task binary with size 50.9 MiB\n",
      "24/06/01 12:33:19 WARN DAGScheduler: Broadcasting large task binary with size 50.8 MiB\n",
      "24/06/01 12:33:20 WARN DAGScheduler: Broadcasting large task binary with size 50.9 MiB\n",
      "24/06/01 12:33:21 WARN DAGScheduler: Broadcasting large task binary with size 50.9 MiB\n",
      "24/06/01 12:33:24 WARN DAGScheduler: Broadcasting large task binary with size 50.9 MiB\n",
      "24/06/01 12:33:29 WARN DAGScheduler: Broadcasting large task binary with size 50.9 MiB\n",
      "24/06/01 12:33:32 WARN DAGScheduler: Broadcasting large task binary with size 51.0 MiB\n",
      "24/06/01 12:33:33 WARN DAGScheduler: Broadcasting large task binary with size 51.0 MiB\n",
      "24/06/01 12:33:34 WARN DAGScheduler: Broadcasting large task binary with size 50.9 MiB\n",
      "24/06/01 12:33:36 WARN DAGScheduler: Broadcasting large task binary with size 50.9 MiB\n",
      "24/06/01 12:33:38 WARN DAGScheduler: Broadcasting large task binary with size 50.9 MiB\n",
      "24/06/01 12:33:40 WARN DAGScheduler: Broadcasting large task binary with size 50.9 MiB\n",
      "24/06/01 12:33:42 WARN DAGScheduler: Broadcasting large task binary with size 50.9 MiB\n",
      "24/06/01 12:33:44 WARN DAGScheduler: Broadcasting large task binary with size 50.9 MiB\n",
      "24/06/01 12:33:46 WARN DAGScheduler: Broadcasting large task binary with size 50.9 MiB\n",
      "24/06/01 12:33:48 WARN DAGScheduler: Broadcasting large task binary with size 50.9 MiB\n",
      "24/06/01 12:33:50 WARN DAGScheduler: Broadcasting large task binary with size 50.9 MiB\n",
      "24/06/01 12:33:52 WARN DAGScheduler: Broadcasting large task binary with size 50.9 MiB\n",
      "24/06/01 12:33:54 WARN DAGScheduler: Broadcasting large task binary with size 50.9 MiB\n",
      "24/06/01 12:33:56 WARN DAGScheduler: Broadcasting large task binary with size 50.9 MiB\n",
      "24/06/01 12:33:58 WARN DAGScheduler: Broadcasting large task binary with size 50.9 MiB\n",
      "24/06/01 12:34:00 WARN DAGScheduler: Broadcasting large task binary with size 50.9 MiB\n",
      "24/06/01 12:34:02 WARN DAGScheduler: Broadcasting large task binary with size 50.9 MiB\n",
      "24/06/01 12:34:04 WARN DAGScheduler: Broadcasting large task binary with size 50.9 MiB\n",
      "24/06/01 12:34:07 WARN DAGScheduler: Broadcasting large task binary with size 50.9 MiB\n",
      "24/06/01 12:34:09 WARN DAGScheduler: Broadcasting large task binary with size 50.9 MiB\n",
      "24/06/01 12:34:11 WARN DAGScheduler: Broadcasting large task binary with size 50.9 MiB\n",
      "24/06/01 12:34:12 WARN DAGScheduler: Broadcasting large task binary with size 50.9 MiB\n",
      "24/06/01 12:34:14 WARN DAGScheduler: Broadcasting large task binary with size 50.9 MiB\n",
      "24/06/01 12:34:18 WARN DAGScheduler: Broadcasting large task binary with size 50.9 MiB\n",
      "24/06/01 12:34:21 WARN DAGScheduler: Broadcasting large task binary with size 51.0 MiB\n",
      "24/06/01 12:34:22 WARN DAGScheduler: Broadcasting large task binary with size 51.0 MiB\n",
      "24/06/01 12:34:24 WARN DAGScheduler: Broadcasting large task binary with size 50.9 MiB\n",
      "24/06/01 12:34:26 WARN DAGScheduler: Broadcasting large task binary with size 50.9 MiB\n",
      "24/06/01 12:34:30 WARN DAGScheduler: Broadcasting large task binary with size 50.9 MiB\n",
      "24/06/01 12:34:32 WARN DAGScheduler: Broadcasting large task binary with size 50.9 MiB\n",
      "24/06/01 12:34:34 WARN DAGScheduler: Broadcasting large task binary with size 50.9 MiB\n",
      "24/06/01 12:34:37 WARN DAGScheduler: Broadcasting large task binary with size 50.9 MiB\n",
      "24/06/01 12:34:39 WARN DAGScheduler: Broadcasting large task binary with size 50.9 MiB\n",
      "24/06/01 12:34:41 WARN DAGScheduler: Broadcasting large task binary with size 50.9 MiB\n",
      "24/06/01 12:34:43 WARN DAGScheduler: Broadcasting large task binary with size 50.9 MiB\n",
      "24/06/01 12:34:45 WARN DAGScheduler: Broadcasting large task binary with size 50.9 MiB\n",
      "24/06/01 12:34:47 WARN DAGScheduler: Broadcasting large task binary with size 50.9 MiB\n",
      "24/06/01 12:34:49 WARN DAGScheduler: Broadcasting large task binary with size 50.9 MiB\n",
      "24/06/01 12:34:51 WARN DAGScheduler: Broadcasting large task binary with size 50.9 MiB\n",
      "24/06/01 12:34:53 WARN DAGScheduler: Broadcasting large task binary with size 50.9 MiB\n",
      "24/06/01 12:34:55 WARN DAGScheduler: Broadcasting large task binary with size 50.9 MiB\n",
      "24/06/01 12:34:57 WARN DAGScheduler: Broadcasting large task binary with size 50.9 MiB\n",
      "24/06/01 12:34:59 WARN DAGScheduler: Broadcasting large task binary with size 50.9 MiB\n",
      "24/06/01 12:35:01 WARN DAGScheduler: Broadcasting large task binary with size 50.9 MiB\n",
      "                                                                                \r"
     ]
    }
   ],
   "source": [
    "# Running the cross validation; I don't advice running it yourself, the length of the output list speaks for itself.\n",
    "modelcv = cv.fit(train)"
   ]
  },
  {
   "cell_type": "code",
   "execution_count": 19,
   "metadata": {},
   "outputs": [],
   "source": [
    "best_model = modelcv.bestModel\n",
    "test_predictions = best_model.transform(test)"
   ]
  },
  {
   "cell_type": "code",
   "execution_count": 20,
   "metadata": {},
   "outputs": [],
   "source": [
    "within_range_test_predictions = test_predictions.withColumn(\"prediction\",\\\n",
    "    when(col(\"prediction\") < 0, 0.0)\\\n",
    "    .when(col(\"prediction\") > 5, 5.0)\\\n",
    "    .otherwise(col(\"prediction\")))"
   ]
  },
  {
   "cell_type": "code",
   "execution_count": 21,
   "metadata": {},
   "outputs": [
    {
     "name": "stderr",
     "output_type": "stream",
     "text": [
      "24/06/01 12:35:03 WARN DAGScheduler: Broadcasting large task binary with size 50.8 MiB\n",
      "24/06/01 12:35:05 WARN DAGScheduler: Broadcasting large task binary with size 50.9 MiB\n",
      "24/06/01 12:35:06 WARN DAGScheduler: Broadcasting large task binary with size 50.9 MiB\n",
      "24/06/01 12:35:11 WARN DAGScheduler: Broadcasting large task binary with size 50.9 MiB\n",
      "24/06/01 12:35:16 WARN DAGScheduler: Broadcasting large task binary with size 50.9 MiB\n",
      "24/06/01 12:35:18 WARN DAGScheduler: Broadcasting large task binary with size 51.0 MiB\n",
      "[Stage 1092:>                                                       (0 + 2) / 2]\r"
     ]
    },
    {
     "name": "stdout",
     "output_type": "stream",
     "text": [
      "3.656743924099279\n"
     ]
    },
    {
     "name": "stderr",
     "output_type": "stream",
     "text": [
      "                                                                                \r"
     ]
    }
   ],
   "source": [
    "rmse = evaluator.evaluate(within_range_test_predictions)\n",
    "print(rmse)"
   ]
  }
 ],
 "metadata": {
  "kernelspec": {
   "display_name": "Databases_Big_Data",
   "language": "python",
   "name": "python3"
  },
  "language_info": {
   "codemirror_mode": {
    "name": "ipython",
    "version": 3
   },
   "file_extension": ".py",
   "mimetype": "text/x-python",
   "name": "python",
   "nbconvert_exporter": "python",
   "pygments_lexer": "ipython3",
   "version": "3.12.2"
  }
 },
 "nbformat": 4,
 "nbformat_minor": 2
}
