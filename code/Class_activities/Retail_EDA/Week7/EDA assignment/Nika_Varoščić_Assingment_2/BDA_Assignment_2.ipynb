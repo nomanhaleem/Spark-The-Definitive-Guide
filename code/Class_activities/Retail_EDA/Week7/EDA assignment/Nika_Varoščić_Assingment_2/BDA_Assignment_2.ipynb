{
 "cells": [
  {
   "cell_type": "markdown",
   "metadata": {},
   "source": [
    "# Analysis of the Loan Default Rate"
   ]
  },
  {
   "cell_type": "markdown",
   "metadata": {},
   "source": [
    "### Metadata\n",
    "- LoanID: A unique identifier for each loan.\n",
    "- Age: The age of the borrower.\n",
    "- Income: The annual income of the borrower.\n",
    "- LoanAmount: The amount of money being borrowed.\n",
    "- CreditScore: The credit score of the borrower, indicating their creditworthiness.\n",
    "- MonthsEmployed: The number of months the borrower has been employed.\n",
    "- NumCreditLines: The number of credit lines the borrower has open.\n",
    "- InterestRate: The interest rate for the loan.\n",
    "- LoanTerm: The term length of the loan in months.\n",
    "- DTIRatio: The Debt-to-Income ratio, indicating the borrower's debt compared to their income.\n",
    "- Education: The highest level of education attained by the borrower (PhD, Master's, Bachelor's, High School).\n",
    "- EmploymentType: The type of employment status of the borrower (Full-time, Part-time, Self-employed, Unemployed).\n",
    "- MaritalStatus: The marital status of the borrower (Single, Married, Divorced).\n",
    "- HasMortgage: Whether the borrower has a mortgage (Yes or No).\n",
    "- HasDependents: Whether the borrower has dependents (Yes or No).\n",
    "- LoanPurpose: The purpose of the loan (Home, Auto, Education, Business, Other).\n",
    "- HasCoSigner: Whether the loan has a co-signer (Yes or No).\n",
    "- Default: The binary target variable indicating whether the loan defaulted (1) or not (0)."
   ]
  },
  {
   "cell_type": "code",
   "execution_count": 1,
   "metadata": {},
   "outputs": [
    {
     "name": "stderr",
     "output_type": "stream",
     "text": [
      "Setting default log level to \"WARN\".\n",
      "To adjust logging level use sc.setLogLevel(newLevel). For SparkR, use setLogLevel(newLevel).\n",
      "24/06/01 13:19:18 WARN NativeCodeLoader: Unable to load native-hadoop library for your platform... using builtin-java classes where applicable\n"
     ]
    }
   ],
   "source": [
    "# Initialize a spark session\n",
    "from pyspark.sql import SparkSession\n",
    "spark = SparkSession.builder.appName(\"loan_default_prediction\").getOrCreate()"
   ]
  },
  {
   "cell_type": "markdown",
   "metadata": {},
   "source": [
    "### Reading the data"
   ]
  },
  {
   "cell_type": "code",
   "execution_count": 2,
   "metadata": {},
   "outputs": [
    {
     "name": "stderr",
     "output_type": "stream",
     "text": [
      "                                                                                \r"
     ]
    }
   ],
   "source": [
    "df = spark.read.format(\"csv\")\\\n",
    "  .option(\"header\", \"true\")\\\n",
    "  .option(\"inferSchema\", \"true\")\\\n",
    "  .load(\"Loan_default.csv\")\\\n",
    "  .coalesce(10)"
   ]
  },
  {
   "cell_type": "markdown",
   "metadata": {},
   "source": [
    "## (i) Exploring the dataset"
   ]
  },
  {
   "cell_type": "code",
   "execution_count": 3,
   "metadata": {},
   "outputs": [
    {
     "name": "stdout",
     "output_type": "stream",
     "text": [
      "root\n",
      " |-- LoanID: string (nullable = true)\n",
      " |-- Age: integer (nullable = true)\n",
      " |-- Income: integer (nullable = true)\n",
      " |-- LoanAmount: integer (nullable = true)\n",
      " |-- CreditScore: integer (nullable = true)\n",
      " |-- MonthsEmployed: integer (nullable = true)\n",
      " |-- NumCreditLines: integer (nullable = true)\n",
      " |-- InterestRate: double (nullable = true)\n",
      " |-- LoanTerm: integer (nullable = true)\n",
      " |-- DTIRatio: double (nullable = true)\n",
      " |-- Education: string (nullable = true)\n",
      " |-- EmploymentType: string (nullable = true)\n",
      " |-- MaritalStatus: string (nullable = true)\n",
      " |-- HasMortgage: string (nullable = true)\n",
      " |-- HasDependents: string (nullable = true)\n",
      " |-- LoanPurpose: string (nullable = true)\n",
      " |-- HasCoSigner: string (nullable = true)\n",
      " |-- Default: integer (nullable = true)\n",
      "\n"
     ]
    }
   ],
   "source": [
    "# Checking the data types\n",
    "df.printSchema()"
   ]
  },
  {
   "cell_type": "code",
   "execution_count": 4,
   "metadata": {},
   "outputs": [
    {
     "data": {
      "text/plain": [
       "255347"
      ]
     },
     "execution_count": 4,
     "metadata": {},
     "output_type": "execute_result"
    }
   ],
   "source": [
    "# Checking the number of rows\n",
    "df.count()"
   ]
  },
  {
   "cell_type": "code",
   "execution_count": 5,
   "metadata": {},
   "outputs": [
    {
     "name": "stdout",
     "output_type": "stream",
     "text": [
      "+----------+---+------+----------+-----------+--------------+--------------+------------+--------+--------+-----------+--------------+-------------+-----------+-------------+-----------+-----------+-------+\n",
      "|    LoanID|Age|Income|LoanAmount|CreditScore|MonthsEmployed|NumCreditLines|InterestRate|LoanTerm|DTIRatio|  Education|EmploymentType|MaritalStatus|HasMortgage|HasDependents|LoanPurpose|HasCoSigner|Default|\n",
      "+----------+---+------+----------+-----------+--------------+--------------+------------+--------+--------+-----------+--------------+-------------+-----------+-------------+-----------+-----------+-------+\n",
      "|I38PQUQS96| 56| 85994|     50587|        520|            80|             4|       15.23|      36|    0.44| Bachelor's|     Full-time|     Divorced|        Yes|          Yes|      Other|        Yes|      0|\n",
      "|HPSK72WA7R| 69| 50432|    124440|        458|            15|             1|        4.81|      60|    0.68|   Master's|     Full-time|      Married|         No|           No|      Other|        Yes|      0|\n",
      "|C1OZ6DPJ8Y| 46| 84208|    129188|        451|            26|             3|       21.17|      24|    0.31|   Master's|    Unemployed|     Divorced|        Yes|          Yes|       Auto|         No|      1|\n",
      "|V2KKSFM3UN| 32| 31713|     44799|        743|             0|             3|        7.07|      24|    0.23|High School|     Full-time|      Married|         No|           No|   Business|         No|      0|\n",
      "|EY08JDHTZP| 60| 20437|      9139|        633|             8|             4|        6.51|      48|    0.73| Bachelor's|    Unemployed|     Divorced|         No|          Yes|       Auto|         No|      0|\n",
      "+----------+---+------+----------+-----------+--------------+--------------+------------+--------+--------+-----------+--------------+-------------+-----------+-------------+-----------+-----------+-------+\n",
      "only showing top 5 rows\n",
      "\n"
     ]
    }
   ],
   "source": [
    "# Printing the first 5 rows\n",
    "df.show(5)"
   ]
  },
  {
   "cell_type": "markdown",
   "metadata": {},
   "source": [
    "From the first five rows we can see that there are come categorical variables which will need to be encoded."
   ]
  },
  {
   "cell_type": "markdown",
   "metadata": {},
   "source": [
    "### Encoding the categorical variables"
   ]
  },
  {
   "cell_type": "markdown",
   "metadata": {},
   "source": [
    "1. Categorical variables that have two classes"
   ]
  },
  {
   "cell_type": "code",
   "execution_count": 6,
   "metadata": {},
   "outputs": [],
   "source": [
    "from pyspark.sql.functions import when\n",
    "\n",
    "# Encode 'Yes' as 1 and 'No' as 0 for HasMortgage column\n",
    "df = df.withColumn('HasMortgage', when(df['HasMortgage'] == 'Yes', 1)\n",
    "                                  .when(df['HasMortgage'] == 'No', 0))\n",
    "\n",
    "# Encode 'Yes' as 1 and 'No' as 0 for HasDependents column\n",
    "df = df.withColumn('HasDependents', when(df['HasDependents'] == 'Yes', 1)\n",
    "                                    .when(df['HasDependents'] == 'No', 0))\n",
    "\n",
    "# Encode 'Yes' as 1 and 'No' as 0 for HasCoSigner column\n",
    "df = df.withColumn('HasCoSigner', when(df['HasCoSigner'] == 'Yes', 1)\n",
    "                                  .when(df['HasCoSigner'] == 'No', 0))"
   ]
  },
  {
   "cell_type": "code",
   "execution_count": 7,
   "metadata": {},
   "outputs": [
    {
     "name": "stdout",
     "output_type": "stream",
     "text": [
      "+----------+---+------+----------+-----------+--------------+--------------+------------+--------+--------+-----------+--------------+-------------+-----------+-------------+-----------+-----------+-------+\n",
      "|    LoanID|Age|Income|LoanAmount|CreditScore|MonthsEmployed|NumCreditLines|InterestRate|LoanTerm|DTIRatio|  Education|EmploymentType|MaritalStatus|HasMortgage|HasDependents|LoanPurpose|HasCoSigner|Default|\n",
      "+----------+---+------+----------+-----------+--------------+--------------+------------+--------+--------+-----------+--------------+-------------+-----------+-------------+-----------+-----------+-------+\n",
      "|I38PQUQS96| 56| 85994|     50587|        520|            80|             4|       15.23|      36|    0.44| Bachelor's|     Full-time|     Divorced|          1|            1|      Other|          1|      0|\n",
      "|HPSK72WA7R| 69| 50432|    124440|        458|            15|             1|        4.81|      60|    0.68|   Master's|     Full-time|      Married|          0|            0|      Other|          1|      0|\n",
      "|C1OZ6DPJ8Y| 46| 84208|    129188|        451|            26|             3|       21.17|      24|    0.31|   Master's|    Unemployed|     Divorced|          1|            1|       Auto|          0|      1|\n",
      "|V2KKSFM3UN| 32| 31713|     44799|        743|             0|             3|        7.07|      24|    0.23|High School|     Full-time|      Married|          0|            0|   Business|          0|      0|\n",
      "|EY08JDHTZP| 60| 20437|      9139|        633|             8|             4|        6.51|      48|    0.73| Bachelor's|    Unemployed|     Divorced|          0|            1|       Auto|          0|      0|\n",
      "+----------+---+------+----------+-----------+--------------+--------------+------------+--------+--------+-----------+--------------+-------------+-----------+-------------+-----------+-----------+-------+\n",
      "only showing top 5 rows\n",
      "\n"
     ]
    }
   ],
   "source": [
    "df.show(5)"
   ]
  },
  {
   "cell_type": "markdown",
   "metadata": {},
   "source": [
    "In the table above we see that the categorical columns with two classes were encoded correctly."
   ]
  },
  {
   "cell_type": "markdown",
   "metadata": {},
   "source": [
    "2. Categorical variables that have more than two classes"
   ]
  },
  {
   "cell_type": "code",
   "execution_count": 8,
   "metadata": {},
   "outputs": [],
   "source": [
    "from pyspark.ml.feature import OneHotEncoder, StringIndexer\n",
    "\n",
    "categorical_columns = [\"Education\", \"EmploymentType\", \"MaritalStatus\", \"LoanPurpose\"]\n",
    "\n",
    "# initiate an empty list called stages to store various pipeline stages \n",
    "stages = []\n",
    "\n",
    "for categorical_col in categorical_columns:\n",
    "    stringIndexer = StringIndexer(inputCol = categorical_col, outputCol = categorical_col + 'Index')\n",
    "    encoder = OneHotEncoder(inputCols=[stringIndexer.getOutputCol()], outputCols=[categorical_col + \"classVec\"])\n",
    "    # string indexer for converting categorical data into numerical representations. Index is added to output column name to differentiate it from original column.\n",
    "    # Onehotencoder creates binary arrays from category indices created using string indexer\n",
    "\n",
    "    stages += [stringIndexer, encoder]\n",
    "\n",
    "# stringindexer converts from string to number but the onehotencoder produces vectors that do not prioritize the numbers in any order"
   ]
  },
  {
   "cell_type": "code",
   "execution_count": 9,
   "metadata": {},
   "outputs": [
    {
     "name": "stderr",
     "output_type": "stream",
     "text": [
      "24/06/01 13:19:36 WARN SparkStringUtils: Truncated the string representation of a plan since it was too large. This behavior can be adjusted by setting 'spark.sql.debug.maxToStringFields'.\n"
     ]
    },
    {
     "name": "stdout",
     "output_type": "stream",
     "text": [
      "+--------------------+\n",
      "|            features|\n",
      "+--------------------+\n",
      "|[1.0,0.0,0.0,0.0,...|\n",
      "|(24,[2,6,11,12,13...|\n",
      "|(24,[2,4,7,12,13,...|\n",
      "|(24,[1,6,8,12,13,...|\n",
      "|(24,[0,4,7,12,13,...|\n",
      "|(24,[1,4,8,12,13,...|\n",
      "|(24,[0,4,9,12,13,...|\n",
      "|(24,[6,9,12,13,14...|\n",
      "|(24,[0,5,7,10,12,...|\n",
      "|[0.0,1.0,0.0,0.0,...|\n",
      "|(24,[1,4,6,10,12,...|\n",
      "|(24,[7,10,12,13,1...|\n",
      "|(24,[2,7,12,13,14...|\n",
      "|(24,[1,4,12,13,14...|\n",
      "|(24,[2,3,7,9,12,1...|\n",
      "|(24,[2,4,6,12,13,...|\n",
      "|(24,[4,9,12,13,14...|\n",
      "|(24,[2,5,11,12,13...|\n",
      "|(24,[0,5,7,10,12,...|\n",
      "|(24,[1,5,11,12,13...|\n",
      "+--------------------+\n",
      "only showing top 20 rows\n",
      "\n"
     ]
    }
   ],
   "source": [
    "from pyspark.ml import Pipeline\n",
    "from pyspark.ml.feature import VectorAssembler\n",
    "\n",
    "# list of numeric columns (without the column \"Default\")\n",
    "numeric_columns = [\"Age\", \"Income\", \"LoanAmount\", \"CreditScore\", \"MonthsEmployed\", \"NumCreditLines\", \"InterestRate\", \"LoanTerm\", \"DTIRatio\", \"HasMortgage\", \"HasDependents\", \"HasCoSigner\"]\n",
    "\n",
    "# combine input columns for VectorAssembler\n",
    "assembler_inputs = [c + \"classVec\" for c in categorical_columns] + numeric_columns\n",
    "\n",
    "# create the VectorAssembler\n",
    "assembler = VectorAssembler(inputCols=assembler_inputs, outputCol=\"features\")\n",
    "\n",
    "# add the assembler to the stages list\n",
    "stages.append(assembler)\n",
    "\n",
    "# create and run the pipeline\n",
    "pipeline = Pipeline(stages=stages)\n",
    "pipelineModel = pipeline.fit(df)\n",
    "df = pipelineModel.transform(df)\n",
    "\n",
    "# show the features column\n",
    "df.select(\"features\").show()\n"
   ]
  },
  {
   "cell_type": "markdown",
   "metadata": {},
   "source": [
    "### Checking for missing values"
   ]
  },
  {
   "cell_type": "code",
   "execution_count": 10,
   "metadata": {},
   "outputs": [
    {
     "name": "stderr",
     "output_type": "stream",
     "text": [
      "[Stage 20:=========>                                                (1 + 5) / 6]\r"
     ]
    },
    {
     "name": "stdout",
     "output_type": "stream",
     "text": [
      "+------+---+------+----------+-----------+--------------+--------------+------------+--------+--------+---------+--------------+-------------+-----------+-------------+-----------+-----------+-------+--------------+-----------------+-------------------+----------------------+------------------+---------------------+----------------+-------------------+--------+\n",
      "|LoanID|Age|Income|LoanAmount|CreditScore|MonthsEmployed|NumCreditLines|InterestRate|LoanTerm|DTIRatio|Education|EmploymentType|MaritalStatus|HasMortgage|HasDependents|LoanPurpose|HasCoSigner|Default|EducationIndex|EducationclassVec|EmploymentTypeIndex|EmploymentTypeclassVec|MaritalStatusIndex|MaritalStatusclassVec|LoanPurposeIndex|LoanPurposeclassVec|features|\n",
      "+------+---+------+----------+-----------+--------------+--------------+------------+--------+--------+---------+--------------+-------------+-----------+-------------+-----------+-----------+-------+--------------+-----------------+-------------------+----------------------+------------------+---------------------+----------------+-------------------+--------+\n",
      "|     0|  0|     0|         0|          0|             0|             0|           0|       0|       0|        0|             0|            0|          0|            0|          0|          0|      0|             0|                0|                  0|                     0|                 0|                    0|               0|                  0|       0|\n",
      "+------+---+------+----------+-----------+--------------+--------------+------------+--------+--------+---------+--------------+-------------+-----------+-------------+-----------+-----------+-------+--------------+-----------------+-------------------+----------------------+------------------+---------------------+----------------+-------------------+--------+\n",
      "\n"
     ]
    },
    {
     "name": "stderr",
     "output_type": "stream",
     "text": [
      "                                                                                \r"
     ]
    }
   ],
   "source": [
    "from pyspark.sql.functions import isnan, when, count, col\n",
    "\n",
    "df.select([count(when(col(c).isNull(), c)).alias(c) for c in df.columns]).show()\n",
    "# for c in df: iterates over each column name in the dataframe\n",
    "# col(c).isNull(): checks if the value in the current column c is null or not\n",
    "# when(col(c).isNull(), c): creates a column with the column name c if the value in that column is null otherwise, it creates a column with null values\n",
    "# the count function counts the number of non-null values in the current column c"
   ]
  },
  {
   "cell_type": "markdown",
   "metadata": {},
   "source": [
    "From the resulting dataframe above we can see that there are no NaN values so we don't need to delete any rows."
   ]
  },
  {
   "cell_type": "markdown",
   "metadata": {},
   "source": [
    "### Check for unbalance in the dataset"
   ]
  },
  {
   "cell_type": "code",
   "execution_count": 11,
   "metadata": {},
   "outputs": [],
   "source": [
    "# register the DataFrame as a temporary view\n",
    "df.createOrReplaceTempView(\"loan_data\")"
   ]
  },
  {
   "cell_type": "code",
   "execution_count": 12,
   "metadata": {},
   "outputs": [
    {
     "name": "stdout",
     "output_type": "stream",
     "text": [
      "Number of loans by default status:\n"
     ]
    },
    {
     "name": "stderr",
     "output_type": "stream",
     "text": [
      "[Stage 23:>                                                         (0 + 6) / 6]\r"
     ]
    },
    {
     "name": "stdout",
     "output_type": "stream",
     "text": [
      "+-------+------+\n",
      "|Default| count|\n",
      "+-------+------+\n",
      "|      1| 29653|\n",
      "|      0|225694|\n",
      "+-------+------+\n",
      "\n"
     ]
    },
    {
     "name": "stderr",
     "output_type": "stream",
     "text": [
      "                                                                                \r"
     ]
    }
   ],
   "source": [
    "print(\"Number of loans by default status:\")\n",
    "spark.sql(\"SELECT `Default`, COUNT(*) AS count FROM loan_data GROUP BY `Default`\").show()"
   ]
  },
  {
   "cell_type": "markdown",
   "metadata": {},
   "source": [
    "The table above indicates that there are more loans that didn't default than those that did. We can also visualize this using Pandas library."
   ]
  },
  {
   "cell_type": "code",
   "execution_count": 13,
   "metadata": {},
   "outputs": [
    {
     "name": "stderr",
     "output_type": "stream",
     "text": [
      "                                                                                \r"
     ]
    }
   ],
   "source": [
    "# convert df to a pandas dataframe for visualization\n",
    "df_pd=df.toPandas()"
   ]
  },
  {
   "cell_type": "code",
   "execution_count": 14,
   "metadata": {},
   "outputs": [
    {
     "data": {
      "image/png": "[encoded data removed]",
      "text/plain": [
       "<Figure size 2000x1000 with 1 Axes>"
      ]
     },
     "metadata": {},
     "output_type": "display_data"
    }
   ],
   "source": [
    "import matplotlib.pyplot as plt\n",
    "import seaborn as sns\n",
    "\n",
    "plt.figure(figsize=(20,10))\n",
    "plt.subplot(221)\n",
    "sns.countplot(x='Default', data=df_pd, order=df_pd['Default'].value_counts().index)\n",
    "plt.show()"
   ]
  },
  {
   "cell_type": "markdown",
   "metadata": {},
   "source": [
    "The figure above supports our previous observation that there are much more loans that didn't defaulted than those that did defaulted. This indicates that the target variable is unbalanced. This is a common issue in credit risk and fraud detection datasets, where the target class (in this case, default) is typically a rare event."
   ]
  },
  {
   "cell_type": "markdown",
   "metadata": {},
   "source": [
    "We can also use the same code to visualize distribution of other columns."
   ]
  },
  {
   "cell_type": "code",
   "execution_count": 15,
   "metadata": {},
   "outputs": [
    {
     "data": {
      "image/png": "[encoded data removed]",
      "text/plain": [
       "<Figure size 2000x1000 with 1 Axes>"
      ]
     },
     "metadata": {},
     "output_type": "display_data"
    }
   ],
   "source": [
    "plt.figure(figsize=(20,10))\n",
    "plt.subplot(221)\n",
    "sns.countplot(x='HasMortgage', data=df_pd, order=df_pd['HasMortgage'].value_counts().index)\n",
    "plt.show()"
   ]
  },
  {
   "cell_type": "code",
   "execution_count": 16,
   "metadata": {},
   "outputs": [
    {
     "data": {
      "image/png": "[encoded data removed]",
      "text/plain": [
       "<Figure size 2000x1000 with 1 Axes>"
      ]
     },
     "metadata": {},
     "output_type": "display_data"
    }
   ],
   "source": [
    "plt.figure(figsize=(20,10))\n",
    "plt.subplot(221)\n",
    "sns.countplot(x='HasDependents', data=df_pd, order=df_pd['HasDependents'].value_counts().index)\n",
    "plt.show()"
   ]
  },
  {
   "cell_type": "code",
   "execution_count": 17,
   "metadata": {},
   "outputs": [
    {
     "data": {
      "image/png": "[encoded data removed]",
      "text/plain": [
       "<Figure size 2000x1000 with 1 Axes>"
      ]
     },
     "metadata": {},
     "output_type": "display_data"
    }
   ],
   "source": [
    "plt.figure(figsize=(20,10))\n",
    "plt.subplot(221)\n",
    "sns.countplot(x='HasCoSigner', data=df_pd, order=df_pd['HasCoSigner'].value_counts().index)\n",
    "plt.show()"
   ]
  },
  {
   "cell_type": "markdown",
   "metadata": {},
   "source": [
    "From the three plots above we can see that the varaibles \"HasMortgage\", \"HasDependents\", and \"HasCoSigner\" are perfectly equally distributed."
   ]
  },
  {
   "cell_type": "markdown",
   "metadata": {},
   "source": [
    "### Grouping data"
   ]
  },
  {
   "cell_type": "markdown",
   "metadata": {},
   "source": [
    "1. Default rate by education"
   ]
  },
  {
   "cell_type": "code",
   "execution_count": 18,
   "metadata": {},
   "outputs": [
    {
     "name": "stderr",
     "output_type": "stream",
     "text": [
      "[Stage 27:>                                                         (0 + 6) / 6]\r"
     ]
    },
    {
     "name": "stdout",
     "output_type": "stream",
     "text": [
      "+-----------+------------+\n",
      "|  Education|default_rate|\n",
      "+-----------+------------+\n",
      "|High School|        0.13|\n",
      "| Bachelor's|        0.12|\n",
      "|        PhD|        0.11|\n",
      "|   Master's|        0.11|\n",
      "+-----------+------------+\n",
      "\n"
     ]
    },
    {
     "name": "stderr",
     "output_type": "stream",
     "text": [
      "                                                                                \r"
     ]
    }
   ],
   "source": [
    "spark.sql(\"\"\"\n",
    "SELECT Education, ROUND(AVG(CAST(`Default` AS DOUBLE)), 2) AS default_rate\n",
    "FROM loan_data\n",
    "GROUP BY Education\n",
    "ORDER BY default_rate DESC\n",
    "\"\"\").show()"
   ]
  },
  {
   "cell_type": "markdown",
   "metadata": {},
   "source": [
    "In the table above a higher default rate for a particular education level indicates that borrowers with that education level are more likely to default on their loans. Therefore, borrowers with high school are more likely to default than those with a Bachelor's degree and even more likely than those with either PhD or Master's degree. However, the differences among the education groups are very small."
   ]
  },
  {
   "cell_type": "markdown",
   "metadata": {},
   "source": [
    "2. Default are by income\n",
    "\n",
    "We can also greate income classess and see how that affects the default rate. Here we take into acccount that the minimum annual income in this dataset is 15 000 and the maximum is 149 999. "
   ]
  },
  {
   "cell_type": "code",
   "execution_count": 19,
   "metadata": {},
   "outputs": [
    {
     "name": "stdout",
     "output_type": "stream",
     "text": [
      "+----------------+------------+\n",
      "|    income_range|default_rate|\n",
      "+----------------+------------+\n",
      "|      Low Income|        0.22|\n",
      "|   Middle Income|        0.12|\n",
      "|     High Income|         0.1|\n",
      "|Very High Income|        0.09|\n",
      "+----------------+------------+\n",
      "\n"
     ]
    }
   ],
   "source": [
    "spark.sql(\"\"\"\n",
    "SELECT\n",
    "    CASE\n",
    "        WHEN Income < 30000 THEN 'Low Income'\n",
    "        WHEN Income >= 30000 AND Income < 75000 THEN 'Middle Income'\n",
    "        WHEN Income >= 75000 AND Income < 125000 THEN 'High Income'\n",
    "        ELSE 'Very High Income'\n",
    "    END AS income_range,\n",
    "    ROUND(AVG(CAST(`Default` AS DOUBLE)), 2) AS default_rate\n",
    "FROM loan_data\n",
    "GROUP BY income_range\n",
    "ORDER BY default_rate DESC\n",
    "\"\"\").show()"
   ]
  },
  {
   "cell_type": "markdown",
   "metadata": {},
   "source": [
    "From the output above we see that the default rate is the highest for low income and the lowest for high and very high income. This is expected since people with low income are more likely to encounter financial trouble when paying back a loan."
   ]
  },
  {
   "cell_type": "markdown",
   "metadata": {},
   "source": [
    "3. Default rate by employment type "
   ]
  },
  {
   "cell_type": "code",
   "execution_count": 20,
   "metadata": {},
   "outputs": [
    {
     "name": "stdout",
     "output_type": "stream",
     "text": [
      "+--------------+------------+\n",
      "|EmploymentType|default_rate|\n",
      "+--------------+------------+\n",
      "|    Unemployed|        0.14|\n",
      "|     Part-time|        0.12|\n",
      "| Self-employed|        0.11|\n",
      "|     Full-time|        0.09|\n",
      "+--------------+------------+\n",
      "\n"
     ]
    }
   ],
   "source": [
    "spark.sql(\"\"\"\n",
    "SELECT EmploymentType, ROUND(AVG(CAST(`Default` AS DOUBLE)), 2) AS default_rate\n",
    "FROM loan_data\n",
    "GROUP BY EmploymentType\n",
    "ORDER BY default_rate DESC\n",
    "\"\"\").show()"
   ]
  },
  {
   "cell_type": "markdown",
   "metadata": {},
   "source": [
    "As expected, the default rate is the highest for those that are unemployed and the lowest for those who are employed full-time. However, the differences between the groups are very small."
   ]
  },
  {
   "cell_type": "markdown",
   "metadata": {},
   "source": [
    "4. Default rate by loan purpose"
   ]
  },
  {
   "cell_type": "code",
   "execution_count": 21,
   "metadata": {},
   "outputs": [
    {
     "name": "stdout",
     "output_type": "stream",
     "text": [
      "+-----------+------------+\n",
      "|LoanPurpose|default_rate|\n",
      "+-----------+------------+\n",
      "|  Education|        0.12|\n",
      "|      Other|        0.12|\n",
      "|       Auto|        0.12|\n",
      "|   Business|        0.12|\n",
      "|       Home|         0.1|\n",
      "+-----------+------------+\n",
      "\n"
     ]
    }
   ],
   "source": [
    "spark.sql(\"\"\"\n",
    "SELECT LoanPurpose, ROUND(AVG(CAST(`Default` AS DOUBLE)), 2) AS default_rate\n",
    "FROM loan_data\n",
    "GROUP BY LoanPurpose\n",
    "ORDER BY default_rate DESC\n",
    "\"\"\").show()"
   ]
  },
  {
   "cell_type": "markdown",
   "metadata": {},
   "source": [
    "Here we see that the default rate for education, auto, business,and other is the same (12%) and a little higher than for home (10%). This indicates that landing money for the purpose of home-related expenses is more safe for institutions like banks than for other loan purposes."
   ]
  },
  {
   "cell_type": "markdown",
   "metadata": {},
   "source": [
    "5. Default rate by marital status"
   ]
  },
  {
   "cell_type": "code",
   "execution_count": 22,
   "metadata": {},
   "outputs": [
    {
     "name": "stdout",
     "output_type": "stream",
     "text": [
      "+-------------+------------+\n",
      "|MaritalStatus|default_rate|\n",
      "+-------------+------------+\n",
      "|     Divorced|        0.13|\n",
      "|       Single|        0.12|\n",
      "|      Married|         0.1|\n",
      "+-------------+------------+\n",
      "\n"
     ]
    }
   ],
   "source": [
    "spark.sql(\"\"\"\n",
    "SELECT MaritalStatus, ROUND(AVG(CAST(`Default` AS DOUBLE)), 2) AS default_rate\n",
    "FROM loan_data\n",
    "GROUP BY MaritalStatus\n",
    "ORDER BY default_rate DESC\n",
    "\"\"\").show()"
   ]
  },
  {
   "cell_type": "markdown",
   "metadata": {},
   "source": [
    "We see that those that are divorced have a higher default rate than those that are single and married."
   ]
  },
  {
   "cell_type": "markdown",
   "metadata": {},
   "source": [
    "### Checking for outliers"
   ]
  },
  {
   "cell_type": "code",
   "execution_count": 23,
   "metadata": {},
   "outputs": [
    {
     "data": {
      "image/png": "[encoded data removed]",
      "text/plain": [
       "<Figure size 640x480 with 1 Axes>"
      ]
     },
     "metadata": {},
     "output_type": "display_data"
    },
    {
     "data": {
      "image/png": "[encoded data removed]",
      "text/plain": [
       "<Figure size 640x480 with 1 Axes>"
      ]
     },
     "metadata": {},
     "output_type": "display_data"
    },
    {
     "data": {
      "image/png": "[encoded data removed]",
      "text/plain": [
       "<Figure size 640x480 with 1 Axes>"
      ]
     },
     "metadata": {},
     "output_type": "display_data"
    },
    {
     "data": {
      "image/png": "[encoded data removed]",
      "text/plain": [
       "<Figure size 640x480 with 1 Axes>"
      ]
     },
     "metadata": {},
     "output_type": "display_data"
    },
    {
     "data": {
      "image/png": "[encoded data removed]",
      "text/plain": [
       "<Figure size 640x480 with 1 Axes>"
      ]
     },
     "metadata": {},
     "output_type": "display_data"
    },
    {
     "data": {
      "image/png": "[encoded data removed]",
      "text/plain": [
       "<Figure size 640x480 with 1 Axes>"
      ]
     },
     "metadata": {},
     "output_type": "display_data"
    },
    {
     "data": {
      "image/png": "[encoded data removed]",
      "text/plain": [
       "<Figure size 640x480 with 1 Axes>"
      ]
     },
     "metadata": {},
     "output_type": "display_data"
    },
    {
     "data": {
      "image/png": "[encoded data removed]",
      "text/plain": [
       "<Figure size 640x480 with 1 Axes>"
      ]
     },
     "metadata": {},
     "output_type": "display_data"
    },
    {
     "data": {
      "image/png": "[encoded data removed]",
      "text/plain": [
       "<Figure size 640x480 with 1 Axes>"
      ]
     },
     "metadata": {},
     "output_type": "display_data"
    }
   ],
   "source": [
    "# create another list of numeric columns where we exclude the binary categorical encoded columns because it doesn't make sense to do a box plot on data that can only take values of 0 and 1 but rather on continious data\n",
    "numeric_columns_2 = [\"Age\", \"Income\", \"LoanAmount\", \"CreditScore\", \"MonthsEmployed\", \"NumCreditLines\", \"InterestRate\", \"LoanTerm\", \"DTIRatio\"]\n",
    "\n",
    "# iterate through the numeric columns and draw a box plot for each variable to check for outliers\n",
    "for col in numeric_columns_2:\n",
    "    sns.boxplot(y=col,data=df_pd)\n",
    "    plt.title(f'Boxplot of {col}')\n",
    "    plt.show()"
   ]
  },
  {
   "cell_type": "markdown",
   "metadata": {},
   "source": [
    "From the box plots above we see that no variable has outliers since there is no point that would lie outside the whiskers. "
   ]
  },
  {
   "cell_type": "markdown",
   "metadata": {},
   "source": [
    "## (ii) Applying statistical methods"
   ]
  },
  {
   "cell_type": "markdown",
   "metadata": {},
   "source": [
    "#### Univariate analysis"
   ]
  },
  {
   "cell_type": "code",
   "execution_count": 24,
   "metadata": {},
   "outputs": [
    {
     "name": "stderr",
     "output_type": "stream",
     "text": [
      "[Stage 42:>                                                         (0 + 6) / 6]\r"
     ]
    },
    {
     "name": "stdout",
     "output_type": "stream",
     "text": [
      "+-------+------------------+-----------------+------------------+------------------+------------------+------------------+------------------+------------------+-------------------+------------------+------------------+------------------+-------------------+\n",
      "|summary|               Age|           Income|        LoanAmount|       CreditScore|    MonthsEmployed|    NumCreditLines|      InterestRate|          LoanTerm|           DTIRatio|       HasMortgage|     HasDependents|       HasCoSigner|            Default|\n",
      "+-------+------------------+-----------------+------------------+------------------+------------------+------------------+------------------+------------------+-------------------+------------------+------------------+------------------+-------------------+\n",
      "|  count|            255347|           255347|            255347|            255347|            255347|            255347|            255347|            255347|             255347|            255347|            255347|            255347|             255347|\n",
      "|   mean|43.498306226429136|82499.30459727351|127578.86551242035| 574.2643461642392|59.541976212761455| 2.501035845339871|13.492773480792813| 36.02589417537703| 0.5002120643673129|0.5000137068381457|0.5002682624037095|0.5001076965854309|0.11612824901017048|\n",
      "| stddev|14.990258418709592|38963.01372937819| 70840.70614150065|158.90386659497548| 34.64337563735204|1.1170176714339635| 6.636443064944302|16.969330034462843|0.23091661543575978|0.5000009788748663|0.5000009070978805|0.5000009674641654|  0.320379276430457|\n",
      "|    min|                18|            15000|              5000|               300|                 0|                 1|               2.0|                12|                0.1|                 0|                 0|                 0|                  0|\n",
      "|    max|                69|           149999|            249999|               849|               119|                 4|              25.0|                60|                0.9|                 1|                 1|                 1|                  1|\n",
      "+-------+------------------+-----------------+------------------+------------------+------------------+------------------+------------------+------------------+-------------------+------------------+------------------+------------------+-------------------+\n",
      "\n"
     ]
    },
    {
     "name": "stderr",
     "output_type": "stream",
     "text": [
      "                                                                                \r"
     ]
    }
   ],
   "source": [
    "# create another list of numerical columns where you include the columns from the first list plus the target varaible \"Default\"\n",
    "numeric_columns_3 = numeric_columns + [\"Default\"]\n",
    "\n",
    "df.select(numeric_columns_3).describe().show()"
   ]
  },
  {
   "cell_type": "markdown",
   "metadata": {},
   "source": [
    "The table above provides some insights into the data related to descriptive statistics. We can see the mean, standard deviation and the range of values in the numerical columns. We didn't include OneHotEncoded columns because it doesn't make sense to use the describe function on them since it would't provide any useful insights. \n",
    "\n",
    "We can compare how dispered are variables. For instance, Age has much smaller standard deviation than income which is also supported if we look at the range of values in these two columns. We can draw similar insights about other variables and compare them with each other."
   ]
  },
  {
   "cell_type": "markdown",
   "metadata": {},
   "source": [
    "Next, we can check the frequency distributions for categorical columns."
   ]
  },
  {
   "cell_type": "code",
   "execution_count": 25,
   "metadata": {},
   "outputs": [
    {
     "name": "stdout",
     "output_type": "stream",
     "text": [
      "+-----------+-----+\n",
      "|  Education|count|\n",
      "+-----------+-----+\n",
      "|High School|63903|\n",
      "|        PhD|63537|\n",
      "| Bachelor's|64366|\n",
      "|   Master's|63541|\n",
      "+-----------+-----+\n",
      "\n",
      "None\n",
      "+--------------+-----+\n",
      "|EmploymentType|count|\n",
      "+--------------+-----+\n",
      "|     Part-time|64161|\n",
      "| Self-employed|63706|\n",
      "|     Full-time|63656|\n",
      "|    Unemployed|63824|\n",
      "+--------------+-----+\n",
      "\n",
      "None\n",
      "+-------------+-----+\n",
      "|MaritalStatus|count|\n",
      "+-------------+-----+\n",
      "|      Married|85302|\n",
      "|     Divorced|85033|\n",
      "|       Single|85012|\n",
      "+-------------+-----+\n",
      "\n",
      "None\n",
      "+-----------+-----+\n",
      "|LoanPurpose|count|\n",
      "+-----------+-----+\n",
      "|  Education|51005|\n",
      "|       Home|51286|\n",
      "|      Other|50914|\n",
      "|       Auto|50844|\n",
      "|   Business|51298|\n",
      "+-----------+-----+\n",
      "\n",
      "None\n"
     ]
    }
   ],
   "source": [
    "# check the frequency distributions\n",
    "for col in categorical_columns:\n",
    "    print(df.groupBy(col).count().show())"
   ]
  },
  {
   "cell_type": "markdown",
   "metadata": {},
   "source": [
    "We can see that the distribution accross different classess for each categorical column with more than two classes is very even and balanced which is an extention of the exploration we did in the previous step. Overall, the counts across these categorical variables appear to be relatively balanced, with no significant over-representation or under-representation of any particular category. This is generally desirable when building machine learning models, as imbalanced data can introduce biases and affect the model's performance. This also goes in hand with the insights we got when grouping data and comparing default rate across different groups. We also didn't notice any singnificant over or under-representation."
   ]
  },
  {
   "cell_type": "markdown",
   "metadata": {},
   "source": [
    "#### Bivariate analysis"
   ]
  },
  {
   "cell_type": "code",
   "execution_count": 26,
   "metadata": {},
   "outputs": [
    {
     "data": {
      "image/png": "[encoded data removed]",
      "text/plain": [
       "<Figure size 1000x800 with 2 Axes>"
      ]
     },
     "metadata": {},
     "output_type": "display_data"
    }
   ],
   "source": [
    "correlation_matrix = df_pd[numeric_columns_3].corr()\n",
    "plt.figure(figsize=(10, 8))\n",
    "sns.heatmap(correlation_matrix, annot=True, cmap=\"coolwarm\", fmt=\".2f\", linewidths=0.5)\n",
    "plt.title(\"Correlation Matrix\")\n",
    "plt.show()"
   ]
  },
  {
   "cell_type": "markdown",
   "metadata": {},
   "source": [
    "We can display a correlation matrix to check for collinearity between variables and between the variables and the target variable which is \"Default\" and will be used later in the machine learning stage. The \"fmt\" parameters indicates that the numbers should be formatted as floating-point numbers with two decimal places. Without passing that parameter, the correlation values between all variables were actually less than 0.00, that's why there are many correlations equal to 0 on the matrix. This indicates that there is no collinearity at all which is an ideal scenario and could imply that this dataset was adjusted to be more suitable for machine learning and other analysis.\n",
    "\n",
    "Furthermore, we can see that almost all variables have some correlation with the target varaible \"Default\" but no correlation is above 0.2 which is very low. This could be due to the fact that the \"Default\" variable is binary so let's try to calculate point-biserial correlation, which is specifically designed to capture the relationship between a continuous variable and a binary variable."
   ]
  },
  {
   "cell_type": "code",
   "execution_count": 27,
   "metadata": {},
   "outputs": [
    {
     "name": "stdout",
     "output_type": "stream",
     "text": [
      "          Variable  Point-Biserial Correlation\n",
      "0              Age                   -0.167783\n",
      "1           Income                   -0.099119\n",
      "2       LoanAmount                    0.086659\n",
      "3      CreditScore                   -0.034166\n",
      "4   MonthsEmployed                   -0.097374\n",
      "5   NumCreditLines                    0.028330\n",
      "6     InterestRate                    0.131273\n",
      "7         LoanTerm                    0.000545\n",
      "8         DTIRatio                    0.019236\n",
      "9      HasMortgage                   -0.022856\n",
      "10   HasDependents                   -0.034678\n",
      "11     HasCoSigner                   -0.039109\n"
     ]
    }
   ],
   "source": [
    "import pandas as pd\n",
    "import numpy as np\n",
    "from scipy.stats import pointbiserialr\n",
    "\n",
    "# function to calculate point-biserial correlation\n",
    "def point_biserial_corr(df, continuous_var, binary_var):\n",
    "    continuous_vals = df[continuous_var]\n",
    "    binary_vals = df[binary_var]\n",
    "    binary_vals = binary_vals.astype('bool')\n",
    "    return pointbiserialr(continuous_vals, binary_vals)\n",
    "\n",
    "# calculate correlations\n",
    "correlations = []\n",
    "for col in numeric_columns_3:\n",
    "    if col != 'Default':\n",
    "        point_biserial = point_biserial_corr(df_pd, col, 'Default')\n",
    "        correlations.append({\n",
    "            'Variable': col,\n",
    "            'Point-Biserial Correlation': point_biserial[0]\n",
    "        })\n",
    "\n",
    "# create a dataframe from the correlations\n",
    "corr_df = pd.DataFrame(correlations)\n",
    "\n",
    "# display the correlations\n",
    "print(corr_df)"
   ]
  },
  {
   "cell_type": "markdown",
   "metadata": {},
   "source": [
    "From the results above, we can see that the correlation values did not improve noticeably so perhaps the correlation values are just not that high."
   ]
  },
  {
   "cell_type": "markdown",
   "metadata": {},
   "source": [
    "## (iii) Predicting the default rate\n",
    "The categorical variable that we will use to develop machine learning models for binary classification is the Default variable which takes the values of 1 (defaulting) and 0 (not defaulting)."
   ]
  },
  {
   "cell_type": "code",
   "execution_count": 28,
   "metadata": {},
   "outputs": [
    {
     "name": "stdout",
     "output_type": "stream",
     "text": [
      "+----------+---+------+----------+-----------+--------------+--------------+------------+--------+--------+-----------+--------------+-------------+-----------+-------------+-----------+-----------+-------+--------------+-----------------+-------------------+----------------------+------------------+---------------------+----------------+-------------------+--------------------+\n",
      "|    LoanID|Age|Income|LoanAmount|CreditScore|MonthsEmployed|NumCreditLines|InterestRate|LoanTerm|DTIRatio|  Education|EmploymentType|MaritalStatus|HasMortgage|HasDependents|LoanPurpose|HasCoSigner|Default|EducationIndex|EducationclassVec|EmploymentTypeIndex|EmploymentTypeclassVec|MaritalStatusIndex|MaritalStatusclassVec|LoanPurposeIndex|LoanPurposeclassVec|            features|\n",
      "+----------+---+------+----------+-----------+--------------+--------------+------------+--------+--------+-----------+--------------+-------------+-----------+-------------+-----------+-----------+-------+--------------+-----------------+-------------------+----------------------+------------------+---------------------+----------------+-------------------+--------------------+\n",
      "|I38PQUQS96| 56| 85994|     50587|        520|            80|             4|       15.23|      36|    0.44| Bachelor's|     Full-time|     Divorced|          1|            1|      Other|          1|      0|           0.0|    (3,[0],[1.0])|                3.0|             (3,[],[])|               1.0|        (2,[1],[1.0])|             3.0|      (4,[3],[1.0])|[1.0,0.0,0.0,0.0,...|\n",
      "|HPSK72WA7R| 69| 50432|    124440|        458|            15|             1|        4.81|      60|    0.68|   Master's|     Full-time|      Married|          0|            0|      Other|          1|      0|           2.0|    (3,[2],[1.0])|                3.0|             (3,[],[])|               0.0|        (2,[0],[1.0])|             3.0|      (4,[3],[1.0])|(24,[2,6,11,12,13...|\n",
      "|C1OZ6DPJ8Y| 46| 84208|    129188|        451|            26|             3|       21.17|      24|    0.31|   Master's|    Unemployed|     Divorced|          1|            1|       Auto|          0|      1|           2.0|    (3,[2],[1.0])|                1.0|         (3,[1],[1.0])|               1.0|        (2,[1],[1.0])|             4.0|          (4,[],[])|(24,[2,4,7,12,13,...|\n",
      "|V2KKSFM3UN| 32| 31713|     44799|        743|             0|             3|        7.07|      24|    0.23|High School|     Full-time|      Married|          0|            0|   Business|          0|      0|           1.0|    (3,[1],[1.0])|                3.0|             (3,[],[])|               0.0|        (2,[0],[1.0])|             0.0|      (4,[0],[1.0])|(24,[1,6,8,12,13,...|\n",
      "|EY08JDHTZP| 60| 20437|      9139|        633|             8|             4|        6.51|      48|    0.73| Bachelor's|    Unemployed|     Divorced|          0|            1|       Auto|          0|      0|           0.0|    (3,[0],[1.0])|                1.0|         (3,[1],[1.0])|               1.0|        (2,[1],[1.0])|             4.0|          (4,[],[])|(24,[0,4,7,12,13,...|\n",
      "+----------+---+------+----------+-----------+--------------+--------------+------------+--------+--------+-----------+--------------+-------------+-----------+-------------+-----------+-----------+-------+--------------+-----------------+-------------------+----------------------+------------------+---------------------+----------------+-------------------+--------------------+\n",
      "only showing top 5 rows\n",
      "\n"
     ]
    }
   ],
   "source": [
    "df.show(5)"
   ]
  },
  {
   "cell_type": "markdown",
   "metadata": {},
   "source": [
    "If we check the dataset again we see that all the categorical columns are encoded and that there is a features column that we will use in the following steps."
   ]
  },
  {
   "cell_type": "markdown",
   "metadata": {},
   "source": [
    "### Scaling the features"
   ]
  },
  {
   "cell_type": "code",
   "execution_count": 29,
   "metadata": {},
   "outputs": [],
   "source": [
    "from pyspark.ml.feature import StandardScaler\n",
    "\n",
    "# create model scaler for normalization\n",
    "scaler = StandardScaler(inputCol=\"features\", outputCol=\"scaledFeatures\", withStd=True, withMean=False)\n",
    "\n",
    "# withStd=True: Scales the data to unit standard deviation\n",
    "# withMean=False: Does not center the data by subtracting the mean"
   ]
  },
  {
   "cell_type": "markdown",
   "metadata": {},
   "source": [
    "If the dataset is large and sparse, setting withMean=False is typically preferred to avoid converting sparse data to dense format, which can lead to significant memory overhead."
   ]
  },
  {
   "cell_type": "code",
   "execution_count": 30,
   "metadata": {},
   "outputs": [
    {
     "name": "stderr",
     "output_type": "stream",
     "text": [
      "                                                                                \r"
     ]
    }
   ],
   "source": [
    "scalerModel = scaler.fit(df)"
   ]
  },
  {
   "cell_type": "code",
   "execution_count": 31,
   "metadata": {},
   "outputs": [],
   "source": [
    "scaled_df = scalerModel.transform(df)"
   ]
  },
  {
   "cell_type": "code",
   "execution_count": 32,
   "metadata": {},
   "outputs": [
    {
     "name": "stdout",
     "output_type": "stream",
     "text": [
      "+----------+---+------+----------+-----------+--------------+--------------+------------+--------+--------+-----------+--------------+-------------+-----------+-------------+-----------+-----------+-------+--------------+-----------------+-------------------+----------------------+------------------+---------------------+----------------+-------------------+--------------------+--------------------+\n",
      "|    LoanID|Age|Income|LoanAmount|CreditScore|MonthsEmployed|NumCreditLines|InterestRate|LoanTerm|DTIRatio|  Education|EmploymentType|MaritalStatus|HasMortgage|HasDependents|LoanPurpose|HasCoSigner|Default|EducationIndex|EducationclassVec|EmploymentTypeIndex|EmploymentTypeclassVec|MaritalStatusIndex|MaritalStatusclassVec|LoanPurposeIndex|LoanPurposeclassVec|            features|      scaledFeatures|\n",
      "+----------+---+------+----------+-----------+--------------+--------------+------------+--------+--------+-----------+--------------+-------------+-----------+-------------+-----------+-----------+-------+--------------+-----------------+-------------------+----------------------+------------------+---------------------+----------------+-------------------+--------------------+--------------------+\n",
      "|I38PQUQS96| 56| 85994|     50587|        520|            80|             4|       15.23|      36|    0.44| Bachelor's|     Full-time|     Divorced|          1|            1|      Other|          1|      0|           0.0|    (3,[0],[1.0])|                3.0|             (3,[],[])|               1.0|        (2,[1],[1.0])|             3.0|      (4,[3],[1.0])|[1.0,0.0,0.0,0.0,...|[2.30306697327391...|\n",
      "|HPSK72WA7R| 69| 50432|    124440|        458|            15|             1|        4.81|      60|    0.68|   Master's|     Full-time|      Married|          0|            0|      Other|          1|      0|           2.0|    (3,[2],[1.0])|                3.0|             (3,[],[])|               0.0|        (2,[0],[1.0])|             3.0|      (4,[3],[1.0])|(24,[2,6,11,12,13...|(24,[2,6,11,12,13...|\n",
      "|C1OZ6DPJ8Y| 46| 84208|    129188|        451|            26|             3|       21.17|      24|    0.31|   Master's|    Unemployed|     Divorced|          1|            1|       Auto|          0|      1|           2.0|    (3,[2],[1.0])|                1.0|         (3,[1],[1.0])|               1.0|        (2,[1],[1.0])|             4.0|          (4,[],[])|(24,[2,4,7,12,13,...|(24,[2,4,7,12,13,...|\n",
      "|V2KKSFM3UN| 32| 31713|     44799|        743|             0|             3|        7.07|      24|    0.23|High School|     Full-time|      Married|          0|            0|   Business|          0|      0|           1.0|    (3,[1],[1.0])|                3.0|             (3,[],[])|               0.0|        (2,[0],[1.0])|             0.0|      (4,[0],[1.0])|(24,[1,6,8,12,13,...|(24,[1,6,8,12,13,...|\n",
      "|EY08JDHTZP| 60| 20437|      9139|        633|             8|             4|        6.51|      48|    0.73| Bachelor's|    Unemployed|     Divorced|          0|            1|       Auto|          0|      0|           0.0|    (3,[0],[1.0])|                1.0|         (3,[1],[1.0])|               1.0|        (2,[1],[1.0])|             4.0|          (4,[],[])|(24,[0,4,7,12,13,...|(24,[0,4,7,12,13,...|\n",
      "+----------+---+------+----------+-----------+--------------+--------------+------------+--------+--------+-----------+--------------+-------------+-----------+-------------+-----------+-----------+-------+--------------+-----------------+-------------------+----------------------+------------------+---------------------+----------------+-------------------+--------------------+--------------------+\n",
      "only showing top 5 rows\n",
      "\n"
     ]
    }
   ],
   "source": [
    "scaled_df.show(5)"
   ]
  },
  {
   "cell_type": "markdown",
   "metadata": {},
   "source": [
    "### Splitting the data intro training and testing sets"
   ]
  },
  {
   "cell_type": "code",
   "execution_count": 33,
   "metadata": {},
   "outputs": [
    {
     "name": "stderr",
     "output_type": "stream",
     "text": [
      "                                                                                \r"
     ]
    },
    {
     "name": "stdout",
     "output_type": "stream",
     "text": [
      "179091\n"
     ]
    },
    {
     "name": "stderr",
     "output_type": "stream",
     "text": [
      "[Stage 65:>                                                         (0 + 6) / 6]\r"
     ]
    },
    {
     "name": "stdout",
     "output_type": "stream",
     "text": [
      "76256\n"
     ]
    },
    {
     "name": "stderr",
     "output_type": "stream",
     "text": [
      "                                                                                \r"
     ]
    }
   ],
   "source": [
    "train, test = scaled_df.randomSplit([0.7, 0.3], seed=42)\n",
    "print(train.count())\n",
    "print(test.count())"
   ]
  },
  {
   "cell_type": "markdown",
   "metadata": {},
   "source": [
    "### Logistic regression"
   ]
  },
  {
   "cell_type": "code",
   "execution_count": 34,
   "metadata": {},
   "outputs": [
    {
     "name": "stderr",
     "output_type": "stream",
     "text": [
      "24/06/01 13:20:33 WARN InstanceBuilder: Failed to load implementation from:dev.ludovic.netlib.blas.JNIBLAS\n",
      "[Stage 2548:>                                                       (0 + 6) / 6]\r"
     ]
    },
    {
     "name": "stdout",
     "output_type": "stream",
     "text": [
      "Best Test Accuracy for Logistic Regression: 0.8846779269827948\n"
     ]
    },
    {
     "name": "stderr",
     "output_type": "stream",
     "text": [
      "                                                                                \r"
     ]
    }
   ],
   "source": [
    "from pyspark.ml.classification import LogisticRegression\n",
    "from pyspark.ml.evaluation import MulticlassClassificationEvaluator\n",
    "from pyspark.ml.tuning import CrossValidator, ParamGridBuilder\n",
    "\n",
    "# initialize the Logistic Regression model\n",
    "lr = LogisticRegression(featuresCol='scaledFeatures', labelCol='Default')\n",
    "\n",
    "# set up the parameter grid for hyperparameter tuning\n",
    "paramGrid = ParamGridBuilder() \\\n",
    "    .addGrid(lr.regParam, [0.01, 0.1, 1.0]) \\\n",
    "    .addGrid(lr.elasticNetParam, [0.0, 0.5, 1.0]) \\\n",
    "    .addGrid(lr.maxIter, [10, 50, 100]) \\\n",
    "    .build()\n",
    "\n",
    "# set up the evaluator\n",
    "evaluator = MulticlassClassificationEvaluator(labelCol='Default', predictionCol='prediction', metricName='accuracy')\n",
    "\n",
    "# set up CrossValidator\n",
    "crossval = CrossValidator(estimator=lr,\n",
    "                          estimatorParamMaps=paramGrid,\n",
    "                          evaluator=evaluator,\n",
    "                          numFolds=5)\n",
    "\n",
    "# train the model using cross-validation\n",
    "cv_model_lr = crossval.fit(train)\n",
    "\n",
    "# get the best model\n",
    "best_model_lr = cv_model_lr.bestModel\n",
    "\n",
    "# make predictions on the test set using the best model\n",
    "best_predictions = best_model_lr.transform(test)\n",
    "\n",
    "# evaluate the best model\n",
    "best_accuracy_lr = evaluator.evaluate(best_predictions)\n",
    "print(\"Best Test Accuracy for Logistic Regression:\", best_accuracy_lr)"
   ]
  },
  {
   "cell_type": "markdown",
   "metadata": {},
   "source": [
    "We get the accuracy of this model to be 88.5 % which is good but maybe can be improved with more sophisticated models."
   ]
  },
  {
   "cell_type": "markdown",
   "metadata": {},
   "source": [
    "### Random forests"
   ]
  },
  {
   "cell_type": "code",
   "execution_count": 35,
   "metadata": {},
   "outputs": [
    {
     "name": "stderr",
     "output_type": "stream",
     "text": [
      "24/06/01 13:24:15 WARN DAGScheduler: Broadcasting large task binary with size 1652.2 KiB\n",
      "24/06/01 13:24:19 WARN DAGScheduler: Broadcasting large task binary with size 1635.6 KiB\n",
      "24/06/01 13:24:28 WARN DAGScheduler: Broadcasting large task binary with size 1176.0 KiB\n",
      "24/06/01 13:24:29 WARN DAGScheduler: Broadcasting large task binary with size 2.0 MiB\n",
      "24/06/01 13:24:30 WARN DAGScheduler: Broadcasting large task binary with size 3.8 MiB\n",
      "24/06/01 13:24:32 WARN DAGScheduler: Broadcasting large task binary with size 1065.4 KiB\n",
      "24/06/01 13:24:32 WARN DAGScheduler: Broadcasting large task binary with size 6.9 MiB\n",
      "24/06/01 13:24:35 WARN DAGScheduler: Broadcasting large task binary with size 1902.9 KiB\n",
      "24/06/01 13:24:36 WARN DAGScheduler: Broadcasting large task binary with size 3.4 MiB\n",
      "24/06/01 13:24:40 WARN DAGScheduler: Broadcasting large task binary with size 1180.0 KiB\n",
      "24/06/01 13:24:40 WARN DAGScheduler: Broadcasting large task binary with size 2.1 MiB\n",
      "24/06/01 13:24:42 WARN DAGScheduler: Broadcasting large task binary with size 3.7 MiB\n",
      "24/06/01 13:24:44 WARN DAGScheduler: Broadcasting large task binary with size 1041.7 KiB\n",
      "24/06/01 13:24:45 WARN DAGScheduler: Broadcasting large task binary with size 6.8 MiB\n",
      "24/06/01 13:24:48 WARN DAGScheduler: Broadcasting large task binary with size 1834.9 KiB\n",
      "24/06/01 13:24:50 WARN DAGScheduler: Broadcasting large task binary with size 3.6 MiB\n",
      "24/06/01 13:25:00 WARN DAGScheduler: Broadcasting large task binary with size 1643.1 KiB\n",
      "24/06/01 13:25:02 WARN DAGScheduler: Broadcasting large task binary with size 1625.5 KiB\n",
      "24/06/01 13:25:12 WARN DAGScheduler: Broadcasting large task binary with size 1176.5 KiB\n",
      "24/06/01 13:25:13 WARN DAGScheduler: Broadcasting large task binary with size 2.1 MiB\n",
      "24/06/01 13:25:14 WARN DAGScheduler: Broadcasting large task binary with size 3.8 MiB\n",
      "24/06/01 13:25:15 WARN DAGScheduler: Broadcasting large task binary with size 1066.9 KiB\n",
      "24/06/01 13:25:16 WARN DAGScheduler: Broadcasting large task binary with size 6.9 MiB\n",
      "24/06/01 13:25:18 WARN DAGScheduler: Broadcasting large task binary with size 1907.7 KiB\n",
      "24/06/01 13:25:20 WARN DAGScheduler: Broadcasting large task binary with size 3.3 MiB\n",
      "24/06/01 13:25:23 WARN DAGScheduler: Broadcasting large task binary with size 1181.7 KiB\n",
      "24/06/01 13:25:24 WARN DAGScheduler: Broadcasting large task binary with size 2.1 MiB\n",
      "24/06/01 13:25:25 WARN DAGScheduler: Broadcasting large task binary with size 3.8 MiB\n",
      "24/06/01 13:25:27 WARN DAGScheduler: Broadcasting large task binary with size 1050.2 KiB\n",
      "24/06/01 13:25:27 WARN DAGScheduler: Broadcasting large task binary with size 6.9 MiB\n",
      "24/06/01 13:25:31 WARN DAGScheduler: Broadcasting large task binary with size 1852.1 KiB\n",
      "24/06/01 13:25:34 WARN DAGScheduler: Broadcasting large task binary with size 3.6 MiB\n",
      "24/06/01 13:27:14 WARN DAGScheduler: Broadcasting large task binary with size 1002.2 KiB\n",
      "24/06/01 13:27:14 WARN DAGScheduler: Broadcasting large task binary with size 1665.0 KiB\n",
      "24/06/01 13:27:17 WARN DAGScheduler: Broadcasting large task binary with size 1000.8 KiB\n",
      "24/06/01 13:27:17 WARN DAGScheduler: Broadcasting large task binary with size 1653.7 KiB\n",
      "24/06/01 13:27:26 WARN DAGScheduler: Broadcasting large task binary with size 1176.4 KiB\n",
      "24/06/01 13:27:27 WARN DAGScheduler: Broadcasting large task binary with size 2.1 MiB\n",
      "24/06/01 13:27:28 WARN DAGScheduler: Broadcasting large task binary with size 3.8 MiB\n",
      "24/06/01 13:27:30 WARN DAGScheduler: Broadcasting large task binary with size 1063.9 KiB\n",
      "24/06/01 13:27:30 WARN DAGScheduler: Broadcasting large task binary with size 6.9 MiB\n",
      "24/06/01 13:27:33 WARN DAGScheduler: Broadcasting large task binary with size 1905.4 KiB\n",
      "24/06/01 13:27:35 WARN DAGScheduler: Broadcasting large task binary with size 3.3 MiB\n",
      "24/06/01 13:27:38 WARN DAGScheduler: Broadcasting large task binary with size 1181.0 KiB\n",
      "24/06/01 13:27:40 WARN DAGScheduler: Broadcasting large task binary with size 2.1 MiB\n",
      "24/06/01 13:27:41 WARN DAGScheduler: Broadcasting large task binary with size 3.8 MiB\n",
      "24/06/01 13:27:43 WARN DAGScheduler: Broadcasting large task binary with size 1052.6 KiB\n",
      "24/06/01 13:27:43 WARN DAGScheduler: Broadcasting large task binary with size 6.9 MiB\n",
      "24/06/01 13:27:47 WARN DAGScheduler: Broadcasting large task binary with size 1855.4 KiB\n",
      "24/06/01 13:27:49 WARN DAGScheduler: Broadcasting large task binary with size 3.6 MiB\n",
      "24/06/01 13:27:59 WARN DAGScheduler: Broadcasting large task binary with size 1647.4 KiB\n",
      "24/06/01 13:28:01 WARN DAGScheduler: Broadcasting large task binary with size 1643.5 KiB\n",
      "24/06/01 13:28:10 WARN DAGScheduler: Broadcasting large task binary with size 1175.9 KiB\n",
      "24/06/01 13:28:11 WARN DAGScheduler: Broadcasting large task binary with size 2.0 MiB\n",
      "24/06/01 13:28:12 WARN DAGScheduler: Broadcasting large task binary with size 3.8 MiB\n",
      "24/06/01 13:28:14 WARN DAGScheduler: Broadcasting large task binary with size 1066.7 KiB\n",
      "24/06/01 13:28:14 WARN DAGScheduler: Broadcasting large task binary with size 6.9 MiB\n",
      "24/06/01 13:28:17 WARN DAGScheduler: Broadcasting large task binary with size 1911.5 KiB\n",
      "24/06/01 13:28:18 WARN DAGScheduler: Broadcasting large task binary with size 3.3 MiB\n",
      "24/06/01 13:28:21 WARN DAGScheduler: Broadcasting large task binary with size 1181.6 KiB\n",
      "24/06/01 13:28:22 WARN DAGScheduler: Broadcasting large task binary with size 2.1 MiB\n",
      "24/06/01 13:28:23 WARN DAGScheduler: Broadcasting large task binary with size 3.8 MiB\n",
      "24/06/01 13:28:25 WARN DAGScheduler: Broadcasting large task binary with size 1044.0 KiB\n",
      "24/06/01 13:28:26 WARN DAGScheduler: Broadcasting large task binary with size 6.9 MiB\n",
      "24/06/01 13:28:29 WARN DAGScheduler: Broadcasting large task binary with size 1841.0 KiB\n",
      "24/06/01 13:28:31 WARN DAGScheduler: Broadcasting large task binary with size 3.6 MiB\n",
      "24/06/01 13:28:40 WARN DAGScheduler: Broadcasting large task binary with size 1002.4 KiB\n",
      "24/06/01 13:28:40 WARN DAGScheduler: Broadcasting large task binary with size 1662.4 KiB\n",
      "24/06/01 13:28:43 WARN DAGScheduler: Broadcasting large task binary with size 1000.3 KiB\n",
      "24/06/01 13:28:43 WARN DAGScheduler: Broadcasting large task binary with size 1651.3 KiB\n",
      "24/06/01 13:28:52 WARN DAGScheduler: Broadcasting large task binary with size 1176.2 KiB\n",
      "24/06/01 13:28:53 WARN DAGScheduler: Broadcasting large task binary with size 2.0 MiB\n",
      "24/06/01 13:28:54 WARN DAGScheduler: Broadcasting large task binary with size 3.8 MiB\n",
      "24/06/01 13:28:55 WARN DAGScheduler: Broadcasting large task binary with size 1057.3 KiB\n",
      "24/06/01 13:28:56 WARN DAGScheduler: Broadcasting large task binary with size 6.9 MiB\n",
      "24/06/01 13:28:58 WARN DAGScheduler: Broadcasting large task binary with size 1882.9 KiB\n",
      "24/06/01 13:29:00 WARN DAGScheduler: Broadcasting large task binary with size 3.3 MiB\n",
      "24/06/01 13:29:03 WARN DAGScheduler: Broadcasting large task binary with size 1181.5 KiB\n",
      "24/06/01 13:29:04 WARN DAGScheduler: Broadcasting large task binary with size 2.1 MiB\n",
      "24/06/01 13:29:05 WARN DAGScheduler: Broadcasting large task binary with size 3.7 MiB\n",
      "24/06/01 13:29:07 WARN DAGScheduler: Broadcasting large task binary with size 1033.9 KiB\n",
      "24/06/01 13:29:07 WARN DAGScheduler: Broadcasting large task binary with size 6.8 MiB\n",
      "24/06/01 13:29:11 WARN DAGScheduler: Broadcasting large task binary with size 1815.7 KiB\n",
      "24/06/01 13:29:13 WARN DAGScheduler: Broadcasting large task binary with size 3.6 MiB\n",
      "24/06/01 13:29:24 WARN DAGScheduler: Broadcasting large task binary with size 1120.4 KiB\n",
      "24/06/01 13:29:24 WARN DAGScheduler: Broadcasting large task binary with size 2.0 MiB\n",
      "24/06/01 13:29:26 WARN DAGScheduler: Broadcasting large task binary with size 3.7 MiB\n",
      "24/06/01 13:29:28 WARN DAGScheduler: Broadcasting large task binary with size 1069.8 KiB\n",
      "24/06/01 13:29:29 WARN DAGScheduler: Broadcasting large task binary with size 6.9 MiB\n",
      "24/06/01 13:29:32 WARN DAGScheduler: Broadcasting large task binary with size 1923.7 KiB\n",
      "24/06/01 13:29:34 WARN DAGScheduler: Broadcasting large task binary with size 3.5 MiB\n",
      "[Stage 3547:>                                                       (0 + 6) / 6]\r"
     ]
    },
    {
     "name": "stdout",
     "output_type": "stream",
     "text": [
      "Best Test Accuracy for Random Forest: 0.8850451112043642\n"
     ]
    },
    {
     "name": "stderr",
     "output_type": "stream",
     "text": [
      "                                                                                \r"
     ]
    }
   ],
   "source": [
    "from pyspark.ml.classification import RandomForestClassifier\n",
    "\n",
    "# initialize the Random Forest model\n",
    "rf = RandomForestClassifier(featuresCol='scaledFeatures', labelCol='Default')\n",
    "\n",
    "# set up the parameter grid for hyperparameter tuning\n",
    "paramGrid = ParamGridBuilder() \\\n",
    "    .addGrid(rf.numTrees, [10, 50]) \\\n",
    "    .addGrid(rf.maxDepth, [5, 10]) \\\n",
    "    .addGrid(rf.maxBins, [32, 64]) \\\n",
    "    .build()\n",
    "\n",
    "# set up the evaluator\n",
    "evaluator = MulticlassClassificationEvaluator(labelCol='Default', predictionCol='prediction', metricName='accuracy')\n",
    "\n",
    "# set up CrossValidator\n",
    "crossval = CrossValidator(estimator=rf,\n",
    "                          estimatorParamMaps=paramGrid,\n",
    "                          evaluator=evaluator,\n",
    "                          numFolds=5)\n",
    "\n",
    "# train the model using cross-validation\n",
    "cv_model_rf = crossval.fit(train)\n",
    "\n",
    "# get the best model\n",
    "best_model_rf = cv_model_rf.bestModel\n",
    "\n",
    "# make predictions on the test set using the best model\n",
    "best_predictions_rf = best_model_rf.transform(test)\n",
    "\n",
    "# evaluate the best model\n",
    "best_accuracy_rf = evaluator.evaluate(best_predictions_rf)\n",
    "print(\"Best Test Accuracy for Random Forest:\", best_accuracy_rf)"
   ]
  },
  {
   "cell_type": "markdown",
   "metadata": {},
   "source": [
    "The accuray of the random forests model is again 88.5% if we round it up, but slightly better if we look a the decimals compared to logistic regression."
   ]
  },
  {
   "cell_type": "markdown",
   "metadata": {},
   "source": [
    "### XGBoost"
   ]
  },
  {
   "cell_type": "code",
   "execution_count": 36,
   "metadata": {},
   "outputs": [
    {
     "name": "stderr",
     "output_type": "stream",
     "text": [
      "24/06/01 13:31:16 WARN DAGScheduler: Broadcasting large task binary with size 1003.4 KiB\n",
      "24/06/01 13:31:16 WARN DAGScheduler: Broadcasting large task binary with size 1003.9 KiB\n",
      "24/06/01 13:31:16 WARN DAGScheduler: Broadcasting large task binary with size 1004.4 KiB\n",
      "24/06/01 13:31:16 WARN DAGScheduler: Broadcasting large task binary with size 1005.6 KiB\n",
      "24/06/01 13:31:16 WARN DAGScheduler: Broadcasting large task binary with size 1007.8 KiB\n",
      "24/06/01 13:31:16 WARN DAGScheduler: Broadcasting large task binary with size 1012.4 KiB\n",
      "24/06/01 13:31:16 WARN DAGScheduler: Broadcasting large task binary with size 1021.4 KiB\n",
      "24/06/01 13:31:16 WARN DAGScheduler: Broadcasting large task binary with size 1026.0 KiB\n",
      "24/06/01 13:31:16 WARN DAGScheduler: Broadcasting large task binary with size 1026.5 KiB\n",
      "24/06/01 13:31:16 WARN DAGScheduler: Broadcasting large task binary with size 1027.1 KiB\n",
      "24/06/01 13:31:16 WARN DAGScheduler: Broadcasting large task binary with size 1028.2 KiB\n",
      "24/06/01 13:31:16 WARN DAGScheduler: Broadcasting large task binary with size 1030.5 KiB\n",
      "24/06/01 13:31:16 WARN DAGScheduler: Broadcasting large task binary with size 1035.0 KiB\n",
      "24/06/01 13:31:17 WARN DAGScheduler: Broadcasting large task binary with size 1044.1 KiB\n",
      "24/06/01 13:31:17 WARN DAGScheduler: Broadcasting large task binary with size 1048.7 KiB\n",
      "24/06/01 13:31:17 WARN DAGScheduler: Broadcasting large task binary with size 1049.2 KiB\n",
      "24/06/01 13:31:17 WARN DAGScheduler: Broadcasting large task binary with size 1049.7 KiB\n",
      "24/06/01 13:31:17 WARN DAGScheduler: Broadcasting large task binary with size 1050.9 KiB\n",
      "24/06/01 13:31:17 WARN DAGScheduler: Broadcasting large task binary with size 1053.1 KiB\n",
      "24/06/01 13:31:17 WARN DAGScheduler: Broadcasting large task binary with size 1057.7 KiB\n",
      "24/06/01 13:31:17 WARN DAGScheduler: Broadcasting large task binary with size 1066.7 KiB\n",
      "24/06/01 13:31:17 WARN DAGScheduler: Broadcasting large task binary with size 1071.3 KiB\n",
      "24/06/01 13:31:17 WARN DAGScheduler: Broadcasting large task binary with size 1071.8 KiB\n",
      "24/06/01 13:31:17 WARN DAGScheduler: Broadcasting large task binary with size 1072.4 KiB\n",
      "24/06/01 13:31:17 WARN DAGScheduler: Broadcasting large task binary with size 1073.5 KiB\n",
      "24/06/01 13:31:17 WARN DAGScheduler: Broadcasting large task binary with size 1075.8 KiB\n",
      "24/06/01 13:31:17 WARN DAGScheduler: Broadcasting large task binary with size 1080.3 KiB\n",
      "24/06/01 13:31:18 WARN DAGScheduler: Broadcasting large task binary with size 1089.4 KiB\n",
      "24/06/01 13:31:18 WARN DAGScheduler: Broadcasting large task binary with size 1093.8 KiB\n",
      "24/06/01 13:31:18 WARN DAGScheduler: Broadcasting large task binary with size 1094.3 KiB\n",
      "24/06/01 13:31:18 WARN DAGScheduler: Broadcasting large task binary with size 1094.9 KiB\n",
      "24/06/01 13:31:18 WARN DAGScheduler: Broadcasting large task binary with size 1096.0 KiB\n",
      "24/06/01 13:31:18 WARN DAGScheduler: Broadcasting large task binary with size 1098.3 KiB\n",
      "24/06/01 13:31:18 WARN DAGScheduler: Broadcasting large task binary with size 1102.8 KiB\n",
      "24/06/01 13:31:18 WARN DAGScheduler: Broadcasting large task binary with size 1111.9 KiB\n",
      "24/06/01 13:31:18 WARN DAGScheduler: Broadcasting large task binary with size 1116.3 KiB\n",
      "24/06/01 13:31:18 WARN DAGScheduler: Broadcasting large task binary with size 1116.8 KiB\n",
      "24/06/01 13:31:18 WARN DAGScheduler: Broadcasting large task binary with size 1117.4 KiB\n",
      "24/06/01 13:31:18 WARN DAGScheduler: Broadcasting large task binary with size 1118.5 KiB\n",
      "24/06/01 13:31:19 WARN DAGScheduler: Broadcasting large task binary with size 1120.8 KiB\n",
      "24/06/01 13:31:19 WARN DAGScheduler: Broadcasting large task binary with size 1125.3 KiB\n",
      "24/06/01 13:31:19 WARN DAGScheduler: Broadcasting large task binary with size 1134.4 KiB\n",
      "24/06/01 13:31:19 WARN DAGScheduler: Broadcasting large task binary with size 1139.0 KiB\n",
      "24/06/01 13:31:19 WARN DAGScheduler: Broadcasting large task binary with size 1139.4 KiB\n",
      "24/06/01 13:31:19 WARN DAGScheduler: Broadcasting large task binary with size 1140.0 KiB\n",
      "24/06/01 13:31:19 WARN DAGScheduler: Broadcasting large task binary with size 1141.1 KiB\n",
      "24/06/01 13:31:19 WARN DAGScheduler: Broadcasting large task binary with size 1143.4 KiB\n",
      "24/06/01 13:31:19 WARN DAGScheduler: Broadcasting large task binary with size 1147.9 KiB\n",
      "24/06/01 13:31:19 WARN DAGScheduler: Broadcasting large task binary with size 1157.0 KiB\n",
      "24/06/01 13:31:19 WARN DAGScheduler: Broadcasting large task binary with size 1161.6 KiB\n",
      "24/06/01 13:31:19 WARN DAGScheduler: Broadcasting large task binary with size 1162.1 KiB\n",
      "24/06/01 13:31:19 WARN DAGScheduler: Broadcasting large task binary with size 1162.7 KiB\n",
      "24/06/01 13:31:20 WARN DAGScheduler: Broadcasting large task binary with size 1163.8 KiB\n",
      "24/06/01 13:31:20 WARN DAGScheduler: Broadcasting large task binary with size 1166.1 KiB\n",
      "24/06/01 13:31:20 WARN DAGScheduler: Broadcasting large task binary with size 1170.6 KiB\n",
      "24/06/01 13:31:20 WARN DAGScheduler: Broadcasting large task binary with size 1179.7 KiB\n",
      "24/06/01 13:31:20 WARN DAGScheduler: Broadcasting large task binary with size 1184.0 KiB\n",
      "24/06/01 13:31:20 WARN DAGScheduler: Broadcasting large task binary with size 1184.5 KiB\n",
      "24/06/01 13:31:20 WARN DAGScheduler: Broadcasting large task binary with size 1185.0 KiB\n",
      "24/06/01 13:31:20 WARN DAGScheduler: Broadcasting large task binary with size 1186.2 KiB\n",
      "24/06/01 13:31:20 WARN DAGScheduler: Broadcasting large task binary with size 1188.4 KiB\n",
      "24/06/01 13:31:20 WARN DAGScheduler: Broadcasting large task binary with size 1193.0 KiB\n",
      "24/06/01 13:31:20 WARN DAGScheduler: Broadcasting large task binary with size 1202.0 KiB\n",
      "24/06/01 13:31:20 WARN DAGScheduler: Broadcasting large task binary with size 1206.5 KiB\n",
      "24/06/01 13:31:21 WARN DAGScheduler: Broadcasting large task binary with size 1207.0 KiB\n",
      "24/06/01 13:31:21 WARN DAGScheduler: Broadcasting large task binary with size 1207.5 KiB\n",
      "24/06/01 13:31:21 WARN DAGScheduler: Broadcasting large task binary with size 1208.7 KiB\n",
      "24/06/01 13:31:21 WARN DAGScheduler: Broadcasting large task binary with size 1210.9 KiB\n",
      "24/06/01 13:31:21 WARN DAGScheduler: Broadcasting large task binary with size 1215.5 KiB\n",
      "24/06/01 13:31:21 WARN DAGScheduler: Broadcasting large task binary with size 1224.5 KiB\n",
      "24/06/01 13:31:21 WARN DAGScheduler: Broadcasting large task binary with size 1229.2 KiB\n",
      "24/06/01 13:31:21 WARN DAGScheduler: Broadcasting large task binary with size 1229.6 KiB\n",
      "24/06/01 13:31:21 WARN DAGScheduler: Broadcasting large task binary with size 1230.2 KiB\n",
      "24/06/01 13:31:21 WARN DAGScheduler: Broadcasting large task binary with size 1231.3 KiB\n",
      "24/06/01 13:31:21 WARN DAGScheduler: Broadcasting large task binary with size 1233.6 KiB\n",
      "24/06/01 13:31:21 WARN DAGScheduler: Broadcasting large task binary with size 1238.1 KiB\n",
      "24/06/01 13:31:22 WARN DAGScheduler: Broadcasting large task binary with size 1247.2 KiB\n",
      "24/06/01 13:31:22 WARN DAGScheduler: Broadcasting large task binary with size 1251.7 KiB\n",
      "24/06/01 13:31:22 WARN DAGScheduler: Broadcasting large task binary with size 1252.1 KiB\n",
      "24/06/01 13:31:22 WARN DAGScheduler: Broadcasting large task binary with size 1252.7 KiB\n",
      "24/06/01 13:31:22 WARN DAGScheduler: Broadcasting large task binary with size 1253.9 KiB\n",
      "24/06/01 13:31:22 WARN DAGScheduler: Broadcasting large task binary with size 1256.1 KiB\n",
      "24/06/01 13:31:22 WARN DAGScheduler: Broadcasting large task binary with size 1260.6 KiB\n",
      "24/06/01 13:31:22 WARN DAGScheduler: Broadcasting large task binary with size 1269.7 KiB\n",
      "24/06/01 13:31:22 WARN DAGScheduler: Broadcasting large task binary with size 1274.2 KiB\n",
      "24/06/01 13:31:22 WARN DAGScheduler: Broadcasting large task binary with size 1274.6 KiB\n",
      "24/06/01 13:31:22 WARN DAGScheduler: Broadcasting large task binary with size 1275.2 KiB\n",
      "24/06/01 13:31:23 WARN DAGScheduler: Broadcasting large task binary with size 1276.3 KiB\n",
      "24/06/01 13:31:23 WARN DAGScheduler: Broadcasting large task binary with size 1278.6 KiB\n",
      "24/06/01 13:31:23 WARN DAGScheduler: Broadcasting large task binary with size 1283.1 KiB\n",
      "24/06/01 13:31:23 WARN DAGScheduler: Broadcasting large task binary with size 1292.2 KiB\n",
      "24/06/01 13:31:23 WARN DAGScheduler: Broadcasting large task binary with size 1296.6 KiB\n",
      "24/06/01 13:31:23 WARN DAGScheduler: Broadcasting large task binary with size 1297.1 KiB\n",
      "24/06/01 13:31:23 WARN DAGScheduler: Broadcasting large task binary with size 1297.7 KiB\n",
      "24/06/01 13:31:23 WARN DAGScheduler: Broadcasting large task binary with size 1298.8 KiB\n",
      "24/06/01 13:31:23 WARN DAGScheduler: Broadcasting large task binary with size 1301.1 KiB\n",
      "24/06/01 13:31:23 WARN DAGScheduler: Broadcasting large task binary with size 1305.6 KiB\n",
      "24/06/01 13:31:23 WARN DAGScheduler: Broadcasting large task binary with size 1314.7 KiB\n",
      "24/06/01 13:31:23 WARN DAGScheduler: Broadcasting large task binary with size 1319.3 KiB\n",
      "24/06/01 13:31:24 WARN DAGScheduler: Broadcasting large task binary with size 1319.7 KiB\n",
      "24/06/01 13:31:24 WARN DAGScheduler: Broadcasting large task binary with size 1320.3 KiB\n",
      "24/06/01 13:31:24 WARN DAGScheduler: Broadcasting large task binary with size 1321.4 KiB\n",
      "24/06/01 13:31:24 WARN DAGScheduler: Broadcasting large task binary with size 1323.7 KiB\n",
      "24/06/01 13:31:24 WARN DAGScheduler: Broadcasting large task binary with size 1328.2 KiB\n",
      "24/06/01 13:31:24 WARN DAGScheduler: Broadcasting large task binary with size 1337.3 KiB\n",
      "24/06/01 13:31:24 WARN DAGScheduler: Broadcasting large task binary with size 1341.8 KiB\n",
      "24/06/01 13:31:24 WARN DAGScheduler: Broadcasting large task binary with size 1342.2 KiB\n",
      "24/06/01 13:31:24 WARN DAGScheduler: Broadcasting large task binary with size 1342.8 KiB\n",
      "24/06/01 13:31:24 WARN DAGScheduler: Broadcasting large task binary with size 1343.9 KiB\n",
      "24/06/01 13:31:24 WARN DAGScheduler: Broadcasting large task binary with size 1346.2 KiB\n",
      "24/06/01 13:31:24 WARN DAGScheduler: Broadcasting large task binary with size 1350.7 KiB\n",
      "24/06/01 13:31:24 WARN DAGScheduler: Broadcasting large task binary with size 1359.8 KiB\n",
      "24/06/01 13:31:25 WARN DAGScheduler: Broadcasting large task binary with size 1364.3 KiB\n",
      "24/06/01 13:31:25 WARN DAGScheduler: Broadcasting large task binary with size 1364.8 KiB\n",
      "24/06/01 13:31:25 WARN DAGScheduler: Broadcasting large task binary with size 1365.3 KiB\n",
      "24/06/01 13:31:25 WARN DAGScheduler: Broadcasting large task binary with size 1366.5 KiB\n",
      "24/06/01 13:31:25 WARN DAGScheduler: Broadcasting large task binary with size 1368.7 KiB\n",
      "24/06/01 13:31:25 WARN DAGScheduler: Broadcasting large task binary with size 1373.3 KiB\n",
      "24/06/01 13:31:25 WARN DAGScheduler: Broadcasting large task binary with size 1382.3 KiB\n",
      "24/06/01 13:31:25 WARN DAGScheduler: Broadcasting large task binary with size 1386.8 KiB\n",
      "24/06/01 13:31:25 WARN DAGScheduler: Broadcasting large task binary with size 1387.3 KiB\n",
      "24/06/01 13:31:25 WARN DAGScheduler: Broadcasting large task binary with size 1387.8 KiB\n",
      "24/06/01 13:31:25 WARN DAGScheduler: Broadcasting large task binary with size 1389.0 KiB\n",
      "24/06/01 13:31:25 WARN DAGScheduler: Broadcasting large task binary with size 1391.3 KiB\n",
      "24/06/01 13:31:26 WARN DAGScheduler: Broadcasting large task binary with size 1395.8 KiB\n",
      "24/06/01 13:31:26 WARN DAGScheduler: Broadcasting large task binary with size 1404.8 KiB\n",
      "24/06/01 13:31:26 WARN DAGScheduler: Broadcasting large task binary with size 1394.2 KiB\n",
      "24/06/01 13:31:47 WARN DAGScheduler: Broadcasting large task binary with size 1000.0 KiB\n",
      "24/06/01 13:31:47 WARN DAGScheduler: Broadcasting large task binary with size 1004.6 KiB\n",
      "24/06/01 13:31:47 WARN DAGScheduler: Broadcasting large task binary with size 1005.1 KiB\n",
      "24/06/01 13:31:47 WARN DAGScheduler: Broadcasting large task binary with size 1005.7 KiB\n",
      "24/06/01 13:31:47 WARN DAGScheduler: Broadcasting large task binary with size 1006.8 KiB\n",
      "24/06/01 13:31:47 WARN DAGScheduler: Broadcasting large task binary with size 1009.1 KiB\n",
      "24/06/01 13:31:47 WARN DAGScheduler: Broadcasting large task binary with size 1013.6 KiB\n",
      "24/06/01 13:31:47 WARN DAGScheduler: Broadcasting large task binary with size 1022.7 KiB\n",
      "24/06/01 13:31:47 WARN DAGScheduler: Broadcasting large task binary with size 1027.3 KiB\n",
      "24/06/01 13:31:47 WARN DAGScheduler: Broadcasting large task binary with size 1027.8 KiB\n",
      "24/06/01 13:31:47 WARN DAGScheduler: Broadcasting large task binary with size 1028.4 KiB\n",
      "24/06/01 13:31:47 WARN DAGScheduler: Broadcasting large task binary with size 1029.5 KiB\n",
      "24/06/01 13:31:48 WARN DAGScheduler: Broadcasting large task binary with size 1031.8 KiB\n",
      "24/06/01 13:31:48 WARN DAGScheduler: Broadcasting large task binary with size 1036.3 KiB\n",
      "24/06/01 13:31:48 WARN DAGScheduler: Broadcasting large task binary with size 1045.4 KiB\n",
      "24/06/01 13:31:48 WARN DAGScheduler: Broadcasting large task binary with size 1050.0 KiB\n",
      "24/06/01 13:31:48 WARN DAGScheduler: Broadcasting large task binary with size 1050.4 KiB\n",
      "24/06/01 13:31:48 WARN DAGScheduler: Broadcasting large task binary with size 1051.0 KiB\n",
      "24/06/01 13:31:48 WARN DAGScheduler: Broadcasting large task binary with size 1052.2 KiB\n",
      "24/06/01 13:31:48 WARN DAGScheduler: Broadcasting large task binary with size 1054.4 KiB\n",
      "24/06/01 13:31:48 WARN DAGScheduler: Broadcasting large task binary with size 1058.9 KiB\n",
      "24/06/01 13:31:48 WARN DAGScheduler: Broadcasting large task binary with size 1068.0 KiB\n",
      "24/06/01 13:31:48 WARN DAGScheduler: Broadcasting large task binary with size 1072.6 KiB\n",
      "24/06/01 13:31:48 WARN DAGScheduler: Broadcasting large task binary with size 1073.1 KiB\n",
      "24/06/01 13:31:48 WARN DAGScheduler: Broadcasting large task binary with size 1073.7 KiB\n",
      "24/06/01 13:31:49 WARN DAGScheduler: Broadcasting large task binary with size 1074.8 KiB\n",
      "24/06/01 13:31:49 WARN DAGScheduler: Broadcasting large task binary with size 1077.1 KiB\n",
      "24/06/01 13:31:49 WARN DAGScheduler: Broadcasting large task binary with size 1081.6 KiB\n",
      "24/06/01 13:31:49 WARN DAGScheduler: Broadcasting large task binary with size 1090.7 KiB\n",
      "24/06/01 13:31:49 WARN DAGScheduler: Broadcasting large task binary with size 1095.0 KiB\n",
      "24/06/01 13:31:49 WARN DAGScheduler: Broadcasting large task binary with size 1095.5 KiB\n",
      "24/06/01 13:31:49 WARN DAGScheduler: Broadcasting large task binary with size 1096.0 KiB\n",
      "24/06/01 13:31:49 WARN DAGScheduler: Broadcasting large task binary with size 1097.2 KiB\n",
      "24/06/01 13:31:49 WARN DAGScheduler: Broadcasting large task binary with size 1099.4 KiB\n",
      "24/06/01 13:31:49 WARN DAGScheduler: Broadcasting large task binary with size 1104.0 KiB\n",
      "24/06/01 13:31:49 WARN DAGScheduler: Broadcasting large task binary with size 1113.0 KiB\n",
      "24/06/01 13:31:49 WARN DAGScheduler: Broadcasting large task binary with size 1117.6 KiB\n",
      "24/06/01 13:31:50 WARN DAGScheduler: Broadcasting large task binary with size 1118.1 KiB\n",
      "24/06/01 13:31:50 WARN DAGScheduler: Broadcasting large task binary with size 1118.7 KiB\n",
      "24/06/01 13:31:50 WARN DAGScheduler: Broadcasting large task binary with size 1119.8 KiB\n",
      "24/06/01 13:31:50 WARN DAGScheduler: Broadcasting large task binary with size 1122.1 KiB\n",
      "24/06/01 13:31:50 WARN DAGScheduler: Broadcasting large task binary with size 1126.6 KiB\n",
      "24/06/01 13:31:50 WARN DAGScheduler: Broadcasting large task binary with size 1135.7 KiB\n",
      "24/06/01 13:31:50 WARN DAGScheduler: Broadcasting large task binary with size 1140.0 KiB\n",
      "24/06/01 13:31:50 WARN DAGScheduler: Broadcasting large task binary with size 1140.5 KiB\n",
      "24/06/01 13:31:50 WARN DAGScheduler: Broadcasting large task binary with size 1141.1 KiB\n",
      "24/06/01 13:31:50 WARN DAGScheduler: Broadcasting large task binary with size 1142.2 KiB\n",
      "24/06/01 13:31:50 WARN DAGScheduler: Broadcasting large task binary with size 1144.5 KiB\n",
      "24/06/01 13:31:50 WARN DAGScheduler: Broadcasting large task binary with size 1149.0 KiB\n",
      "24/06/01 13:31:50 WARN DAGScheduler: Broadcasting large task binary with size 1158.1 KiB\n",
      "24/06/01 13:31:51 WARN DAGScheduler: Broadcasting large task binary with size 1162.5 KiB\n",
      "24/06/01 13:31:51 WARN DAGScheduler: Broadcasting large task binary with size 1163.0 KiB\n",
      "24/06/01 13:31:51 WARN DAGScheduler: Broadcasting large task binary with size 1163.6 KiB\n",
      "24/06/01 13:31:51 WARN DAGScheduler: Broadcasting large task binary with size 1164.7 KiB\n",
      "24/06/01 13:31:51 WARN DAGScheduler: Broadcasting large task binary with size 1167.0 KiB\n",
      "24/06/01 13:31:51 WARN DAGScheduler: Broadcasting large task binary with size 1171.5 KiB\n",
      "24/06/01 13:31:51 WARN DAGScheduler: Broadcasting large task binary with size 1180.6 KiB\n",
      "24/06/01 13:31:51 WARN DAGScheduler: Broadcasting large task binary with size 1185.2 KiB\n",
      "24/06/01 13:31:51 WARN DAGScheduler: Broadcasting large task binary with size 1185.7 KiB\n",
      "24/06/01 13:31:51 WARN DAGScheduler: Broadcasting large task binary with size 1186.3 KiB\n",
      "24/06/01 13:31:51 WARN DAGScheduler: Broadcasting large task binary with size 1187.4 KiB\n",
      "24/06/01 13:31:51 WARN DAGScheduler: Broadcasting large task binary with size 1189.7 KiB\n",
      "24/06/01 13:31:52 WARN DAGScheduler: Broadcasting large task binary with size 1194.2 KiB\n",
      "24/06/01 13:31:52 WARN DAGScheduler: Broadcasting large task binary with size 1203.3 KiB\n",
      "24/06/01 13:31:52 WARN DAGScheduler: Broadcasting large task binary with size 1207.6 KiB\n",
      "24/06/01 13:31:52 WARN DAGScheduler: Broadcasting large task binary with size 1208.1 KiB\n",
      "24/06/01 13:31:52 WARN DAGScheduler: Broadcasting large task binary with size 1208.6 KiB\n",
      "24/06/01 13:31:52 WARN DAGScheduler: Broadcasting large task binary with size 1209.8 KiB\n",
      "24/06/01 13:31:52 WARN DAGScheduler: Broadcasting large task binary with size 1212.0 KiB\n",
      "24/06/01 13:31:52 WARN DAGScheduler: Broadcasting large task binary with size 1216.6 KiB\n",
      "24/06/01 13:31:52 WARN DAGScheduler: Broadcasting large task binary with size 1225.6 KiB\n",
      "24/06/01 13:31:52 WARN DAGScheduler: Broadcasting large task binary with size 1230.1 KiB\n",
      "24/06/01 13:31:52 WARN DAGScheduler: Broadcasting large task binary with size 1230.6 KiB\n",
      "24/06/01 13:31:53 WARN DAGScheduler: Broadcasting large task binary with size 1231.1 KiB\n",
      "24/06/01 13:31:53 WARN DAGScheduler: Broadcasting large task binary with size 1232.3 KiB\n",
      "24/06/01 13:31:53 WARN DAGScheduler: Broadcasting large task binary with size 1234.5 KiB\n",
      "24/06/01 13:31:53 WARN DAGScheduler: Broadcasting large task binary with size 1239.1 KiB\n",
      "24/06/01 13:31:53 WARN DAGScheduler: Broadcasting large task binary with size 1248.2 KiB\n",
      "24/06/01 13:31:53 WARN DAGScheduler: Broadcasting large task binary with size 1252.8 KiB\n",
      "24/06/01 13:31:53 WARN DAGScheduler: Broadcasting large task binary with size 1253.3 KiB\n",
      "24/06/01 13:31:53 WARN DAGScheduler: Broadcasting large task binary with size 1253.8 KiB\n",
      "24/06/01 13:31:53 WARN DAGScheduler: Broadcasting large task binary with size 1255.0 KiB\n",
      "24/06/01 13:31:53 WARN DAGScheduler: Broadcasting large task binary with size 1257.2 KiB\n",
      "24/06/01 13:31:53 WARN DAGScheduler: Broadcasting large task binary with size 1261.8 KiB\n",
      "24/06/01 13:31:53 WARN DAGScheduler: Broadcasting large task binary with size 1270.8 KiB\n",
      "24/06/01 13:31:53 WARN DAGScheduler: Broadcasting large task binary with size 1275.5 KiB\n",
      "24/06/01 13:31:54 WARN DAGScheduler: Broadcasting large task binary with size 1275.9 KiB\n",
      "24/06/01 13:31:54 WARN DAGScheduler: Broadcasting large task binary with size 1276.5 KiB\n",
      "24/06/01 13:31:54 WARN DAGScheduler: Broadcasting large task binary with size 1277.6 KiB\n",
      "24/06/01 13:31:54 WARN DAGScheduler: Broadcasting large task binary with size 1279.9 KiB\n",
      "24/06/01 13:31:54 WARN DAGScheduler: Broadcasting large task binary with size 1284.4 KiB\n",
      "24/06/01 13:31:54 WARN DAGScheduler: Broadcasting large task binary with size 1293.5 KiB\n",
      "24/06/01 13:31:54 WARN DAGScheduler: Broadcasting large task binary with size 1298.0 KiB\n",
      "24/06/01 13:31:54 WARN DAGScheduler: Broadcasting large task binary with size 1298.5 KiB\n",
      "24/06/01 13:31:54 WARN DAGScheduler: Broadcasting large task binary with size 1299.0 KiB\n",
      "24/06/01 13:31:54 WARN DAGScheduler: Broadcasting large task binary with size 1300.2 KiB\n",
      "24/06/01 13:31:54 WARN DAGScheduler: Broadcasting large task binary with size 1302.4 KiB\n",
      "24/06/01 13:31:54 WARN DAGScheduler: Broadcasting large task binary with size 1307.0 KiB\n",
      "24/06/01 13:31:55 WARN DAGScheduler: Broadcasting large task binary with size 1316.0 KiB\n",
      "24/06/01 13:31:55 WARN DAGScheduler: Broadcasting large task binary with size 1320.7 KiB\n",
      "24/06/01 13:31:55 WARN DAGScheduler: Broadcasting large task binary with size 1321.1 KiB\n",
      "24/06/01 13:31:55 WARN DAGScheduler: Broadcasting large task binary with size 1321.7 KiB\n",
      "24/06/01 13:31:55 WARN DAGScheduler: Broadcasting large task binary with size 1322.8 KiB\n",
      "24/06/01 13:31:55 WARN DAGScheduler: Broadcasting large task binary with size 1325.1 KiB\n",
      "24/06/01 13:31:55 WARN DAGScheduler: Broadcasting large task binary with size 1329.6 KiB\n",
      "24/06/01 13:31:55 WARN DAGScheduler: Broadcasting large task binary with size 1338.7 KiB\n",
      "24/06/01 13:31:55 WARN DAGScheduler: Broadcasting large task binary with size 1342.8 KiB\n",
      "24/06/01 13:31:55 WARN DAGScheduler: Broadcasting large task binary with size 1343.3 KiB\n",
      "24/06/01 13:31:55 WARN DAGScheduler: Broadcasting large task binary with size 1343.9 KiB\n",
      "24/06/01 13:31:55 WARN DAGScheduler: Broadcasting large task binary with size 1345.0 KiB\n",
      "24/06/01 13:31:56 WARN DAGScheduler: Broadcasting large task binary with size 1347.3 KiB\n",
      "24/06/01 13:31:56 WARN DAGScheduler: Broadcasting large task binary with size 1351.8 KiB\n",
      "24/06/01 13:31:56 WARN DAGScheduler: Broadcasting large task binary with size 1360.9 KiB\n",
      "24/06/01 13:31:56 WARN DAGScheduler: Broadcasting large task binary with size 1365.2 KiB\n",
      "24/06/01 13:31:56 WARN DAGScheduler: Broadcasting large task binary with size 1365.7 KiB\n",
      "24/06/01 13:31:56 WARN DAGScheduler: Broadcasting large task binary with size 1366.3 KiB\n",
      "24/06/01 13:31:56 WARN DAGScheduler: Broadcasting large task binary with size 1367.4 KiB\n",
      "24/06/01 13:31:56 WARN DAGScheduler: Broadcasting large task binary with size 1369.7 KiB\n",
      "24/06/01 13:31:56 WARN DAGScheduler: Broadcasting large task binary with size 1374.2 KiB\n",
      "24/06/01 13:31:56 WARN DAGScheduler: Broadcasting large task binary with size 1383.3 KiB\n",
      "24/06/01 13:31:56 WARN DAGScheduler: Broadcasting large task binary with size 1387.9 KiB\n",
      "24/06/01 13:31:56 WARN DAGScheduler: Broadcasting large task binary with size 1388.4 KiB\n",
      "24/06/01 13:31:57 WARN DAGScheduler: Broadcasting large task binary with size 1388.9 KiB\n",
      "24/06/01 13:31:57 WARN DAGScheduler: Broadcasting large task binary with size 1390.1 KiB\n",
      "24/06/01 13:31:57 WARN DAGScheduler: Broadcasting large task binary with size 1392.3 KiB\n",
      "24/06/01 13:31:57 WARN DAGScheduler: Broadcasting large task binary with size 1396.9 KiB\n",
      "24/06/01 13:31:57 WARN DAGScheduler: Broadcasting large task binary with size 1406.0 KiB\n",
      "24/06/01 13:31:58 WARN DAGScheduler: Broadcasting large task binary with size 1393.8 KiB\n",
      "24/06/01 13:33:30 WARN DAGScheduler: Broadcasting large task binary with size 1002.1 KiB\n",
      "24/06/01 13:33:31 WARN DAGScheduler: Broadcasting large task binary with size 1002.6 KiB\n",
      "24/06/01 13:33:31 WARN DAGScheduler: Broadcasting large task binary with size 1003.2 KiB\n",
      "24/06/01 13:33:31 WARN DAGScheduler: Broadcasting large task binary with size 1004.3 KiB\n",
      "24/06/01 13:33:31 WARN DAGScheduler: Broadcasting large task binary with size 1006.6 KiB\n",
      "24/06/01 13:33:31 WARN DAGScheduler: Broadcasting large task binary with size 1011.1 KiB\n",
      "24/06/01 13:33:31 WARN DAGScheduler: Broadcasting large task binary with size 1020.2 KiB\n",
      "24/06/01 13:33:31 WARN DAGScheduler: Broadcasting large task binary with size 1024.8 KiB\n",
      "24/06/01 13:33:31 WARN DAGScheduler: Broadcasting large task binary with size 1025.3 KiB\n",
      "24/06/01 13:33:31 WARN DAGScheduler: Broadcasting large task binary with size 1025.8 KiB\n",
      "24/06/01 13:33:31 WARN DAGScheduler: Broadcasting large task binary with size 1027.0 KiB\n",
      "24/06/01 13:33:31 WARN DAGScheduler: Broadcasting large task binary with size 1029.3 KiB\n",
      "24/06/01 13:33:31 WARN DAGScheduler: Broadcasting large task binary with size 1033.8 KiB\n",
      "24/06/01 13:33:31 WARN DAGScheduler: Broadcasting large task binary with size 1042.9 KiB\n",
      "24/06/01 13:33:31 WARN DAGScheduler: Broadcasting large task binary with size 1047.5 KiB\n",
      "24/06/01 13:33:32 WARN DAGScheduler: Broadcasting large task binary with size 1048.0 KiB\n",
      "24/06/01 13:33:32 WARN DAGScheduler: Broadcasting large task binary with size 1048.5 KiB\n",
      "24/06/01 13:33:32 WARN DAGScheduler: Broadcasting large task binary with size 1049.7 KiB\n",
      "24/06/01 13:33:32 WARN DAGScheduler: Broadcasting large task binary with size 1051.9 KiB\n",
      "24/06/01 13:33:32 WARN DAGScheduler: Broadcasting large task binary with size 1056.5 KiB\n",
      "24/06/01 13:33:32 WARN DAGScheduler: Broadcasting large task binary with size 1065.5 KiB\n",
      "24/06/01 13:33:32 WARN DAGScheduler: Broadcasting large task binary with size 1070.1 KiB\n",
      "24/06/01 13:33:32 WARN DAGScheduler: Broadcasting large task binary with size 1070.6 KiB\n",
      "24/06/01 13:33:32 WARN DAGScheduler: Broadcasting large task binary with size 1071.2 KiB\n",
      "24/06/01 13:33:32 WARN DAGScheduler: Broadcasting large task binary with size 1072.3 KiB\n",
      "24/06/01 13:33:32 WARN DAGScheduler: Broadcasting large task binary with size 1074.6 KiB\n",
      "24/06/01 13:33:32 WARN DAGScheduler: Broadcasting large task binary with size 1079.1 KiB\n",
      "24/06/01 13:33:32 WARN DAGScheduler: Broadcasting large task binary with size 1088.2 KiB\n",
      "24/06/01 13:33:32 WARN DAGScheduler: Broadcasting large task binary with size 1092.8 KiB\n",
      "24/06/01 13:33:33 WARN DAGScheduler: Broadcasting large task binary with size 1093.3 KiB\n",
      "24/06/01 13:33:33 WARN DAGScheduler: Broadcasting large task binary with size 1093.8 KiB\n",
      "24/06/01 13:33:33 WARN DAGScheduler: Broadcasting large task binary with size 1095.0 KiB\n",
      "24/06/01 13:33:33 WARN DAGScheduler: Broadcasting large task binary with size 1097.3 KiB\n",
      "24/06/01 13:33:33 WARN DAGScheduler: Broadcasting large task binary with size 1101.8 KiB\n",
      "24/06/01 13:33:33 WARN DAGScheduler: Broadcasting large task binary with size 1110.8 KiB\n",
      "24/06/01 13:33:33 WARN DAGScheduler: Broadcasting large task binary with size 1115.1 KiB\n",
      "24/06/01 13:33:33 WARN DAGScheduler: Broadcasting large task binary with size 1115.6 KiB\n",
      "24/06/01 13:33:33 WARN DAGScheduler: Broadcasting large task binary with size 1116.1 KiB\n",
      "24/06/01 13:33:33 WARN DAGScheduler: Broadcasting large task binary with size 1117.3 KiB\n",
      "24/06/01 13:33:33 WARN DAGScheduler: Broadcasting large task binary with size 1119.5 KiB\n",
      "24/06/01 13:33:33 WARN DAGScheduler: Broadcasting large task binary with size 1124.1 KiB\n",
      "24/06/01 13:33:34 WARN DAGScheduler: Broadcasting large task binary with size 1133.1 KiB\n",
      "24/06/01 13:33:34 WARN DAGScheduler: Broadcasting large task binary with size 1137.3 KiB\n",
      "24/06/01 13:33:34 WARN DAGScheduler: Broadcasting large task binary with size 1137.8 KiB\n",
      "24/06/01 13:33:34 WARN DAGScheduler: Broadcasting large task binary with size 1138.3 KiB\n",
      "24/06/01 13:33:34 WARN DAGScheduler: Broadcasting large task binary with size 1139.5 KiB\n",
      "24/06/01 13:33:34 WARN DAGScheduler: Broadcasting large task binary with size 1141.7 KiB\n",
      "24/06/01 13:33:34 WARN DAGScheduler: Broadcasting large task binary with size 1146.3 KiB\n",
      "24/06/01 13:33:34 WARN DAGScheduler: Broadcasting large task binary with size 1155.3 KiB\n",
      "24/06/01 13:33:34 WARN DAGScheduler: Broadcasting large task binary with size 1160.0 KiB\n",
      "24/06/01 13:33:34 WARN DAGScheduler: Broadcasting large task binary with size 1160.4 KiB\n",
      "24/06/01 13:33:34 WARN DAGScheduler: Broadcasting large task binary with size 1161.0 KiB\n",
      "24/06/01 13:33:34 WARN DAGScheduler: Broadcasting large task binary with size 1162.1 KiB\n",
      "24/06/01 13:33:34 WARN DAGScheduler: Broadcasting large task binary with size 1164.4 KiB\n",
      "24/06/01 13:33:35 WARN DAGScheduler: Broadcasting large task binary with size 1168.9 KiB\n",
      "24/06/01 13:33:35 WARN DAGScheduler: Broadcasting large task binary with size 1178.0 KiB\n",
      "24/06/01 13:33:35 WARN DAGScheduler: Broadcasting large task binary with size 1182.5 KiB\n",
      "24/06/01 13:33:35 WARN DAGScheduler: Broadcasting large task binary with size 1183.0 KiB\n",
      "24/06/01 13:33:35 WARN DAGScheduler: Broadcasting large task binary with size 1183.5 KiB\n",
      "24/06/01 13:33:35 WARN DAGScheduler: Broadcasting large task binary with size 1184.7 KiB\n",
      "24/06/01 13:33:35 WARN DAGScheduler: Broadcasting large task binary with size 1186.9 KiB\n",
      "24/06/01 13:33:35 WARN DAGScheduler: Broadcasting large task binary with size 1191.5 KiB\n",
      "24/06/01 13:33:35 WARN DAGScheduler: Broadcasting large task binary with size 1200.5 KiB\n",
      "24/06/01 13:33:35 WARN DAGScheduler: Broadcasting large task binary with size 1205.1 KiB\n",
      "24/06/01 13:33:35 WARN DAGScheduler: Broadcasting large task binary with size 1205.6 KiB\n",
      "24/06/01 13:33:35 WARN DAGScheduler: Broadcasting large task binary with size 1206.2 KiB\n",
      "24/06/01 13:33:35 WARN DAGScheduler: Broadcasting large task binary with size 1207.3 KiB\n",
      "24/06/01 13:33:36 WARN DAGScheduler: Broadcasting large task binary with size 1209.6 KiB\n",
      "24/06/01 13:33:36 WARN DAGScheduler: Broadcasting large task binary with size 1214.1 KiB\n",
      "24/06/01 13:33:36 WARN DAGScheduler: Broadcasting large task binary with size 1223.2 KiB\n",
      "24/06/01 13:33:36 WARN DAGScheduler: Broadcasting large task binary with size 1227.8 KiB\n",
      "24/06/01 13:33:36 WARN DAGScheduler: Broadcasting large task binary with size 1228.3 KiB\n",
      "24/06/01 13:33:36 WARN DAGScheduler: Broadcasting large task binary with size 1228.8 KiB\n",
      "24/06/01 13:33:36 WARN DAGScheduler: Broadcasting large task binary with size 1230.0 KiB\n",
      "24/06/01 13:33:36 WARN DAGScheduler: Broadcasting large task binary with size 1232.3 KiB\n",
      "24/06/01 13:33:36 WARN DAGScheduler: Broadcasting large task binary with size 1236.8 KiB\n",
      "24/06/01 13:33:36 WARN DAGScheduler: Broadcasting large task binary with size 1245.8 KiB\n",
      "24/06/01 13:33:36 WARN DAGScheduler: Broadcasting large task binary with size 1250.1 KiB\n",
      "24/06/01 13:33:36 WARN DAGScheduler: Broadcasting large task binary with size 1250.6 KiB\n",
      "24/06/01 13:33:37 WARN DAGScheduler: Broadcasting large task binary with size 1251.2 KiB\n",
      "24/06/01 13:33:37 WARN DAGScheduler: Broadcasting large task binary with size 1252.3 KiB\n",
      "24/06/01 13:33:37 WARN DAGScheduler: Broadcasting large task binary with size 1254.6 KiB\n",
      "24/06/01 13:33:37 WARN DAGScheduler: Broadcasting large task binary with size 1259.1 KiB\n",
      "24/06/01 13:33:37 WARN DAGScheduler: Broadcasting large task binary with size 1268.2 KiB\n",
      "24/06/01 13:33:37 WARN DAGScheduler: Broadcasting large task binary with size 1272.8 KiB\n",
      "24/06/01 13:33:37 WARN DAGScheduler: Broadcasting large task binary with size 1273.3 KiB\n",
      "24/06/01 13:33:37 WARN DAGScheduler: Broadcasting large task binary with size 1273.8 KiB\n",
      "24/06/01 13:33:37 WARN DAGScheduler: Broadcasting large task binary with size 1275.0 KiB\n",
      "24/06/01 13:33:37 WARN DAGScheduler: Broadcasting large task binary with size 1277.2 KiB\n",
      "24/06/01 13:33:37 WARN DAGScheduler: Broadcasting large task binary with size 1281.8 KiB\n",
      "24/06/01 13:33:37 WARN DAGScheduler: Broadcasting large task binary with size 1290.8 KiB\n",
      "24/06/01 13:33:37 WARN DAGScheduler: Broadcasting large task binary with size 1295.3 KiB\n",
      "24/06/01 13:33:38 WARN DAGScheduler: Broadcasting large task binary with size 1295.8 KiB\n",
      "24/06/01 13:33:38 WARN DAGScheduler: Broadcasting large task binary with size 1296.3 KiB\n",
      "24/06/01 13:33:38 WARN DAGScheduler: Broadcasting large task binary with size 1297.5 KiB\n",
      "24/06/01 13:33:38 WARN DAGScheduler: Broadcasting large task binary with size 1299.7 KiB\n",
      "24/06/01 13:33:38 WARN DAGScheduler: Broadcasting large task binary with size 1304.3 KiB\n",
      "24/06/01 13:33:38 WARN DAGScheduler: Broadcasting large task binary with size 1313.3 KiB\n",
      "24/06/01 13:33:38 WARN DAGScheduler: Broadcasting large task binary with size 1318.0 KiB\n",
      "24/06/01 13:33:38 WARN DAGScheduler: Broadcasting large task binary with size 1318.4 KiB\n",
      "24/06/01 13:33:38 WARN DAGScheduler: Broadcasting large task binary with size 1319.0 KiB\n",
      "24/06/01 13:33:38 WARN DAGScheduler: Broadcasting large task binary with size 1320.1 KiB\n",
      "24/06/01 13:33:38 WARN DAGScheduler: Broadcasting large task binary with size 1322.4 KiB\n",
      "24/06/01 13:33:39 WARN DAGScheduler: Broadcasting large task binary with size 1326.9 KiB\n",
      "24/06/01 13:33:39 WARN DAGScheduler: Broadcasting large task binary with size 1336.0 KiB\n",
      "24/06/01 13:33:39 WARN DAGScheduler: Broadcasting large task binary with size 1340.7 KiB\n",
      "24/06/01 13:33:39 WARN DAGScheduler: Broadcasting large task binary with size 1341.1 KiB\n",
      "24/06/01 13:33:39 WARN DAGScheduler: Broadcasting large task binary with size 1341.7 KiB\n",
      "24/06/01 13:33:39 WARN DAGScheduler: Broadcasting large task binary with size 1342.8 KiB\n",
      "24/06/01 13:33:39 WARN DAGScheduler: Broadcasting large task binary with size 1345.1 KiB\n",
      "24/06/01 13:33:39 WARN DAGScheduler: Broadcasting large task binary with size 1349.6 KiB\n",
      "24/06/01 13:33:39 WARN DAGScheduler: Broadcasting large task binary with size 1358.7 KiB\n",
      "24/06/01 13:33:39 WARN DAGScheduler: Broadcasting large task binary with size 1363.0 KiB\n",
      "24/06/01 13:33:39 WARN DAGScheduler: Broadcasting large task binary with size 1363.5 KiB\n",
      "24/06/01 13:33:40 WARN DAGScheduler: Broadcasting large task binary with size 1364.1 KiB\n",
      "24/06/01 13:33:40 WARN DAGScheduler: Broadcasting large task binary with size 1365.2 KiB\n",
      "24/06/01 13:33:40 WARN DAGScheduler: Broadcasting large task binary with size 1367.5 KiB\n",
      "24/06/01 13:33:40 WARN DAGScheduler: Broadcasting large task binary with size 1372.0 KiB\n",
      "24/06/01 13:33:40 WARN DAGScheduler: Broadcasting large task binary with size 1381.1 KiB\n",
      "24/06/01 13:33:40 WARN DAGScheduler: Broadcasting large task binary with size 1385.7 KiB\n",
      "24/06/01 13:33:40 WARN DAGScheduler: Broadcasting large task binary with size 1386.2 KiB\n",
      "24/06/01 13:33:40 WARN DAGScheduler: Broadcasting large task binary with size 1386.7 KiB\n",
      "24/06/01 13:33:40 WARN DAGScheduler: Broadcasting large task binary with size 1387.9 KiB\n",
      "24/06/01 13:33:40 WARN DAGScheduler: Broadcasting large task binary with size 1390.1 KiB\n",
      "24/06/01 13:33:40 WARN DAGScheduler: Broadcasting large task binary with size 1394.6 KiB\n",
      "24/06/01 13:33:40 WARN DAGScheduler: Broadcasting large task binary with size 1403.7 KiB\n",
      "24/06/01 13:33:41 WARN DAGScheduler: Broadcasting large task binary with size 1393.1 KiB\n",
      "24/06/01 13:34:02 WARN DAGScheduler: Broadcasting large task binary with size 1000.6 KiB\n",
      "24/06/01 13:34:02 WARN DAGScheduler: Broadcasting large task binary with size 1005.1 KiB\n",
      "24/06/01 13:34:02 WARN DAGScheduler: Broadcasting large task binary with size 1005.5 KiB\n",
      "24/06/01 13:34:02 WARN DAGScheduler: Broadcasting large task binary with size 1006.1 KiB\n",
      "24/06/01 13:34:02 WARN DAGScheduler: Broadcasting large task binary with size 1007.2 KiB\n",
      "24/06/01 13:34:02 WARN DAGScheduler: Broadcasting large task binary with size 1009.5 KiB\n",
      "24/06/01 13:34:02 WARN DAGScheduler: Broadcasting large task binary with size 1014.0 KiB\n",
      "24/06/01 13:34:02 WARN DAGScheduler: Broadcasting large task binary with size 1023.1 KiB\n",
      "24/06/01 13:34:02 WARN DAGScheduler: Broadcasting large task binary with size 1027.7 KiB\n",
      "24/06/01 13:34:02 WARN DAGScheduler: Broadcasting large task binary with size 1028.2 KiB\n",
      "24/06/01 13:34:03 WARN DAGScheduler: Broadcasting large task binary with size 1028.8 KiB\n",
      "24/06/01 13:34:03 WARN DAGScheduler: Broadcasting large task binary with size 1029.9 KiB\n",
      "24/06/01 13:34:03 WARN DAGScheduler: Broadcasting large task binary with size 1032.2 KiB\n",
      "24/06/01 13:34:03 WARN DAGScheduler: Broadcasting large task binary with size 1036.7 KiB\n",
      "24/06/01 13:34:03 WARN DAGScheduler: Broadcasting large task binary with size 1045.8 KiB\n",
      "24/06/01 13:34:03 WARN DAGScheduler: Broadcasting large task binary with size 1049.9 KiB\n",
      "24/06/01 13:34:04 WARN DAGScheduler: Broadcasting large task binary with size 1050.4 KiB\n",
      "24/06/01 13:34:04 WARN DAGScheduler: Broadcasting large task binary with size 1051.0 KiB\n",
      "24/06/01 13:34:04 WARN DAGScheduler: Broadcasting large task binary with size 1052.1 KiB\n",
      "24/06/01 13:34:04 WARN DAGScheduler: Broadcasting large task binary with size 1054.4 KiB\n",
      "24/06/01 13:34:04 WARN DAGScheduler: Broadcasting large task binary with size 1058.9 KiB\n",
      "24/06/01 13:34:04 WARN DAGScheduler: Broadcasting large task binary with size 1068.0 KiB\n",
      "24/06/01 13:34:04 WARN DAGScheduler: Broadcasting large task binary with size 1072.5 KiB\n",
      "24/06/01 13:34:04 WARN DAGScheduler: Broadcasting large task binary with size 1073.0 KiB\n",
      "24/06/01 13:34:04 WARN DAGScheduler: Broadcasting large task binary with size 1073.5 KiB\n",
      "24/06/01 13:34:04 WARN DAGScheduler: Broadcasting large task binary with size 1074.7 KiB\n",
      "24/06/01 13:34:04 WARN DAGScheduler: Broadcasting large task binary with size 1076.9 KiB\n",
      "24/06/01 13:34:04 WARN DAGScheduler: Broadcasting large task binary with size 1081.5 KiB\n",
      "24/06/01 13:34:04 WARN DAGScheduler: Broadcasting large task binary with size 1090.5 KiB\n",
      "24/06/01 13:34:05 WARN DAGScheduler: Broadcasting large task binary with size 1095.0 KiB\n",
      "24/06/01 13:34:05 WARN DAGScheduler: Broadcasting large task binary with size 1095.5 KiB\n",
      "24/06/01 13:34:05 WARN DAGScheduler: Broadcasting large task binary with size 1096.0 KiB\n",
      "24/06/01 13:34:05 WARN DAGScheduler: Broadcasting large task binary with size 1097.2 KiB\n",
      "24/06/01 13:34:05 WARN DAGScheduler: Broadcasting large task binary with size 1099.4 KiB\n",
      "24/06/01 13:34:05 WARN DAGScheduler: Broadcasting large task binary with size 1104.0 KiB\n",
      "24/06/01 13:34:05 WARN DAGScheduler: Broadcasting large task binary with size 1113.0 KiB\n",
      "24/06/01 13:34:05 WARN DAGScheduler: Broadcasting large task binary with size 1117.5 KiB\n",
      "24/06/01 13:34:05 WARN DAGScheduler: Broadcasting large task binary with size 1118.0 KiB\n",
      "24/06/01 13:34:05 WARN DAGScheduler: Broadcasting large task binary with size 1118.5 KiB\n",
      "24/06/01 13:34:05 WARN DAGScheduler: Broadcasting large task binary with size 1119.7 KiB\n",
      "24/06/01 13:34:06 WARN DAGScheduler: Broadcasting large task binary with size 1121.9 KiB\n",
      "24/06/01 13:34:06 WARN DAGScheduler: Broadcasting large task binary with size 1126.5 KiB\n",
      "24/06/01 13:34:06 WARN DAGScheduler: Broadcasting large task binary with size 1135.5 KiB\n",
      "24/06/01 13:34:06 WARN DAGScheduler: Broadcasting large task binary with size 1140.0 KiB\n",
      "24/06/01 13:34:06 WARN DAGScheduler: Broadcasting large task binary with size 1140.5 KiB\n",
      "24/06/01 13:34:06 WARN DAGScheduler: Broadcasting large task binary with size 1141.1 KiB\n",
      "24/06/01 13:34:06 WARN DAGScheduler: Broadcasting large task binary with size 1142.2 KiB\n",
      "24/06/01 13:34:06 WARN DAGScheduler: Broadcasting large task binary with size 1144.5 KiB\n",
      "24/06/01 13:34:06 WARN DAGScheduler: Broadcasting large task binary with size 1149.0 KiB\n",
      "24/06/01 13:34:06 WARN DAGScheduler: Broadcasting large task binary with size 1158.1 KiB\n",
      "24/06/01 13:34:06 WARN DAGScheduler: Broadcasting large task binary with size 1162.7 KiB\n",
      "24/06/01 13:34:06 WARN DAGScheduler: Broadcasting large task binary with size 1163.1 KiB\n",
      "24/06/01 13:34:06 WARN DAGScheduler: Broadcasting large task binary with size 1163.7 KiB\n",
      "24/06/01 13:34:07 WARN DAGScheduler: Broadcasting large task binary with size 1164.8 KiB\n",
      "24/06/01 13:34:07 WARN DAGScheduler: Broadcasting large task binary with size 1167.1 KiB\n",
      "24/06/01 13:34:07 WARN DAGScheduler: Broadcasting large task binary with size 1171.6 KiB\n",
      "24/06/01 13:34:07 WARN DAGScheduler: Broadcasting large task binary with size 1180.7 KiB\n",
      "24/06/01 13:34:07 WARN DAGScheduler: Broadcasting large task binary with size 1185.3 KiB\n",
      "24/06/01 13:34:07 WARN DAGScheduler: Broadcasting large task binary with size 1185.8 KiB\n",
      "24/06/01 13:34:07 WARN DAGScheduler: Broadcasting large task binary with size 1186.4 KiB\n",
      "24/06/01 13:34:07 WARN DAGScheduler: Broadcasting large task binary with size 1187.5 KiB\n",
      "24/06/01 13:34:07 WARN DAGScheduler: Broadcasting large task binary with size 1189.8 KiB\n",
      "24/06/01 13:34:07 WARN DAGScheduler: Broadcasting large task binary with size 1194.3 KiB\n",
      "24/06/01 13:34:07 WARN DAGScheduler: Broadcasting large task binary with size 1203.4 KiB\n",
      "24/06/01 13:34:07 WARN DAGScheduler: Broadcasting large task binary with size 1208.0 KiB\n",
      "24/06/01 13:34:08 WARN DAGScheduler: Broadcasting large task binary with size 1208.5 KiB\n",
      "24/06/01 13:34:08 WARN DAGScheduler: Broadcasting large task binary with size 1209.0 KiB\n",
      "24/06/01 13:34:08 WARN DAGScheduler: Broadcasting large task binary with size 1210.2 KiB\n",
      "24/06/01 13:34:08 WARN DAGScheduler: Broadcasting large task binary with size 1212.4 KiB\n",
      "24/06/01 13:34:08 WARN DAGScheduler: Broadcasting large task binary with size 1217.0 KiB\n",
      "24/06/01 13:34:08 WARN DAGScheduler: Broadcasting large task binary with size 1226.0 KiB\n",
      "24/06/01 13:34:08 WARN DAGScheduler: Broadcasting large task binary with size 1230.5 KiB\n",
      "24/06/01 13:34:08 WARN DAGScheduler: Broadcasting large task binary with size 1231.0 KiB\n",
      "24/06/01 13:34:08 WARN DAGScheduler: Broadcasting large task binary with size 1231.6 KiB\n",
      "24/06/01 13:34:08 WARN DAGScheduler: Broadcasting large task binary with size 1232.7 KiB\n",
      "24/06/01 13:34:08 WARN DAGScheduler: Broadcasting large task binary with size 1235.0 KiB\n",
      "24/06/01 13:34:08 WARN DAGScheduler: Broadcasting large task binary with size 1239.5 KiB\n",
      "24/06/01 13:34:08 WARN DAGScheduler: Broadcasting large task binary with size 1248.6 KiB\n",
      "24/06/01 13:34:09 WARN DAGScheduler: Broadcasting large task binary with size 1253.2 KiB\n",
      "24/06/01 13:34:09 WARN DAGScheduler: Broadcasting large task binary with size 1253.7 KiB\n",
      "24/06/01 13:34:09 WARN DAGScheduler: Broadcasting large task binary with size 1254.2 KiB\n",
      "24/06/01 13:34:09 WARN DAGScheduler: Broadcasting large task binary with size 1255.4 KiB\n",
      "24/06/01 13:34:09 WARN DAGScheduler: Broadcasting large task binary with size 1257.6 KiB\n",
      "24/06/01 13:34:09 WARN DAGScheduler: Broadcasting large task binary with size 1262.2 KiB\n",
      "24/06/01 13:34:09 WARN DAGScheduler: Broadcasting large task binary with size 1271.2 KiB\n",
      "24/06/01 13:34:09 WARN DAGScheduler: Broadcasting large task binary with size 1275.7 KiB\n",
      "24/06/01 13:34:09 WARN DAGScheduler: Broadcasting large task binary with size 1276.2 KiB\n",
      "24/06/01 13:34:09 WARN DAGScheduler: Broadcasting large task binary with size 1276.8 KiB\n",
      "24/06/01 13:34:09 WARN DAGScheduler: Broadcasting large task binary with size 1277.9 KiB\n",
      "24/06/01 13:34:09 WARN DAGScheduler: Broadcasting large task binary with size 1280.2 KiB\n",
      "24/06/01 13:34:09 WARN DAGScheduler: Broadcasting large task binary with size 1284.7 KiB\n",
      "24/06/01 13:34:10 WARN DAGScheduler: Broadcasting large task binary with size 1293.7 KiB\n",
      "24/06/01 13:34:10 WARN DAGScheduler: Broadcasting large task binary with size 1298.1 KiB\n",
      "24/06/01 13:34:10 WARN DAGScheduler: Broadcasting large task binary with size 1298.5 KiB\n",
      "24/06/01 13:34:10 WARN DAGScheduler: Broadcasting large task binary with size 1299.1 KiB\n",
      "24/06/01 13:34:10 WARN DAGScheduler: Broadcasting large task binary with size 1300.2 KiB\n",
      "24/06/01 13:34:10 WARN DAGScheduler: Broadcasting large task binary with size 1302.5 KiB\n",
      "24/06/01 13:34:10 WARN DAGScheduler: Broadcasting large task binary with size 1307.0 KiB\n",
      "24/06/01 13:34:10 WARN DAGScheduler: Broadcasting large task binary with size 1316.1 KiB\n",
      "24/06/01 13:34:10 WARN DAGScheduler: Broadcasting large task binary with size 1320.3 KiB\n",
      "24/06/01 13:34:10 WARN DAGScheduler: Broadcasting large task binary with size 1320.7 KiB\n",
      "24/06/01 13:34:10 WARN DAGScheduler: Broadcasting large task binary with size 1321.3 KiB\n",
      "24/06/01 13:34:11 WARN DAGScheduler: Broadcasting large task binary with size 1322.5 KiB\n",
      "24/06/01 13:34:11 WARN DAGScheduler: Broadcasting large task binary with size 1324.7 KiB\n",
      "24/06/01 13:34:11 WARN DAGScheduler: Broadcasting large task binary with size 1329.2 KiB\n",
      "24/06/01 13:34:11 WARN DAGScheduler: Broadcasting large task binary with size 1338.3 KiB\n",
      "24/06/01 13:34:11 WARN DAGScheduler: Broadcasting large task binary with size 1343.0 KiB\n",
      "24/06/01 13:34:11 WARN DAGScheduler: Broadcasting large task binary with size 1343.4 KiB\n",
      "24/06/01 13:34:11 WARN DAGScheduler: Broadcasting large task binary with size 1344.0 KiB\n",
      "24/06/01 13:34:11 WARN DAGScheduler: Broadcasting large task binary with size 1345.1 KiB\n",
      "24/06/01 13:34:11 WARN DAGScheduler: Broadcasting large task binary with size 1347.4 KiB\n",
      "24/06/01 13:34:11 WARN DAGScheduler: Broadcasting large task binary with size 1351.9 KiB\n",
      "24/06/01 13:34:11 WARN DAGScheduler: Broadcasting large task binary with size 1361.0 KiB\n",
      "24/06/01 13:34:11 WARN DAGScheduler: Broadcasting large task binary with size 1365.5 KiB\n",
      "24/06/01 13:34:12 WARN DAGScheduler: Broadcasting large task binary with size 1365.9 KiB\n",
      "24/06/01 13:34:12 WARN DAGScheduler: Broadcasting large task binary with size 1366.5 KiB\n",
      "24/06/01 13:34:12 WARN DAGScheduler: Broadcasting large task binary with size 1367.6 KiB\n",
      "24/06/01 13:34:12 WARN DAGScheduler: Broadcasting large task binary with size 1369.9 KiB\n",
      "24/06/01 13:34:12 WARN DAGScheduler: Broadcasting large task binary with size 1374.4 KiB\n",
      "24/06/01 13:34:12 WARN DAGScheduler: Broadcasting large task binary with size 1383.5 KiB\n",
      "24/06/01 13:34:13 WARN DAGScheduler: Broadcasting large task binary with size 1388.0 KiB\n",
      "24/06/01 13:34:13 WARN DAGScheduler: Broadcasting large task binary with size 1388.5 KiB\n",
      "24/06/01 13:34:13 WARN DAGScheduler: Broadcasting large task binary with size 1389.0 KiB\n",
      "24/06/01 13:34:13 WARN DAGScheduler: Broadcasting large task binary with size 1390.2 KiB\n",
      "24/06/01 13:34:13 WARN DAGScheduler: Broadcasting large task binary with size 1392.4 KiB\n",
      "24/06/01 13:34:13 WARN DAGScheduler: Broadcasting large task binary with size 1397.0 KiB\n",
      "24/06/01 13:34:13 WARN DAGScheduler: Broadcasting large task binary with size 1406.1 KiB\n",
      "24/06/01 13:34:14 WARN DAGScheduler: Broadcasting large task binary with size 1393.8 KiB\n",
      "24/06/01 13:35:50 WARN DAGScheduler: Broadcasting large task binary with size 1000.4 KiB\n",
      "24/06/01 13:35:50 WARN DAGScheduler: Broadcasting large task binary with size 1000.9 KiB\n",
      "24/06/01 13:35:50 WARN DAGScheduler: Broadcasting large task binary with size 1001.5 KiB\n",
      "24/06/01 13:35:50 WARN DAGScheduler: Broadcasting large task binary with size 1002.6 KiB\n",
      "24/06/01 13:35:50 WARN DAGScheduler: Broadcasting large task binary with size 1004.9 KiB\n",
      "24/06/01 13:35:51 WARN DAGScheduler: Broadcasting large task binary with size 1009.4 KiB\n",
      "24/06/01 13:35:51 WARN DAGScheduler: Broadcasting large task binary with size 1018.5 KiB\n",
      "24/06/01 13:35:51 WARN DAGScheduler: Broadcasting large task binary with size 1023.1 KiB\n",
      "24/06/01 13:35:51 WARN DAGScheduler: Broadcasting large task binary with size 1023.6 KiB\n",
      "24/06/01 13:35:51 WARN DAGScheduler: Broadcasting large task binary with size 1024.1 KiB\n",
      "24/06/01 13:35:51 WARN DAGScheduler: Broadcasting large task binary with size 1025.3 KiB\n",
      "24/06/01 13:35:51 WARN DAGScheduler: Broadcasting large task binary with size 1027.5 KiB\n",
      "24/06/01 13:35:51 WARN DAGScheduler: Broadcasting large task binary with size 1032.1 KiB\n",
      "24/06/01 13:35:51 WARN DAGScheduler: Broadcasting large task binary with size 1041.1 KiB\n",
      "24/06/01 13:35:51 WARN DAGScheduler: Broadcasting large task binary with size 1045.6 KiB\n",
      "24/06/01 13:35:51 WARN DAGScheduler: Broadcasting large task binary with size 1046.1 KiB\n",
      "24/06/01 13:35:51 WARN DAGScheduler: Broadcasting large task binary with size 1046.7 KiB\n",
      "24/06/01 13:35:51 WARN DAGScheduler: Broadcasting large task binary with size 1047.8 KiB\n",
      "24/06/01 13:35:51 WARN DAGScheduler: Broadcasting large task binary with size 1050.0 KiB\n",
      "24/06/01 13:35:52 WARN DAGScheduler: Broadcasting large task binary with size 1054.6 KiB\n",
      "24/06/01 13:35:52 WARN DAGScheduler: Broadcasting large task binary with size 1063.7 KiB\n",
      "24/06/01 13:35:52 WARN DAGScheduler: Broadcasting large task binary with size 1068.3 KiB\n",
      "24/06/01 13:35:52 WARN DAGScheduler: Broadcasting large task binary with size 1068.7 KiB\n",
      "24/06/01 13:35:52 WARN DAGScheduler: Broadcasting large task binary with size 1069.3 KiB\n",
      "24/06/01 13:35:52 WARN DAGScheduler: Broadcasting large task binary with size 1070.4 KiB\n",
      "24/06/01 13:35:52 WARN DAGScheduler: Broadcasting large task binary with size 1072.7 KiB\n",
      "24/06/01 13:35:52 WARN DAGScheduler: Broadcasting large task binary with size 1077.2 KiB\n",
      "24/06/01 13:35:52 WARN DAGScheduler: Broadcasting large task binary with size 1086.3 KiB\n",
      "24/06/01 13:35:52 WARN DAGScheduler: Broadcasting large task binary with size 1090.9 KiB\n",
      "24/06/01 13:35:52 WARN DAGScheduler: Broadcasting large task binary with size 1091.4 KiB\n",
      "24/06/01 13:35:52 WARN DAGScheduler: Broadcasting large task binary with size 1092.0 KiB\n",
      "24/06/01 13:35:52 WARN DAGScheduler: Broadcasting large task binary with size 1093.1 KiB\n",
      "24/06/01 13:35:52 WARN DAGScheduler: Broadcasting large task binary with size 1095.4 KiB\n",
      "24/06/01 13:35:53 WARN DAGScheduler: Broadcasting large task binary with size 1099.9 KiB\n",
      "24/06/01 13:35:53 WARN DAGScheduler: Broadcasting large task binary with size 1109.0 KiB\n",
      "24/06/01 13:35:53 WARN DAGScheduler: Broadcasting large task binary with size 1113.6 KiB\n",
      "24/06/01 13:35:53 WARN DAGScheduler: Broadcasting large task binary with size 1114.1 KiB\n",
      "24/06/01 13:35:53 WARN DAGScheduler: Broadcasting large task binary with size 1114.6 KiB\n",
      "24/06/01 13:35:53 WARN DAGScheduler: Broadcasting large task binary with size 1115.8 KiB\n",
      "24/06/01 13:35:53 WARN DAGScheduler: Broadcasting large task binary with size 1118.0 KiB\n",
      "24/06/01 13:35:53 WARN DAGScheduler: Broadcasting large task binary with size 1122.6 KiB\n",
      "24/06/01 13:35:53 WARN DAGScheduler: Broadcasting large task binary with size 1131.7 KiB\n",
      "24/06/01 13:35:53 WARN DAGScheduler: Broadcasting large task binary with size 1136.2 KiB\n",
      "24/06/01 13:35:53 WARN DAGScheduler: Broadcasting large task binary with size 1136.7 KiB\n",
      "24/06/01 13:35:53 WARN DAGScheduler: Broadcasting large task binary with size 1137.3 KiB\n",
      "24/06/01 13:35:53 WARN DAGScheduler: Broadcasting large task binary with size 1138.4 KiB\n",
      "24/06/01 13:35:54 WARN DAGScheduler: Broadcasting large task binary with size 1140.7 KiB\n",
      "24/06/01 13:35:54 WARN DAGScheduler: Broadcasting large task binary with size 1145.2 KiB\n",
      "24/06/01 13:35:54 WARN DAGScheduler: Broadcasting large task binary with size 1154.3 KiB\n",
      "24/06/01 13:35:54 WARN DAGScheduler: Broadcasting large task binary with size 1158.9 KiB\n",
      "24/06/01 13:35:54 WARN DAGScheduler: Broadcasting large task binary with size 1159.4 KiB\n",
      "24/06/01 13:35:54 WARN DAGScheduler: Broadcasting large task binary with size 1159.9 KiB\n",
      "24/06/01 13:35:55 WARN DAGScheduler: Broadcasting large task binary with size 1161.1 KiB\n",
      "24/06/01 13:35:55 WARN DAGScheduler: Broadcasting large task binary with size 1163.3 KiB\n",
      "24/06/01 13:35:55 WARN DAGScheduler: Broadcasting large task binary with size 1167.9 KiB\n",
      "24/06/01 13:35:55 WARN DAGScheduler: Broadcasting large task binary with size 1176.9 KiB\n",
      "24/06/01 13:35:55 WARN DAGScheduler: Broadcasting large task binary with size 1181.4 KiB\n",
      "24/06/01 13:35:55 WARN DAGScheduler: Broadcasting large task binary with size 1181.9 KiB\n",
      "24/06/01 13:35:55 WARN DAGScheduler: Broadcasting large task binary with size 1182.4 KiB\n",
      "24/06/01 13:35:55 WARN DAGScheduler: Broadcasting large task binary with size 1183.6 KiB\n",
      "24/06/01 13:35:55 WARN DAGScheduler: Broadcasting large task binary with size 1185.9 KiB\n",
      "24/06/01 13:35:55 WARN DAGScheduler: Broadcasting large task binary with size 1190.4 KiB\n",
      "24/06/01 13:35:55 WARN DAGScheduler: Broadcasting large task binary with size 1199.5 KiB\n",
      "24/06/01 13:35:55 WARN DAGScheduler: Broadcasting large task binary with size 1204.1 KiB\n",
      "24/06/01 13:35:56 WARN DAGScheduler: Broadcasting large task binary with size 1204.6 KiB\n",
      "24/06/01 13:35:56 WARN DAGScheduler: Broadcasting large task binary with size 1205.1 KiB\n",
      "24/06/01 13:35:56 WARN DAGScheduler: Broadcasting large task binary with size 1206.3 KiB\n",
      "24/06/01 13:35:56 WARN DAGScheduler: Broadcasting large task binary with size 1208.5 KiB\n",
      "24/06/01 13:35:56 WARN DAGScheduler: Broadcasting large task binary with size 1213.1 KiB\n",
      "24/06/01 13:35:56 WARN DAGScheduler: Broadcasting large task binary with size 1222.1 KiB\n",
      "24/06/01 13:35:56 WARN DAGScheduler: Broadcasting large task binary with size 1226.8 KiB\n",
      "24/06/01 13:35:56 WARN DAGScheduler: Broadcasting large task binary with size 1227.3 KiB\n",
      "24/06/01 13:35:56 WARN DAGScheduler: Broadcasting large task binary with size 1227.8 KiB\n",
      "24/06/01 13:35:56 WARN DAGScheduler: Broadcasting large task binary with size 1229.0 KiB\n",
      "24/06/01 13:35:56 WARN DAGScheduler: Broadcasting large task binary with size 1231.2 KiB\n",
      "24/06/01 13:35:56 WARN DAGScheduler: Broadcasting large task binary with size 1235.7 KiB\n",
      "24/06/01 13:35:56 WARN DAGScheduler: Broadcasting large task binary with size 1244.8 KiB\n",
      "24/06/01 13:35:56 WARN DAGScheduler: Broadcasting large task binary with size 1249.3 KiB\n",
      "24/06/01 13:35:57 WARN DAGScheduler: Broadcasting large task binary with size 1249.8 KiB\n",
      "24/06/01 13:35:57 WARN DAGScheduler: Broadcasting large task binary with size 1250.3 KiB\n",
      "24/06/01 13:35:57 WARN DAGScheduler: Broadcasting large task binary with size 1251.5 KiB\n",
      "24/06/01 13:35:57 WARN DAGScheduler: Broadcasting large task binary with size 1253.7 KiB\n",
      "24/06/01 13:35:57 WARN DAGScheduler: Broadcasting large task binary with size 1258.3 KiB\n",
      "24/06/01 13:35:57 WARN DAGScheduler: Broadcasting large task binary with size 1267.3 KiB\n",
      "24/06/01 13:35:57 WARN DAGScheduler: Broadcasting large task binary with size 1271.8 KiB\n",
      "24/06/01 13:35:57 WARN DAGScheduler: Broadcasting large task binary with size 1272.3 KiB\n",
      "24/06/01 13:35:57 WARN DAGScheduler: Broadcasting large task binary with size 1272.8 KiB\n",
      "24/06/01 13:35:57 WARN DAGScheduler: Broadcasting large task binary with size 1274.0 KiB\n",
      "24/06/01 13:35:57 WARN DAGScheduler: Broadcasting large task binary with size 1276.2 KiB\n",
      "24/06/01 13:35:57 WARN DAGScheduler: Broadcasting large task binary with size 1280.8 KiB\n",
      "24/06/01 13:35:57 WARN DAGScheduler: Broadcasting large task binary with size 1289.8 KiB\n",
      "24/06/01 13:35:58 WARN DAGScheduler: Broadcasting large task binary with size 1294.2 KiB\n",
      "24/06/01 13:35:58 WARN DAGScheduler: Broadcasting large task binary with size 1294.6 KiB\n",
      "24/06/01 13:35:58 WARN DAGScheduler: Broadcasting large task binary with size 1295.2 KiB\n",
      "24/06/01 13:35:58 WARN DAGScheduler: Broadcasting large task binary with size 1296.3 KiB\n",
      "24/06/01 13:35:58 WARN DAGScheduler: Broadcasting large task binary with size 1298.6 KiB\n",
      "24/06/01 13:35:58 WARN DAGScheduler: Broadcasting large task binary with size 1303.1 KiB\n",
      "24/06/01 13:35:58 WARN DAGScheduler: Broadcasting large task binary with size 1312.2 KiB\n",
      "24/06/01 13:35:58 WARN DAGScheduler: Broadcasting large task binary with size 1316.8 KiB\n",
      "24/06/01 13:35:58 WARN DAGScheduler: Broadcasting large task binary with size 1317.3 KiB\n",
      "24/06/01 13:35:58 WARN DAGScheduler: Broadcasting large task binary with size 1317.9 KiB\n",
      "24/06/01 13:35:58 WARN DAGScheduler: Broadcasting large task binary with size 1319.0 KiB\n",
      "24/06/01 13:35:58 WARN DAGScheduler: Broadcasting large task binary with size 1321.3 KiB\n",
      "24/06/01 13:35:59 WARN DAGScheduler: Broadcasting large task binary with size 1325.8 KiB\n",
      "24/06/01 13:35:59 WARN DAGScheduler: Broadcasting large task binary with size 1334.9 KiB\n",
      "24/06/01 13:35:59 WARN DAGScheduler: Broadcasting large task binary with size 1339.5 KiB\n",
      "24/06/01 13:35:59 WARN DAGScheduler: Broadcasting large task binary with size 1340.0 KiB\n",
      "24/06/01 13:35:59 WARN DAGScheduler: Broadcasting large task binary with size 1340.6 KiB\n",
      "24/06/01 13:35:59 WARN DAGScheduler: Broadcasting large task binary with size 1341.7 KiB\n",
      "24/06/01 13:35:59 WARN DAGScheduler: Broadcasting large task binary with size 1344.0 KiB\n",
      "24/06/01 13:35:59 WARN DAGScheduler: Broadcasting large task binary with size 1348.5 KiB\n",
      "24/06/01 13:35:59 WARN DAGScheduler: Broadcasting large task binary with size 1357.6 KiB\n",
      "24/06/01 13:35:59 WARN DAGScheduler: Broadcasting large task binary with size 1362.2 KiB\n",
      "24/06/01 13:35:59 WARN DAGScheduler: Broadcasting large task binary with size 1362.6 KiB\n",
      "24/06/01 13:35:59 WARN DAGScheduler: Broadcasting large task binary with size 1363.2 KiB\n",
      "24/06/01 13:35:59 WARN DAGScheduler: Broadcasting large task binary with size 1364.3 KiB\n",
      "24/06/01 13:36:00 WARN DAGScheduler: Broadcasting large task binary with size 1366.6 KiB\n",
      "24/06/01 13:36:00 WARN DAGScheduler: Broadcasting large task binary with size 1371.1 KiB\n",
      "24/06/01 13:36:00 WARN DAGScheduler: Broadcasting large task binary with size 1380.0 KiB\n",
      "24/06/01 13:36:00 WARN DAGScheduler: Broadcasting large task binary with size 1384.3 KiB\n",
      "24/06/01 13:36:00 WARN DAGScheduler: Broadcasting large task binary with size 1384.8 KiB\n",
      "24/06/01 13:36:00 WARN DAGScheduler: Broadcasting large task binary with size 1385.4 KiB\n",
      "24/06/01 13:36:00 WARN DAGScheduler: Broadcasting large task binary with size 1386.5 KiB\n",
      "24/06/01 13:36:00 WARN DAGScheduler: Broadcasting large task binary with size 1388.8 KiB\n",
      "24/06/01 13:36:00 WARN DAGScheduler: Broadcasting large task binary with size 1393.3 KiB\n",
      "24/06/01 13:36:00 WARN DAGScheduler: Broadcasting large task binary with size 1402.4 KiB\n",
      "24/06/01 13:36:01 WARN DAGScheduler: Broadcasting large task binary with size 1391.9 KiB\n",
      "24/06/01 13:36:22 WARN DAGScheduler: Broadcasting large task binary with size 1000.4 KiB\n",
      "24/06/01 13:36:22 WARN DAGScheduler: Broadcasting large task binary with size 1005.0 KiB\n",
      "24/06/01 13:36:22 WARN DAGScheduler: Broadcasting large task binary with size 1005.5 KiB\n",
      "24/06/01 13:36:22 WARN DAGScheduler: Broadcasting large task binary with size 1006.1 KiB\n",
      "24/06/01 13:36:22 WARN DAGScheduler: Broadcasting large task binary with size 1007.2 KiB\n",
      "24/06/01 13:36:22 WARN DAGScheduler: Broadcasting large task binary with size 1009.5 KiB\n",
      "24/06/01 13:36:22 WARN DAGScheduler: Broadcasting large task binary with size 1014.0 KiB\n",
      "24/06/01 13:36:22 WARN DAGScheduler: Broadcasting large task binary with size 1023.1 KiB\n",
      "24/06/01 13:36:22 WARN DAGScheduler: Broadcasting large task binary with size 1027.7 KiB\n",
      "24/06/01 13:36:22 WARN DAGScheduler: Broadcasting large task binary with size 1028.2 KiB\n",
      "24/06/01 13:36:22 WARN DAGScheduler: Broadcasting large task binary with size 1028.7 KiB\n",
      "24/06/01 13:36:22 WARN DAGScheduler: Broadcasting large task binary with size 1029.9 KiB\n",
      "24/06/01 13:36:22 WARN DAGScheduler: Broadcasting large task binary with size 1032.1 KiB\n",
      "24/06/01 13:36:23 WARN DAGScheduler: Broadcasting large task binary with size 1036.7 KiB\n",
      "24/06/01 13:36:23 WARN DAGScheduler: Broadcasting large task binary with size 1045.8 KiB\n",
      "24/06/01 13:36:23 WARN DAGScheduler: Broadcasting large task binary with size 1050.4 KiB\n",
      "24/06/01 13:36:23 WARN DAGScheduler: Broadcasting large task binary with size 1050.8 KiB\n",
      "24/06/01 13:36:23 WARN DAGScheduler: Broadcasting large task binary with size 1051.4 KiB\n",
      "24/06/01 13:36:23 WARN DAGScheduler: Broadcasting large task binary with size 1052.6 KiB\n",
      "24/06/01 13:36:23 WARN DAGScheduler: Broadcasting large task binary with size 1054.8 KiB\n",
      "24/06/01 13:36:23 WARN DAGScheduler: Broadcasting large task binary with size 1059.1 KiB\n",
      "24/06/01 13:36:23 WARN DAGScheduler: Broadcasting large task binary with size 1067.6 KiB\n",
      "24/06/01 13:36:23 WARN DAGScheduler: Broadcasting large task binary with size 1071.9 KiB\n",
      "24/06/01 13:36:23 WARN DAGScheduler: Broadcasting large task binary with size 1072.4 KiB\n",
      "24/06/01 13:36:23 WARN DAGScheduler: Broadcasting large task binary with size 1073.0 KiB\n",
      "24/06/01 13:36:23 WARN DAGScheduler: Broadcasting large task binary with size 1074.1 KiB\n",
      "24/06/01 13:36:24 WARN DAGScheduler: Broadcasting large task binary with size 1076.4 KiB\n",
      "24/06/01 13:36:24 WARN DAGScheduler: Broadcasting large task binary with size 1080.9 KiB\n",
      "24/06/01 13:36:24 WARN DAGScheduler: Broadcasting large task binary with size 1090.0 KiB\n",
      "24/06/01 13:36:24 WARN DAGScheduler: Broadcasting large task binary with size 1094.6 KiB\n",
      "24/06/01 13:36:24 WARN DAGScheduler: Broadcasting large task binary with size 1095.1 KiB\n",
      "24/06/01 13:36:24 WARN DAGScheduler: Broadcasting large task binary with size 1095.6 KiB\n",
      "24/06/01 13:36:24 WARN DAGScheduler: Broadcasting large task binary with size 1096.8 KiB\n",
      "24/06/01 13:36:24 WARN DAGScheduler: Broadcasting large task binary with size 1099.0 KiB\n",
      "24/06/01 13:36:24 WARN DAGScheduler: Broadcasting large task binary with size 1103.6 KiB\n",
      "24/06/01 13:36:24 WARN DAGScheduler: Broadcasting large task binary with size 1112.6 KiB\n",
      "24/06/01 13:36:24 WARN DAGScheduler: Broadcasting large task binary with size 1117.1 KiB\n",
      "24/06/01 13:36:24 WARN DAGScheduler: Broadcasting large task binary with size 1117.6 KiB\n",
      "24/06/01 13:36:24 WARN DAGScheduler: Broadcasting large task binary with size 1118.1 KiB\n",
      "24/06/01 13:36:25 WARN DAGScheduler: Broadcasting large task binary with size 1119.3 KiB\n",
      "24/06/01 13:36:25 WARN DAGScheduler: Broadcasting large task binary with size 1121.5 KiB\n",
      "24/06/01 13:36:25 WARN DAGScheduler: Broadcasting large task binary with size 1126.1 KiB\n",
      "24/06/01 13:36:25 WARN DAGScheduler: Broadcasting large task binary with size 1135.2 KiB\n",
      "24/06/01 13:36:25 WARN DAGScheduler: Broadcasting large task binary with size 1139.8 KiB\n",
      "24/06/01 13:36:25 WARN DAGScheduler: Broadcasting large task binary with size 1140.3 KiB\n",
      "24/06/01 13:36:25 WARN DAGScheduler: Broadcasting large task binary with size 1140.8 KiB\n",
      "24/06/01 13:36:25 WARN DAGScheduler: Broadcasting large task binary with size 1142.0 KiB\n",
      "24/06/01 13:36:25 WARN DAGScheduler: Broadcasting large task binary with size 1144.2 KiB\n",
      "24/06/01 13:36:25 WARN DAGScheduler: Broadcasting large task binary with size 1148.8 KiB\n",
      "24/06/01 13:36:25 WARN DAGScheduler: Broadcasting large task binary with size 1157.8 KiB\n",
      "24/06/01 13:36:25 WARN DAGScheduler: Broadcasting large task binary with size 1162.0 KiB\n",
      "24/06/01 13:36:25 WARN DAGScheduler: Broadcasting large task binary with size 1162.5 KiB\n",
      "24/06/01 13:36:26 WARN DAGScheduler: Broadcasting large task binary with size 1163.0 KiB\n",
      "24/06/01 13:36:26 WARN DAGScheduler: Broadcasting large task binary with size 1164.2 KiB\n",
      "24/06/01 13:36:26 WARN DAGScheduler: Broadcasting large task binary with size 1166.5 KiB\n",
      "24/06/01 13:36:26 WARN DAGScheduler: Broadcasting large task binary with size 1171.0 KiB\n",
      "24/06/01 13:36:26 WARN DAGScheduler: Broadcasting large task binary with size 1180.1 KiB\n",
      "24/06/01 13:36:26 WARN DAGScheduler: Broadcasting large task binary with size 1184.7 KiB\n",
      "24/06/01 13:36:26 WARN DAGScheduler: Broadcasting large task binary with size 1185.1 KiB\n",
      "24/06/01 13:36:26 WARN DAGScheduler: Broadcasting large task binary with size 1185.7 KiB\n",
      "24/06/01 13:36:26 WARN DAGScheduler: Broadcasting large task binary with size 1186.9 KiB\n",
      "24/06/01 13:36:26 WARN DAGScheduler: Broadcasting large task binary with size 1189.1 KiB\n",
      "24/06/01 13:36:26 WARN DAGScheduler: Broadcasting large task binary with size 1193.6 KiB\n",
      "24/06/01 13:36:26 WARN DAGScheduler: Broadcasting large task binary with size 1202.7 KiB\n",
      "24/06/01 13:36:26 WARN DAGScheduler: Broadcasting large task binary with size 1207.2 KiB\n",
      "24/06/01 13:36:27 WARN DAGScheduler: Broadcasting large task binary with size 1207.6 KiB\n",
      "24/06/01 13:36:27 WARN DAGScheduler: Broadcasting large task binary with size 1208.2 KiB\n",
      "24/06/01 13:36:27 WARN DAGScheduler: Broadcasting large task binary with size 1209.3 KiB\n",
      "24/06/01 13:36:27 WARN DAGScheduler: Broadcasting large task binary with size 1211.6 KiB\n",
      "24/06/01 13:36:27 WARN DAGScheduler: Broadcasting large task binary with size 1216.1 KiB\n",
      "24/06/01 13:36:27 WARN DAGScheduler: Broadcasting large task binary with size 1225.2 KiB\n",
      "24/06/01 13:36:27 WARN DAGScheduler: Broadcasting large task binary with size 1229.8 KiB\n",
      "24/06/01 13:36:27 WARN DAGScheduler: Broadcasting large task binary with size 1230.3 KiB\n",
      "24/06/01 13:36:27 WARN DAGScheduler: Broadcasting large task binary with size 1230.9 KiB\n",
      "24/06/01 13:36:27 WARN DAGScheduler: Broadcasting large task binary with size 1232.0 KiB\n",
      "24/06/01 13:36:27 WARN DAGScheduler: Broadcasting large task binary with size 1234.3 KiB\n",
      "24/06/01 13:36:27 WARN DAGScheduler: Broadcasting large task binary with size 1238.8 KiB\n",
      "24/06/01 13:36:27 WARN DAGScheduler: Broadcasting large task binary with size 1247.5 KiB\n",
      "24/06/01 13:36:28 WARN DAGScheduler: Broadcasting large task binary with size 1251.7 KiB\n",
      "24/06/01 13:36:28 WARN DAGScheduler: Broadcasting large task binary with size 1252.2 KiB\n",
      "24/06/01 13:36:28 WARN DAGScheduler: Broadcasting large task binary with size 1252.7 KiB\n",
      "24/06/01 13:36:28 WARN DAGScheduler: Broadcasting large task binary with size 1253.9 KiB\n",
      "24/06/01 13:36:28 WARN DAGScheduler: Broadcasting large task binary with size 1256.1 KiB\n",
      "24/06/01 13:36:28 WARN DAGScheduler: Broadcasting large task binary with size 1260.6 KiB\n",
      "24/06/01 13:36:28 WARN DAGScheduler: Broadcasting large task binary with size 1269.2 KiB\n",
      "24/06/01 13:36:28 WARN DAGScheduler: Broadcasting large task binary with size 1273.4 KiB\n",
      "24/06/01 13:36:28 WARN DAGScheduler: Broadcasting large task binary with size 1273.8 KiB\n",
      "24/06/01 13:36:28 WARN DAGScheduler: Broadcasting large task binary with size 1274.4 KiB\n",
      "24/06/01 13:36:28 WARN DAGScheduler: Broadcasting large task binary with size 1275.6 KiB\n",
      "24/06/01 13:36:28 WARN DAGScheduler: Broadcasting large task binary with size 1277.8 KiB\n",
      "24/06/01 13:36:28 WARN DAGScheduler: Broadcasting large task binary with size 1282.4 KiB\n",
      "24/06/01 13:36:29 WARN DAGScheduler: Broadcasting large task binary with size 1291.4 KiB\n",
      "24/06/01 13:36:29 WARN DAGScheduler: Broadcasting large task binary with size 1295.7 KiB\n",
      "24/06/01 13:36:29 WARN DAGScheduler: Broadcasting large task binary with size 1296.2 KiB\n",
      "24/06/01 13:36:29 WARN DAGScheduler: Broadcasting large task binary with size 1296.8 KiB\n",
      "24/06/01 13:36:30 WARN DAGScheduler: Broadcasting large task binary with size 1297.9 KiB\n",
      "24/06/01 13:36:30 WARN DAGScheduler: Broadcasting large task binary with size 1300.2 KiB\n",
      "24/06/01 13:36:30 WARN DAGScheduler: Broadcasting large task binary with size 1304.7 KiB\n",
      "24/06/01 13:36:30 WARN DAGScheduler: Broadcasting large task binary with size 1313.8 KiB\n",
      "24/06/01 13:36:30 WARN DAGScheduler: Broadcasting large task binary with size 1318.4 KiB\n",
      "24/06/01 13:36:30 WARN DAGScheduler: Broadcasting large task binary with size 1318.9 KiB\n",
      "24/06/01 13:36:30 WARN DAGScheduler: Broadcasting large task binary with size 1319.4 KiB\n",
      "24/06/01 13:36:30 WARN DAGScheduler: Broadcasting large task binary with size 1320.6 KiB\n",
      "24/06/01 13:36:30 WARN DAGScheduler: Broadcasting large task binary with size 1322.8 KiB\n",
      "24/06/01 13:36:30 WARN DAGScheduler: Broadcasting large task binary with size 1327.4 KiB\n",
      "24/06/01 13:36:30 WARN DAGScheduler: Broadcasting large task binary with size 1336.5 KiB\n",
      "24/06/01 13:36:30 WARN DAGScheduler: Broadcasting large task binary with size 1340.9 KiB\n",
      "24/06/01 13:36:31 WARN DAGScheduler: Broadcasting large task binary with size 1341.4 KiB\n",
      "24/06/01 13:36:31 WARN DAGScheduler: Broadcasting large task binary with size 1341.9 KiB\n",
      "24/06/01 13:36:31 WARN DAGScheduler: Broadcasting large task binary with size 1343.1 KiB\n",
      "24/06/01 13:36:31 WARN DAGScheduler: Broadcasting large task binary with size 1345.3 KiB\n",
      "24/06/01 13:36:31 WARN DAGScheduler: Broadcasting large task binary with size 1349.9 KiB\n",
      "24/06/01 13:36:31 WARN DAGScheduler: Broadcasting large task binary with size 1358.9 KiB\n",
      "24/06/01 13:36:31 WARN DAGScheduler: Broadcasting large task binary with size 1362.9 KiB\n",
      "24/06/01 13:36:31 WARN DAGScheduler: Broadcasting large task binary with size 1363.4 KiB\n",
      "24/06/01 13:36:31 WARN DAGScheduler: Broadcasting large task binary with size 1364.0 KiB\n",
      "24/06/01 13:36:31 WARN DAGScheduler: Broadcasting large task binary with size 1365.1 KiB\n",
      "24/06/01 13:36:31 WARN DAGScheduler: Broadcasting large task binary with size 1367.4 KiB\n",
      "24/06/01 13:36:31 WARN DAGScheduler: Broadcasting large task binary with size 1371.9 KiB\n",
      "24/06/01 13:36:31 WARN DAGScheduler: Broadcasting large task binary with size 1380.9 KiB\n",
      "24/06/01 13:36:32 WARN DAGScheduler: Broadcasting large task binary with size 1385.1 KiB\n",
      "24/06/01 13:36:32 WARN DAGScheduler: Broadcasting large task binary with size 1385.6 KiB\n",
      "24/06/01 13:36:32 WARN DAGScheduler: Broadcasting large task binary with size 1386.1 KiB\n",
      "24/06/01 13:36:32 WARN DAGScheduler: Broadcasting large task binary with size 1387.3 KiB\n",
      "24/06/01 13:36:32 WARN DAGScheduler: Broadcasting large task binary with size 1389.5 KiB\n",
      "24/06/01 13:36:32 WARN DAGScheduler: Broadcasting large task binary with size 1394.1 KiB\n",
      "24/06/01 13:36:32 WARN DAGScheduler: Broadcasting large task binary with size 1403.1 KiB\n",
      "24/06/01 13:36:33 WARN DAGScheduler: Broadcasting large task binary with size 1391.0 KiB\n",
      "24/06/01 13:39:43 WARN DAGScheduler: Broadcasting large task binary with size 1002.5 KiB\n",
      "24/06/01 13:39:43 WARN DAGScheduler: Broadcasting large task binary with size 1003.0 KiB\n",
      "24/06/01 13:39:43 WARN DAGScheduler: Broadcasting large task binary with size 1003.6 KiB\n",
      "24/06/01 13:39:43 WARN DAGScheduler: Broadcasting large task binary with size 1004.7 KiB\n",
      "24/06/01 13:39:43 WARN DAGScheduler: Broadcasting large task binary with size 1007.0 KiB\n",
      "24/06/01 13:39:43 WARN DAGScheduler: Broadcasting large task binary with size 1011.5 KiB\n",
      "24/06/01 13:39:43 WARN DAGScheduler: Broadcasting large task binary with size 1020.6 KiB\n",
      "24/06/01 13:39:43 WARN DAGScheduler: Broadcasting large task binary with size 1025.0 KiB\n",
      "24/06/01 13:39:43 WARN DAGScheduler: Broadcasting large task binary with size 1025.5 KiB\n",
      "24/06/01 13:39:44 WARN DAGScheduler: Broadcasting large task binary with size 1026.1 KiB\n",
      "24/06/01 13:39:44 WARN DAGScheduler: Broadcasting large task binary with size 1027.2 KiB\n",
      "24/06/01 13:39:44 WARN DAGScheduler: Broadcasting large task binary with size 1029.5 KiB\n",
      "24/06/01 13:39:44 WARN DAGScheduler: Broadcasting large task binary with size 1034.0 KiB\n",
      "24/06/01 13:39:44 WARN DAGScheduler: Broadcasting large task binary with size 1043.0 KiB\n",
      "24/06/01 13:39:44 WARN DAGScheduler: Broadcasting large task binary with size 1047.2 KiB\n",
      "24/06/01 13:39:44 WARN DAGScheduler: Broadcasting large task binary with size 1047.7 KiB\n",
      "24/06/01 13:39:44 WARN DAGScheduler: Broadcasting large task binary with size 1048.3 KiB\n",
      "24/06/01 13:39:44 WARN DAGScheduler: Broadcasting large task binary with size 1049.4 KiB\n",
      "24/06/01 13:39:44 WARN DAGScheduler: Broadcasting large task binary with size 1051.7 KiB\n",
      "24/06/01 13:39:44 WARN DAGScheduler: Broadcasting large task binary with size 1056.2 KiB\n",
      "24/06/01 13:39:45 WARN DAGScheduler: Broadcasting large task binary with size 1065.3 KiB\n",
      "24/06/01 13:39:45 WARN DAGScheduler: Broadcasting large task binary with size 1069.9 KiB\n",
      "24/06/01 13:39:45 WARN DAGScheduler: Broadcasting large task binary with size 1070.4 KiB\n",
      "24/06/01 13:39:45 WARN DAGScheduler: Broadcasting large task binary with size 1070.9 KiB\n",
      "24/06/01 13:39:45 WARN DAGScheduler: Broadcasting large task binary with size 1072.1 KiB\n",
      "24/06/01 13:39:45 WARN DAGScheduler: Broadcasting large task binary with size 1074.3 KiB\n",
      "24/06/01 13:39:45 WARN DAGScheduler: Broadcasting large task binary with size 1078.9 KiB\n",
      "24/06/01 13:39:45 WARN DAGScheduler: Broadcasting large task binary with size 1087.7 KiB\n",
      "24/06/01 13:39:45 WARN DAGScheduler: Broadcasting large task binary with size 1091.6 KiB\n",
      "24/06/01 13:39:46 WARN DAGScheduler: Broadcasting large task binary with size 1092.1 KiB\n",
      "24/06/01 13:39:46 WARN DAGScheduler: Broadcasting large task binary with size 1092.6 KiB\n",
      "24/06/01 13:39:46 WARN DAGScheduler: Broadcasting large task binary with size 1093.8 KiB\n",
      "24/06/01 13:39:46 WARN DAGScheduler: Broadcasting large task binary with size 1096.0 KiB\n",
      "24/06/01 13:39:46 WARN DAGScheduler: Broadcasting large task binary with size 1100.6 KiB\n",
      "24/06/01 13:39:46 WARN DAGScheduler: Broadcasting large task binary with size 1109.6 KiB\n",
      "24/06/01 13:39:46 WARN DAGScheduler: Broadcasting large task binary with size 1114.1 KiB\n",
      "24/06/01 13:39:46 WARN DAGScheduler: Broadcasting large task binary with size 1114.6 KiB\n",
      "24/06/01 13:39:46 WARN DAGScheduler: Broadcasting large task binary with size 1115.2 KiB\n",
      "24/06/01 13:39:46 WARN DAGScheduler: Broadcasting large task binary with size 1116.3 KiB\n",
      "24/06/01 13:39:46 WARN DAGScheduler: Broadcasting large task binary with size 1118.6 KiB\n",
      "24/06/01 13:39:46 WARN DAGScheduler: Broadcasting large task binary with size 1123.1 KiB\n",
      "24/06/01 13:39:46 WARN DAGScheduler: Broadcasting large task binary with size 1132.2 KiB\n",
      "24/06/01 13:39:46 WARN DAGScheduler: Broadcasting large task binary with size 1136.6 KiB\n",
      "24/06/01 13:39:47 WARN DAGScheduler: Broadcasting large task binary with size 1137.1 KiB\n",
      "24/06/01 13:39:47 WARN DAGScheduler: Broadcasting large task binary with size 1137.7 KiB\n",
      "24/06/01 13:39:47 WARN DAGScheduler: Broadcasting large task binary with size 1138.8 KiB\n",
      "24/06/01 13:39:47 WARN DAGScheduler: Broadcasting large task binary with size 1141.1 KiB\n",
      "24/06/01 13:39:47 WARN DAGScheduler: Broadcasting large task binary with size 1145.6 KiB\n",
      "24/06/01 13:39:47 WARN DAGScheduler: Broadcasting large task binary with size 1154.7 KiB\n",
      "24/06/01 13:39:47 WARN DAGScheduler: Broadcasting large task binary with size 1159.1 KiB\n",
      "24/06/01 13:39:47 WARN DAGScheduler: Broadcasting large task binary with size 1159.6 KiB\n",
      "24/06/01 13:39:47 WARN DAGScheduler: Broadcasting large task binary with size 1160.2 KiB\n",
      "24/06/01 13:39:47 WARN DAGScheduler: Broadcasting large task binary with size 1161.3 KiB\n",
      "24/06/01 13:39:47 WARN DAGScheduler: Broadcasting large task binary with size 1163.6 KiB\n",
      "24/06/01 13:39:47 WARN DAGScheduler: Broadcasting large task binary with size 1168.1 KiB\n",
      "24/06/01 13:39:47 WARN DAGScheduler: Broadcasting large task binary with size 1177.2 KiB\n",
      "24/06/01 13:39:48 WARN DAGScheduler: Broadcasting large task binary with size 1181.8 KiB\n",
      "24/06/01 13:39:48 WARN DAGScheduler: Broadcasting large task binary with size 1182.3 KiB\n",
      "24/06/01 13:39:48 WARN DAGScheduler: Broadcasting large task binary with size 1182.9 KiB\n",
      "24/06/01 13:39:48 WARN DAGScheduler: Broadcasting large task binary with size 1184.0 KiB\n",
      "24/06/01 13:39:48 WARN DAGScheduler: Broadcasting large task binary with size 1186.3 KiB\n",
      "24/06/01 13:39:48 WARN DAGScheduler: Broadcasting large task binary with size 1190.8 KiB\n",
      "24/06/01 13:39:48 WARN DAGScheduler: Broadcasting large task binary with size 1199.8 KiB\n",
      "24/06/01 13:39:48 WARN DAGScheduler: Broadcasting large task binary with size 1204.1 KiB\n",
      "24/06/01 13:39:48 WARN DAGScheduler: Broadcasting large task binary with size 1204.6 KiB\n",
      "24/06/01 13:39:48 WARN DAGScheduler: Broadcasting large task binary with size 1205.2 KiB\n",
      "24/06/01 13:39:48 WARN DAGScheduler: Broadcasting large task binary with size 1206.3 KiB\n",
      "24/06/01 13:39:48 WARN DAGScheduler: Broadcasting large task binary with size 1208.6 KiB\n",
      "24/06/01 13:39:48 WARN DAGScheduler: Broadcasting large task binary with size 1213.1 KiB\n",
      "24/06/01 13:39:49 WARN DAGScheduler: Broadcasting large task binary with size 1222.2 KiB\n",
      "24/06/01 13:39:49 WARN DAGScheduler: Broadcasting large task binary with size 1226.6 KiB\n",
      "24/06/01 13:39:49 WARN DAGScheduler: Broadcasting large task binary with size 1227.1 KiB\n",
      "24/06/01 13:39:49 WARN DAGScheduler: Broadcasting large task binary with size 1227.7 KiB\n",
      "24/06/01 13:39:49 WARN DAGScheduler: Broadcasting large task binary with size 1228.8 KiB\n",
      "24/06/01 13:39:49 WARN DAGScheduler: Broadcasting large task binary with size 1231.1 KiB\n",
      "24/06/01 13:39:49 WARN DAGScheduler: Broadcasting large task binary with size 1235.6 KiB\n",
      "24/06/01 13:39:49 WARN DAGScheduler: Broadcasting large task binary with size 1244.7 KiB\n",
      "24/06/01 13:39:49 WARN DAGScheduler: Broadcasting large task binary with size 1249.3 KiB\n",
      "24/06/01 13:39:49 WARN DAGScheduler: Broadcasting large task binary with size 1249.8 KiB\n",
      "24/06/01 13:39:49 WARN DAGScheduler: Broadcasting large task binary with size 1250.4 KiB\n",
      "24/06/01 13:39:49 WARN DAGScheduler: Broadcasting large task binary with size 1251.5 KiB\n",
      "24/06/01 13:39:50 WARN DAGScheduler: Broadcasting large task binary with size 1253.8 KiB\n",
      "24/06/01 13:39:50 WARN DAGScheduler: Broadcasting large task binary with size 1258.3 KiB\n",
      "24/06/01 13:39:50 WARN DAGScheduler: Broadcasting large task binary with size 1267.4 KiB\n",
      "24/06/01 13:39:50 WARN DAGScheduler: Broadcasting large task binary with size 1271.7 KiB\n",
      "24/06/01 13:39:50 WARN DAGScheduler: Broadcasting large task binary with size 1272.1 KiB\n",
      "24/06/01 13:39:50 WARN DAGScheduler: Broadcasting large task binary with size 1272.7 KiB\n",
      "24/06/01 13:39:50 WARN DAGScheduler: Broadcasting large task binary with size 1273.8 KiB\n",
      "24/06/01 13:39:50 WARN DAGScheduler: Broadcasting large task binary with size 1276.1 KiB\n",
      "24/06/01 13:39:50 WARN DAGScheduler: Broadcasting large task binary with size 1280.6 KiB\n",
      "24/06/01 13:39:50 WARN DAGScheduler: Broadcasting large task binary with size 1289.7 KiB\n",
      "24/06/01 13:39:50 WARN DAGScheduler: Broadcasting large task binary with size 1294.3 KiB\n",
      "24/06/01 13:39:50 WARN DAGScheduler: Broadcasting large task binary with size 1294.8 KiB\n",
      "24/06/01 13:39:51 WARN DAGScheduler: Broadcasting large task binary with size 1295.4 KiB\n",
      "24/06/01 13:39:51 WARN DAGScheduler: Broadcasting large task binary with size 1296.5 KiB\n",
      "24/06/01 13:39:51 WARN DAGScheduler: Broadcasting large task binary with size 1298.8 KiB\n",
      "24/06/01 13:39:51 WARN DAGScheduler: Broadcasting large task binary with size 1303.3 KiB\n",
      "24/06/01 13:39:51 WARN DAGScheduler: Broadcasting large task binary with size 1312.4 KiB\n",
      "24/06/01 13:39:51 WARN DAGScheduler: Broadcasting large task binary with size 1316.8 KiB\n",
      "24/06/01 13:39:51 WARN DAGScheduler: Broadcasting large task binary with size 1317.3 KiB\n",
      "24/06/01 13:39:52 WARN DAGScheduler: Broadcasting large task binary with size 1317.9 KiB\n",
      "24/06/01 13:39:52 WARN DAGScheduler: Broadcasting large task binary with size 1319.0 KiB\n",
      "24/06/01 13:39:52 WARN DAGScheduler: Broadcasting large task binary with size 1321.3 KiB\n",
      "24/06/01 13:39:52 WARN DAGScheduler: Broadcasting large task binary with size 1325.8 KiB\n",
      "24/06/01 13:39:52 WARN DAGScheduler: Broadcasting large task binary with size 1334.9 KiB\n",
      "24/06/01 13:39:52 WARN DAGScheduler: Broadcasting large task binary with size 1339.1 KiB\n",
      "24/06/01 13:39:52 WARN DAGScheduler: Broadcasting large task binary with size 1339.6 KiB\n",
      "24/06/01 13:39:52 WARN DAGScheduler: Broadcasting large task binary with size 1340.2 KiB\n",
      "24/06/01 13:39:52 WARN DAGScheduler: Broadcasting large task binary with size 1341.3 KiB\n",
      "24/06/01 13:39:52 WARN DAGScheduler: Broadcasting large task binary with size 1343.6 KiB\n",
      "24/06/01 13:39:52 WARN DAGScheduler: Broadcasting large task binary with size 1348.1 KiB\n",
      "24/06/01 13:39:52 WARN DAGScheduler: Broadcasting large task binary with size 1357.2 KiB\n",
      "24/06/01 13:39:53 WARN DAGScheduler: Broadcasting large task binary with size 1361.8 KiB\n",
      "24/06/01 13:39:53 WARN DAGScheduler: Broadcasting large task binary with size 1362.3 KiB\n",
      "24/06/01 13:39:53 WARN DAGScheduler: Broadcasting large task binary with size 1362.8 KiB\n",
      "24/06/01 13:39:53 WARN DAGScheduler: Broadcasting large task binary with size 1364.0 KiB\n",
      "24/06/01 13:39:53 WARN DAGScheduler: Broadcasting large task binary with size 1366.3 KiB\n",
      "24/06/01 13:39:53 WARN DAGScheduler: Broadcasting large task binary with size 1370.8 KiB\n",
      "24/06/01 13:39:53 WARN DAGScheduler: Broadcasting large task binary with size 1379.8 KiB\n",
      "24/06/01 13:39:53 WARN DAGScheduler: Broadcasting large task binary with size 1384.1 KiB\n",
      "24/06/01 13:39:53 WARN DAGScheduler: Broadcasting large task binary with size 1384.6 KiB\n",
      "24/06/01 13:39:53 WARN DAGScheduler: Broadcasting large task binary with size 1385.2 KiB\n",
      "24/06/01 13:39:53 WARN DAGScheduler: Broadcasting large task binary with size 1386.3 KiB\n",
      "24/06/01 13:39:53 WARN DAGScheduler: Broadcasting large task binary with size 1388.6 KiB\n",
      "24/06/01 13:39:54 WARN DAGScheduler: Broadcasting large task binary with size 1393.1 KiB\n",
      "24/06/01 13:39:54 WARN DAGScheduler: Broadcasting large task binary with size 1402.2 KiB\n",
      "24/06/01 13:39:54 WARN DAGScheduler: Broadcasting large task binary with size 1391.7 KiB\n",
      "24/06/01 13:40:14 WARN DAGScheduler: Broadcasting large task binary with size 1000.1 KiB\n",
      "24/06/01 13:40:14 WARN DAGScheduler: Broadcasting large task binary with size 1004.6 KiB\n",
      "24/06/01 13:40:14 WARN DAGScheduler: Broadcasting large task binary with size 1005.1 KiB\n",
      "24/06/01 13:40:14 WARN DAGScheduler: Broadcasting large task binary with size 1005.7 KiB\n",
      "24/06/01 13:40:14 WARN DAGScheduler: Broadcasting large task binary with size 1006.8 KiB\n",
      "24/06/01 13:40:14 WARN DAGScheduler: Broadcasting large task binary with size 1009.1 KiB\n",
      "24/06/01 13:40:14 WARN DAGScheduler: Broadcasting large task binary with size 1013.6 KiB\n",
      "24/06/01 13:40:14 WARN DAGScheduler: Broadcasting large task binary with size 1022.7 KiB\n",
      "24/06/01 13:40:14 WARN DAGScheduler: Broadcasting large task binary with size 1027.3 KiB\n",
      "24/06/01 13:40:15 WARN DAGScheduler: Broadcasting large task binary with size 1027.8 KiB\n",
      "24/06/01 13:40:15 WARN DAGScheduler: Broadcasting large task binary with size 1028.3 KiB\n",
      "24/06/01 13:40:15 WARN DAGScheduler: Broadcasting large task binary with size 1029.5 KiB\n",
      "24/06/01 13:40:15 WARN DAGScheduler: Broadcasting large task binary with size 1031.7 KiB\n",
      "24/06/01 13:40:15 WARN DAGScheduler: Broadcasting large task binary with size 1036.3 KiB\n",
      "24/06/01 13:40:15 WARN DAGScheduler: Broadcasting large task binary with size 1045.3 KiB\n",
      "24/06/01 13:40:15 WARN DAGScheduler: Broadcasting large task binary with size 1049.9 KiB\n",
      "24/06/01 13:40:15 WARN DAGScheduler: Broadcasting large task binary with size 1050.4 KiB\n",
      "24/06/01 13:40:15 WARN DAGScheduler: Broadcasting large task binary with size 1051.0 KiB\n",
      "24/06/01 13:40:15 WARN DAGScheduler: Broadcasting large task binary with size 1052.1 KiB\n",
      "24/06/01 13:40:15 WARN DAGScheduler: Broadcasting large task binary with size 1054.4 KiB\n",
      "24/06/01 13:40:15 WARN DAGScheduler: Broadcasting large task binary with size 1058.9 KiB\n",
      "24/06/01 13:40:15 WARN DAGScheduler: Broadcasting large task binary with size 1068.0 KiB\n",
      "24/06/01 13:40:16 WARN DAGScheduler: Broadcasting large task binary with size 1072.5 KiB\n",
      "24/06/01 13:40:16 WARN DAGScheduler: Broadcasting large task binary with size 1072.9 KiB\n",
      "24/06/01 13:40:16 WARN DAGScheduler: Broadcasting large task binary with size 1073.5 KiB\n",
      "24/06/01 13:40:16 WARN DAGScheduler: Broadcasting large task binary with size 1074.6 KiB\n",
      "24/06/01 13:40:16 WARN DAGScheduler: Broadcasting large task binary with size 1076.9 KiB\n",
      "24/06/01 13:40:16 WARN DAGScheduler: Broadcasting large task binary with size 1081.4 KiB\n",
      "24/06/01 13:40:16 WARN DAGScheduler: Broadcasting large task binary with size 1090.5 KiB\n",
      "24/06/01 13:40:16 WARN DAGScheduler: Broadcasting large task binary with size 1095.1 KiB\n",
      "24/06/01 13:40:16 WARN DAGScheduler: Broadcasting large task binary with size 1095.6 KiB\n",
      "24/06/01 13:40:16 WARN DAGScheduler: Broadcasting large task binary with size 1096.2 KiB\n",
      "24/06/01 13:40:16 WARN DAGScheduler: Broadcasting large task binary with size 1097.3 KiB\n",
      "24/06/01 13:40:17 WARN DAGScheduler: Broadcasting large task binary with size 1099.6 KiB\n",
      "24/06/01 13:40:17 WARN DAGScheduler: Broadcasting large task binary with size 1104.1 KiB\n",
      "24/06/01 13:40:17 WARN DAGScheduler: Broadcasting large task binary with size 1113.2 KiB\n",
      "24/06/01 13:40:17 WARN DAGScheduler: Broadcasting large task binary with size 1117.7 KiB\n",
      "24/06/01 13:40:17 WARN DAGScheduler: Broadcasting large task binary with size 1118.2 KiB\n",
      "24/06/01 13:40:17 WARN DAGScheduler: Broadcasting large task binary with size 1118.7 KiB\n",
      "24/06/01 13:40:17 WARN DAGScheduler: Broadcasting large task binary with size 1119.9 KiB\n",
      "24/06/01 13:40:17 WARN DAGScheduler: Broadcasting large task binary with size 1122.1 KiB\n",
      "24/06/01 13:40:17 WARN DAGScheduler: Broadcasting large task binary with size 1126.6 KiB\n",
      "24/06/01 13:40:18 WARN DAGScheduler: Broadcasting large task binary with size 1135.4 KiB\n",
      "24/06/01 13:40:18 WARN DAGScheduler: Broadcasting large task binary with size 1139.4 KiB\n",
      "24/06/01 13:40:18 WARN DAGScheduler: Broadcasting large task binary with size 1139.9 KiB\n",
      "24/06/01 13:40:18 WARN DAGScheduler: Broadcasting large task binary with size 1140.4 KiB\n",
      "24/06/01 13:40:18 WARN DAGScheduler: Broadcasting large task binary with size 1141.6 KiB\n",
      "24/06/01 13:40:18 WARN DAGScheduler: Broadcasting large task binary with size 1143.8 KiB\n",
      "24/06/01 13:40:18 WARN DAGScheduler: Broadcasting large task binary with size 1148.4 KiB\n",
      "24/06/01 13:40:18 WARN DAGScheduler: Broadcasting large task binary with size 1157.4 KiB\n",
      "24/06/01 13:40:18 WARN DAGScheduler: Broadcasting large task binary with size 1162.0 KiB\n",
      "24/06/01 13:40:18 WARN DAGScheduler: Broadcasting large task binary with size 1162.5 KiB\n",
      "24/06/01 13:40:18 WARN DAGScheduler: Broadcasting large task binary with size 1163.1 KiB\n",
      "24/06/01 13:40:18 WARN DAGScheduler: Broadcasting large task binary with size 1164.2 KiB\n",
      "24/06/01 13:40:18 WARN DAGScheduler: Broadcasting large task binary with size 1166.5 KiB\n",
      "24/06/01 13:40:19 WARN DAGScheduler: Broadcasting large task binary with size 1171.0 KiB\n",
      "24/06/01 13:40:19 WARN DAGScheduler: Broadcasting large task binary with size 1180.1 KiB\n",
      "24/06/01 13:40:19 WARN DAGScheduler: Broadcasting large task binary with size 1184.4 KiB\n",
      "24/06/01 13:40:19 WARN DAGScheduler: Broadcasting large task binary with size 1184.9 KiB\n",
      "24/06/01 13:40:19 WARN DAGScheduler: Broadcasting large task binary with size 1185.4 KiB\n",
      "24/06/01 13:40:19 WARN DAGScheduler: Broadcasting large task binary with size 1186.6 KiB\n",
      "24/06/01 13:40:19 WARN DAGScheduler: Broadcasting large task binary with size 1188.8 KiB\n",
      "24/06/01 13:40:19 WARN DAGScheduler: Broadcasting large task binary with size 1193.4 KiB\n",
      "24/06/01 13:40:19 WARN DAGScheduler: Broadcasting large task binary with size 1202.4 KiB\n",
      "24/06/01 13:40:19 WARN DAGScheduler: Broadcasting large task binary with size 1206.9 KiB\n",
      "24/06/01 13:40:19 WARN DAGScheduler: Broadcasting large task binary with size 1207.4 KiB\n",
      "24/06/01 13:40:19 WARN DAGScheduler: Broadcasting large task binary with size 1207.9 KiB\n",
      "24/06/01 13:40:19 WARN DAGScheduler: Broadcasting large task binary with size 1209.1 KiB\n",
      "24/06/01 13:40:20 WARN DAGScheduler: Broadcasting large task binary with size 1211.3 KiB\n",
      "24/06/01 13:40:20 WARN DAGScheduler: Broadcasting large task binary with size 1215.8 KiB\n",
      "24/06/01 13:40:20 WARN DAGScheduler: Broadcasting large task binary with size 1224.6 KiB\n",
      "24/06/01 13:40:20 WARN DAGScheduler: Broadcasting large task binary with size 1229.1 KiB\n",
      "24/06/01 13:40:20 WARN DAGScheduler: Broadcasting large task binary with size 1229.6 KiB\n",
      "24/06/01 13:40:20 WARN DAGScheduler: Broadcasting large task binary with size 1230.1 KiB\n",
      "24/06/01 13:40:20 WARN DAGScheduler: Broadcasting large task binary with size 1231.3 KiB\n",
      "24/06/01 13:40:20 WARN DAGScheduler: Broadcasting large task binary with size 1233.5 KiB\n",
      "24/06/01 13:40:20 WARN DAGScheduler: Broadcasting large task binary with size 1238.1 KiB\n",
      "24/06/01 13:40:20 WARN DAGScheduler: Broadcasting large task binary with size 1247.1 KiB\n",
      "24/06/01 13:40:20 WARN DAGScheduler: Broadcasting large task binary with size 1251.3 KiB\n",
      "24/06/01 13:40:20 WARN DAGScheduler: Broadcasting large task binary with size 1251.7 KiB\n",
      "24/06/01 13:40:21 WARN DAGScheduler: Broadcasting large task binary with size 1252.3 KiB\n",
      "24/06/01 13:40:21 WARN DAGScheduler: Broadcasting large task binary with size 1253.4 KiB\n",
      "24/06/01 13:40:21 WARN DAGScheduler: Broadcasting large task binary with size 1255.7 KiB\n",
      "24/06/01 13:40:21 WARN DAGScheduler: Broadcasting large task binary with size 1260.2 KiB\n",
      "24/06/01 13:40:21 WARN DAGScheduler: Broadcasting large task binary with size 1269.3 KiB\n",
      "24/06/01 13:40:21 WARN DAGScheduler: Broadcasting large task binary with size 1273.9 KiB\n",
      "24/06/01 13:40:21 WARN DAGScheduler: Broadcasting large task binary with size 1274.4 KiB\n",
      "24/06/01 13:40:21 WARN DAGScheduler: Broadcasting large task binary with size 1275.0 KiB\n",
      "24/06/01 13:40:21 WARN DAGScheduler: Broadcasting large task binary with size 1276.1 KiB\n",
      "24/06/01 13:40:21 WARN DAGScheduler: Broadcasting large task binary with size 1278.4 KiB\n",
      "24/06/01 13:40:21 WARN DAGScheduler: Broadcasting large task binary with size 1282.9 KiB\n",
      "24/06/01 13:40:21 WARN DAGScheduler: Broadcasting large task binary with size 1292.0 KiB\n",
      "24/06/01 13:40:21 WARN DAGScheduler: Broadcasting large task binary with size 1296.6 KiB\n",
      "24/06/01 13:40:22 WARN DAGScheduler: Broadcasting large task binary with size 1297.1 KiB\n",
      "24/06/01 13:40:22 WARN DAGScheduler: Broadcasting large task binary with size 1297.7 KiB\n",
      "24/06/01 13:40:22 WARN DAGScheduler: Broadcasting large task binary with size 1298.8 KiB\n",
      "24/06/01 13:40:22 WARN DAGScheduler: Broadcasting large task binary with size 1301.1 KiB\n",
      "24/06/01 13:40:22 WARN DAGScheduler: Broadcasting large task binary with size 1305.6 KiB\n",
      "24/06/01 13:40:22 WARN DAGScheduler: Broadcasting large task binary with size 1314.7 KiB\n",
      "24/06/01 13:40:22 WARN DAGScheduler: Broadcasting large task binary with size 1319.1 KiB\n",
      "24/06/01 13:40:22 WARN DAGScheduler: Broadcasting large task binary with size 1319.6 KiB\n",
      "24/06/01 13:40:22 WARN DAGScheduler: Broadcasting large task binary with size 1320.2 KiB\n",
      "24/06/01 13:40:22 WARN DAGScheduler: Broadcasting large task binary with size 1321.3 KiB\n",
      "24/06/01 13:40:22 WARN DAGScheduler: Broadcasting large task binary with size 1323.6 KiB\n",
      "24/06/01 13:40:22 WARN DAGScheduler: Broadcasting large task binary with size 1328.1 KiB\n",
      "24/06/01 13:40:23 WARN DAGScheduler: Broadcasting large task binary with size 1337.2 KiB\n",
      "24/06/01 13:40:23 WARN DAGScheduler: Broadcasting large task binary with size 1341.5 KiB\n",
      "24/06/01 13:40:23 WARN DAGScheduler: Broadcasting large task binary with size 1341.9 KiB\n",
      "24/06/01 13:40:23 WARN DAGScheduler: Broadcasting large task binary with size 1342.5 KiB\n",
      "24/06/01 13:40:23 WARN DAGScheduler: Broadcasting large task binary with size 1343.6 KiB\n",
      "24/06/01 13:40:23 WARN DAGScheduler: Broadcasting large task binary with size 1345.9 KiB\n",
      "24/06/01 13:40:23 WARN DAGScheduler: Broadcasting large task binary with size 1350.4 KiB\n",
      "24/06/01 13:40:23 WARN DAGScheduler: Broadcasting large task binary with size 1359.5 KiB\n",
      "24/06/01 13:40:23 WARN DAGScheduler: Broadcasting large task binary with size 1363.8 KiB\n",
      "24/06/01 13:40:23 WARN DAGScheduler: Broadcasting large task binary with size 1364.3 KiB\n",
      "24/06/01 13:40:23 WARN DAGScheduler: Broadcasting large task binary with size 1364.9 KiB\n",
      "24/06/01 13:40:24 WARN DAGScheduler: Broadcasting large task binary with size 1366.0 KiB\n",
      "24/06/01 13:40:24 WARN DAGScheduler: Broadcasting large task binary with size 1368.3 KiB\n",
      "24/06/01 13:40:24 WARN DAGScheduler: Broadcasting large task binary with size 1372.8 KiB\n",
      "24/06/01 13:40:24 WARN DAGScheduler: Broadcasting large task binary with size 1381.8 KiB\n",
      "24/06/01 13:40:24 WARN DAGScheduler: Broadcasting large task binary with size 1386.2 KiB\n",
      "24/06/01 13:40:24 WARN DAGScheduler: Broadcasting large task binary with size 1386.6 KiB\n",
      "24/06/01 13:40:24 WARN DAGScheduler: Broadcasting large task binary with size 1387.2 KiB\n",
      "24/06/01 13:40:25 WARN DAGScheduler: Broadcasting large task binary with size 1388.3 KiB\n",
      "24/06/01 13:40:25 WARN DAGScheduler: Broadcasting large task binary with size 1390.6 KiB\n",
      "24/06/01 13:40:25 WARN DAGScheduler: Broadcasting large task binary with size 1395.1 KiB\n",
      "24/06/01 13:40:25 WARN DAGScheduler: Broadcasting large task binary with size 1404.2 KiB\n",
      "24/06/01 13:40:25 WARN DAGScheduler: Broadcasting large task binary with size 1391.9 KiB\n",
      "24/06/01 13:41:56 WARN DAGScheduler: Broadcasting large task binary with size 1002.7 KiB\n",
      "24/06/01 13:41:56 WARN DAGScheduler: Broadcasting large task binary with size 1003.2 KiB\n",
      "24/06/01 13:41:56 WARN DAGScheduler: Broadcasting large task binary with size 1003.8 KiB\n",
      "24/06/01 13:41:56 WARN DAGScheduler: Broadcasting large task binary with size 1004.9 KiB\n",
      "24/06/01 13:41:56 WARN DAGScheduler: Broadcasting large task binary with size 1007.2 KiB\n",
      "24/06/01 13:41:56 WARN DAGScheduler: Broadcasting large task binary with size 1011.7 KiB\n",
      "24/06/01 13:41:57 WARN DAGScheduler: Broadcasting large task binary with size 1020.8 KiB\n",
      "24/06/01 13:41:57 WARN DAGScheduler: Broadcasting large task binary with size 1025.4 KiB\n",
      "24/06/01 13:41:57 WARN DAGScheduler: Broadcasting large task binary with size 1025.8 KiB\n",
      "24/06/01 13:41:57 WARN DAGScheduler: Broadcasting large task binary with size 1026.4 KiB\n",
      "24/06/01 13:41:57 WARN DAGScheduler: Broadcasting large task binary with size 1027.6 KiB\n",
      "24/06/01 13:41:57 WARN DAGScheduler: Broadcasting large task binary with size 1029.8 KiB\n",
      "24/06/01 13:41:57 WARN DAGScheduler: Broadcasting large task binary with size 1034.4 KiB\n",
      "24/06/01 13:41:57 WARN DAGScheduler: Broadcasting large task binary with size 1043.4 KiB\n",
      "24/06/01 13:41:57 WARN DAGScheduler: Broadcasting large task binary with size 1048.1 KiB\n",
      "24/06/01 13:41:57 WARN DAGScheduler: Broadcasting large task binary with size 1048.5 KiB\n",
      "24/06/01 13:41:57 WARN DAGScheduler: Broadcasting large task binary with size 1049.1 KiB\n",
      "24/06/01 13:41:57 WARN DAGScheduler: Broadcasting large task binary with size 1050.2 KiB\n",
      "24/06/01 13:41:57 WARN DAGScheduler: Broadcasting large task binary with size 1052.5 KiB\n",
      "24/06/01 13:41:58 WARN DAGScheduler: Broadcasting large task binary with size 1057.0 KiB\n",
      "24/06/01 13:41:58 WARN DAGScheduler: Broadcasting large task binary with size 1066.1 KiB\n",
      "24/06/01 13:41:58 WARN DAGScheduler: Broadcasting large task binary with size 1070.4 KiB\n",
      "24/06/01 13:41:58 WARN DAGScheduler: Broadcasting large task binary with size 1070.9 KiB\n",
      "24/06/01 13:41:58 WARN DAGScheduler: Broadcasting large task binary with size 1071.4 KiB\n",
      "24/06/01 13:41:58 WARN DAGScheduler: Broadcasting large task binary with size 1072.6 KiB\n",
      "24/06/01 13:41:58 WARN DAGScheduler: Broadcasting large task binary with size 1074.8 KiB\n",
      "24/06/01 13:41:58 WARN DAGScheduler: Broadcasting large task binary with size 1079.4 KiB\n",
      "24/06/01 13:41:58 WARN DAGScheduler: Broadcasting large task binary with size 1088.5 KiB\n",
      "24/06/01 13:41:58 WARN DAGScheduler: Broadcasting large task binary with size 1093.1 KiB\n",
      "24/06/01 13:41:58 WARN DAGScheduler: Broadcasting large task binary with size 1093.6 KiB\n",
      "24/06/01 13:41:58 WARN DAGScheduler: Broadcasting large task binary with size 1094.1 KiB\n",
      "24/06/01 13:41:58 WARN DAGScheduler: Broadcasting large task binary with size 1095.3 KiB\n",
      "24/06/01 13:41:59 WARN DAGScheduler: Broadcasting large task binary with size 1097.5 KiB\n",
      "24/06/01 13:41:59 WARN DAGScheduler: Broadcasting large task binary with size 1102.1 KiB\n",
      "24/06/01 13:41:59 WARN DAGScheduler: Broadcasting large task binary with size 1111.1 KiB\n",
      "24/06/01 13:41:59 WARN DAGScheduler: Broadcasting large task binary with size 1115.4 KiB\n",
      "24/06/01 13:41:59 WARN DAGScheduler: Broadcasting large task binary with size 1115.9 KiB\n",
      "24/06/01 13:41:59 WARN DAGScheduler: Broadcasting large task binary with size 1116.5 KiB\n",
      "24/06/01 13:41:59 WARN DAGScheduler: Broadcasting large task binary with size 1117.6 KiB\n",
      "24/06/01 13:41:59 WARN DAGScheduler: Broadcasting large task binary with size 1119.9 KiB\n",
      "24/06/01 13:41:59 WARN DAGScheduler: Broadcasting large task binary with size 1124.4 KiB\n",
      "24/06/01 13:41:59 WARN DAGScheduler: Broadcasting large task binary with size 1133.5 KiB\n",
      "24/06/01 13:41:59 WARN DAGScheduler: Broadcasting large task binary with size 1138.1 KiB\n",
      "24/06/01 13:41:59 WARN DAGScheduler: Broadcasting large task binary with size 1138.6 KiB\n",
      "24/06/01 13:41:59 WARN DAGScheduler: Broadcasting large task binary with size 1139.1 KiB\n",
      "24/06/01 13:42:00 WARN DAGScheduler: Broadcasting large task binary with size 1140.3 KiB\n",
      "24/06/01 13:42:00 WARN DAGScheduler: Broadcasting large task binary with size 1142.5 KiB\n",
      "24/06/01 13:42:00 WARN DAGScheduler: Broadcasting large task binary with size 1147.0 KiB\n",
      "24/06/01 13:42:00 WARN DAGScheduler: Broadcasting large task binary with size 1156.1 KiB\n",
      "24/06/01 13:42:00 WARN DAGScheduler: Broadcasting large task binary with size 1160.6 KiB\n",
      "24/06/01 13:42:00 WARN DAGScheduler: Broadcasting large task binary with size 1161.0 KiB\n",
      "24/06/01 13:42:00 WARN DAGScheduler: Broadcasting large task binary with size 1161.6 KiB\n",
      "24/06/01 13:42:00 WARN DAGScheduler: Broadcasting large task binary with size 1162.8 KiB\n",
      "24/06/01 13:42:00 WARN DAGScheduler: Broadcasting large task binary with size 1165.0 KiB\n",
      "24/06/01 13:42:00 WARN DAGScheduler: Broadcasting large task binary with size 1169.5 KiB\n",
      "24/06/01 13:42:00 WARN DAGScheduler: Broadcasting large task binary with size 1178.6 KiB\n",
      "24/06/01 13:42:00 WARN DAGScheduler: Broadcasting large task binary with size 1183.2 KiB\n",
      "24/06/01 13:42:00 WARN DAGScheduler: Broadcasting large task binary with size 1183.7 KiB\n",
      "24/06/01 13:42:01 WARN DAGScheduler: Broadcasting large task binary with size 1184.3 KiB\n",
      "24/06/01 13:42:01 WARN DAGScheduler: Broadcasting large task binary with size 1185.4 KiB\n",
      "24/06/01 13:42:01 WARN DAGScheduler: Broadcasting large task binary with size 1187.7 KiB\n",
      "24/06/01 13:42:01 WARN DAGScheduler: Broadcasting large task binary with size 1192.2 KiB\n",
      "24/06/01 13:42:01 WARN DAGScheduler: Broadcasting large task binary with size 1201.3 KiB\n",
      "24/06/01 13:42:01 WARN DAGScheduler: Broadcasting large task binary with size 1205.9 KiB\n",
      "24/06/01 13:42:01 WARN DAGScheduler: Broadcasting large task binary with size 1206.4 KiB\n",
      "24/06/01 13:42:01 WARN DAGScheduler: Broadcasting large task binary with size 1206.9 KiB\n",
      "24/06/01 13:42:01 WARN DAGScheduler: Broadcasting large task binary with size 1208.1 KiB\n",
      "24/06/01 13:42:01 WARN DAGScheduler: Broadcasting large task binary with size 1210.3 KiB\n",
      "24/06/01 13:42:01 WARN DAGScheduler: Broadcasting large task binary with size 1214.9 KiB\n",
      "24/06/01 13:42:01 WARN DAGScheduler: Broadcasting large task binary with size 1223.9 KiB\n",
      "24/06/01 13:42:01 WARN DAGScheduler: Broadcasting large task binary with size 1228.2 KiB\n",
      "24/06/01 13:42:02 WARN DAGScheduler: Broadcasting large task binary with size 1228.7 KiB\n",
      "24/06/01 13:42:02 WARN DAGScheduler: Broadcasting large task binary with size 1229.2 KiB\n",
      "24/06/01 13:42:02 WARN DAGScheduler: Broadcasting large task binary with size 1230.4 KiB\n",
      "24/06/01 13:42:02 WARN DAGScheduler: Broadcasting large task binary with size 1232.6 KiB\n",
      "24/06/01 13:42:02 WARN DAGScheduler: Broadcasting large task binary with size 1237.2 KiB\n",
      "24/06/01 13:42:02 WARN DAGScheduler: Broadcasting large task binary with size 1246.3 KiB\n",
      "24/06/01 13:42:02 WARN DAGScheduler: Broadcasting large task binary with size 1250.9 KiB\n",
      "24/06/01 13:42:02 WARN DAGScheduler: Broadcasting large task binary with size 1251.4 KiB\n",
      "24/06/01 13:42:02 WARN DAGScheduler: Broadcasting large task binary with size 1251.9 KiB\n",
      "24/06/01 13:42:02 WARN DAGScheduler: Broadcasting large task binary with size 1253.1 KiB\n",
      "24/06/01 13:42:02 WARN DAGScheduler: Broadcasting large task binary with size 1255.3 KiB\n",
      "24/06/01 13:42:02 WARN DAGScheduler: Broadcasting large task binary with size 1259.8 KiB\n",
      "24/06/01 13:42:02 WARN DAGScheduler: Broadcasting large task binary with size 1268.9 KiB\n",
      "24/06/01 13:42:03 WARN DAGScheduler: Broadcasting large task binary with size 1273.5 KiB\n",
      "24/06/01 13:42:03 WARN DAGScheduler: Broadcasting large task binary with size 1274.0 KiB\n",
      "24/06/01 13:42:03 WARN DAGScheduler: Broadcasting large task binary with size 1274.6 KiB\n",
      "24/06/01 13:42:03 WARN DAGScheduler: Broadcasting large task binary with size 1275.7 KiB\n",
      "24/06/01 13:42:03 WARN DAGScheduler: Broadcasting large task binary with size 1278.0 KiB\n",
      "24/06/01 13:42:03 WARN DAGScheduler: Broadcasting large task binary with size 1282.5 KiB\n",
      "24/06/01 13:42:03 WARN DAGScheduler: Broadcasting large task binary with size 1291.6 KiB\n",
      "24/06/01 13:42:03 WARN DAGScheduler: Broadcasting large task binary with size 1296.2 KiB\n",
      "24/06/01 13:42:03 WARN DAGScheduler: Broadcasting large task binary with size 1296.6 KiB\n",
      "24/06/01 13:42:03 WARN DAGScheduler: Broadcasting large task binary with size 1297.2 KiB\n",
      "24/06/01 13:42:03 WARN DAGScheduler: Broadcasting large task binary with size 1298.3 KiB\n",
      "24/06/01 13:42:03 WARN DAGScheduler: Broadcasting large task binary with size 1300.6 KiB\n",
      "24/06/01 13:42:04 WARN DAGScheduler: Broadcasting large task binary with size 1305.1 KiB\n",
      "24/06/01 13:42:04 WARN DAGScheduler: Broadcasting large task binary with size 1314.2 KiB\n",
      "24/06/01 13:42:04 WARN DAGScheduler: Broadcasting large task binary with size 1318.8 KiB\n",
      "24/06/01 13:42:04 WARN DAGScheduler: Broadcasting large task binary with size 1319.3 KiB\n",
      "24/06/01 13:42:04 WARN DAGScheduler: Broadcasting large task binary with size 1319.9 KiB\n",
      "24/06/01 13:42:04 WARN DAGScheduler: Broadcasting large task binary with size 1321.0 KiB\n",
      "24/06/01 13:42:04 WARN DAGScheduler: Broadcasting large task binary with size 1323.3 KiB\n",
      "24/06/01 13:42:04 WARN DAGScheduler: Broadcasting large task binary with size 1327.8 KiB\n",
      "24/06/01 13:42:04 WARN DAGScheduler: Broadcasting large task binary with size 1336.9 KiB\n",
      "24/06/01 13:42:04 WARN DAGScheduler: Broadcasting large task binary with size 1341.5 KiB\n",
      "24/06/01 13:42:04 WARN DAGScheduler: Broadcasting large task binary with size 1342.0 KiB\n",
      "24/06/01 13:42:04 WARN DAGScheduler: Broadcasting large task binary with size 1342.5 KiB\n",
      "24/06/01 13:42:05 WARN DAGScheduler: Broadcasting large task binary with size 1343.7 KiB\n",
      "24/06/01 13:42:05 WARN DAGScheduler: Broadcasting large task binary with size 1345.9 KiB\n",
      "24/06/01 13:42:05 WARN DAGScheduler: Broadcasting large task binary with size 1350.5 KiB\n",
      "24/06/01 13:42:05 WARN DAGScheduler: Broadcasting large task binary with size 1359.5 KiB\n",
      "24/06/01 13:42:05 WARN DAGScheduler: Broadcasting large task binary with size 1364.1 KiB\n",
      "24/06/01 13:42:05 WARN DAGScheduler: Broadcasting large task binary with size 1364.6 KiB\n",
      "24/06/01 13:42:05 WARN DAGScheduler: Broadcasting large task binary with size 1365.2 KiB\n",
      "24/06/01 13:42:05 WARN DAGScheduler: Broadcasting large task binary with size 1366.3 KiB\n",
      "24/06/01 13:42:06 WARN DAGScheduler: Broadcasting large task binary with size 1368.6 KiB\n",
      "24/06/01 13:42:06 WARN DAGScheduler: Broadcasting large task binary with size 1373.1 KiB\n",
      "24/06/01 13:42:06 WARN DAGScheduler: Broadcasting large task binary with size 1382.2 KiB\n",
      "24/06/01 13:42:06 WARN DAGScheduler: Broadcasting large task binary with size 1386.8 KiB\n",
      "24/06/01 13:42:06 WARN DAGScheduler: Broadcasting large task binary with size 1387.3 KiB\n",
      "24/06/01 13:42:06 WARN DAGScheduler: Broadcasting large task binary with size 1387.8 KiB\n",
      "24/06/01 13:42:06 WARN DAGScheduler: Broadcasting large task binary with size 1389.0 KiB\n",
      "24/06/01 13:42:06 WARN DAGScheduler: Broadcasting large task binary with size 1391.2 KiB\n",
      "24/06/01 13:42:06 WARN DAGScheduler: Broadcasting large task binary with size 1395.8 KiB\n",
      "24/06/01 13:42:07 WARN DAGScheduler: Broadcasting large task binary with size 1404.8 KiB\n",
      "24/06/01 13:42:07 WARN DAGScheduler: Broadcasting large task binary with size 1394.3 KiB\n",
      "24/06/01 13:42:27 WARN DAGScheduler: Broadcasting large task binary with size 1000.6 KiB\n",
      "24/06/01 13:42:27 WARN DAGScheduler: Broadcasting large task binary with size 1005.0 KiB\n",
      "24/06/01 13:42:27 WARN DAGScheduler: Broadcasting large task binary with size 1005.5 KiB\n",
      "24/06/01 13:42:27 WARN DAGScheduler: Broadcasting large task binary with size 1006.1 KiB\n",
      "24/06/01 13:42:27 WARN DAGScheduler: Broadcasting large task binary with size 1007.2 KiB\n",
      "24/06/01 13:42:27 WARN DAGScheduler: Broadcasting large task binary with size 1009.5 KiB\n",
      "24/06/01 13:42:27 WARN DAGScheduler: Broadcasting large task binary with size 1014.0 KiB\n",
      "24/06/01 13:42:27 WARN DAGScheduler: Broadcasting large task binary with size 1023.1 KiB\n",
      "24/06/01 13:42:27 WARN DAGScheduler: Broadcasting large task binary with size 1027.2 KiB\n",
      "24/06/01 13:42:27 WARN DAGScheduler: Broadcasting large task binary with size 1027.7 KiB\n",
      "24/06/01 13:42:27 WARN DAGScheduler: Broadcasting large task binary with size 1028.3 KiB\n",
      "24/06/01 13:42:27 WARN DAGScheduler: Broadcasting large task binary with size 1029.4 KiB\n",
      "24/06/01 13:42:27 WARN DAGScheduler: Broadcasting large task binary with size 1031.7 KiB\n",
      "24/06/01 13:42:27 WARN DAGScheduler: Broadcasting large task binary with size 1036.2 KiB\n",
      "24/06/01 13:42:28 WARN DAGScheduler: Broadcasting large task binary with size 1045.3 KiB\n",
      "24/06/01 13:42:28 WARN DAGScheduler: Broadcasting large task binary with size 1049.9 KiB\n",
      "24/06/01 13:42:28 WARN DAGScheduler: Broadcasting large task binary with size 1050.4 KiB\n",
      "24/06/01 13:42:28 WARN DAGScheduler: Broadcasting large task binary with size 1050.9 KiB\n",
      "24/06/01 13:42:28 WARN DAGScheduler: Broadcasting large task binary with size 1052.1 KiB\n",
      "24/06/01 13:42:28 WARN DAGScheduler: Broadcasting large task binary with size 1054.3 KiB\n",
      "24/06/01 13:42:28 WARN DAGScheduler: Broadcasting large task binary with size 1058.9 KiB\n",
      "24/06/01 13:42:28 WARN DAGScheduler: Broadcasting large task binary with size 1068.0 KiB\n",
      "24/06/01 13:42:28 WARN DAGScheduler: Broadcasting large task binary with size 1072.4 KiB\n",
      "24/06/01 13:42:28 WARN DAGScheduler: Broadcasting large task binary with size 1072.9 KiB\n",
      "24/06/01 13:42:28 WARN DAGScheduler: Broadcasting large task binary with size 1073.5 KiB\n",
      "24/06/01 13:42:28 WARN DAGScheduler: Broadcasting large task binary with size 1074.6 KiB\n",
      "24/06/01 13:42:29 WARN DAGScheduler: Broadcasting large task binary with size 1076.9 KiB\n",
      "24/06/01 13:42:29 WARN DAGScheduler: Broadcasting large task binary with size 1081.4 KiB\n",
      "24/06/01 13:42:29 WARN DAGScheduler: Broadcasting large task binary with size 1090.5 KiB\n",
      "24/06/01 13:42:29 WARN DAGScheduler: Broadcasting large task binary with size 1094.9 KiB\n",
      "24/06/01 13:42:29 WARN DAGScheduler: Broadcasting large task binary with size 1095.4 KiB\n",
      "24/06/01 13:42:29 WARN DAGScheduler: Broadcasting large task binary with size 1096.0 KiB\n",
      "24/06/01 13:42:29 WARN DAGScheduler: Broadcasting large task binary with size 1097.1 KiB\n",
      "24/06/01 13:42:29 WARN DAGScheduler: Broadcasting large task binary with size 1099.4 KiB\n",
      "24/06/01 13:42:29 WARN DAGScheduler: Broadcasting large task binary with size 1103.9 KiB\n",
      "24/06/01 13:42:29 WARN DAGScheduler: Broadcasting large task binary with size 1113.0 KiB\n",
      "24/06/01 13:42:29 WARN DAGScheduler: Broadcasting large task binary with size 1117.6 KiB\n",
      "24/06/01 13:42:29 WARN DAGScheduler: Broadcasting large task binary with size 1118.0 KiB\n",
      "24/06/01 13:42:29 WARN DAGScheduler: Broadcasting large task binary with size 1118.6 KiB\n",
      "24/06/01 13:42:30 WARN DAGScheduler: Broadcasting large task binary with size 1119.8 KiB\n",
      "24/06/01 13:42:30 WARN DAGScheduler: Broadcasting large task binary with size 1122.0 KiB\n",
      "24/06/01 13:42:30 WARN DAGScheduler: Broadcasting large task binary with size 1126.5 KiB\n",
      "24/06/01 13:42:30 WARN DAGScheduler: Broadcasting large task binary with size 1135.6 KiB\n",
      "24/06/01 13:42:30 WARN DAGScheduler: Broadcasting large task binary with size 1140.2 KiB\n",
      "24/06/01 13:42:30 WARN DAGScheduler: Broadcasting large task binary with size 1140.7 KiB\n",
      "24/06/01 13:42:30 WARN DAGScheduler: Broadcasting large task binary with size 1141.3 KiB\n",
      "24/06/01 13:42:30 WARN DAGScheduler: Broadcasting large task binary with size 1142.4 KiB\n",
      "24/06/01 13:42:30 WARN DAGScheduler: Broadcasting large task binary with size 1144.7 KiB\n",
      "24/06/01 13:42:30 WARN DAGScheduler: Broadcasting large task binary with size 1149.2 KiB\n",
      "24/06/01 13:42:30 WARN DAGScheduler: Broadcasting large task binary with size 1158.3 KiB\n",
      "24/06/01 13:42:30 WARN DAGScheduler: Broadcasting large task binary with size 1162.8 KiB\n",
      "24/06/01 13:42:30 WARN DAGScheduler: Broadcasting large task binary with size 1163.2 KiB\n",
      "24/06/01 13:42:31 WARN DAGScheduler: Broadcasting large task binary with size 1163.8 KiB\n",
      "24/06/01 13:42:31 WARN DAGScheduler: Broadcasting large task binary with size 1164.9 KiB\n",
      "24/06/01 13:42:31 WARN DAGScheduler: Broadcasting large task binary with size 1167.2 KiB\n",
      "24/06/01 13:42:31 WARN DAGScheduler: Broadcasting large task binary with size 1171.7 KiB\n",
      "24/06/01 13:42:31 WARN DAGScheduler: Broadcasting large task binary with size 1180.8 KiB\n",
      "24/06/01 13:42:31 WARN DAGScheduler: Broadcasting large task binary with size 1185.2 KiB\n",
      "24/06/01 13:42:31 WARN DAGScheduler: Broadcasting large task binary with size 1185.7 KiB\n",
      "24/06/01 13:42:31 WARN DAGScheduler: Broadcasting large task binary with size 1186.3 KiB\n",
      "24/06/01 13:42:31 WARN DAGScheduler: Broadcasting large task binary with size 1187.4 KiB\n",
      "24/06/01 13:42:31 WARN DAGScheduler: Broadcasting large task binary with size 1189.7 KiB\n",
      "24/06/01 13:42:31 WARN DAGScheduler: Broadcasting large task binary with size 1194.2 KiB\n",
      "24/06/01 13:42:31 WARN DAGScheduler: Broadcasting large task binary with size 1203.3 KiB\n",
      "24/06/01 13:42:31 WARN DAGScheduler: Broadcasting large task binary with size 1207.8 KiB\n",
      "24/06/01 13:42:32 WARN DAGScheduler: Broadcasting large task binary with size 1208.2 KiB\n",
      "24/06/01 13:42:32 WARN DAGScheduler: Broadcasting large task binary with size 1208.8 KiB\n",
      "24/06/01 13:42:32 WARN DAGScheduler: Broadcasting large task binary with size 1209.9 KiB\n",
      "24/06/01 13:42:32 WARN DAGScheduler: Broadcasting large task binary with size 1212.2 KiB\n",
      "24/06/01 13:42:32 WARN DAGScheduler: Broadcasting large task binary with size 1216.7 KiB\n",
      "24/06/01 13:42:32 WARN DAGScheduler: Broadcasting large task binary with size 1225.8 KiB\n",
      "24/06/01 13:42:32 WARN DAGScheduler: Broadcasting large task binary with size 1230.3 KiB\n",
      "24/06/01 13:42:32 WARN DAGScheduler: Broadcasting large task binary with size 1230.8 KiB\n",
      "24/06/01 13:42:32 WARN DAGScheduler: Broadcasting large task binary with size 1231.3 KiB\n",
      "24/06/01 13:42:32 WARN DAGScheduler: Broadcasting large task binary with size 1232.5 KiB\n",
      "24/06/01 13:42:32 WARN DAGScheduler: Broadcasting large task binary with size 1234.7 KiB\n",
      "24/06/01 13:42:32 WARN DAGScheduler: Broadcasting large task binary with size 1239.3 KiB\n",
      "24/06/01 13:42:32 WARN DAGScheduler: Broadcasting large task binary with size 1248.3 KiB\n",
      "24/06/01 13:42:33 WARN DAGScheduler: Broadcasting large task binary with size 1253.0 KiB\n",
      "24/06/01 13:42:33 WARN DAGScheduler: Broadcasting large task binary with size 1253.4 KiB\n",
      "24/06/01 13:42:33 WARN DAGScheduler: Broadcasting large task binary with size 1254.0 KiB\n",
      "24/06/01 13:42:33 WARN DAGScheduler: Broadcasting large task binary with size 1255.2 KiB\n",
      "24/06/01 13:42:33 WARN DAGScheduler: Broadcasting large task binary with size 1257.4 KiB\n",
      "24/06/01 13:42:33 WARN DAGScheduler: Broadcasting large task binary with size 1261.9 KiB\n",
      "24/06/01 13:42:33 WARN DAGScheduler: Broadcasting large task binary with size 1271.0 KiB\n",
      "24/06/01 13:42:33 WARN DAGScheduler: Broadcasting large task binary with size 1275.6 KiB\n",
      "24/06/01 13:42:33 WARN DAGScheduler: Broadcasting large task binary with size 1276.1 KiB\n",
      "24/06/01 13:42:33 WARN DAGScheduler: Broadcasting large task binary with size 1276.7 KiB\n",
      "24/06/01 13:42:34 WARN DAGScheduler: Broadcasting large task binary with size 1277.8 KiB\n",
      "24/06/01 13:42:34 WARN DAGScheduler: Broadcasting large task binary with size 1280.1 KiB\n",
      "24/06/01 13:42:34 WARN DAGScheduler: Broadcasting large task binary with size 1284.6 KiB\n",
      "24/06/01 13:42:34 WARN DAGScheduler: Broadcasting large task binary with size 1293.7 KiB\n",
      "24/06/01 13:42:35 WARN DAGScheduler: Broadcasting large task binary with size 1298.2 KiB\n",
      "24/06/01 13:42:35 WARN DAGScheduler: Broadcasting large task binary with size 1298.6 KiB\n",
      "24/06/01 13:42:35 WARN DAGScheduler: Broadcasting large task binary with size 1299.2 KiB\n",
      "24/06/01 13:42:35 WARN DAGScheduler: Broadcasting large task binary with size 1300.3 KiB\n",
      "24/06/01 13:42:35 WARN DAGScheduler: Broadcasting large task binary with size 1302.6 KiB\n",
      "24/06/01 13:42:35 WARN DAGScheduler: Broadcasting large task binary with size 1307.1 KiB\n",
      "24/06/01 13:42:35 WARN DAGScheduler: Broadcasting large task binary with size 1316.2 KiB\n",
      "24/06/01 13:42:35 WARN DAGScheduler: Broadcasting large task binary with size 1320.5 KiB\n",
      "24/06/01 13:42:35 WARN DAGScheduler: Broadcasting large task binary with size 1321.0 KiB\n",
      "24/06/01 13:42:35 WARN DAGScheduler: Broadcasting large task binary with size 1321.6 KiB\n",
      "24/06/01 13:42:35 WARN DAGScheduler: Broadcasting large task binary with size 1322.7 KiB\n",
      "24/06/01 13:42:35 WARN DAGScheduler: Broadcasting large task binary with size 1325.0 KiB\n",
      "24/06/01 13:42:36 WARN DAGScheduler: Broadcasting large task binary with size 1329.5 KiB\n",
      "24/06/01 13:42:36 WARN DAGScheduler: Broadcasting large task binary with size 1338.6 KiB\n",
      "24/06/01 13:42:36 WARN DAGScheduler: Broadcasting large task binary with size 1343.0 KiB\n",
      "24/06/01 13:42:36 WARN DAGScheduler: Broadcasting large task binary with size 1343.5 KiB\n",
      "24/06/01 13:42:36 WARN DAGScheduler: Broadcasting large task binary with size 1344.1 KiB\n",
      "24/06/01 13:42:36 WARN DAGScheduler: Broadcasting large task binary with size 1345.2 KiB\n",
      "24/06/01 13:42:36 WARN DAGScheduler: Broadcasting large task binary with size 1347.5 KiB\n",
      "24/06/01 13:42:36 WARN DAGScheduler: Broadcasting large task binary with size 1352.0 KiB\n",
      "24/06/01 13:42:36 WARN DAGScheduler: Broadcasting large task binary with size 1361.1 KiB\n",
      "24/06/01 13:42:36 WARN DAGScheduler: Broadcasting large task binary with size 1365.7 KiB\n",
      "24/06/01 13:42:36 WARN DAGScheduler: Broadcasting large task binary with size 1366.2 KiB\n",
      "24/06/01 13:42:37 WARN DAGScheduler: Broadcasting large task binary with size 1366.7 KiB\n",
      "24/06/01 13:42:37 WARN DAGScheduler: Broadcasting large task binary with size 1367.9 KiB\n",
      "24/06/01 13:42:37 WARN DAGScheduler: Broadcasting large task binary with size 1370.1 KiB\n",
      "24/06/01 13:42:37 WARN DAGScheduler: Broadcasting large task binary with size 1374.7 KiB\n",
      "24/06/01 13:42:37 WARN DAGScheduler: Broadcasting large task binary with size 1383.7 KiB\n",
      "24/06/01 13:42:37 WARN DAGScheduler: Broadcasting large task binary with size 1388.4 KiB\n",
      "24/06/01 13:42:37 WARN DAGScheduler: Broadcasting large task binary with size 1388.9 KiB\n",
      "24/06/01 13:42:37 WARN DAGScheduler: Broadcasting large task binary with size 1389.4 KiB\n",
      "24/06/01 13:42:37 WARN DAGScheduler: Broadcasting large task binary with size 1390.6 KiB\n",
      "24/06/01 13:42:37 WARN DAGScheduler: Broadcasting large task binary with size 1392.8 KiB\n",
      "24/06/01 13:42:37 WARN DAGScheduler: Broadcasting large task binary with size 1397.3 KiB\n",
      "24/06/01 13:42:37 WARN DAGScheduler: Broadcasting large task binary with size 1406.1 KiB\n",
      "24/06/01 13:42:38 WARN DAGScheduler: Broadcasting large task binary with size 1393.8 KiB\n",
      "[Stage 22423:>                                                      (0 + 6) / 6]\r"
     ]
    },
    {
     "name": "stdout",
     "output_type": "stream",
     "text": [
      "Best Test Accuracy for XGBoost: 0.8863040285354595\n"
     ]
    },
    {
     "name": "stderr",
     "output_type": "stream",
     "text": [
      "                                                                                \r"
     ]
    }
   ],
   "source": [
    "from pyspark.ml.classification import GBTClassifier\n",
    "\n",
    "# initialize the XGBoost model\n",
    "xgb = GBTClassifier(featuresCol='scaledFeatures', labelCol='Default')\n",
    "\n",
    "# set up the parameter grid for hyperparameter tuning\n",
    "paramGrid = ParamGridBuilder() \\\n",
    "    .addGrid(xgb.maxDepth, [3, 5, 7]) \\\n",
    "    .addGrid(xgb.maxBins, [32, 64]) \\\n",
    "    .addGrid(xgb.maxIter, [10, 50]) \\\n",
    "    .build()\n",
    "\n",
    "# set up the evaluator\n",
    "evaluator = MulticlassClassificationEvaluator(labelCol='Default', predictionCol='prediction', metricName='accuracy')\n",
    "\n",
    "# set up CrossValidator\n",
    "crossval = CrossValidator(estimator=xgb,\n",
    "                          estimatorParamMaps=paramGrid,\n",
    "                          evaluator=evaluator,\n",
    "                          numFolds=5)\n",
    "\n",
    "# train the model using cross-validation\n",
    "cv_model_xgb = crossval.fit(train)\n",
    "\n",
    "# get the best model\n",
    "best_model_xgb = cv_model_xgb.bestModel\n",
    "\n",
    "# make predictions on the test set using the best model\n",
    "best_predictions_xgb = best_model_xgb.transform(test)\n",
    "\n",
    "# evaluate the best model\n",
    "best_accuracy_xgb = evaluator.evaluate(best_predictions_xgb)\n",
    "print(\"Best Test Accuracy for XGBoost:\", best_accuracy_xgb)\n"
   ]
  },
  {
   "cell_type": "markdown",
   "metadata": {},
   "source": [
    "The accuracy for the XGBoost model did slightly improve from 88.5% to 88.6%. So according to the accuracy, we could say that this is the best model because it makes the most accurate predictions. However, since there is only a slight increase in the accuracy but the complexity of the model and consequently, the computational power is much higher compared to logistic regression, it makes sense to say that rather logistic regression is the best model in this case because its accuracy is almost the same but the complexity is much lower.\n",
    "\n",
    "It is also worth noting that random forests and XGBoost are very computationally expensive and we needed to cut down on the number of parameters to search for in the grid search cross validation to avoid an error. This could be improved by expanding computational power and adding more computers to the cluster."
   ]
  },
  {
   "cell_type": "markdown",
   "metadata": {},
   "source": [
    "# Conclusion\n",
    "Through this analysis we have explored the Loan Default dataset, ran statistical analysis, and build three machine learning models to classify the target variable Default. We can conclude that the best model was Logistic Regression with accuracy of 88.5%."
   ]
  }
 ],
 "metadata": {
  "kernelspec": {
   "display_name": "pyspark_env",
   "language": "python",
   "name": "python3"
  },
  "language_info": {
   "codemirror_mode": {
    "name": "ipython",
    "version": 3
   },
   "file_extension": ".py",
   "mimetype": "text/x-python",
   "name": "python",
   "nbconvert_exporter": "python",
   "pygments_lexer": "ipython3",
   "version": "3.8.19"
  }
 },
 "nbformat": 4,
 "nbformat_minor": 2
}
