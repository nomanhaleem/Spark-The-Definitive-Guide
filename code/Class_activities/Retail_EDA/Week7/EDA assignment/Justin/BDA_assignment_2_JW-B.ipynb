{
 "cells": [
  {
   "cell_type": "code",
   "execution_count": 1,
   "metadata": {},
   "outputs": [
    {
     "name": "stderr",
     "output_type": "stream",
     "text": [
      "24/06/02 17:41:55 WARN Utils: Your hostname, Justins-MacBook-Pro.local resolves to a loopback address: 127.0.0.1; using 192.168.0.120 instead (on interface en0)\n",
      "24/06/02 17:41:55 WARN Utils: Set SPARK_LOCAL_IP if you need to bind to another address\n",
      "Setting default log level to \"WARN\".\n",
      "To adjust logging level use sc.setLogLevel(newLevel). For SparkR, use setLogLevel(newLevel).\n",
      "24/06/02 17:41:56 WARN NativeCodeLoader: Unable to load native-hadoop library for your platform... using builtin-java classes where applicable\n"
     ]
    }
   ],
   "source": [
    "from pyspark.sql import SparkSession   \n",
    "from pyspark.sql.functions import col, sum, when, count_distinct, expr, desc, avg, asc\n",
    "from pyspark.ml.feature import StringIndexer, VectorAssembler\n",
    "from pyspark.ml.classification import LogisticRegression, RandomForestClassifier, LinearSVC\n",
    "from pyspark.ml import Pipeline\n",
    "from pyspark.ml.evaluation import BinaryClassificationEvaluator\n",
    "\n",
    "spark = SparkSession.builder.getOrCreate()\n"
   ]
  },
  {
   "cell_type": "code",
   "execution_count": 2,
   "metadata": {},
   "outputs": [
    {
     "name": "stderr",
     "output_type": "stream",
     "text": [
      "                                                                                \r"
     ]
    },
    {
     "name": "stdout",
     "output_type": "stream",
     "text": [
      "root\n",
      " |-- sofifa_id: integer (nullable = true)\n",
      " |-- player_url: string (nullable = true)\n",
      " |-- short_name: string (nullable = true)\n",
      " |-- long_name: string (nullable = true)\n",
      " |-- age: integer (nullable = true)\n",
      " |-- dob: date (nullable = true)\n",
      " |-- height_cm: integer (nullable = true)\n",
      " |-- weight_kg: integer (nullable = true)\n",
      " |-- nationality: string (nullable = true)\n",
      " |-- club: string (nullable = true)\n",
      " |-- overall: integer (nullable = true)\n",
      " |-- potential: integer (nullable = true)\n",
      " |-- value_eur: integer (nullable = true)\n",
      " |-- wage_eur: integer (nullable = true)\n",
      " |-- player_positions: string (nullable = true)\n",
      " |-- preferred_foot: string (nullable = true)\n",
      " |-- international_reputation: integer (nullable = true)\n",
      " |-- weak_foot: integer (nullable = true)\n",
      " |-- skill_moves: integer (nullable = true)\n",
      " |-- work_rate: string (nullable = true)\n",
      " |-- body_type: string (nullable = true)\n",
      " |-- real_face: string (nullable = true)\n",
      " |-- release_clause_eur: integer (nullable = true)\n",
      " |-- player_tags: string (nullable = true)\n",
      " |-- team_position: string (nullable = true)\n",
      " |-- team_jersey_number: integer (nullable = true)\n",
      " |-- loaned_from: string (nullable = true)\n",
      " |-- joined: date (nullable = true)\n",
      " |-- contract_valid_until: integer (nullable = true)\n",
      " |-- nation_position: string (nullable = true)\n",
      " |-- nation_jersey_number: integer (nullable = true)\n",
      " |-- pace: integer (nullable = true)\n",
      " |-- shooting: integer (nullable = true)\n",
      " |-- passing: integer (nullable = true)\n",
      " |-- dribbling: integer (nullable = true)\n",
      " |-- defending: integer (nullable = true)\n",
      " |-- physic: integer (nullable = true)\n",
      " |-- gk_diving: integer (nullable = true)\n",
      " |-- gk_handling: integer (nullable = true)\n",
      " |-- gk_kicking: integer (nullable = true)\n",
      " |-- gk_reflexes: integer (nullable = true)\n",
      " |-- gk_speed: integer (nullable = true)\n",
      " |-- gk_positioning: integer (nullable = true)\n",
      " |-- player_traits: string (nullable = true)\n",
      " |-- attacking_crossing: integer (nullable = true)\n",
      " |-- attacking_finishing: integer (nullable = true)\n",
      " |-- attacking_heading_accuracy: integer (nullable = true)\n",
      " |-- attacking_short_passing: integer (nullable = true)\n",
      " |-- attacking_volleys: integer (nullable = true)\n",
      " |-- skill_dribbling: integer (nullable = true)\n",
      " |-- skill_curve: integer (nullable = true)\n",
      " |-- skill_fk_accuracy: integer (nullable = true)\n",
      " |-- skill_long_passing: integer (nullable = true)\n",
      " |-- skill_ball_control: integer (nullable = true)\n",
      " |-- movement_acceleration: integer (nullable = true)\n",
      " |-- movement_sprint_speed: integer (nullable = true)\n",
      " |-- movement_agility: integer (nullable = true)\n",
      " |-- movement_reactions: integer (nullable = true)\n",
      " |-- movement_balance: integer (nullable = true)\n",
      " |-- power_shot_power: integer (nullable = true)\n",
      " |-- power_jumping: integer (nullable = true)\n",
      " |-- power_stamina: integer (nullable = true)\n",
      " |-- power_strength: integer (nullable = true)\n",
      " |-- power_long_shots: integer (nullable = true)\n",
      " |-- mentality_aggression: integer (nullable = true)\n",
      " |-- mentality_interceptions: integer (nullable = true)\n",
      " |-- mentality_positioning: integer (nullable = true)\n",
      " |-- mentality_vision: integer (nullable = true)\n",
      " |-- mentality_penalties: integer (nullable = true)\n",
      " |-- mentality_composure: integer (nullable = true)\n",
      " |-- defending_marking: integer (nullable = true)\n",
      " |-- defending_standing_tackle: integer (nullable = true)\n",
      " |-- defending_sliding_tackle: integer (nullable = true)\n",
      " |-- goalkeeping_diving: integer (nullable = true)\n",
      " |-- goalkeeping_handling: integer (nullable = true)\n",
      " |-- goalkeeping_kicking: integer (nullable = true)\n",
      " |-- goalkeeping_positioning: integer (nullable = true)\n",
      " |-- goalkeeping_reflexes: integer (nullable = true)\n",
      " |-- ls: string (nullable = true)\n",
      " |-- st: string (nullable = true)\n",
      " |-- rs: string (nullable = true)\n",
      " |-- lw: string (nullable = true)\n",
      " |-- lf: string (nullable = true)\n",
      " |-- cf: string (nullable = true)\n",
      " |-- rf: string (nullable = true)\n",
      " |-- rw: string (nullable = true)\n",
      " |-- lam: string (nullable = true)\n",
      " |-- cam: string (nullable = true)\n",
      " |-- ram: string (nullable = true)\n",
      " |-- lm: string (nullable = true)\n",
      " |-- lcm: string (nullable = true)\n",
      " |-- cm: string (nullable = true)\n",
      " |-- rcm: string (nullable = true)\n",
      " |-- rm: string (nullable = true)\n",
      " |-- lwb: string (nullable = true)\n",
      " |-- ldm: string (nullable = true)\n",
      " |-- cdm: string (nullable = true)\n",
      " |-- rdm: string (nullable = true)\n",
      " |-- rwb: string (nullable = true)\n",
      " |-- lb: string (nullable = true)\n",
      " |-- lcb: string (nullable = true)\n",
      " |-- cb: string (nullable = true)\n",
      " |-- rcb: string (nullable = true)\n",
      " |-- rb: string (nullable = true)\n",
      "\n"
     ]
    },
    {
     "name": "stderr",
     "output_type": "stream",
     "text": [
      "24/06/02 17:42:06 WARN SparkStringUtils: Truncated the string representation of a plan since it was too large. This behavior can be adjusted by setting 'spark.sql.debug.maxToStringFields'.\n"
     ]
    }
   ],
   "source": [
    "df = spark.read.format(\"csv\")\\\n",
    "    .option(\"header\", \"true\")\\\n",
    "    .option(\"inferSchema\", \"true\")\\\n",
    "    .load(\"/Users/justinwyrley/Downloads/archive-3/players_20.csv\")\n",
    "\n",
    "df.printSchema()\n",
    "df.createOrReplaceTempView(\"dfTable\") "
   ]
  },
  {
   "cell_type": "markdown",
   "metadata": {},
   "source": [
    "As there are many columns (104) in this dataset I am going to pick specific attributes I want to work with "
   ]
  },
  {
   "cell_type": "code",
   "execution_count": 3,
   "metadata": {},
   "outputs": [],
   "source": [
    "desired_columns = ['short_name','age','nationality','weight_kg','overall','potential','value_eur','preferred_foot','skill_moves','weak_foot'] \n",
    "df = df.select(desired_columns) # These are values I believe we can use for prediction and analysis"
   ]
  },
  {
   "cell_type": "code",
   "execution_count": 4,
   "metadata": {},
   "outputs": [
    {
     "name": "stderr",
     "output_type": "stream",
     "text": [
      "[Stage 4:>                                                          (0 + 1) / 1]\r"
     ]
    },
    {
     "name": "stdout",
     "output_type": "stream",
     "text": [
      "+-------+-----------+------------------+-----------+-----------------+-----------------+----------------+-----------------+--------------+------------------+------------------+\n",
      "|summary| short_name|               age|nationality|        weight_kg|          overall|       potential|        value_eur|preferred_foot|       skill_moves|         weak_foot|\n",
      "+-------+-----------+------------------+-----------+-----------------+-----------------+----------------+-----------------+--------------+------------------+------------------+\n",
      "|  count|      18278|             18278|      18278|            18278|            18278|           18278|            18278|         18278|             18278|             18278|\n",
      "|   mean|       NULL|25.283291388554545|       NULL| 75.2763431447642|66.24499398183609|71.5468869679396|2484037.640879746|          NULL|2.3680380785643944|2.9442499179341284|\n",
      "| stddev|       NULL| 4.656964497822068|       NULL|7.047743570355303|6.949953254963414| 6.1396690749562|5585481.061473893|          NULL|0.7650375662223573|0.6646561758156144|\n",
      "|    min|A. Abdallah|                16|Afghanistan|               50|               48|              49|                0|          Left|                 1|                 1|\n",
      "|    max| �. Vlădoiu|                42|   Zimbabwe|              110|               94|              95|        105500000|         Right|                 5|                 5|\n",
      "+-------+-----------+------------------+-----------+-----------------+-----------------+----------------+-----------------+--------------+------------------+------------------+\n",
      "\n"
     ]
    },
    {
     "name": "stderr",
     "output_type": "stream",
     "text": [
      "                                                                                \r"
     ]
    }
   ],
   "source": [
    "df.describe().show()"
   ]
  },
  {
   "cell_type": "markdown",
   "metadata": {},
   "source": [
    "As this data set uses fifa ratings potential and overall can be a maximum of 100 and skill moves and weak foot range from 1 to 5"
   ]
  },
  {
   "cell_type": "code",
   "execution_count": 5,
   "metadata": {},
   "outputs": [
    {
     "name": "stdout",
     "output_type": "stream",
     "text": [
      "+----------+---+-----------+---------+-------+---------+---------+--------------+-----------+---------+\n",
      "|short_name|age|nationality|weight_kg|overall|potential|value_eur|preferred_foot|skill_moves|weak_foot|\n",
      "+----------+---+-----------+---------+-------+---------+---------+--------------+-----------+---------+\n",
      "|         0|  0|          0|        0|      0|        0|        0|             0|          0|        0|\n",
      "+----------+---+-----------+---------+-------+---------+---------+--------------+-----------+---------+\n",
      "\n"
     ]
    }
   ],
   "source": [
    "null_counts = df.select([sum(col(c).isNull().cast(\"int\")).alias(c) for c in df.columns]) #col(c) checks if the column is null, then casts it to an integer\n",
    "null_counts.show()"
   ]
  },
  {
   "cell_type": "markdown",
   "metadata": {},
   "source": [
    "This shows there are no null values in the dataset "
   ]
  },
  {
   "cell_type": "markdown",
   "metadata": {},
   "source": [
    "# (i)"
   ]
  },
  {
   "cell_type": "code",
   "execution_count": 6,
   "metadata": {},
   "outputs": [
    {
     "name": "stdout",
     "output_type": "stream",
     "text": [
      "+---------------------------+\n",
      "|count(DISTINCT nationality)|\n",
      "+---------------------------+\n",
      "|                        162|\n",
      "+---------------------------+\n",
      "\n"
     ]
    }
   ],
   "source": [
    "df.select(count_distinct('nationality')).show() # Show how many countries are represented by players in the dataset"
   ]
  },
  {
   "cell_type": "code",
   "execution_count": 7,
   "metadata": {},
   "outputs": [
    {
     "name": "stdout",
     "output_type": "stream",
     "text": [
      "+-------------------+-----+\n",
      "|        nationality|count|\n",
      "+-------------------+-----+\n",
      "|        Puerto Rico|    1|\n",
      "|            Eritrea|    1|\n",
      "|             Jordan|    1|\n",
      "|               Chad|    1|\n",
      "|     Chinese Taipei|    1|\n",
      "|             Malawi|    1|\n",
      "|            Liberia|    1|\n",
      "|            Bahrain|    1|\n",
      "|São Tomé & Príncipe|    1|\n",
      "|          Mauritius|    1|\n",
      "|              Macau|    1|\n",
      "|           St Lucia|    1|\n",
      "|           Barbados|    1|\n",
      "|          Hong Kong|    1|\n",
      "|          Gibraltar|    1|\n",
      "|          Indonesia|    1|\n",
      "|               Guam|    1|\n",
      "|           Ethiopia|    1|\n",
      "|        South Sudan|    1|\n",
      "|             Belize|    1|\n",
      "+-------------------+-----+\n",
      "only showing top 20 rows\n",
      "\n"
     ]
    }
   ],
   "source": [
    "result_df = df.groupBy(\"nationality\").agg(expr(\"count(*) as count\")).orderBy(expr(\"count desc\"))\n",
    "result_df.show() # I could not seem to get this to work using the sql query so i used the df api instead"
   ]
  },
  {
   "cell_type": "code",
   "execution_count": 8,
   "metadata": {},
   "outputs": [
    {
     "name": "stdout",
     "output_type": "stream",
     "text": [
      "+-------------------+-----+\n",
      "|        nationality|count|\n",
      "+-------------------+-----+\n",
      "|            England| 1667|\n",
      "|            Germany| 1216|\n",
      "|              Spain| 1035|\n",
      "|             France|  984|\n",
      "|          Argentina|  886|\n",
      "|             Brazil|  824|\n",
      "|              Italy|  732|\n",
      "|           Colombia|  591|\n",
      "|              Japan|  453|\n",
      "|        Netherlands|  416|\n",
      "|           China PR|  373|\n",
      "|              Chile|  370|\n",
      "|             Sweden|  358|\n",
      "|             Norway|  350|\n",
      "|Republic of Ireland|  348|\n",
      "|      United States|  347|\n",
      "|            Denmark|  345|\n",
      "|           Portugal|  344|\n",
      "|             Mexico|  340|\n",
      "|             Poland|  324|\n",
      "+-------------------+-----+\n",
      "only showing top 20 rows\n",
      "\n"
     ]
    }
   ],
   "source": [
    "df.groupBy(\"nationality\").count().orderBy(desc(\"count\")).show() "
   ]
  },
  {
   "cell_type": "code",
   "execution_count": 9,
   "metadata": {},
   "outputs": [
    {
     "name": "stdout",
     "output_type": "stream",
     "text": [
      "+--------------------+-----------------+\n",
      "|         nationality|  average_overall|\n",
      "+--------------------+-----------------+\n",
      "|          Mozambique|            73.25|\n",
      "|                Chad|             73.0|\n",
      "|             Bahrain|             72.0|\n",
      "|             Uruguay|71.64634146341463|\n",
      "|             Algeria|            71.38|\n",
      "|              Brazil| 71.1614077669903|\n",
      "|              Israel|           71.125|\n",
      "|             Eritrea|             71.0|\n",
      "|               Libya|             71.0|\n",
      "|               Gabon|          70.6875|\n",
      "|            Portugal|70.51453488372093|\n",
      "|Central African Rep.|             70.5|\n",
      "|          Cape Verde|             70.5|\n",
      "|             Ecuador|70.49056603773585|\n",
      "|      Czech Republic|70.31372549019608|\n",
      "|          Madagascar|            70.25|\n",
      "|               Syria|            70.25|\n",
      "|               Egypt|             70.1|\n",
      "|         Puerto Rico|             70.0|\n",
      "| São Tomé & Príncipe|             70.0|\n",
      "+--------------------+-----------------+\n",
      "only showing top 20 rows\n",
      "\n"
     ]
    }
   ],
   "source": [
    "df.groupBy(\"nationality\").agg(avg(\"overall\").alias(\"average_overall\")).orderBy(desc(\"average_overall\")).show()\n",
    "# Interesting results as originally I thought a country with more players may be higher \n",
    "# But then it seems very obvious that with less players a few higher rated ones would skew the average"
   ]
  },
  {
   "cell_type": "markdown",
   "metadata": {},
   "source": [
    "Also interesting to see Brazil is the 6th highest rated country on average even though they are 6th most populated in the dataset"
   ]
  },
  {
   "cell_type": "code",
   "execution_count": 10,
   "metadata": {},
   "outputs": [
    {
     "name": "stdout",
     "output_type": "stream",
     "text": [
      "+----------+---+-----------+---------+-------+---------+---------+--------------+-----------+---------+\n",
      "|short_name|age|nationality|weight_kg|overall|potential|value_eur|preferred_foot|skill_moves|weak_foot|\n",
      "+----------+---+-----------+---------+-------+---------+---------+--------------+-----------+---------+\n",
      "|     Mexer| 30| Mozambique|       79|     76|       76|  6000000|         Right|          2|        3|\n",
      "| Zainadine| 31| Mozambique|       70|     75|       75|  4900000|         Right|          2|        3|\n",
      "|Simao Mate| 30| Mozambique|       76|     72|       72|  2600000|         Right|          2|        2|\n",
      "|  Reinildo| 25| Mozambique|       74|     70|       75|  2100000|          Left|          3|        3|\n",
      "+----------+---+-----------+---------+-------+---------+---------+--------------+-----------+---------+\n",
      "\n"
     ]
    }
   ],
   "source": [
    "df.filter(df[\"nationality\"] == \"Mozambique\").show()\n",
    "# Showing what I previously said about a few higher rated players skewing the average\n"
   ]
  },
  {
   "cell_type": "code",
   "execution_count": 11,
   "metadata": {},
   "outputs": [
    {
     "name": "stdout",
     "output_type": "stream",
     "text": [
      "+-------------------+------------------+\n",
      "|        nationality|   average_overall|\n",
      "+-------------------+------------------+\n",
      "|          Indonesia|              56.0|\n",
      "|              Niger|              57.0|\n",
      "|        South Sudan|              59.0|\n",
      "|  Antigua & Barbuda| 59.42857142857143|\n",
      "|           China PR| 59.48525469168901|\n",
      "|              India|              60.0|\n",
      "|              Malta|              60.0|\n",
      "|            Grenada|              60.5|\n",
      "|       Saudi Arabia| 60.92903225806452|\n",
      "|              Macau|              61.0|\n",
      "|Republic of Ireland| 61.00574712643678|\n",
      "|      Faroe Islands|              61.4|\n",
      "|             Latvia|61.666666666666664|\n",
      "|             Cyprus| 61.72727272727273|\n",
      "|             Malawi|              62.0|\n",
      "|        Afghanistan|              62.0|\n",
      "|      Liechtenstein|              62.0|\n",
      "|          Palestine|              62.0|\n",
      "|          Gibraltar|              62.0|\n",
      "|            Vietnam|              62.0|\n",
      "+-------------------+------------------+\n",
      "only showing top 20 rows\n",
      "\n"
     ]
    }
   ],
   "source": [
    "df.groupBy(\"nationality\").agg(avg(\"overall\").alias(\"average_overall\")).orderBy(asc(\"average_overall\")).show()"
   ]
  },
  {
   "cell_type": "code",
   "execution_count": 12,
   "metadata": {},
   "outputs": [
    {
     "name": "stdout",
     "output_type": "stream",
     "text": [
      "+----------------+---+-----------+---------+-------+---------+---------+--------------+-----------+---------+\n",
      "|      short_name|age|nationality|weight_kg|overall|potential|value_eur|preferred_foot|skill_moves|weak_foot|\n",
      "+----------------+---+-----------+---------+-------+---------+---------+--------------+-----------+---------+\n",
      "|E. Maulana Vikri| 18|  Indonesia|       65|     56|       74|   190000|          Left|          3|        3|\n",
      "+----------------+---+-----------+---------+-------+---------+---------+--------------+-----------+---------+\n",
      "\n"
     ]
    }
   ],
   "source": [
    "df.filter(df[\"nationality\"] == \"Indonesia\").show()\n",
    "# Only entry setting the average"
   ]
  },
  {
   "cell_type": "markdown",
   "metadata": {},
   "source": [
    "# (ii)"
   ]
  },
  {
   "cell_type": "markdown",
   "metadata": {},
   "source": [
    "I want to see what good predictors may be "
   ]
  },
  {
   "cell_type": "code",
   "execution_count": 13,
   "metadata": {},
   "outputs": [
    {
     "data": {
      "text/plain": [
       "0.6466500272615198"
      ]
     },
     "execution_count": 13,
     "metadata": {},
     "output_type": "execute_result"
    }
   ],
   "source": [
    "df.corr(\"overall\", \"potential\") # Shows a strong correlation between overall and potential"
   ]
  },
  {
   "cell_type": "code",
   "execution_count": 14,
   "metadata": {},
   "outputs": [],
   "source": [
    "df = df.withColumn('future_potential', col('potential') - col('overall')) # To see how different the potential is from the overall"
   ]
  },
  {
   "cell_type": "code",
   "execution_count": 15,
   "metadata": {},
   "outputs": [
    {
     "data": {
      "text/plain": [
       "-0.8720936145366164"
      ]
     },
     "execution_count": 15,
     "metadata": {},
     "output_type": "execute_result"
    }
   ],
   "source": [
    "df.corr(\"age\", \"future_potential\") # This shows that as age increases the future_potential decreases"
   ]
  },
  {
   "cell_type": "code",
   "execution_count": 16,
   "metadata": {},
   "outputs": [
    {
     "name": "stderr",
     "output_type": "stream",
     "text": [
      "                                                                                \r"
     ]
    }
   ],
   "source": [
    "indexer = StringIndexer(inputCol=\"preferred_foot\", outputCol=\"left_foot_preferred\")\n",
    "df = indexer.fit(df).transform(df)\n",
    "# I change left footed players to 1 and right footed to 0 so I can measure how preferred foot affects other variables\n"
   ]
  },
  {
   "cell_type": "code",
   "execution_count": 17,
   "metadata": {},
   "outputs": [
    {
     "data": {
      "text/plain": [
       "-0.07543675895427816"
      ]
     },
     "execution_count": 17,
     "metadata": {},
     "output_type": "execute_result"
    }
   ],
   "source": [
    "df.corr('left_foot_preferred', 'weak_foot') # This shows that right footed players have a slightly stronger weak foot"
   ]
  },
  {
   "cell_type": "markdown",
   "metadata": {},
   "source": [
    "# (iii)"
   ]
  },
  {
   "cell_type": "markdown",
   "metadata": {},
   "source": [
    "I am going to choose to work with preferred foot "
   ]
  },
  {
   "cell_type": "code",
   "execution_count": 18,
   "metadata": {},
   "outputs": [
    {
     "name": "stderr",
     "output_type": "stream",
     "text": [
      "24/06/02 17:42:25 WARN InstanceBuilder: Failed to load implementation from:dev.ludovic.netlib.blas.JNIBLAS\n"
     ]
    },
    {
     "name": "stdout",
     "output_type": "stream",
     "text": [
      "Using the given features the models accuracy was 0.5807532534767708\n"
     ]
    }
   ],
   "source": [
    "feature_cols = [\"skill_moves\", \"weak_foot\"] \n",
    "assembler = VectorAssembler(inputCols=feature_cols, outputCol=\"features\")\n",
    "\n",
    "train_data, test_data = df.randomSplit([0.8, 0.2], seed=4)\n",
    "\n",
    "logreg = LogisticRegression(featuresCol=\"features\", labelCol=\"left_foot_preferred\")\n",
    "pipeline = Pipeline(stages=[assembler, logreg])\n",
    "model = pipeline.fit(train_data)\n",
    "\n",
    "predictions = model.transform(test_data)\n",
    "evaluator = BinaryClassificationEvaluator(labelCol=\"left_foot_preferred\")\n",
    "accuracy = evaluator.evaluate(predictions)\n",
    "\n",
    "print(\"Using the given features the models accuracy was\", accuracy)"
   ]
  },
  {
   "cell_type": "markdown",
   "metadata": {},
   "source": [
    "Starting with fewer predictors I will try more "
   ]
  },
  {
   "cell_type": "code",
   "execution_count": 19,
   "metadata": {},
   "outputs": [
    {
     "name": "stdout",
     "output_type": "stream",
     "text": [
      "Using the given features the models accuracy was 0.590004449340374\n"
     ]
    }
   ],
   "source": [
    "feature_cols = [\"weight_kg\", \"overall\", \"potential\", \"value_eur\", \"skill_moves\", \"weak_foot\"] # Only using numerical values for prediction\n",
    "assembler = VectorAssembler(inputCols=feature_cols, outputCol=\"features\")\n",
    "\n",
    "train_data, test_data = df.randomSplit([0.8, 0.2], seed=4)\n",
    "\n",
    "logreg = LogisticRegression(featuresCol=\"features\", labelCol=\"left_foot_preferred\")\n",
    "pipeline = Pipeline(stages=[assembler, logreg])\n",
    "model = pipeline.fit(train_data)\n",
    "\n",
    "predictions = model.transform(test_data)\n",
    "evaluator = BinaryClassificationEvaluator(labelCol=\"left_foot_preferred\")\n",
    "accuracy = evaluator.evaluate(predictions)\n",
    "\n",
    "print(\"Using the given features the models accuracy was\", accuracy)"
   ]
  },
  {
   "cell_type": "markdown",
   "metadata": {},
   "source": [
    "This did not improve the prediction much I will try a different model "
   ]
  },
  {
   "cell_type": "code",
   "execution_count": 20,
   "metadata": {},
   "outputs": [
    {
     "name": "stderr",
     "output_type": "stream",
     "text": [
      "24/06/02 17:42:37 WARN DAGScheduler: Broadcasting large task binary with size 1027.3 KiB\n",
      "24/06/02 17:42:40 WARN DAGScheduler: Broadcasting large task binary with size 2.1 MiB\n",
      "24/06/02 17:42:44 WARN DAGScheduler: Broadcasting large task binary with size 4.1 MiB\n",
      "24/06/02 17:42:49 WARN DAGScheduler: Broadcasting large task binary with size 1282.9 KiB\n",
      "24/06/02 17:42:51 WARN DAGScheduler: Broadcasting large task binary with size 3.7 MiB\n",
      "                                                                                \r"
     ]
    },
    {
     "name": "stdout",
     "output_type": "stream",
     "text": [
      "Using the given features, the Random Forest model's accuracy was: 0.5931607518558215\n"
     ]
    }
   ],
   "source": [
    "rf = RandomForestClassifier(featuresCol=\"features\", labelCol=\"left_foot_preferred\", numTrees=1000)\n",
    "\n",
    "pipeline = Pipeline(stages=[assembler, rf])\n",
    "\n",
    "model = pipeline.fit(train_data)\n",
    "predictions = model.transform(test_data)\n",
    "\n",
    "evaluator = BinaryClassificationEvaluator(labelCol=\"left_foot_preferred\")\n",
    "accuracy = evaluator.evaluate(predictions)\n",
    "\n",
    "print(\"Using the given features, the Random Forest model's accuracy was:\", accuracy)\n"
   ]
  },
  {
   "cell_type": "markdown",
   "metadata": {},
   "source": [
    "slight improvement "
   ]
  },
  {
   "cell_type": "code",
   "execution_count": 21,
   "metadata": {},
   "outputs": [
    {
     "name": "stdout",
     "output_type": "stream",
     "text": [
      "Using the given features, the SVM model's accuracy was: 0.5294394575443612\n",
      "+-------------------+----------+\n",
      "|left_foot_preferred|prediction|\n",
      "+-------------------+----------+\n",
      "|                1.0|       0.0|\n",
      "|                0.0|       0.0|\n",
      "|                0.0|       0.0|\n",
      "|                0.0|       0.0|\n",
      "|                0.0|       0.0|\n",
      "|                0.0|       0.0|\n",
      "|                1.0|       0.0|\n",
      "|                1.0|       0.0|\n",
      "|                0.0|       0.0|\n",
      "|                0.0|       0.0|\n",
      "|                0.0|       0.0|\n",
      "|                0.0|       0.0|\n",
      "|                0.0|       0.0|\n",
      "|                0.0|       0.0|\n",
      "|                1.0|       0.0|\n",
      "|                1.0|       0.0|\n",
      "|                0.0|       0.0|\n",
      "|                1.0|       0.0|\n",
      "|                0.0|       0.0|\n",
      "|                0.0|       0.0|\n",
      "+-------------------+----------+\n",
      "only showing top 20 rows\n",
      "\n"
     ]
    }
   ],
   "source": [
    "feature_cols = [\"weight_kg\", \"overall\", \"potential\", \"value_eur\", \"skill_moves\"]\n",
    "assembler = VectorAssembler(inputCols=feature_cols, outputCol=\"features\")\n",
    "df_with_features = assembler.transform(df)\n",
    "\n",
    "train_data, test_data = df_with_features.randomSplit([0.8, 0.2], seed=4)\n",
    "\n",
    "\n",
    "svm = LinearSVC(featuresCol=\"features\", labelCol=\"left_foot_preferred\", maxIter=10, regParam=0.1)\n",
    "\n",
    "\n",
    "svm_model = svm.fit(train_data)\n",
    "\n",
    "\n",
    "predictions = svm_model.transform(test_data)\n",
    "\n",
    "\n",
    "evaluator = BinaryClassificationEvaluator(labelCol=\"left_foot_preferred\")\n",
    "accuracy = evaluator.evaluate(predictions)\n",
    "\n",
    "print(\"Using the given features, the SVM model's accuracy was:\", accuracy)\n",
    "\n",
    "predictions.select(\"left_foot_preferred\", \"prediction\").show()\n"
   ]
  },
  {
   "cell_type": "markdown",
   "metadata": {},
   "source": [
    "It seems like it consistenly guessed the players were right footed which is why it was correct almost 50% of the time. Overall it does not seem like there are any predictors that can accurately predict if a players prefered foot is their left foot."
   ]
  }
 ],
 "metadata": {
  "kernelspec": {
   "display_name": "Spark",
   "language": "python",
   "name": "python3"
  },
  "language_info": {
   "codemirror_mode": {
    "name": "ipython",
    "version": 3
   },
   "file_extension": ".py",
   "mimetype": "text/x-python",
   "name": "python",
   "nbconvert_exporter": "python",
   "pygments_lexer": "ipython3",
   "version": "3.11.8"
  }
 },
 "nbformat": 4,
 "nbformat_minor": 2
}
