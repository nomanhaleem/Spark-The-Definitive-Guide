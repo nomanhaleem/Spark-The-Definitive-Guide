{
 "cells": [
  {
   "cell_type": "code",
   "execution_count": 36,
   "metadata": {},
   "outputs": [],
   "source": [
    "#initiate spark session\n",
    "from pyspark.sql import SparkSession\n",
    "spark = SparkSession.builder.getOrCreate()"
   ]
  },
  {
   "cell_type": "code",
   "execution_count": 37,
   "metadata": {},
   "outputs": [],
   "source": [
    "#import necessaty libraries\n",
    "from pyspark.sql.functions import max, min, col, hash, expr\n",
    "from pyspark.ml.feature import StringIndexer, VectorAssembler, OneHotEncoder\n",
    "from pyspark.sql.types import StringType, NumericType, IntegerType\n",
    "from pyspark.ml.classification import LogisticRegression, DecisionTreeClassifier, RandomForestClassifier\n",
    "from pyspark.ml.evaluation import BinaryClassificationEvaluator, MulticlassClassificationEvaluator\n",
    "\n",
    "import pandas as pd\n",
    "import numpy as np\n",
    "import matplotlib.pyplot as plt\n",
    "import statsmodels.api as sm\n",
    "import seaborn as sns\n"
   ]
  },
  {
   "cell_type": "code",
   "execution_count": 38,
   "metadata": {},
   "outputs": [
    {
     "name": "stdout",
     "output_type": "stream",
     "text": [
      "Requirement already satisfied: seaborn in /Users/jildoubrink/anaconda3/envs/PySpark/lib/python3.12/site-packages (0.13.2)\n",
      "Requirement already satisfied: numpy!=1.24.0,>=1.20 in /Users/jildoubrink/anaconda3/envs/PySpark/lib/python3.12/site-packages (from seaborn) (1.26.4)\n",
      "Requirement already satisfied: pandas>=1.2 in /Users/jildoubrink/anaconda3/envs/PySpark/lib/python3.12/site-packages (from seaborn) (2.2.2)\n",
      "Requirement already satisfied: matplotlib!=3.6.1,>=3.4 in /Users/jildoubrink/anaconda3/envs/PySpark/lib/python3.12/site-packages (from seaborn) (3.9.0)\n",
      "Requirement already satisfied: contourpy>=1.0.1 in /Users/jildoubrink/anaconda3/envs/PySpark/lib/python3.12/site-packages (from matplotlib!=3.6.1,>=3.4->seaborn) (1.2.1)\n",
      "Requirement already satisfied: cycler>=0.10 in /Users/jildoubrink/anaconda3/envs/PySpark/lib/python3.12/site-packages (from matplotlib!=3.6.1,>=3.4->seaborn) (0.12.1)\n",
      "Requirement already satisfied: fonttools>=4.22.0 in /Users/jildoubrink/anaconda3/envs/PySpark/lib/python3.12/site-packages (from matplotlib!=3.6.1,>=3.4->seaborn) (4.51.0)\n",
      "Requirement already satisfied: kiwisolver>=1.3.1 in /Users/jildoubrink/anaconda3/envs/PySpark/lib/python3.12/site-packages (from matplotlib!=3.6.1,>=3.4->seaborn) (1.4.5)\n",
      "Requirement already satisfied: packaging>=20.0 in /Users/jildoubrink/anaconda3/envs/PySpark/lib/python3.12/site-packages (from matplotlib!=3.6.1,>=3.4->seaborn) (24.0)\n",
      "Requirement already satisfied: pillow>=8 in /Users/jildoubrink/anaconda3/envs/PySpark/lib/python3.12/site-packages (from matplotlib!=3.6.1,>=3.4->seaborn) (10.3.0)\n",
      "Requirement already satisfied: pyparsing>=2.3.1 in /Users/jildoubrink/anaconda3/envs/PySpark/lib/python3.12/site-packages (from matplotlib!=3.6.1,>=3.4->seaborn) (3.1.2)\n",
      "Requirement already satisfied: python-dateutil>=2.7 in /Users/jildoubrink/anaconda3/envs/PySpark/lib/python3.12/site-packages (from matplotlib!=3.6.1,>=3.4->seaborn) (2.9.0)\n",
      "Requirement already satisfied: pytz>=2020.1 in /Users/jildoubrink/anaconda3/envs/PySpark/lib/python3.12/site-packages (from pandas>=1.2->seaborn) (2024.1)\n",
      "Requirement already satisfied: tzdata>=2022.7 in /Users/jildoubrink/anaconda3/envs/PySpark/lib/python3.12/site-packages (from pandas>=1.2->seaborn) (2024.1)\n",
      "Requirement already satisfied: six>=1.5 in /Users/jildoubrink/anaconda3/envs/PySpark/lib/python3.12/site-packages (from python-dateutil>=2.7->matplotlib!=3.6.1,>=3.4->seaborn) (1.16.0)\n",
      "Note: you may need to restart the kernel to use updated packages.\n"
     ]
    }
   ],
   "source": [
    "pip install seaborn"
   ]
  },
  {
   "cell_type": "code",
   "execution_count": 39,
   "metadata": {},
   "outputs": [
    {
     "name": "stdout",
     "output_type": "stream",
     "text": [
      "Requirement already satisfied: statsmodels in /Users/jildoubrink/anaconda3/envs/PySpark/lib/python3.12/site-packages (0.14.2)\n",
      "Requirement already satisfied: numpy>=1.22.3 in /Users/jildoubrink/anaconda3/envs/PySpark/lib/python3.12/site-packages (from statsmodels) (1.26.4)\n",
      "Requirement already satisfied: scipy!=1.9.2,>=1.8 in /Users/jildoubrink/anaconda3/envs/PySpark/lib/python3.12/site-packages (from statsmodels) (1.13.1)\n",
      "Requirement already satisfied: pandas!=2.1.0,>=1.4 in /Users/jildoubrink/anaconda3/envs/PySpark/lib/python3.12/site-packages (from statsmodels) (2.2.2)\n",
      "Requirement already satisfied: patsy>=0.5.6 in /Users/jildoubrink/anaconda3/envs/PySpark/lib/python3.12/site-packages (from statsmodels) (0.5.6)\n",
      "Requirement already satisfied: packaging>=21.3 in /Users/jildoubrink/anaconda3/envs/PySpark/lib/python3.12/site-packages (from statsmodels) (24.0)\n",
      "Requirement already satisfied: python-dateutil>=2.8.2 in /Users/jildoubrink/anaconda3/envs/PySpark/lib/python3.12/site-packages (from pandas!=2.1.0,>=1.4->statsmodels) (2.9.0)\n",
      "Requirement already satisfied: pytz>=2020.1 in /Users/jildoubrink/anaconda3/envs/PySpark/lib/python3.12/site-packages (from pandas!=2.1.0,>=1.4->statsmodels) (2024.1)\n",
      "Requirement already satisfied: tzdata>=2022.7 in /Users/jildoubrink/anaconda3/envs/PySpark/lib/python3.12/site-packages (from pandas!=2.1.0,>=1.4->statsmodels) (2024.1)\n",
      "Requirement already satisfied: six in /Users/jildoubrink/anaconda3/envs/PySpark/lib/python3.12/site-packages (from patsy>=0.5.6->statsmodels) (1.16.0)\n",
      "Note: you may need to restart the kernel to use updated packages.\n"
     ]
    }
   ],
   "source": [
    "pip install statsmodels"
   ]
  },
  {
   "cell_type": "code",
   "execution_count": 40,
   "metadata": {},
   "outputs": [
    {
     "name": "stdout",
     "output_type": "stream",
     "text": [
      "root\n",
      " |-- datetime: string (nullable = true)\n",
      " |-- city: string (nullable = true)\n",
      " |-- state: string (nullable = true)\n",
      " |-- country: string (nullable = true)\n",
      " |-- shape: string (nullable = true)\n",
      " |-- duration (seconds): string (nullable = true)\n",
      " |-- duration (hours/min): string (nullable = true)\n",
      " |-- comments: string (nullable = true)\n",
      " |-- date posted: string (nullable = true)\n",
      " |-- latitude: string (nullable = true)\n",
      " |-- longitude : double (nullable = true)\n",
      "\n"
     ]
    }
   ],
   "source": [
    "#load the data set\n",
    "df = spark.read.format(\"csv\")\\\n",
    "    .option(\"header\", \"true\")\\\n",
    "    .option(\"inferSchema\", \"true\")\\\n",
    "    .load(\"/Users/jildoubrink/Desktop/Big data Analytics/datasets/scrubbed.csv\")\n",
    "\n",
    "df.printSchema()"
   ]
  },
  {
   "cell_type": "code",
   "execution_count": 41,
   "metadata": {},
   "outputs": [],
   "source": [
    "#create temporary view to enable SQL queries\n",
    "df.createOrReplaceTempView(\"dfTable\")"
   ]
  },
  {
   "cell_type": "markdown",
   "metadata": {},
   "source": [
    "## 1. explore the data"
   ]
  },
  {
   "cell_type": "code",
   "execution_count": 42,
   "metadata": {},
   "outputs": [
    {
     "name": "stdout",
     "output_type": "stream",
     "text": [
      "+----------------+--------------------+-----+-------+--------+------------------+--------------------+--------------------+-----------+----------+------------+\n",
      "|        datetime|                city|state|country|   shape|duration (seconds)|duration (hours/min)|            comments|date posted|  latitude|  longitude |\n",
      "+----------------+--------------------+-----+-------+--------+------------------+--------------------+--------------------+-----------+----------+------------+\n",
      "|10/10/1949 20:30|          san marcos|   tx|     us|cylinder|              2700|          45 minutes|This event took p...|  4/27/2004|29.8830556| -97.9411111|\n",
      "|10/10/1949 21:00|        lackland afb|   tx|   NULL|   light|              7200|             1-2 hrs|1949 Lackland AFB...| 12/16/2005|  29.38421|  -98.581082|\n",
      "|10/10/1955 17:00|chester (uk/england)| NULL|     gb|  circle|                20|          20 seconds|Green/Orange circ...|  1/21/2008|      53.2|   -2.916667|\n",
      "|10/10/1956 21:00|                edna|   tx|     us|  circle|                20|            1/2 hour|My older brother ...|  1/17/2004|28.9783333| -96.6458333|\n",
      "|10/10/1960 20:00|             kaneohe|   hi|     us|   light|               900|          15 minutes|AS a Marine 1st L...|  1/22/2004|21.4180556|-157.8036111|\n",
      "|10/10/1961 19:00|             bristol|   tn|     us|  sphere|               300|           5 minutes|My father is now ...|  4/27/2007|36.5950000| -82.1888889|\n",
      "|10/10/1965 21:00|  penarth (uk/wales)| NULL|     gb|  circle|               180|        about 3 mins|penarth uk  circl...|  2/14/2006| 51.434722|       -3.18|\n",
      "|10/10/1965 23:45|             norwalk|   ct|     us|    disk|              1200|          20 minutes|A bright orange c...|  10/2/1999|41.1175000| -73.4083333|\n",
      "|10/10/1966 20:00|           pell city|   al|     us|    disk|               180|          3  minutes|Strobe Lighted di...|  3/19/2009|33.5861111| -86.2861111|\n",
      "|10/10/1966 21:00|            live oak|   fl|     us|    disk|               120|     several minutes|Saucer zaps energ...|  5/11/2005|30.2947222| -82.9841667|\n",
      "|10/10/1968 13:00|           hawthorne|   ca|     us|  circle|               300|              5 min.|ROUND &#44 ORANGE...| 10/31/2003|33.9163889|-118.3516667|\n",
      "|10/10/1968 19:00|             brevard|   nc|     us|fireball|               180|           3 minutes|silent red /orang...|  6/12/2008|35.2333333| -82.7344444|\n",
      "|10/10/1970 16:00|            bellmore|   ny|     us|    disk|              1800|             30 min.|silver disc seen ...|  5/11/2000|40.6686111|    -73.5275|\n",
      "|10/10/1970 19:00|          manchester|   ky|     us| unknown|               180|           3 minutes|Slow moving&#44 s...|  2/14/2008|37.1536111| -83.7619444|\n",
      "|10/10/1971 21:00|           lexington|   nc|     us|    oval|                30|          30 seconds|green oval shaped...|  2/14/2010|35.8238889| -80.2536111|\n",
      "|10/10/1972 19:00|       harlan county|   ky|     us|  circle|              1200|           20minutes|On october 10&#44...|  9/15/2005|36.8430556| -83.3219444|\n",
      "|10/10/1972 22:30|     west bloomfield|   mi|     us|    disk|               120|           2 minutes|The UFO was so cl...|  8/14/2007|42.5377778| -83.2330556|\n",
      "|10/10/1973 19:00|             niantic|   ct|     us|    disk|              1800|           20-30 min|Oh&#44 what a nig...|  9/24/2003|41.3252778| -72.1936111|\n",
      "|10/10/1973 23:00|         bermuda nas| NULL|   NULL|   light|                20|             20 sec.|saw fast moving b...|  1/11/2002| 32.364167|  -64.678611|\n",
      "|10/10/1974 19:30|              hudson|   ma|     us|   other|              2700|          45 minutes|Not sure of the e...|  8/10/1999|42.3916667| -71.5666667|\n",
      "+----------------+--------------------+-----+-------+--------+------------------+--------------------+--------------------+-----------+----------+------------+\n",
      "only showing top 20 rows\n",
      "\n"
     ]
    }
   ],
   "source": [
    "df.show(20)"
   ]
  },
  {
   "cell_type": "markdown",
   "metadata": {},
   "source": [
    "#### fill in missing values"
   ]
  },
  {
   "cell_type": "code",
   "execution_count": 43,
   "metadata": {},
   "outputs": [
    {
     "name": "stdout",
     "output_type": "stream",
     "text": [
      "+----------------+--------------------+-----+-------+--------+------------------+--------------------+--------------------+-----------+----------+------------+\n",
      "|        datetime|                city|state|country|   shape|duration (seconds)|duration (hours/min)|            comments|date posted|  latitude|  longitude |\n",
      "+----------------+--------------------+-----+-------+--------+------------------+--------------------+--------------------+-----------+----------+------------+\n",
      "|10/10/1949 20:30|          san marcos|   tx|     us|cylinder|              2700|          45 minutes|This event took p...|  4/27/2004|29.8830556| -97.9411111|\n",
      "|10/10/1949 21:00|        lackland afb|   tx|     NA|   light|              7200|             1-2 hrs|1949 Lackland AFB...| 12/16/2005|  29.38421|  -98.581082|\n",
      "|10/10/1955 17:00|chester (uk/england)|   NA|     gb|  circle|                20|          20 seconds|Green/Orange circ...|  1/21/2008|      53.2|   -2.916667|\n",
      "|10/10/1956 21:00|                edna|   tx|     us|  circle|                20|            1/2 hour|My older brother ...|  1/17/2004|28.9783333| -96.6458333|\n",
      "|10/10/1960 20:00|             kaneohe|   hi|     us|   light|               900|          15 minutes|AS a Marine 1st L...|  1/22/2004|21.4180556|-157.8036111|\n",
      "|10/10/1961 19:00|             bristol|   tn|     us|  sphere|               300|           5 minutes|My father is now ...|  4/27/2007|36.5950000| -82.1888889|\n",
      "|10/10/1965 21:00|  penarth (uk/wales)|   NA|     gb|  circle|               180|        about 3 mins|penarth uk  circl...|  2/14/2006| 51.434722|       -3.18|\n",
      "|10/10/1965 23:45|             norwalk|   ct|     us|    disk|              1200|          20 minutes|A bright orange c...|  10/2/1999|41.1175000| -73.4083333|\n",
      "|10/10/1966 20:00|           pell city|   al|     us|    disk|               180|          3  minutes|Strobe Lighted di...|  3/19/2009|33.5861111| -86.2861111|\n",
      "|10/10/1966 21:00|            live oak|   fl|     us|    disk|               120|     several minutes|Saucer zaps energ...|  5/11/2005|30.2947222| -82.9841667|\n",
      "|10/10/1968 13:00|           hawthorne|   ca|     us|  circle|               300|              5 min.|ROUND &#44 ORANGE...| 10/31/2003|33.9163889|-118.3516667|\n",
      "|10/10/1968 19:00|             brevard|   nc|     us|fireball|               180|           3 minutes|silent red /orang...|  6/12/2008|35.2333333| -82.7344444|\n",
      "|10/10/1970 16:00|            bellmore|   ny|     us|    disk|              1800|             30 min.|silver disc seen ...|  5/11/2000|40.6686111|    -73.5275|\n",
      "|10/10/1970 19:00|          manchester|   ky|     us| unknown|               180|           3 minutes|Slow moving&#44 s...|  2/14/2008|37.1536111| -83.7619444|\n",
      "|10/10/1971 21:00|           lexington|   nc|     us|    oval|                30|          30 seconds|green oval shaped...|  2/14/2010|35.8238889| -80.2536111|\n",
      "|10/10/1972 19:00|       harlan county|   ky|     us|  circle|              1200|           20minutes|On october 10&#44...|  9/15/2005|36.8430556| -83.3219444|\n",
      "|10/10/1972 22:30|     west bloomfield|   mi|     us|    disk|               120|           2 minutes|The UFO was so cl...|  8/14/2007|42.5377778| -83.2330556|\n",
      "|10/10/1973 19:00|             niantic|   ct|     us|    disk|              1800|           20-30 min|Oh&#44 what a nig...|  9/24/2003|41.3252778| -72.1936111|\n",
      "|10/10/1973 23:00|         bermuda nas|   NA|     NA|   light|                20|             20 sec.|saw fast moving b...|  1/11/2002| 32.364167|  -64.678611|\n",
      "|10/10/1974 19:30|              hudson|   ma|     us|   other|              2700|          45 minutes|Not sure of the e...|  8/10/1999|42.3916667| -71.5666667|\n",
      "+----------------+--------------------+-----+-------+--------+------------------+--------------------+--------------------+-----------+----------+------------+\n",
      "only showing top 20 rows\n",
      "\n"
     ]
    }
   ],
   "source": [
    "#fill in the null values\n",
    "df = df.na.fill(\"NA\")\n",
    "df.show(20)"
   ]
  },
  {
   "cell_type": "markdown",
   "metadata": {},
   "source": [
    "#### find the total number of sightings"
   ]
  },
  {
   "cell_type": "code",
   "execution_count": 44,
   "metadata": {},
   "outputs": [
    {
     "data": {
      "text/plain": [
       "80332"
      ]
     },
     "execution_count": 44,
     "metadata": {},
     "output_type": "execute_result"
    }
   ],
   "source": [
    "df.count()"
   ]
  },
  {
   "cell_type": "markdown",
   "metadata": {},
   "source": [
    "#### find the date with the most sightings"
   ]
  },
  {
   "cell_type": "code",
   "execution_count": 45,
   "metadata": {},
   "outputs": [
    {
     "name": "stdout",
     "output_type": "stream",
     "text": [
      "Date with the most sightings: 7/4/2010 22:00\n",
      "Number of sightings on that date: 36\n"
     ]
    }
   ],
   "source": [
    "#group by date and count the number of sightings for each date\n",
    "sightings_by_date = df.groupBy(\"datetime\").count()\n",
    "\n",
    "#find the date with the maximum number of sightings\n",
    "max_sightings_date = sightings_by_date.orderBy(col(\"count\").desc()).first()[\"datetime\"]\n",
    "max_sightings_count = sightings_by_date.orderBy(col(\"count\").desc()).first()[\"count\"]\n",
    "\n",
    "print(\"Date with the most sightings:\", max_sightings_date)\n",
    "print(\"Number of sightings on that date:\", max_sightings_count)\n"
   ]
  },
  {
   "cell_type": "markdown",
   "metadata": {},
   "source": [
    "#### find the duration of the longest sighting"
   ]
  },
  {
   "cell_type": "code",
   "execution_count": 46,
   "metadata": {},
   "outputs": [
    {
     "name": "stdout",
     "output_type": "stream",
     "text": [
      "+---------------+--------------------+-----+-------+------+------------------+--------------------+--------------------+-----------+---------+----------+\n",
      "|       datetime|                city|state|country| shape|duration (seconds)|duration (hours/min)|            comments|date posted| latitude|longitude |\n",
      "+---------------+--------------------+-----+-------+------+------------------+--------------------+--------------------+-----------+---------+----------+\n",
      "|10/1/1983 17:00|birmingham (uk/en...|   NA|     gb|sphere|          9.7836E7|            31 years|Firstly&#44 I was...|  4/12/2013|52.466667| -1.916667|\n",
      "+---------------+--------------------+-----+-------+------+------------------+--------------------+--------------------+-----------+---------+----------+\n",
      "\n"
     ]
    }
   ],
   "source": [
    "#change string to float for good access to data for calculations\n",
    "df = df.withColumn(\"duration (seconds)\", df[\"duration (seconds)\"].cast(\"float\"))\n",
    "\n",
    "#find the row(s) with the longest duration\n",
    "longest_sightings = df.orderBy(col(\"duration (seconds)\").desc()).limit(1)\n",
    "\n",
    "#display the details of the longest sighting(s)\n",
    "longest_sightings.show()\n"
   ]
  },
  {
   "cell_type": "markdown",
   "metadata": {},
   "source": [
    "#### find the shortest duration of the sighting"
   ]
  },
  {
   "cell_type": "code",
   "execution_count": 47,
   "metadata": {},
   "outputs": [
    {
     "name": "stdout",
     "output_type": "stream",
     "text": [
      "+--------------+-----+-----+-------+-----+------------------+--------------------+--------------------+-----------+----------+----------+\n",
      "|      datetime| city|state|country|shape|duration (seconds)|duration (hours/min)|            comments|date posted|  latitude|longitude |\n",
      "+--------------+-----+-----+-------+-----+------------------+--------------------+--------------------+-----------+----------+----------+\n",
      "|2/2/2000 19:33|bouse|   az|     us|   NA|              NULL|  each a few seconds|Driving through P...|  2/16/2000|33.9325000|  -114.005|\n",
      "+--------------+-----+-----+-------+-----+------------------+--------------------+--------------------+-----------+----------+----------+\n",
      "\n"
     ]
    }
   ],
   "source": [
    "#find the record with the longest duration\n",
    "longest_sightings = df.orderBy(col(\"duration (seconds)\").asc()).limit(1)\n",
    "\n",
    "#display the details of the longest sighting(s)\n",
    "longest_sightings.show()"
   ]
  },
  {
   "cell_type": "markdown",
   "metadata": {},
   "source": [
    "#### find the country with the most sightings\n"
   ]
  },
  {
   "cell_type": "code",
   "execution_count": 48,
   "metadata": {},
   "outputs": [
    {
     "name": "stdout",
     "output_type": "stream",
     "text": [
      "Country with the most sightings: us\n",
      "Number of sightings in that country: 65114\n"
     ]
    }
   ],
   "source": [
    "#group by country and count the number of sightings for each country\n",
    "sightings_by_country = df.groupBy(\"country\").count()\n",
    "\n",
    "#find the country with the most sightings\n",
    "max_sightings_country = sightings_by_country.orderBy(col(\"count\").desc()).select(\"country\").first()[\"country\"]\n",
    "max_sightings_count = sightings_by_country.orderBy(col(\"count\").desc()).first()[\"count\"]\n",
    "\n",
    "print(\"Country with the most sightings:\", max_sightings_country)\n",
    "print(\"Number of sightings in that country:\", max_sightings_count)\n"
   ]
  },
  {
   "cell_type": "markdown",
   "metadata": {},
   "source": [
    "#### find the sighting with the highest longitude"
   ]
  },
  {
   "cell_type": "code",
   "execution_count": 49,
   "metadata": {},
   "outputs": [
    {
     "name": "stdout",
     "output_type": "stream",
     "text": [
      "Date: 11/23/2008 20:30\n",
      "Longitude: 178.4419\n"
     ]
    },
    {
     "data": {
      "text/plain": [
       "DataFrame[datetime: string, city: string, state: string, country: string, shape: string, duration (seconds): float, duration (hours/min): string, comments: string, date posted: string, latitude: string, longitude : double, longitude: float]"
      ]
     },
     "execution_count": 49,
     "metadata": {},
     "output_type": "execute_result"
    }
   ],
   "source": [
    "#convert the longitude column from string to float\n",
    "df = df.withColumn(\"longitude\", df[\"longitude \"].cast(\"float\"))\n",
    "\n",
    "#find the maximum longitude value\n",
    "max_longitude = df.agg(max(col(\"longitude \"))).first()[0]\n",
    "\n",
    "#filter the DataFrame to retrieve the sighting with the highest longitude\n",
    "highest_longitude_sighting = df.filter(df[\"longitude \"] == max_longitude).first()\n",
    "\n",
    "\n",
    "#display specific details of the sighting with the highest longitude\n",
    "print(\"Date:\", highest_longitude_sighting[\"datetime\"])\n",
    "print(\"Longitude:\", highest_longitude_sighting[\"longitude \"])\n"
   ]
  },
  {
   "cell_type": "code",
   "execution_count": 50,
   "metadata": {},
   "outputs": [
    {
     "name": "stdout",
     "output_type": "stream",
     "text": [
      "root\n",
      " |-- datetime: string (nullable = false)\n",
      " |-- city: string (nullable = false)\n",
      " |-- state: string (nullable = false)\n",
      " |-- country: string (nullable = false)\n",
      " |-- shape: string (nullable = false)\n",
      " |-- duration (seconds): float (nullable = true)\n",
      " |-- duration (hours/min): string (nullable = false)\n",
      " |-- comments: string (nullable = false)\n",
      " |-- date posted: string (nullable = false)\n",
      " |-- latitude: string (nullable = false)\n",
      " |-- longitude : double (nullable = true)\n",
      " |-- longitude: float (nullable = true)\n",
      "\n"
     ]
    }
   ],
   "source": [
    "df.printSchema()"
   ]
  },
  {
   "cell_type": "code",
   "execution_count": 51,
   "metadata": {},
   "outputs": [],
   "source": [
    "df = df.drop(\"longitude \")\n",
    "#there was this extra space after the column longitude so i created a new one and dropped the old one"
   ]
  },
  {
   "cell_type": "code",
   "execution_count": 52,
   "metadata": {},
   "outputs": [
    {
     "name": "stdout",
     "output_type": "stream",
     "text": [
      "root\n",
      " |-- datetime: string (nullable = false)\n",
      " |-- city: string (nullable = false)\n",
      " |-- state: string (nullable = false)\n",
      " |-- country: string (nullable = false)\n",
      " |-- shape: string (nullable = false)\n",
      " |-- duration (seconds): float (nullable = true)\n",
      " |-- duration (hours/min): string (nullable = false)\n",
      " |-- comments: string (nullable = false)\n",
      " |-- date posted: string (nullable = false)\n",
      " |-- latitude: string (nullable = false)\n",
      " |-- longitude: float (nullable = true)\n",
      "\n"
     ]
    }
   ],
   "source": [
    "df.printSchema()\n",
    "#checked if i dropped it "
   ]
  },
  {
   "cell_type": "markdown",
   "metadata": {},
   "source": [
    "#### find the sighting with the lowest latitude"
   ]
  },
  {
   "cell_type": "code",
   "execution_count": 53,
   "metadata": {},
   "outputs": [
    {
     "name": "stdout",
     "output_type": "stream",
     "text": [
      "Date: 5/15/1994 13:00\n",
      "Latitude: -82.86275482177734\n"
     ]
    }
   ],
   "source": [
    "#convert the latitude column from string to float\n",
    "df = df.withColumn(\"latitude\", df[\"latitude\"].cast(\"float\"))\n",
    "\n",
    "#find the minimum latitude value\n",
    "min_latitude = df.agg(min(col(\"latitude\"))).first()[0]\n",
    "\n",
    "#filter the DataFrame to retrieve the sighting with the lowest latitude\n",
    "lowest_latitude_sighting = df.filter(df[\"latitude\"] == min_latitude).first()\n",
    "\n",
    "#display specific details of the sighting with the highest longitude\n",
    "print(\"Date:\", lowest_latitude_sighting[\"datetime\"])\n",
    "print(\"Latitude:\", lowest_latitude_sighting[\"latitude\"])\n"
   ]
  },
  {
   "cell_type": "markdown",
   "metadata": {},
   "source": [
    "#### find the most and least common shapes of a sighting"
   ]
  },
  {
   "cell_type": "code",
   "execution_count": 54,
   "metadata": {},
   "outputs": [
    {
     "name": "stdout",
     "output_type": "stream",
     "text": [
      "Most common shape: light with count: 16565\n",
      "Least common shape: hexagon with count: 1\n"
     ]
    }
   ],
   "source": [
    "#group by the \"shape\" column and count the occurrences of each shape\n",
    "shape_counts = df.groupBy(\"shape\").count()\n",
    "\n",
    "#find the most common shape\n",
    "most_common_shape = shape_counts.orderBy(col(\"count\").desc()).first()\n",
    "\n",
    "#find the least common shape\n",
    "least_common_shape = shape_counts.orderBy(col(\"count\")).first()\n",
    "\n",
    "#display the most and least common shapes\n",
    "print(\"Most common shape:\", most_common_shape[\"shape\"], \"with count:\", most_common_shape[\"count\"])\n",
    "print(\"Least common shape:\", least_common_shape[\"shape\"], \"with count:\", least_common_shape[\"count\"])\n"
   ]
  },
  {
   "cell_type": "markdown",
   "metadata": {},
   "source": [
    "#### some visualisations"
   ]
  },
  {
   "cell_type": "code",
   "execution_count": 55,
   "metadata": {},
   "outputs": [
    {
     "name": "stdout",
     "output_type": "stream",
     "text": [
      "+-------+-----+\n",
      "|country|count|\n",
      "+-------+-----+\n",
      "|     us|65114|\n",
      "|     NA| 9670|\n",
      "|     au|  538|\n",
      "|     gb| 1905|\n",
      "|     de|  105|\n",
      "|     ca| 3000|\n",
      "+-------+-----+\n",
      "\n"
     ]
    },
    {
     "name": "stderr",
     "output_type": "stream",
     "text": [
      "/var/folders/fw/7k53rvcn4rnc2xcnsxljfw7m0000gn/T/ipykernel_83112/2725384687.py:12: FutureWarning: \n",
      "\n",
      "Passing `palette` without assigning `hue` is deprecated and will be removed in v0.14.0. Assign the `y` variable to `hue` and set `legend=False` for the same effect.\n",
      "\n",
      "  sns.barplot(x='count', y='country', data=country_sightings_pd, palette='viridis')\n"
     ]
    },
    {
     "data": {
      "image/png": "[encoded data removed]",
      "text/plain": [
       "<Figure size 1200x800 with 1 Axes>"
      ]
     },
     "metadata": {},
     "output_type": "display_data"
    }
   ],
   "source": [
    "#group by country and count sightings\n",
    "country_sightings = df.groupBy(\"country\").count()\n",
    "\n",
    "#show the result\n",
    "country_sightings.show()\n",
    "\n",
    "#convert to Pandas DataFrame\n",
    "country_sightings_pd = country_sightings.toPandas()\n",
    "\n",
    "#plotting\n",
    "plt.figure(figsize=(12, 8))\n",
    "sns.barplot(x='count', y='country', data=country_sightings_pd, palette='viridis')\n",
    "plt.title('Sightings Distribution per Country')\n",
    "plt.xlabel('Number of Sightings')\n",
    "plt.ylabel('Country')\n",
    "plt.show()\n",
    "\n"
   ]
  },
  {
   "cell_type": "code",
   "execution_count": 56,
   "metadata": {},
   "outputs": [
    {
     "name": "stdout",
     "output_type": "stream",
     "text": [
      "+---------+-----+\n",
      "|    shape|count|\n",
      "+---------+-----+\n",
      "|   circle| 7608|\n",
      "| fireball| 6208|\n",
      "| cylinder| 1283|\n",
      "|    delta|    7|\n",
      "|    cigar| 2057|\n",
      "|       NA| 1932|\n",
      "|  unknown| 5584|\n",
      "|  hexagon|    1|\n",
      "|    flare|    1|\n",
      "|    light|16565|\n",
      "|     cone|  316|\n",
      "|formation| 2457|\n",
      "|    other| 5649|\n",
      "|    round|    2|\n",
      "| triangle| 7865|\n",
      "|  diamond| 1178|\n",
      "|rectangle| 1297|\n",
      "| teardrop|  750|\n",
      "|      egg|  759|\n",
      "| changing| 1962|\n",
      "+---------+-----+\n",
      "only showing top 20 rows\n",
      "\n"
     ]
    },
    {
     "name": "stderr",
     "output_type": "stream",
     "text": [
      "/var/folders/fw/7k53rvcn4rnc2xcnsxljfw7m0000gn/T/ipykernel_83112/1150866902.py:12: FutureWarning: \n",
      "\n",
      "Passing `palette` without assigning `hue` is deprecated and will be removed in v0.14.0. Assign the `y` variable to `hue` and set `legend=False` for the same effect.\n",
      "\n",
      "  sns.barplot(x='count', y='shape', data=shape_sightings_pd, palette='viridis')\n"
     ]
    },
    {
     "data": {
      "image/png": "[encoded data removed]",
      "text/plain": [
       "<Figure size 1200x800 with 1 Axes>"
      ]
     },
     "metadata": {},
     "output_type": "display_data"
    }
   ],
   "source": [
    "#group by shape and count sightings\n",
    "shape_sightings = df.groupBy(\"shape\").count()\n",
    "\n",
    "#show the result\n",
    "shape_sightings.show()\n",
    "\n",
    "#convert to Pandas DataFrame\n",
    "shape_sightings_pd = shape_sightings.toPandas()\n",
    "\n",
    "#plotting\n",
    "plt.figure(figsize=(12, 8))\n",
    "sns.barplot(x='count', y='shape', data=shape_sightings_pd, palette='viridis')\n",
    "plt.title('Sightings Distribution per Shape')\n",
    "plt.xlabel('Number of Sightings')\n",
    "plt.ylabel('Shape')\n",
    "plt.show()"
   ]
  },
  {
   "cell_type": "markdown",
   "metadata": {},
   "source": [
    "## 2. univariate and bivariate descriptors"
   ]
  },
  {
   "cell_type": "markdown",
   "metadata": {},
   "source": [
    "#### univariate "
   ]
  },
  {
   "cell_type": "code",
   "execution_count": 57,
   "metadata": {},
   "outputs": [
    {
     "name": "stdout",
     "output_type": "stream",
     "text": [
      "Mean duration: 9017.225634092258, Median duration: 180.0, Mode duration: 300.0\n",
      "Mean longitude: -86.77288441755051, Median longitude: -88.00749969482422, Mode longitude: -122.3308334350586\n"
     ]
    }
   ],
   "source": [
    "# Mean\n",
    "mean_duration = df.agg({'duration (seconds)': 'mean'}).collect()[0][0]\n",
    "mean_longitude = df.agg({'longitude': 'mean'}).collect()[0][0]\n",
    "\n",
    "# Median\n",
    "median_duration = df.approxQuantile(\"duration (seconds)\", [0.5], 0.01)[0]\n",
    "median_longitude = df.approxQuantile(\"longitude\", [0.5], 0.01)[0]\n",
    "\n",
    "# Mode\n",
    "mode_duration = df.groupBy(\"duration (seconds)\").count().orderBy(\"count\", ascending=False).first()[0]\n",
    "mode_longitude = df.groupBy(\"longitude\").count().orderBy(\"count\", ascending=False).first()[0]\n",
    "\n",
    "print(f\"Mean duration: {mean_duration}, Median duration: {median_duration}, Mode duration: {mode_duration}\")\n",
    "print(f\"Mean longitude: {mean_longitude}, Median longitude: {median_longitude}, Mode longitude: {mode_longitude}\")\n"
   ]
  },
  {
   "cell_type": "code",
   "execution_count": 58,
   "metadata": {},
   "outputs": [
    {
     "name": "stdout",
     "output_type": "stream",
     "text": [
      "Stddev duration: 620228.3693176169, Variance duration: 384683230106.3902\n",
      "Stddev longitude: 39.69720465603189, Variance longitude: 1575.86805750288\n"
     ]
    }
   ],
   "source": [
    "# Standard Deviation and Variance\n",
    "stddev_duration = df.agg({'duration (seconds)': 'stddev'}).collect()[0][0]\n",
    "variance_duration = df.agg({'duration (seconds)': 'variance'}).collect()[0][0]\n",
    "\n",
    "stddev_longitude = df.agg({'longitude': 'stddev'}).collect()[0][0]\n",
    "variance_longitude = df.agg({'longitude': 'variance'}).collect()[0][0]\n",
    "\n",
    "print(f\"Stddev duration: {stddev_duration}, Variance duration: {variance_duration}\")\n",
    "print(f\"Stddev longitude: {stddev_longitude}, Variance longitude: {variance_longitude}\")\n"
   ]
  },
  {
   "cell_type": "markdown",
   "metadata": {},
   "source": [
    "#### bivariate"
   ]
  },
  {
   "cell_type": "code",
   "execution_count": 59,
   "metadata": {},
   "outputs": [
    {
     "name": "stdout",
     "output_type": "stream",
     "text": [
      "                    duration (seconds)  latitude  longitude\n",
      "duration (seconds)            1.000000  0.002646   0.006452\n",
      "latitude                      0.002646  1.000000  -0.390165\n",
      "longitude                     0.006452 -0.390165   1.000000\n"
     ]
    },
    {
     "data": {
      "image/png": "[encoded data removed]",
      "text/plain": [
       "<Figure size 1000x800 with 2 Axes>"
      ]
     },
     "metadata": {},
     "output_type": "display_data"
    }
   ],
   "source": [
    "#select numeric columns\n",
    "numeric_columns = [field.name for field in df.schema.fields if field.dataType.simpleString() in [\"int\", \"double\", \"float\"]]\n",
    "\n",
    "#initialize an empty dictionary to store correlation values\n",
    "correlations = {}\n",
    "\n",
    "#compute correlation coefficients for each pair of numeric columns\n",
    "for col1 in numeric_columns:\n",
    "    for col2 in numeric_columns:\n",
    "        if col1 != col2:\n",
    "            corr_value = df.stat.corr(col1, col2)\n",
    "            correlations[(col1, col2)] = corr_value\n",
    "\n",
    "#create a correlation matrix\n",
    "matrix = np.zeros((len(numeric_columns), len(numeric_columns)))\n",
    "\n",
    "for i, col1 in enumerate(numeric_columns):\n",
    "    for j, col2 in enumerate(numeric_columns):\n",
    "        if i == j:\n",
    "            matrix[i, j] = 1.0  # Diagonal elements are 1\n",
    "        else:\n",
    "            matrix[i, j] = correlations.get((col1, col2), correlations.get((col2, col1), 0.0))\n",
    "\n",
    "#convert the matrix to a Pandas DataFrame for better visualization\n",
    "correlation_matrix = pd.DataFrame(matrix, index=numeric_columns, columns=numeric_columns)\n",
    "print(correlation_matrix)\n",
    "\n",
    "#visualize the correlation matrix using Matplotlib\n",
    "fig, ax = plt.subplots(figsize=(10, 8))\n",
    "cax = ax.matshow(correlation_matrix, cmap='coolwarm')\n",
    "\n",
    "#add color bar\n",
    "fig.colorbar(cax)\n",
    "\n",
    "#set axis labels\n",
    "ax.set_xticks(np.arange(len(numeric_columns)))\n",
    "ax.set_yticks(np.arange(len(numeric_columns)))\n",
    "ax.set_xticklabels(numeric_columns, rotation=90)\n",
    "ax.set_yticklabels(numeric_columns)\n",
    "\n",
    "#annotate each cell with the numeric value\n",
    "for i in range(len(numeric_columns)):\n",
    "    for j in range(len(numeric_columns)):\n",
    "        plt.text(i, j, f\"{matrix[i, j]:.2f}\", ha='center', va='center', color='black')\n",
    "\n",
    "plt.title(\"Correlation Matrix\")\n",
    "plt.show()\n"
   ]
  },
  {
   "cell_type": "markdown",
   "metadata": {},
   "source": [
    "##### results\n",
    "results show that the variables are not really correlated. Only latitude and longitude have a moderate nnegative correlation of 0.39. This means that there is an inverse relationship between latitude and longitude. When one increases, the other tends to decrease "
   ]
  },
  {
   "cell_type": "code",
   "execution_count": 60,
   "metadata": {},
   "outputs": [],
   "source": [
    "#drop rows with null values in the feature or label columns\n",
    "df = df.dropna(subset=['latitude', 'longitude', 'duration (seconds)']) \n"
   ]
  },
  {
   "cell_type": "code",
   "execution_count": 61,
   "metadata": {},
   "outputs": [],
   "source": [
    "#convert to Pandas DataFrame\n",
    "pandas_df = df.toPandas()\n"
   ]
  },
  {
   "cell_type": "code",
   "execution_count": 62,
   "metadata": {},
   "outputs": [
    {
     "name": "stdout",
     "output_type": "stream",
     "text": [
      "                            OLS Regression Results                            \n",
      "==============================================================================\n",
      "Dep. Variable:     duration (seconds)   R-squared:                       0.000\n",
      "Model:                            OLS   Adj. R-squared:                  0.000\n",
      "Method:                 Least Squares   F-statistic:                     2.937\n",
      "Date:                Sun, 02 Jun 2024   Prob (F-statistic):             0.0530\n",
      "Time:                        20:59:32   Log-Likelihood:            -1.1854e+06\n",
      "No. Observations:               80328   AIC:                         2.371e+06\n",
      "Df Residuals:                   80325   BIC:                         2.371e+06\n",
      "Df Model:                           2                                         \n",
      "Covariance Type:            nonrobust                                         \n",
      "==============================================================================\n",
      "                 coef    std err          t      P>|t|      [0.025      0.975]\n",
      "------------------------------------------------------------------------------\n",
      "const       7230.3825   8461.631      0.854      0.393   -9354.359    2.38e+04\n",
      "longitude    137.9393     59.872      2.304      0.021      20.591     255.288\n",
      "latitude     360.8193    227.027      1.589      0.112     -84.152     805.791\n",
      "==============================================================================\n",
      "Omnibus:                   335417.183   Durbin-Watson:                   1.997\n",
      "Prob(Omnibus):                  0.000   Jarque-Bera (JB):     778273425708.279\n",
      "Skew:                         117.711   Prob(JB):                         0.00\n",
      "Kurtosis:                   15250.073   Cond. No.                         396.\n",
      "==============================================================================\n",
      "\n",
      "Notes:\n",
      "[1] Standard Errors assume that the covariance matrix of the errors is correctly specified.\n"
     ]
    }
   ],
   "source": [
    "X = pandas_df[['longitude', 'latitude']]  #independent variables\n",
    "y = pandas_df['duration (seconds)']    #dependent variable\n",
    "\n",
    "#add a constant to the independent variables\n",
    "X = sm.add_constant(X)\n",
    "\n",
    "#fit the regression model\n",
    "model = sm.OLS(y, X).fit()\n",
    "\n",
    "#print the model summary\n",
    "print(model.summary())\n"
   ]
  },
  {
   "cell_type": "markdown",
   "metadata": {},
   "source": [
    "##### results\n",
    "results show this model is not a good fit. Both the r-squared and the adjusted r-squared are 0.\n",
    "the f-statistic is also quite low (2.937) indicating that the independent variables do not have a significant effect on the dependent variable. In this case, the longitude and latitude of a sighting are not related to the duration of a sighting"
   ]
  },
  {
   "cell_type": "markdown",
   "metadata": {},
   "source": [
    "## 3. binary classification"
   ]
  },
  {
   "cell_type": "markdown",
   "metadata": {},
   "source": [
    "#### logistic regression"
   ]
  },
  {
   "cell_type": "code",
   "execution_count": 63,
   "metadata": {},
   "outputs": [],
   "source": [
    "#clean column names\n",
    "for col_name in df.columns:\n",
    "    df = df.withColumnRenamed(col_name, col_name.strip())"
   ]
  },
  {
   "cell_type": "code",
   "execution_count": 64,
   "metadata": {},
   "outputs": [
    {
     "name": "stdout",
     "output_type": "stream",
     "text": [
      "Categorical columns: ['datetime', 'city', 'state', 'country', 'duration (hours/min)', 'comments', 'date posted']\n",
      "Indexed datetime column\n",
      "Indexed city column\n",
      "Indexed state column\n",
      "Indexed country column\n",
      "Indexed duration (hours/min) column\n",
      "Indexed comments column\n",
      "Indexed date posted column\n",
      "root\n",
      " |-- datetime: string (nullable = false)\n",
      " |-- city: string (nullable = false)\n",
      " |-- state: string (nullable = false)\n",
      " |-- country: string (nullable = false)\n",
      " |-- shape: string (nullable = false)\n",
      " |-- duration (seconds): float (nullable = true)\n",
      " |-- duration (hours/min): string (nullable = false)\n",
      " |-- comments: string (nullable = false)\n",
      " |-- date posted: string (nullable = false)\n",
      " |-- latitude: float (nullable = true)\n",
      " |-- longitude: float (nullable = true)\n",
      " |-- datetime_index: double (nullable = false)\n",
      " |-- city_index: double (nullable = false)\n",
      " |-- state_index: double (nullable = false)\n",
      " |-- country_index: double (nullable = false)\n",
      " |-- duration (hours/min)_index: double (nullable = false)\n",
      " |-- comments_index: double (nullable = false)\n",
      " |-- date posted_index: double (nullable = false)\n",
      " |-- shape_index: double (nullable = false)\n",
      "\n"
     ]
    }
   ],
   "source": [
    "#identify categorical columns\n",
    "categorical_cols = [col for col in df.columns if isinstance(df.schema[col].dataType, StringType) and col != 'shape']\n",
    "print(\"Categorical columns:\", categorical_cols)\n",
    "\n",
    "#index categorical columns\n",
    "for col in categorical_cols:\n",
    "    indexer = StringIndexer(inputCol=col, outputCol=col+\"_index\")\n",
    "    df = indexer.fit(df).transform(df)\n",
    "    print(f\"Indexed {col} column\")\n",
    "\n",
    "#index the target variable\n",
    "label_indexer = StringIndexer(inputCol=\"shape\", outputCol=\"shape_index\")\n",
    "df = label_indexer.fit(df).transform(df)\n",
    "\n",
    "#verify all columns are indexed\n",
    "df.printSchema()"
   ]
  },
  {
   "cell_type": "code",
   "execution_count": 65,
   "metadata": {},
   "outputs": [
    {
     "name": "stdout",
     "output_type": "stream",
     "text": [
      "root\n",
      " |-- datetime: string (nullable = false)\n",
      " |-- city: string (nullable = false)\n",
      " |-- state: string (nullable = false)\n",
      " |-- country: string (nullable = false)\n",
      " |-- shape: string (nullable = false)\n",
      " |-- duration (seconds): float (nullable = true)\n",
      " |-- duration (hours/min): string (nullable = false)\n",
      " |-- comments: string (nullable = false)\n",
      " |-- date posted: string (nullable = false)\n",
      " |-- latitude: float (nullable = true)\n",
      " |-- longitude: float (nullable = true)\n",
      " |-- datetime_index: double (nullable = false)\n",
      " |-- city_index: double (nullable = false)\n",
      " |-- state_index: double (nullable = false)\n",
      " |-- country_index: double (nullable = false)\n",
      " |-- duration (hours/min)_index: double (nullable = false)\n",
      " |-- comments_index: double (nullable = false)\n",
      " |-- date posted_index: double (nullable = false)\n",
      " |-- shape_index: double (nullable = false)\n",
      " |-- features: vector (nullable = true)\n",
      "\n"
     ]
    }
   ],
   "source": [
    "#identify numeric columns\n",
    "numeric_cols = [col for col in df.columns if isinstance(df.schema[col].dataType, NumericType)]\n",
    "\n",
    "#assemble features without the shape and index colum\n",
    "assembler = VectorAssembler(\n",
    "    inputCols=[col+\"_index\" if col in categorical_cols else col for col in df.columns if col not in [\"shape\", \"shape_index\"]], \n",
    "    outputCol=\"features\")\n",
    "\n",
    "#transform the dataframe to include the features column\n",
    "df = assembler.transform(df)\n",
    "\n",
    "#verify the new DataFrame schema\n",
    "df.printSchema()\n"
   ]
  },
  {
   "cell_type": "code",
   "execution_count": 66,
   "metadata": {},
   "outputs": [],
   "source": [
    "#create unique identifiers for each row based on the feature vector\n",
    "df = df.withColumn(\"unique_id\", hash(\"features\"))\n",
    "\n",
    "#split into training and temporary sets\n",
    "train_df, test_df = df.randomSplit([0.8, 0.2], seed=42)\n"
   ]
  },
  {
   "cell_type": "code",
   "execution_count": 67,
   "metadata": {},
   "outputs": [
    {
     "name": "stdout",
     "output_type": "stream",
     "text": [
      "root\n",
      " |-- datetime: string (nullable = false)\n",
      " |-- city: string (nullable = false)\n",
      " |-- state: string (nullable = false)\n",
      " |-- country: string (nullable = false)\n",
      " |-- shape: string (nullable = false)\n",
      " |-- duration (seconds): float (nullable = true)\n",
      " |-- duration (hours/min): string (nullable = false)\n",
      " |-- comments: string (nullable = false)\n",
      " |-- date posted: string (nullable = false)\n",
      " |-- latitude: float (nullable = true)\n",
      " |-- longitude: float (nullable = true)\n",
      " |-- datetime_index: double (nullable = false)\n",
      " |-- city_index: double (nullable = false)\n",
      " |-- state_index: double (nullable = false)\n",
      " |-- country_index: double (nullable = false)\n",
      " |-- duration (hours/min)_index: double (nullable = false)\n",
      " |-- comments_index: double (nullable = false)\n",
      " |-- date posted_index: double (nullable = false)\n",
      " |-- shape_index: double (nullable = false)\n",
      " |-- features: vector (nullable = true)\n",
      " |-- unique_id: integer (nullable = false)\n",
      "\n"
     ]
    }
   ],
   "source": [
    "df.printSchema()"
   ]
  },
  {
   "cell_type": "code",
   "execution_count": 68,
   "metadata": {},
   "outputs": [
    {
     "name": "stderr",
     "output_type": "stream",
     "text": [
      "24/06/02 20:59:35 WARN DAGScheduler: Broadcasting large task binary with size 11.8 MiB\n",
      "24/06/02 20:59:36 WARN DAGScheduler: Broadcasting large task binary with size 11.8 MiB\n",
      "24/06/02 20:59:36 WARN DAGScheduler: Broadcasting large task binary with size 11.8 MiB\n",
      "24/06/02 20:59:36 WARN DAGScheduler: Broadcasting large task binary with size 11.8 MiB\n",
      "24/06/02 20:59:36 WARN DAGScheduler: Broadcasting large task binary with size 11.8 MiB\n",
      "24/06/02 20:59:37 WARN DAGScheduler: Broadcasting large task binary with size 11.8 MiB\n",
      "24/06/02 20:59:37 WARN DAGScheduler: Broadcasting large task binary with size 11.8 MiB\n",
      "24/06/02 20:59:37 WARN DAGScheduler: Broadcasting large task binary with size 11.8 MiB\n",
      "24/06/02 20:59:37 WARN DAGScheduler: Broadcasting large task binary with size 11.8 MiB\n",
      "24/06/02 20:59:37 WARN DAGScheduler: Broadcasting large task binary with size 11.8 MiB\n",
      "24/06/02 20:59:38 WARN DAGScheduler: Broadcasting large task binary with size 11.8 MiB\n",
      "24/06/02 20:59:38 WARN DAGScheduler: Broadcasting large task binary with size 11.8 MiB\n",
      "24/06/02 20:59:38 WARN DAGScheduler: Broadcasting large task binary with size 11.8 MiB\n",
      "24/06/02 20:59:38 WARN DAGScheduler: Broadcasting large task binary with size 11.8 MiB\n",
      "24/06/02 20:59:38 WARN DAGScheduler: Broadcasting large task binary with size 11.8 MiB\n",
      "24/06/02 20:59:39 WARN DAGScheduler: Broadcasting large task binary with size 11.8 MiB\n",
      "24/06/02 20:59:39 WARN DAGScheduler: Broadcasting large task binary with size 11.8 MiB\n",
      "24/06/02 20:59:39 WARN DAGScheduler: Broadcasting large task binary with size 11.8 MiB\n",
      "24/06/02 20:59:39 WARN DAGScheduler: Broadcasting large task binary with size 11.8 MiB\n",
      "24/06/02 20:59:40 WARN DAGScheduler: Broadcasting large task binary with size 11.8 MiB\n",
      "24/06/02 20:59:40 WARN DAGScheduler: Broadcasting large task binary with size 11.8 MiB\n",
      "24/06/02 20:59:40 WARN DAGScheduler: Broadcasting large task binary with size 11.8 MiB\n",
      "24/06/02 20:59:40 WARN DAGScheduler: Broadcasting large task binary with size 11.8 MiB\n",
      "24/06/02 20:59:40 WARN DAGScheduler: Broadcasting large task binary with size 11.8 MiB\n",
      "24/06/02 20:59:41 WARN DAGScheduler: Broadcasting large task binary with size 11.8 MiB\n",
      "24/06/02 20:59:41 WARN DAGScheduler: Broadcasting large task binary with size 11.8 MiB\n",
      "24/06/02 20:59:41 WARN DAGScheduler: Broadcasting large task binary with size 11.8 MiB\n",
      "24/06/02 20:59:41 WARN DAGScheduler: Broadcasting large task binary with size 11.8 MiB\n",
      "24/06/02 20:59:41 WARN DAGScheduler: Broadcasting large task binary with size 11.8 MiB\n",
      "24/06/02 20:59:42 WARN DAGScheduler: Broadcasting large task binary with size 11.8 MiB\n",
      "24/06/02 20:59:42 WARN DAGScheduler: Broadcasting large task binary with size 11.8 MiB\n",
      "24/06/02 20:59:42 WARN DAGScheduler: Broadcasting large task binary with size 11.8 MiB\n",
      "24/06/02 20:59:42 WARN DAGScheduler: Broadcasting large task binary with size 11.8 MiB\n",
      "24/06/02 20:59:42 WARN DAGScheduler: Broadcasting large task binary with size 11.8 MiB\n",
      "24/06/02 20:59:43 WARN DAGScheduler: Broadcasting large task binary with size 11.8 MiB\n",
      "24/06/02 20:59:43 WARN DAGScheduler: Broadcasting large task binary with size 11.8 MiB\n",
      "24/06/02 20:59:43 WARN DAGScheduler: Broadcasting large task binary with size 11.8 MiB\n",
      "24/06/02 20:59:43 WARN DAGScheduler: Broadcasting large task binary with size 11.8 MiB\n",
      "24/06/02 20:59:43 WARN DAGScheduler: Broadcasting large task binary with size 11.8 MiB\n",
      "24/06/02 20:59:44 WARN DAGScheduler: Broadcasting large task binary with size 11.8 MiB\n",
      "24/06/02 20:59:44 WARN DAGScheduler: Broadcasting large task binary with size 11.8 MiB\n",
      "24/06/02 20:59:44 WARN DAGScheduler: Broadcasting large task binary with size 11.8 MiB\n",
      "24/06/02 20:59:44 WARN DAGScheduler: Broadcasting large task binary with size 11.8 MiB\n",
      "24/06/02 20:59:44 WARN DAGScheduler: Broadcasting large task binary with size 11.8 MiB\n",
      "24/06/02 20:59:45 WARN DAGScheduler: Broadcasting large task binary with size 11.8 MiB\n",
      "24/06/02 20:59:45 WARN DAGScheduler: Broadcasting large task binary with size 11.8 MiB\n",
      "24/06/02 20:59:45 WARN DAGScheduler: Broadcasting large task binary with size 11.8 MiB\n",
      "24/06/02 20:59:45 WARN DAGScheduler: Broadcasting large task binary with size 11.8 MiB\n",
      "24/06/02 20:59:45 WARN DAGScheduler: Broadcasting large task binary with size 11.8 MiB\n",
      "24/06/02 20:59:46 WARN DAGScheduler: Broadcasting large task binary with size 11.8 MiB\n",
      "24/06/02 20:59:46 WARN DAGScheduler: Broadcasting large task binary with size 11.8 MiB\n",
      "24/06/02 20:59:46 WARN DAGScheduler: Broadcasting large task binary with size 11.8 MiB\n",
      "24/06/02 20:59:46 WARN DAGScheduler: Broadcasting large task binary with size 11.8 MiB\n",
      "24/06/02 20:59:46 WARN DAGScheduler: Broadcasting large task binary with size 11.8 MiB\n",
      "24/06/02 20:59:47 WARN DAGScheduler: Broadcasting large task binary with size 11.8 MiB\n",
      "24/06/02 20:59:47 WARN DAGScheduler: Broadcasting large task binary with size 11.8 MiB\n",
      "24/06/02 20:59:47 WARN DAGScheduler: Broadcasting large task binary with size 11.8 MiB\n",
      "24/06/02 20:59:47 WARN DAGScheduler: Broadcasting large task binary with size 11.8 MiB\n",
      "24/06/02 20:59:47 WARN DAGScheduler: Broadcasting large task binary with size 11.8 MiB\n",
      "24/06/02 20:59:48 WARN DAGScheduler: Broadcasting large task binary with size 11.8 MiB\n",
      "24/06/02 20:59:48 WARN DAGScheduler: Broadcasting large task binary with size 11.8 MiB\n",
      "24/06/02 20:59:48 WARN DAGScheduler: Broadcasting large task binary with size 11.8 MiB\n",
      "24/06/02 20:59:48 WARN DAGScheduler: Broadcasting large task binary with size 11.8 MiB\n",
      "24/06/02 20:59:48 WARN DAGScheduler: Broadcasting large task binary with size 11.8 MiB\n",
      "24/06/02 20:59:48 WARN DAGScheduler: Broadcasting large task binary with size 11.8 MiB\n",
      "24/06/02 20:59:49 WARN DAGScheduler: Broadcasting large task binary with size 11.8 MiB\n",
      "24/06/02 20:59:49 WARN DAGScheduler: Broadcasting large task binary with size 11.8 MiB\n",
      "24/06/02 20:59:49 WARN DAGScheduler: Broadcasting large task binary with size 11.8 MiB\n",
      "24/06/02 20:59:49 WARN DAGScheduler: Broadcasting large task binary with size 11.8 MiB\n",
      "24/06/02 20:59:49 WARN DAGScheduler: Broadcasting large task binary with size 11.8 MiB\n",
      "24/06/02 20:59:50 WARN DAGScheduler: Broadcasting large task binary with size 11.8 MiB\n",
      "24/06/02 20:59:50 WARN DAGScheduler: Broadcasting large task binary with size 11.8 MiB\n",
      "24/06/02 20:59:50 WARN DAGScheduler: Broadcasting large task binary with size 11.8 MiB\n",
      "24/06/02 20:59:50 WARN DAGScheduler: Broadcasting large task binary with size 11.8 MiB\n",
      "24/06/02 20:59:50 WARN DAGScheduler: Broadcasting large task binary with size 11.8 MiB\n",
      "24/06/02 20:59:51 WARN DAGScheduler: Broadcasting large task binary with size 11.8 MiB\n",
      "24/06/02 20:59:51 WARN DAGScheduler: Broadcasting large task binary with size 11.8 MiB\n",
      "24/06/02 20:59:51 WARN DAGScheduler: Broadcasting large task binary with size 11.8 MiB\n",
      "24/06/02 20:59:51 WARN DAGScheduler: Broadcasting large task binary with size 11.8 MiB\n",
      "24/06/02 20:59:51 WARN DAGScheduler: Broadcasting large task binary with size 11.8 MiB\n",
      "24/06/02 20:59:52 WARN DAGScheduler: Broadcasting large task binary with size 11.8 MiB\n",
      "24/06/02 20:59:52 WARN DAGScheduler: Broadcasting large task binary with size 11.8 MiB\n",
      "24/06/02 20:59:52 WARN DAGScheduler: Broadcasting large task binary with size 11.8 MiB\n",
      "24/06/02 20:59:52 WARN DAGScheduler: Broadcasting large task binary with size 11.8 MiB\n",
      "24/06/02 20:59:52 WARN DAGScheduler: Broadcasting large task binary with size 11.8 MiB\n",
      "24/06/02 20:59:53 WARN DAGScheduler: Broadcasting large task binary with size 11.8 MiB\n",
      "24/06/02 20:59:53 WARN DAGScheduler: Broadcasting large task binary with size 11.8 MiB\n",
      "24/06/02 20:59:53 WARN DAGScheduler: Broadcasting large task binary with size 11.8 MiB\n",
      "24/06/02 20:59:53 WARN DAGScheduler: Broadcasting large task binary with size 11.8 MiB\n",
      "24/06/02 20:59:53 WARN DAGScheduler: Broadcasting large task binary with size 11.8 MiB\n",
      "24/06/02 20:59:54 WARN DAGScheduler: Broadcasting large task binary with size 11.8 MiB\n",
      "24/06/02 20:59:54 WARN DAGScheduler: Broadcasting large task binary with size 11.8 MiB\n",
      "24/06/02 20:59:54 WARN DAGScheduler: Broadcasting large task binary with size 11.8 MiB\n",
      "24/06/02 20:59:54 WARN DAGScheduler: Broadcasting large task binary with size 11.8 MiB\n",
      "24/06/02 20:59:54 WARN DAGScheduler: Broadcasting large task binary with size 11.8 MiB\n",
      "24/06/02 20:59:55 WARN DAGScheduler: Broadcasting large task binary with size 11.8 MiB\n",
      "24/06/02 20:59:55 WARN DAGScheduler: Broadcasting large task binary with size 11.8 MiB\n",
      "24/06/02 20:59:55 WARN DAGScheduler: Broadcasting large task binary with size 11.8 MiB\n",
      "24/06/02 20:59:55 WARN DAGScheduler: Broadcasting large task binary with size 11.8 MiB\n",
      "24/06/02 20:59:55 WARN DAGScheduler: Broadcasting large task binary with size 11.8 MiB\n",
      "24/06/02 20:59:55 WARN DAGScheduler: Broadcasting large task binary with size 11.8 MiB\n",
      "24/06/02 20:59:56 WARN DAGScheduler: Broadcasting large task binary with size 11.8 MiB\n",
      "24/06/02 20:59:56 WARN DAGScheduler: Broadcasting large task binary with size 11.8 MiB\n",
      "24/06/02 20:59:56 WARN DAGScheduler: Broadcasting large task binary with size 11.8 MiB\n",
      "24/06/02 20:59:56 WARN DAGScheduler: Broadcasting large task binary with size 11.8 MiB\n"
     ]
    }
   ],
   "source": [
    "#select only the required columns for model training\n",
    "final_train_df = train_df.select(\"features\", \"shape_index\")\n",
    "final_test_df = test_df.select(\"features\", \"shape_index\")\n",
    "\n",
    "#initialise logistic regression\n",
    "lr = LogisticRegression(labelCol=\"shape_index\", featuresCol=\"features\")\n",
    "\n",
    "#train the model\n",
    "model = lr.fit(final_train_df)\n",
    "\n",
    "#make predictions\n",
    "predictions = model.transform(final_test_df)\n"
   ]
  },
  {
   "cell_type": "code",
   "execution_count": 69,
   "metadata": {},
   "outputs": [
    {
     "name": "stderr",
     "output_type": "stream",
     "text": [
      "24/06/02 20:59:57 WARN DAGScheduler: Broadcasting large task binary with size 11.8 MiB\n",
      "24/06/02 20:59:57 WARN DAGScheduler: Broadcasting large task binary with size 11.8 MiB\n",
      "24/06/02 20:59:58 WARN DAGScheduler: Broadcasting large task binary with size 11.8 MiB\n",
      "24/06/02 20:59:59 WARN DAGScheduler: Broadcasting large task binary with size 11.8 MiB\n",
      "24/06/02 20:59:59 WARN DAGScheduler: Broadcasting large task binary with size 11.8 MiB\n"
     ]
    },
    {
     "name": "stdout",
     "output_type": "stream",
     "text": [
      "Model Accuracy: 0.20715951345559966\n",
      "Precision: 0.042917768859735035\n",
      "Recall: 0.20715951345559966\n",
      "F1 Score: 0.0711046124083492\n"
     ]
    }
   ],
   "source": [
    "# Evaluate the model\n",
    "#calculate accuracy\n",
    "correct_predictions = predictions.filter(expr(\"prediction = shape_index\")).count()\n",
    "total_predictions = predictions.count()\n",
    "accuracy = correct_predictions / total_predictions\n",
    "\n",
    "#additional metrics: precision, recall, F1-score\n",
    "evaluator_precision = MulticlassClassificationEvaluator(labelCol=\"shape_index\", metricName=\"weightedPrecision\")\n",
    "precision = evaluator_precision.evaluate(predictions)\n",
    "\n",
    "evaluator_recall = MulticlassClassificationEvaluator(labelCol=\"shape_index\", metricName=\"weightedRecall\")\n",
    "recall = evaluator_recall.evaluate(predictions)\n",
    "\n",
    "evaluator_f1 = MulticlassClassificationEvaluator(labelCol=\"shape_index\", metricName=\"f1\")\n",
    "f1_score = evaluator_f1.evaluate(predictions)\n",
    "\n",
    "#print results\n",
    "print(f\"Model Accuracy: {accuracy}\")\n",
    "print(f\"Precision: {precision}\")\n",
    "print(f\"Recall: {recall}\")\n",
    "print(f\"F1 Score: {f1_score}\")"
   ]
  },
  {
   "cell_type": "markdown",
   "metadata": {},
   "source": [
    "##### results\n",
    "model accuracy: Model accuracy measures the overall correctness of the predictions made by the model. An accuracy of 0.207 means that the model correctly predicted 20.7% of the instances in the dataset.\n",
    "\n",
    "precision: Precision measures the proportion of true positive predictions among all positive predictions made by the model. A precision of 0.043 means that among all instances predicted as positive by the model, only 4.3% were actually true positives.\n",
    "\n",
    "recall: Recall measures the proportion of true positives that were correctly identified by the model among all actual positive instances. A recall of 0.207 indicates that the model correctly identified 20.7% of all actual positive instances.\n",
    "\n",
    "f1: the F1 score is the harmonic mean of precision and recall. It provides a balance between precision and recall. A higher F1 score indicates better performance, balancing both precision and recall. An F1 score of 0.071 suggests that the model achieves low performance in terms of both precision and recall."
   ]
  },
  {
   "cell_type": "markdown",
   "metadata": {},
   "source": [
    "#### decision trees\n"
   ]
  },
  {
   "cell_type": "code",
   "execution_count": 70,
   "metadata": {},
   "outputs": [
    {
     "name": "stdout",
     "output_type": "stream",
     "text": [
      "Model Accuracy: 0.6180133338924064\n"
     ]
    }
   ],
   "source": [
    "from pyspark.sql.functions import col as sql_col\n",
    "\n",
    "#select necessary columns and drop rows with missing values in those columns\n",
    "df = df.select(\"shape\", \"country\").dropna()\n",
    "\n",
    "#filter out infrequent categories in 'shape' to reduce the number of unique values\n",
    "#i had to do this since i kept getting an error about unique values being too big\n",
    "shape_counts = df.groupBy(\"shape\").count()\n",
    "filtered_shapes = shape_counts.filter(sql_col(\"count\") > 100).select(\"shape\").rdd.flatMap(lambda x: x).collect()\n",
    "df = df.filter(sql_col(\"shape\").isin(filtered_shapes))\n",
    "\n",
    "#index categorical feature \"shape\"\n",
    "indexer = StringIndexer(inputCol=\"shape\", outputCol=\"shape_index\")\n",
    "df = indexer.fit(df).transform(df)\n",
    "\n",
    "#one-hot encode the indexed feature\n",
    "encoder = OneHotEncoder(inputCols=[\"shape_index\"], outputCols=[\"shape_encoded\"])\n",
    "df = encoder.fit(df).transform(df)\n",
    "\n",
    "#assemble feature vector\n",
    "assembler = VectorAssembler(inputCols=[\"shape_encoded\"], outputCol=\"features\")\n",
    "df = assembler.transform(df)\n",
    "\n",
    "#split data into training and test sets\n",
    "train_df, test_df = df.randomSplit([0.7, 0.3], seed=42)\n",
    "\n",
    "#initialize decision tree classifier\n",
    "dt = DecisionTreeClassifier(labelCol=\"shape_index\", featuresCol=\"features\", maxBins=100)\n",
    "\n",
    "#train the model\n",
    "dt_model = dt.fit(train_df)\n",
    "\n",
    "#make predictions\n",
    "predictions = dt_model.transform(test_df)\n",
    "\n",
    "\n",
    "\n",
    "\n"
   ]
  },
  {
   "cell_type": "code",
   "execution_count": 72,
   "metadata": {},
   "outputs": [
    {
     "name": "stdout",
     "output_type": "stream",
     "text": [
      "Model Accuracy: 0.899618432638685\n",
      "Precision: 0.8320576071870927\n",
      "Recall: 0.8996184326386851\n",
      "F1 Score: 0.859236362111619\n"
     ]
    }
   ],
   "source": [
    "#evaluate the model\n",
    "evaluator = MulticlassClassificationEvaluator(labelCol=\"shape_index\", predictionCol=\"prediction\", metricName=\"accuracy\")\n",
    "accuracy = evaluator.evaluate(predictions)\n",
    "\n",
    "#initialize the MulticlassClassificationEvaluator\n",
    "evaluator = MulticlassClassificationEvaluator(labelCol=\"shape_index\", predictionCol=\"prediction\")\n",
    "\n",
    "#calculate precision\n",
    "precision = evaluator.evaluate(predictions, {evaluator.metricName: \"weightedPrecision\"})\n",
    "\n",
    "#calculate recall\n",
    "recall = evaluator.evaluate(predictions, {evaluator.metricName: \"weightedRecall\"})\n",
    "\n",
    "#calculate F1 score\n",
    "f1_score = evaluator.evaluate(predictions, {evaluator.metricName: \"f1\"})\n",
    "\n",
    "#print the results\n",
    "print(f\"Model Accuracy: {accuracy}\")\n",
    "print(f\"Precision: {precision}\")\n",
    "print(f\"Recall: {recall}\")\n",
    "print(f\"F1 Score: {f1_score}\")\n"
   ]
  },
  {
   "cell_type": "markdown",
   "metadata": {},
   "source": [
    "##### results\n",
    "Model Accuracy: The proportion of correct predictions out of the total number of predictions. In this case, around 89.96% of the predictions made by the model were correct.\n",
    "\n",
    "Precision: The ratio of true positive predictions to the total number of positive predictions made by the model. In this case, around 83.21% of the predicted positive sightings were actually positive.\n",
    "\n",
    "Recall: The ratio of true positive predictions to the total number of actual positive instances in the data. In this case, around 89.96% of the actual positive sightings were correctly identified by the model.\n",
    "\n",
    "F1 Score: The harmonic mean of precision and recall, providing a balance between the two metrics. It is useful when the classes are imbalanced. In this case, it's around 85.92%.\n",
    "\n"
   ]
  },
  {
   "cell_type": "markdown",
   "metadata": {},
   "source": [
    "#### random forest"
   ]
  },
  {
   "cell_type": "code",
   "execution_count": 76,
   "metadata": {},
   "outputs": [
    {
     "name": "stderr",
     "output_type": "stream",
     "text": [
      "                                                                                \r"
     ]
    },
    {
     "name": "stdout",
     "output_type": "stream",
     "text": [
      "Random Forest Model Accuracy: 0.859236362111619\n",
      "Precision: 0.8320576071870927\n",
      "Recall: 0.8996184326386851\n",
      "F1 Score: 0.859236362111619\n"
     ]
    }
   ],
   "source": [
    "#initialize random forest classifier\n",
    "rf = RandomForestClassifier(labelCol=\"shape_index\", featuresCol=\"features\", numTrees=100, maxBins=100)\n",
    "\n",
    "#train the model\n",
    "rf_model = rf.fit(train_df)\n",
    "\n",
    "#make predictions\n",
    "predictions = rf_model.transform(test_df)\n",
    "\n",
    "#initialize the MulticlassClassificationEvaluator\n",
    "evaluator = MulticlassClassificationEvaluator(labelCol=\"shape_index\", predictionCol=\"prediction\")\n",
    "\n",
    "#evaluate the accuracy of the Random Forest model\n",
    "accuracy = evaluator.evaluate(predictions)\n",
    "\n",
    "#calculate precision\n",
    "precision = evaluator.evaluate(predictions, {evaluator.metricName: \"weightedPrecision\"})\n",
    "\n",
    "#calculate recall\n",
    "recall = evaluator.evaluate(predictions, {evaluator.metricName: \"weightedRecall\"})\n",
    "\n",
    "#calculate F1 score\n",
    "f1_score = evaluator.evaluate(predictions, {evaluator.metricName: \"f1\"})\n",
    "\n",
    "#print the results\n",
    "print(f\"Random Forest Model Accuracy: {accuracy}\")\n",
    "print(f\"Precision: {precision}\")\n",
    "print(f\"Recall: {recall}\")\n",
    "print(f\"F1 Score: {f1_score}\")\n"
   ]
  },
  {
   "cell_type": "markdown",
   "metadata": {},
   "source": [
    "##### results\n",
    "Model Accuracy: The proportion of correct predictions out of the total number of predictions. It's reported as 85.92%, which means around 85.92% of the model's predictions were correct.\n",
    "\n",
    "Precision: The ratio of true positive predictions to the total number of positive predictions made by the model. It's reported as approximately 83.21%, indicating that out of all the instances the model classified as positive, around 83.21% were actually positive.\n",
    "\n",
    "Recall: The ratio of true positive predictions to the total number of actual positive instances in the data. It's reported as around 89.96%, meaning that out of all the actual positive instances, around 89.96% were correctly identified by the model.\n",
    "\n",
    "F1 Score: The harmonic mean of precision and recall, providing a balance between the two metrics. It's reported as 85.92%. This value should typically not match the accuracy unless the dataset is perfectly balanced."
   ]
  },
  {
   "cell_type": "markdown",
   "metadata": {},
   "source": [
    "## conclusion\n",
    "The Random Forest model consistently shows higher values for accuracy, precision, recall, and F1 Score compared to the Decision Tree model. Therefore, based on these metrics, the Random Forest model is the better-performing model."
   ]
  }
 ],
 "metadata": {
  "kernelspec": {
   "display_name": "PySpark",
   "language": "python",
   "name": "python3"
  },
  "language_info": {
   "codemirror_mode": {
    "name": "ipython",
    "version": 3
   },
   "file_extension": ".py",
   "mimetype": "text/x-python",
   "name": "python",
   "nbconvert_exporter": "python",
   "pygments_lexer": "ipython3",
   "version": "3.12.3"
  }
 },
 "nbformat": 4,
 "nbformat_minor": 2
}
